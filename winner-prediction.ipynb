{
 "cells": [
  {
   "cell_type": "code",
   "execution_count": 1,
   "id": "699debad",
   "metadata": {
    "_cell_guid": "b1076dfc-b9ad-4769-8c92-a6c4dae69d19",
    "_uuid": "8f2839f25d086af736a60e9eeb907d3b93b6e0e5",
    "execution": {
     "iopub.execute_input": "2023-03-10T16:48:05.090531Z",
     "iopub.status.busy": "2023-03-10T16:48:05.090119Z",
     "iopub.status.idle": "2023-03-10T16:48:05.112925Z",
     "shell.execute_reply": "2023-03-10T16:48:05.111736Z"
    },
    "papermill": {
     "duration": 0.040225,
     "end_time": "2023-03-10T16:48:05.116090",
     "exception": false,
     "start_time": "2023-03-10T16:48:05.075865",
     "status": "completed"
    },
    "tags": []
   },
   "outputs": [
    {
     "name": "stdout",
     "output_type": "stream",
     "text": [
      "/kaggle/input/ipl-data-set/matches.csv\n",
      "/kaggle/input/ipl-data-set/teamwise_home_and_away.csv\n",
      "/kaggle/input/ipl-data-set/deliveries.csv\n",
      "/kaggle/input/ipl-data-set/most_runs_average_strikerate.csv\n",
      "/kaggle/input/ipl-data-set/teams.csv\n",
      "/kaggle/input/ipl-data-set/Players.xlsx\n"
     ]
    }
   ],
   "source": [
    "# This Python 3 environment comes with many helpful analytics libraries installed\n",
    "# It is defined by the kaggle/python Docker image: https://github.com/kaggle/docker-python\n",
    "# For example, here's several helpful packages to load\n",
    "\n",
    "import numpy as np # linear algebra\n",
    "import pandas as pd # data processing, CSV file I/O (e.g. pd.read_csv)\n",
    "\n",
    "# Input data files are available in the read-only \"../input/\" directory\n",
    "# For example, running this (by clicking run or pressing Shift+Enter) will list all files under the input directory\n",
    "\n",
    "import os\n",
    "for dirname, _, filenames in os.walk('/kaggle/input'):\n",
    "    for filename in filenames:\n",
    "        print(os.path.join(dirname, filename))\n",
    "\n",
    "# You can write up to 20GB to the current directory (/kaggle/working/) that gets preserved as output when you create a version using \"Save & Run All\" \n",
    "# You can also write temporary files to /kaggle/temp/, but they won't be saved outside of the current session"
   ]
  },
  {
   "cell_type": "code",
   "execution_count": 2,
   "id": "669d6ac0",
   "metadata": {
    "execution": {
     "iopub.execute_input": "2023-03-10T16:48:05.140216Z",
     "iopub.status.busy": "2023-03-10T16:48:05.139821Z",
     "iopub.status.idle": "2023-03-10T16:48:06.988592Z",
     "shell.execute_reply": "2023-03-10T16:48:06.987150Z"
    },
    "papermill": {
     "duration": 1.864437,
     "end_time": "2023-03-10T16:48:06.991759",
     "exception": false,
     "start_time": "2023-03-10T16:48:05.127322",
     "status": "completed"
    },
    "tags": []
   },
   "outputs": [],
   "source": [
    "# importing libraries \n",
    "import numpy as np\n",
    "import pandas as pd\n",
    "import matplotlib.pyplot as plt\n",
    "import seaborn as sns\n",
    "from sklearn.linear_model import LogisticRegression\n"
   ]
  },
  {
   "cell_type": "code",
   "execution_count": 3,
   "id": "000b8723",
   "metadata": {
    "execution": {
     "iopub.execute_input": "2023-03-10T16:48:07.016877Z",
     "iopub.status.busy": "2023-03-10T16:48:07.015653Z",
     "iopub.status.idle": "2023-03-10T16:48:07.949254Z",
     "shell.execute_reply": "2023-03-10T16:48:07.947470Z"
    },
    "papermill": {
     "duration": 0.950016,
     "end_time": "2023-03-10T16:48:07.952919",
     "exception": false,
     "start_time": "2023-03-10T16:48:07.002903",
     "status": "completed"
    },
    "tags": []
   },
   "outputs": [],
   "source": [
    "deliveries = pd.read_csv('/kaggle/input/ipl-data-set/deliveries.csv')\n",
    "matches = pd.read_csv('/kaggle/input/ipl-data-set/matches.csv')"
   ]
  },
  {
   "cell_type": "code",
   "execution_count": 4,
   "id": "92681d57",
   "metadata": {
    "execution": {
     "iopub.execute_input": "2023-03-10T16:48:07.982479Z",
     "iopub.status.busy": "2023-03-10T16:48:07.980921Z",
     "iopub.status.idle": "2023-03-10T16:48:08.040822Z",
     "shell.execute_reply": "2023-03-10T16:48:08.039205Z"
    },
    "papermill": {
     "duration": 0.076418,
     "end_time": "2023-03-10T16:48:08.043732",
     "exception": false,
     "start_time": "2023-03-10T16:48:07.967314",
     "status": "completed"
    },
    "tags": []
   },
   "outputs": [
    {
     "data": {
      "text/html": [
       "<div>\n",
       "<style scoped>\n",
       "    .dataframe tbody tr th:only-of-type {\n",
       "        vertical-align: middle;\n",
       "    }\n",
       "\n",
       "    .dataframe tbody tr th {\n",
       "        vertical-align: top;\n",
       "    }\n",
       "\n",
       "    .dataframe thead th {\n",
       "        text-align: right;\n",
       "    }\n",
       "</style>\n",
       "<table border=\"1\" class=\"dataframe\">\n",
       "  <thead>\n",
       "    <tr style=\"text-align: right;\">\n",
       "      <th></th>\n",
       "      <th>match_id</th>\n",
       "      <th>inning</th>\n",
       "      <th>batting_team</th>\n",
       "      <th>bowling_team</th>\n",
       "      <th>over</th>\n",
       "      <th>ball</th>\n",
       "      <th>batsman</th>\n",
       "      <th>non_striker</th>\n",
       "      <th>bowler</th>\n",
       "      <th>is_super_over</th>\n",
       "      <th>...</th>\n",
       "      <th>bye_runs</th>\n",
       "      <th>legbye_runs</th>\n",
       "      <th>noball_runs</th>\n",
       "      <th>penalty_runs</th>\n",
       "      <th>batsman_runs</th>\n",
       "      <th>extra_runs</th>\n",
       "      <th>total_runs</th>\n",
       "      <th>player_dismissed</th>\n",
       "      <th>dismissal_kind</th>\n",
       "      <th>fielder</th>\n",
       "    </tr>\n",
       "  </thead>\n",
       "  <tbody>\n",
       "    <tr>\n",
       "      <th>11170</th>\n",
       "      <td>48</td>\n",
       "      <td>1</td>\n",
       "      <td>Kings XI Punjab</td>\n",
       "      <td>Kolkata Knight Riders</td>\n",
       "      <td>11</td>\n",
       "      <td>2</td>\n",
       "      <td>WP Saha</td>\n",
       "      <td>GJ Maxwell</td>\n",
       "      <td>CR Woakes</td>\n",
       "      <td>0</td>\n",
       "      <td>...</td>\n",
       "      <td>0</td>\n",
       "      <td>0</td>\n",
       "      <td>0</td>\n",
       "      <td>0</td>\n",
       "      <td>0</td>\n",
       "      <td>0</td>\n",
       "      <td>0</td>\n",
       "      <td>NaN</td>\n",
       "      <td>NaN</td>\n",
       "      <td>NaN</td>\n",
       "    </tr>\n",
       "    <tr>\n",
       "      <th>14282</th>\n",
       "      <td>61</td>\n",
       "      <td>2</td>\n",
       "      <td>Kings XI Punjab</td>\n",
       "      <td>Chennai Super Kings</td>\n",
       "      <td>12</td>\n",
       "      <td>3</td>\n",
       "      <td>KC Sangakkara</td>\n",
       "      <td>Yuvraj Singh</td>\n",
       "      <td>Joginder Sharma</td>\n",
       "      <td>0</td>\n",
       "      <td>...</td>\n",
       "      <td>0</td>\n",
       "      <td>0</td>\n",
       "      <td>0</td>\n",
       "      <td>0</td>\n",
       "      <td>4</td>\n",
       "      <td>0</td>\n",
       "      <td>4</td>\n",
       "      <td>NaN</td>\n",
       "      <td>NaN</td>\n",
       "      <td>NaN</td>\n",
       "    </tr>\n",
       "    <tr>\n",
       "      <th>45529</th>\n",
       "      <td>193</td>\n",
       "      <td>2</td>\n",
       "      <td>Kings XI Punjab</td>\n",
       "      <td>Rajasthan Royals</td>\n",
       "      <td>14</td>\n",
       "      <td>3</td>\n",
       "      <td>M Kaif</td>\n",
       "      <td>DPMD Jayawardene</td>\n",
       "      <td>AC Voges</td>\n",
       "      <td>0</td>\n",
       "      <td>...</td>\n",
       "      <td>0</td>\n",
       "      <td>0</td>\n",
       "      <td>0</td>\n",
       "      <td>0</td>\n",
       "      <td>1</td>\n",
       "      <td>0</td>\n",
       "      <td>1</td>\n",
       "      <td>NaN</td>\n",
       "      <td>NaN</td>\n",
       "      <td>NaN</td>\n",
       "    </tr>\n",
       "  </tbody>\n",
       "</table>\n",
       "<p>3 rows × 21 columns</p>\n",
       "</div>"
      ],
      "text/plain": [
       "       match_id  inning     batting_team           bowling_team  over  ball  \\\n",
       "11170        48       1  Kings XI Punjab  Kolkata Knight Riders    11     2   \n",
       "14282        61       2  Kings XI Punjab    Chennai Super Kings    12     3   \n",
       "45529       193       2  Kings XI Punjab       Rajasthan Royals    14     3   \n",
       "\n",
       "             batsman       non_striker           bowler  is_super_over  ...  \\\n",
       "11170        WP Saha        GJ Maxwell        CR Woakes              0  ...   \n",
       "14282  KC Sangakkara      Yuvraj Singh  Joginder Sharma              0  ...   \n",
       "45529         M Kaif  DPMD Jayawardene         AC Voges              0  ...   \n",
       "\n",
       "       bye_runs  legbye_runs  noball_runs  penalty_runs  batsman_runs  \\\n",
       "11170         0            0            0             0             0   \n",
       "14282         0            0            0             0             4   \n",
       "45529         0            0            0             0             1   \n",
       "\n",
       "       extra_runs  total_runs  player_dismissed dismissal_kind fielder  \n",
       "11170           0           0               NaN            NaN     NaN  \n",
       "14282           0           4               NaN            NaN     NaN  \n",
       "45529           0           1               NaN            NaN     NaN  \n",
       "\n",
       "[3 rows x 21 columns]"
      ]
     },
     "execution_count": 4,
     "metadata": {},
     "output_type": "execute_result"
    }
   ],
   "source": [
    "deliveries.sample(3)"
   ]
  },
  {
   "cell_type": "code",
   "execution_count": 5,
   "id": "ac758306",
   "metadata": {
    "execution": {
     "iopub.execute_input": "2023-03-10T16:48:08.071031Z",
     "iopub.status.busy": "2023-03-10T16:48:08.070383Z",
     "iopub.status.idle": "2023-03-10T16:48:08.094993Z",
     "shell.execute_reply": "2023-03-10T16:48:08.093487Z"
    },
    "papermill": {
     "duration": 0.042016,
     "end_time": "2023-03-10T16:48:08.098170",
     "exception": false,
     "start_time": "2023-03-10T16:48:08.056154",
     "status": "completed"
    },
    "tags": []
   },
   "outputs": [
    {
     "data": {
      "text/html": [
       "<div>\n",
       "<style scoped>\n",
       "    .dataframe tbody tr th:only-of-type {\n",
       "        vertical-align: middle;\n",
       "    }\n",
       "\n",
       "    .dataframe tbody tr th {\n",
       "        vertical-align: top;\n",
       "    }\n",
       "\n",
       "    .dataframe thead th {\n",
       "        text-align: right;\n",
       "    }\n",
       "</style>\n",
       "<table border=\"1\" class=\"dataframe\">\n",
       "  <thead>\n",
       "    <tr style=\"text-align: right;\">\n",
       "      <th></th>\n",
       "      <th>id</th>\n",
       "      <th>Season</th>\n",
       "      <th>city</th>\n",
       "      <th>date</th>\n",
       "      <th>team1</th>\n",
       "      <th>team2</th>\n",
       "      <th>toss_winner</th>\n",
       "      <th>toss_decision</th>\n",
       "      <th>result</th>\n",
       "      <th>dl_applied</th>\n",
       "      <th>winner</th>\n",
       "      <th>win_by_runs</th>\n",
       "      <th>win_by_wickets</th>\n",
       "      <th>player_of_match</th>\n",
       "      <th>venue</th>\n",
       "      <th>umpire1</th>\n",
       "      <th>umpire2</th>\n",
       "      <th>umpire3</th>\n",
       "    </tr>\n",
       "  </thead>\n",
       "  <tbody>\n",
       "    <tr>\n",
       "      <th>0</th>\n",
       "      <td>1</td>\n",
       "      <td>IPL-2017</td>\n",
       "      <td>Hyderabad</td>\n",
       "      <td>05-04-2017</td>\n",
       "      <td>Sunrisers Hyderabad</td>\n",
       "      <td>Royal Challengers Bangalore</td>\n",
       "      <td>Royal Challengers Bangalore</td>\n",
       "      <td>field</td>\n",
       "      <td>normal</td>\n",
       "      <td>0</td>\n",
       "      <td>Sunrisers Hyderabad</td>\n",
       "      <td>35</td>\n",
       "      <td>0</td>\n",
       "      <td>Yuvraj Singh</td>\n",
       "      <td>Rajiv Gandhi International Stadium, Uppal</td>\n",
       "      <td>AY Dandekar</td>\n",
       "      <td>NJ Llong</td>\n",
       "      <td>NaN</td>\n",
       "    </tr>\n",
       "    <tr>\n",
       "      <th>1</th>\n",
       "      <td>2</td>\n",
       "      <td>IPL-2017</td>\n",
       "      <td>Pune</td>\n",
       "      <td>06-04-2017</td>\n",
       "      <td>Mumbai Indians</td>\n",
       "      <td>Rising Pune Supergiant</td>\n",
       "      <td>Rising Pune Supergiant</td>\n",
       "      <td>field</td>\n",
       "      <td>normal</td>\n",
       "      <td>0</td>\n",
       "      <td>Rising Pune Supergiant</td>\n",
       "      <td>0</td>\n",
       "      <td>7</td>\n",
       "      <td>SPD Smith</td>\n",
       "      <td>Maharashtra Cricket Association Stadium</td>\n",
       "      <td>A Nand Kishore</td>\n",
       "      <td>S Ravi</td>\n",
       "      <td>NaN</td>\n",
       "    </tr>\n",
       "    <tr>\n",
       "      <th>2</th>\n",
       "      <td>3</td>\n",
       "      <td>IPL-2017</td>\n",
       "      <td>Rajkot</td>\n",
       "      <td>07-04-2017</td>\n",
       "      <td>Gujarat Lions</td>\n",
       "      <td>Kolkata Knight Riders</td>\n",
       "      <td>Kolkata Knight Riders</td>\n",
       "      <td>field</td>\n",
       "      <td>normal</td>\n",
       "      <td>0</td>\n",
       "      <td>Kolkata Knight Riders</td>\n",
       "      <td>0</td>\n",
       "      <td>10</td>\n",
       "      <td>CA Lynn</td>\n",
       "      <td>Saurashtra Cricket Association Stadium</td>\n",
       "      <td>Nitin Menon</td>\n",
       "      <td>CK Nandan</td>\n",
       "      <td>NaN</td>\n",
       "    </tr>\n",
       "    <tr>\n",
       "      <th>3</th>\n",
       "      <td>4</td>\n",
       "      <td>IPL-2017</td>\n",
       "      <td>Indore</td>\n",
       "      <td>08-04-2017</td>\n",
       "      <td>Rising Pune Supergiant</td>\n",
       "      <td>Kings XI Punjab</td>\n",
       "      <td>Kings XI Punjab</td>\n",
       "      <td>field</td>\n",
       "      <td>normal</td>\n",
       "      <td>0</td>\n",
       "      <td>Kings XI Punjab</td>\n",
       "      <td>0</td>\n",
       "      <td>6</td>\n",
       "      <td>GJ Maxwell</td>\n",
       "      <td>Holkar Cricket Stadium</td>\n",
       "      <td>AK Chaudhary</td>\n",
       "      <td>C Shamshuddin</td>\n",
       "      <td>NaN</td>\n",
       "    </tr>\n",
       "    <tr>\n",
       "      <th>4</th>\n",
       "      <td>5</td>\n",
       "      <td>IPL-2017</td>\n",
       "      <td>Bangalore</td>\n",
       "      <td>08-04-2017</td>\n",
       "      <td>Royal Challengers Bangalore</td>\n",
       "      <td>Delhi Daredevils</td>\n",
       "      <td>Royal Challengers Bangalore</td>\n",
       "      <td>bat</td>\n",
       "      <td>normal</td>\n",
       "      <td>0</td>\n",
       "      <td>Royal Challengers Bangalore</td>\n",
       "      <td>15</td>\n",
       "      <td>0</td>\n",
       "      <td>KM Jadhav</td>\n",
       "      <td>M Chinnaswamy Stadium</td>\n",
       "      <td>NaN</td>\n",
       "      <td>NaN</td>\n",
       "      <td>NaN</td>\n",
       "    </tr>\n",
       "  </tbody>\n",
       "</table>\n",
       "</div>"
      ],
      "text/plain": [
       "   id    Season       city        date                        team1  \\\n",
       "0   1  IPL-2017  Hyderabad  05-04-2017          Sunrisers Hyderabad   \n",
       "1   2  IPL-2017       Pune  06-04-2017               Mumbai Indians   \n",
       "2   3  IPL-2017     Rajkot  07-04-2017                Gujarat Lions   \n",
       "3   4  IPL-2017     Indore  08-04-2017       Rising Pune Supergiant   \n",
       "4   5  IPL-2017  Bangalore  08-04-2017  Royal Challengers Bangalore   \n",
       "\n",
       "                         team2                  toss_winner toss_decision  \\\n",
       "0  Royal Challengers Bangalore  Royal Challengers Bangalore         field   \n",
       "1       Rising Pune Supergiant       Rising Pune Supergiant         field   \n",
       "2        Kolkata Knight Riders        Kolkata Knight Riders         field   \n",
       "3              Kings XI Punjab              Kings XI Punjab         field   \n",
       "4             Delhi Daredevils  Royal Challengers Bangalore           bat   \n",
       "\n",
       "   result  dl_applied                       winner  win_by_runs  \\\n",
       "0  normal           0          Sunrisers Hyderabad           35   \n",
       "1  normal           0       Rising Pune Supergiant            0   \n",
       "2  normal           0        Kolkata Knight Riders            0   \n",
       "3  normal           0              Kings XI Punjab            0   \n",
       "4  normal           0  Royal Challengers Bangalore           15   \n",
       "\n",
       "   win_by_wickets player_of_match                                      venue  \\\n",
       "0               0    Yuvraj Singh  Rajiv Gandhi International Stadium, Uppal   \n",
       "1               7       SPD Smith    Maharashtra Cricket Association Stadium   \n",
       "2              10         CA Lynn     Saurashtra Cricket Association Stadium   \n",
       "3               6      GJ Maxwell                     Holkar Cricket Stadium   \n",
       "4               0       KM Jadhav                      M Chinnaswamy Stadium   \n",
       "\n",
       "          umpire1        umpire2 umpire3  \n",
       "0     AY Dandekar       NJ Llong     NaN  \n",
       "1  A Nand Kishore         S Ravi     NaN  \n",
       "2     Nitin Menon      CK Nandan     NaN  \n",
       "3    AK Chaudhary  C Shamshuddin     NaN  \n",
       "4             NaN            NaN     NaN  "
      ]
     },
     "execution_count": 5,
     "metadata": {},
     "output_type": "execute_result"
    }
   ],
   "source": [
    "matches.head(5)"
   ]
  },
  {
   "cell_type": "code",
   "execution_count": 6,
   "id": "cb379378",
   "metadata": {
    "execution": {
     "iopub.execute_input": "2023-03-10T16:48:08.125311Z",
     "iopub.status.busy": "2023-03-10T16:48:08.124843Z",
     "iopub.status.idle": "2023-03-10T16:48:08.216627Z",
     "shell.execute_reply": "2023-03-10T16:48:08.215142Z"
    },
    "papermill": {
     "duration": 0.109797,
     "end_time": "2023-03-10T16:48:08.220295",
     "exception": false,
     "start_time": "2023-03-10T16:48:08.110498",
     "status": "completed"
    },
    "tags": []
   },
   "outputs": [],
   "source": [
    "total_scores_df= deliveries.groupby(['match_id','inning']).sum()['total_runs'].reset_index()"
   ]
  },
  {
   "cell_type": "code",
   "execution_count": 7,
   "id": "b484e367",
   "metadata": {
    "execution": {
     "iopub.execute_input": "2023-03-10T16:48:08.250414Z",
     "iopub.status.busy": "2023-03-10T16:48:08.249268Z",
     "iopub.status.idle": "2023-03-10T16:48:08.259497Z",
     "shell.execute_reply": "2023-03-10T16:48:08.257938Z"
    },
    "papermill": {
     "duration": 0.027896,
     "end_time": "2023-03-10T16:48:08.262674",
     "exception": false,
     "start_time": "2023-03-10T16:48:08.234778",
     "status": "completed"
    },
    "tags": []
   },
   "outputs": [],
   "source": [
    "total_scores_df = total_scores_df[total_scores_df['inning'] == 1]"
   ]
  },
  {
   "cell_type": "code",
   "execution_count": 8,
   "id": "bc979312",
   "metadata": {
    "execution": {
     "iopub.execute_input": "2023-03-10T16:48:08.290936Z",
     "iopub.status.busy": "2023-03-10T16:48:08.289392Z",
     "iopub.status.idle": "2023-03-10T16:48:08.309526Z",
     "shell.execute_reply": "2023-03-10T16:48:08.308110Z"
    },
    "papermill": {
     "duration": 0.03763,
     "end_time": "2023-03-10T16:48:08.312936",
     "exception": false,
     "start_time": "2023-03-10T16:48:08.275306",
     "status": "completed"
    },
    "tags": []
   },
   "outputs": [],
   "source": [
    "match_df=matches.merge(total_scores_df[['match_id','total_runs']],left_on='id',right_on='match_id')"
   ]
  },
  {
   "cell_type": "code",
   "execution_count": 9,
   "id": "0e5c7185",
   "metadata": {
    "execution": {
     "iopub.execute_input": "2023-03-10T16:48:08.341339Z",
     "iopub.status.busy": "2023-03-10T16:48:08.340771Z",
     "iopub.status.idle": "2023-03-10T16:48:08.369972Z",
     "shell.execute_reply": "2023-03-10T16:48:08.368109Z"
    },
    "papermill": {
     "duration": 0.047807,
     "end_time": "2023-03-10T16:48:08.374055",
     "exception": false,
     "start_time": "2023-03-10T16:48:08.326248",
     "status": "completed"
    },
    "tags": []
   },
   "outputs": [
    {
     "data": {
      "text/html": [
       "<div>\n",
       "<style scoped>\n",
       "    .dataframe tbody tr th:only-of-type {\n",
       "        vertical-align: middle;\n",
       "    }\n",
       "\n",
       "    .dataframe tbody tr th {\n",
       "        vertical-align: top;\n",
       "    }\n",
       "\n",
       "    .dataframe thead th {\n",
       "        text-align: right;\n",
       "    }\n",
       "</style>\n",
       "<table border=\"1\" class=\"dataframe\">\n",
       "  <thead>\n",
       "    <tr style=\"text-align: right;\">\n",
       "      <th></th>\n",
       "      <th>id</th>\n",
       "      <th>Season</th>\n",
       "      <th>city</th>\n",
       "      <th>date</th>\n",
       "      <th>team1</th>\n",
       "      <th>team2</th>\n",
       "      <th>toss_winner</th>\n",
       "      <th>toss_decision</th>\n",
       "      <th>result</th>\n",
       "      <th>dl_applied</th>\n",
       "      <th>winner</th>\n",
       "      <th>win_by_runs</th>\n",
       "      <th>win_by_wickets</th>\n",
       "      <th>player_of_match</th>\n",
       "      <th>venue</th>\n",
       "      <th>umpire1</th>\n",
       "      <th>umpire2</th>\n",
       "      <th>umpire3</th>\n",
       "      <th>match_id</th>\n",
       "      <th>total_runs</th>\n",
       "    </tr>\n",
       "  </thead>\n",
       "  <tbody>\n",
       "    <tr>\n",
       "      <th>0</th>\n",
       "      <td>1</td>\n",
       "      <td>IPL-2017</td>\n",
       "      <td>Hyderabad</td>\n",
       "      <td>05-04-2017</td>\n",
       "      <td>Sunrisers Hyderabad</td>\n",
       "      <td>Royal Challengers Bangalore</td>\n",
       "      <td>Royal Challengers Bangalore</td>\n",
       "      <td>field</td>\n",
       "      <td>normal</td>\n",
       "      <td>0</td>\n",
       "      <td>Sunrisers Hyderabad</td>\n",
       "      <td>35</td>\n",
       "      <td>0</td>\n",
       "      <td>Yuvraj Singh</td>\n",
       "      <td>Rajiv Gandhi International Stadium, Uppal</td>\n",
       "      <td>AY Dandekar</td>\n",
       "      <td>NJ Llong</td>\n",
       "      <td>NaN</td>\n",
       "      <td>1</td>\n",
       "      <td>207</td>\n",
       "    </tr>\n",
       "    <tr>\n",
       "      <th>1</th>\n",
       "      <td>2</td>\n",
       "      <td>IPL-2017</td>\n",
       "      <td>Pune</td>\n",
       "      <td>06-04-2017</td>\n",
       "      <td>Mumbai Indians</td>\n",
       "      <td>Rising Pune Supergiant</td>\n",
       "      <td>Rising Pune Supergiant</td>\n",
       "      <td>field</td>\n",
       "      <td>normal</td>\n",
       "      <td>0</td>\n",
       "      <td>Rising Pune Supergiant</td>\n",
       "      <td>0</td>\n",
       "      <td>7</td>\n",
       "      <td>SPD Smith</td>\n",
       "      <td>Maharashtra Cricket Association Stadium</td>\n",
       "      <td>A Nand Kishore</td>\n",
       "      <td>S Ravi</td>\n",
       "      <td>NaN</td>\n",
       "      <td>2</td>\n",
       "      <td>184</td>\n",
       "    </tr>\n",
       "    <tr>\n",
       "      <th>2</th>\n",
       "      <td>3</td>\n",
       "      <td>IPL-2017</td>\n",
       "      <td>Rajkot</td>\n",
       "      <td>07-04-2017</td>\n",
       "      <td>Gujarat Lions</td>\n",
       "      <td>Kolkata Knight Riders</td>\n",
       "      <td>Kolkata Knight Riders</td>\n",
       "      <td>field</td>\n",
       "      <td>normal</td>\n",
       "      <td>0</td>\n",
       "      <td>Kolkata Knight Riders</td>\n",
       "      <td>0</td>\n",
       "      <td>10</td>\n",
       "      <td>CA Lynn</td>\n",
       "      <td>Saurashtra Cricket Association Stadium</td>\n",
       "      <td>Nitin Menon</td>\n",
       "      <td>CK Nandan</td>\n",
       "      <td>NaN</td>\n",
       "      <td>3</td>\n",
       "      <td>183</td>\n",
       "    </tr>\n",
       "  </tbody>\n",
       "</table>\n",
       "</div>"
      ],
      "text/plain": [
       "   id    Season       city        date                team1  \\\n",
       "0   1  IPL-2017  Hyderabad  05-04-2017  Sunrisers Hyderabad   \n",
       "1   2  IPL-2017       Pune  06-04-2017       Mumbai Indians   \n",
       "2   3  IPL-2017     Rajkot  07-04-2017        Gujarat Lions   \n",
       "\n",
       "                         team2                  toss_winner toss_decision  \\\n",
       "0  Royal Challengers Bangalore  Royal Challengers Bangalore         field   \n",
       "1       Rising Pune Supergiant       Rising Pune Supergiant         field   \n",
       "2        Kolkata Knight Riders        Kolkata Knight Riders         field   \n",
       "\n",
       "   result  dl_applied                  winner  win_by_runs  win_by_wickets  \\\n",
       "0  normal           0     Sunrisers Hyderabad           35               0   \n",
       "1  normal           0  Rising Pune Supergiant            0               7   \n",
       "2  normal           0   Kolkata Knight Riders            0              10   \n",
       "\n",
       "  player_of_match                                      venue         umpire1  \\\n",
       "0    Yuvraj Singh  Rajiv Gandhi International Stadium, Uppal     AY Dandekar   \n",
       "1       SPD Smith    Maharashtra Cricket Association Stadium  A Nand Kishore   \n",
       "2         CA Lynn     Saurashtra Cricket Association Stadium     Nitin Menon   \n",
       "\n",
       "     umpire2 umpire3  match_id  total_runs  \n",
       "0   NJ Llong     NaN         1         207  \n",
       "1     S Ravi     NaN         2         184  \n",
       "2  CK Nandan     NaN         3         183  "
      ]
     },
     "execution_count": 9,
     "metadata": {},
     "output_type": "execute_result"
    }
   ],
   "source": [
    "match_df.head(3)"
   ]
  },
  {
   "cell_type": "code",
   "execution_count": 10,
   "id": "b2c8902c",
   "metadata": {
    "execution": {
     "iopub.execute_input": "2023-03-10T16:48:08.404520Z",
     "iopub.status.busy": "2023-03-10T16:48:08.403979Z",
     "iopub.status.idle": "2023-03-10T16:48:08.415898Z",
     "shell.execute_reply": "2023-03-10T16:48:08.414335Z"
    },
    "papermill": {
     "duration": 0.03043,
     "end_time": "2023-03-10T16:48:08.419216",
     "exception": false,
     "start_time": "2023-03-10T16:48:08.388786",
     "status": "completed"
    },
    "tags": []
   },
   "outputs": [
    {
     "data": {
      "text/plain": [
       "array(['Sunrisers Hyderabad', 'Mumbai Indians', 'Gujarat Lions',\n",
       "       'Rising Pune Supergiant', 'Royal Challengers Bangalore',\n",
       "       'Kolkata Knight Riders', 'Delhi Daredevils', 'Kings XI Punjab',\n",
       "       'Chennai Super Kings', 'Rajasthan Royals', 'Deccan Chargers',\n",
       "       'Kochi Tuskers Kerala', 'Pune Warriors', 'Rising Pune Supergiants',\n",
       "       'Delhi Capitals'], dtype=object)"
      ]
     },
     "execution_count": 10,
     "metadata": {},
     "output_type": "execute_result"
    }
   ],
   "source": [
    "match_df['team1'].unique()"
   ]
  },
  {
   "cell_type": "code",
   "execution_count": 11,
   "id": "aec50d2a",
   "metadata": {
    "execution": {
     "iopub.execute_input": "2023-03-10T16:48:08.449829Z",
     "iopub.status.busy": "2023-03-10T16:48:08.448576Z",
     "iopub.status.idle": "2023-03-10T16:48:08.454855Z",
     "shell.execute_reply": "2023-03-10T16:48:08.453432Z"
    },
    "papermill": {
     "duration": 0.024643,
     "end_time": "2023-03-10T16:48:08.457462",
     "exception": false,
     "start_time": "2023-03-10T16:48:08.432819",
     "status": "completed"
    },
    "tags": []
   },
   "outputs": [],
   "source": [
    "teams = [\n",
    "    'Sunrisers Hyderabad',\n",
    "    'Mumbai Indians',\n",
    "    'Royal Challengers Bangalore',\n",
    "    'Kolkata Knight Riders',\n",
    "    'Kings XI Punjab',\n",
    "    'Chennai Super Kings',\n",
    "    'Rajasthan Royals',\n",
    "    'Delhi Capitals'\n",
    "]"
   ]
  },
  {
   "cell_type": "code",
   "execution_count": 12,
   "id": "fff60850",
   "metadata": {
    "execution": {
     "iopub.execute_input": "2023-03-10T16:48:08.485007Z",
     "iopub.status.busy": "2023-03-10T16:48:08.484597Z",
     "iopub.status.idle": "2023-03-10T16:48:08.496050Z",
     "shell.execute_reply": "2023-03-10T16:48:08.494966Z"
    },
    "papermill": {
     "duration": 0.028668,
     "end_time": "2023-03-10T16:48:08.498540",
     "exception": false,
     "start_time": "2023-03-10T16:48:08.469872",
     "status": "completed"
    },
    "tags": []
   },
   "outputs": [],
   "source": [
    "match_df['team1'] = match_df['team1'].str.replace('Delhi Daredevils','Delhi Capitals')\n",
    "match_df['team2'] = match_df['team2'].str.replace('Delhi Daredevils','Delhi Capitals')\n",
    "\n",
    "match_df['team1'] = match_df['team1'].str.replace('Deccan Chargers','Sunrisers Hyderabad')\n",
    "match_df['team2'] = match_df['team2'].str.replace('Deccan Chargers','Sunrisers Hyderabad')"
   ]
  },
  {
   "cell_type": "code",
   "execution_count": 13,
   "id": "e87352b7",
   "metadata": {
    "execution": {
     "iopub.execute_input": "2023-03-10T16:48:08.525007Z",
     "iopub.status.busy": "2023-03-10T16:48:08.524590Z",
     "iopub.status.idle": "2023-03-10T16:48:08.536597Z",
     "shell.execute_reply": "2023-03-10T16:48:08.535547Z"
    },
    "papermill": {
     "duration": 0.028186,
     "end_time": "2023-03-10T16:48:08.539304",
     "exception": false,
     "start_time": "2023-03-10T16:48:08.511118",
     "status": "completed"
    },
    "tags": []
   },
   "outputs": [],
   "source": [
    "match_df = match_df[match_df['team1'].isin(teams)]\n",
    "match_df = match_df[match_df['team2'].isin(teams)]"
   ]
  },
  {
   "cell_type": "code",
   "execution_count": 14,
   "id": "c8ad50ac",
   "metadata": {
    "execution": {
     "iopub.execute_input": "2023-03-10T16:48:08.565327Z",
     "iopub.status.busy": "2023-03-10T16:48:08.564769Z",
     "iopub.status.idle": "2023-03-10T16:48:08.572844Z",
     "shell.execute_reply": "2023-03-10T16:48:08.571662Z"
    },
    "papermill": {
     "duration": 0.024003,
     "end_time": "2023-03-10T16:48:08.575433",
     "exception": false,
     "start_time": "2023-03-10T16:48:08.551430",
     "status": "completed"
    },
    "tags": []
   },
   "outputs": [
    {
     "data": {
      "text/plain": [
       "(641, 20)"
      ]
     },
     "execution_count": 14,
     "metadata": {},
     "output_type": "execute_result"
    }
   ],
   "source": [
    "match_df.shape"
   ]
  },
  {
   "cell_type": "code",
   "execution_count": 15,
   "id": "3cdcda1d",
   "metadata": {
    "execution": {
     "iopub.execute_input": "2023-03-10T16:48:08.601952Z",
     "iopub.status.busy": "2023-03-10T16:48:08.601534Z",
     "iopub.status.idle": "2023-03-10T16:48:08.623829Z",
     "shell.execute_reply": "2023-03-10T16:48:08.622576Z"
    },
    "papermill": {
     "duration": 0.038938,
     "end_time": "2023-03-10T16:48:08.626648",
     "exception": false,
     "start_time": "2023-03-10T16:48:08.587710",
     "status": "completed"
    },
    "tags": []
   },
   "outputs": [
    {
     "data": {
      "text/html": [
       "<div>\n",
       "<style scoped>\n",
       "    .dataframe tbody tr th:only-of-type {\n",
       "        vertical-align: middle;\n",
       "    }\n",
       "\n",
       "    .dataframe tbody tr th {\n",
       "        vertical-align: top;\n",
       "    }\n",
       "\n",
       "    .dataframe thead th {\n",
       "        text-align: right;\n",
       "    }\n",
       "</style>\n",
       "<table border=\"1\" class=\"dataframe\">\n",
       "  <thead>\n",
       "    <tr style=\"text-align: right;\">\n",
       "      <th></th>\n",
       "      <th>id</th>\n",
       "      <th>Season</th>\n",
       "      <th>city</th>\n",
       "      <th>date</th>\n",
       "      <th>team1</th>\n",
       "      <th>team2</th>\n",
       "      <th>toss_winner</th>\n",
       "      <th>toss_decision</th>\n",
       "      <th>result</th>\n",
       "      <th>dl_applied</th>\n",
       "      <th>winner</th>\n",
       "      <th>win_by_runs</th>\n",
       "      <th>win_by_wickets</th>\n",
       "      <th>player_of_match</th>\n",
       "      <th>venue</th>\n",
       "      <th>umpire1</th>\n",
       "      <th>umpire2</th>\n",
       "      <th>umpire3</th>\n",
       "      <th>match_id</th>\n",
       "      <th>total_runs</th>\n",
       "    </tr>\n",
       "  </thead>\n",
       "  <tbody>\n",
       "    <tr>\n",
       "      <th>0</th>\n",
       "      <td>1</td>\n",
       "      <td>IPL-2017</td>\n",
       "      <td>Hyderabad</td>\n",
       "      <td>05-04-2017</td>\n",
       "      <td>Sunrisers Hyderabad</td>\n",
       "      <td>Royal Challengers Bangalore</td>\n",
       "      <td>Royal Challengers Bangalore</td>\n",
       "      <td>field</td>\n",
       "      <td>normal</td>\n",
       "      <td>0</td>\n",
       "      <td>Sunrisers Hyderabad</td>\n",
       "      <td>35</td>\n",
       "      <td>0</td>\n",
       "      <td>Yuvraj Singh</td>\n",
       "      <td>Rajiv Gandhi International Stadium, Uppal</td>\n",
       "      <td>AY Dandekar</td>\n",
       "      <td>NJ Llong</td>\n",
       "      <td>NaN</td>\n",
       "      <td>1</td>\n",
       "      <td>207</td>\n",
       "    </tr>\n",
       "    <tr>\n",
       "      <th>4</th>\n",
       "      <td>5</td>\n",
       "      <td>IPL-2017</td>\n",
       "      <td>Bangalore</td>\n",
       "      <td>08-04-2017</td>\n",
       "      <td>Royal Challengers Bangalore</td>\n",
       "      <td>Delhi Capitals</td>\n",
       "      <td>Royal Challengers Bangalore</td>\n",
       "      <td>bat</td>\n",
       "      <td>normal</td>\n",
       "      <td>0</td>\n",
       "      <td>Royal Challengers Bangalore</td>\n",
       "      <td>15</td>\n",
       "      <td>0</td>\n",
       "      <td>KM Jadhav</td>\n",
       "      <td>M Chinnaswamy Stadium</td>\n",
       "      <td>NaN</td>\n",
       "      <td>NaN</td>\n",
       "      <td>NaN</td>\n",
       "      <td>5</td>\n",
       "      <td>157</td>\n",
       "    </tr>\n",
       "    <tr>\n",
       "      <th>6</th>\n",
       "      <td>7</td>\n",
       "      <td>IPL-2017</td>\n",
       "      <td>Mumbai</td>\n",
       "      <td>09-04-2017</td>\n",
       "      <td>Kolkata Knight Riders</td>\n",
       "      <td>Mumbai Indians</td>\n",
       "      <td>Mumbai Indians</td>\n",
       "      <td>field</td>\n",
       "      <td>normal</td>\n",
       "      <td>0</td>\n",
       "      <td>Mumbai Indians</td>\n",
       "      <td>0</td>\n",
       "      <td>4</td>\n",
       "      <td>N Rana</td>\n",
       "      <td>Wankhede Stadium</td>\n",
       "      <td>Nitin Menon</td>\n",
       "      <td>CK Nandan</td>\n",
       "      <td>NaN</td>\n",
       "      <td>7</td>\n",
       "      <td>178</td>\n",
       "    </tr>\n",
       "    <tr>\n",
       "      <th>7</th>\n",
       "      <td>8</td>\n",
       "      <td>IPL-2017</td>\n",
       "      <td>Indore</td>\n",
       "      <td>10-04-2017</td>\n",
       "      <td>Royal Challengers Bangalore</td>\n",
       "      <td>Kings XI Punjab</td>\n",
       "      <td>Royal Challengers Bangalore</td>\n",
       "      <td>bat</td>\n",
       "      <td>normal</td>\n",
       "      <td>0</td>\n",
       "      <td>Kings XI Punjab</td>\n",
       "      <td>0</td>\n",
       "      <td>8</td>\n",
       "      <td>AR Patel</td>\n",
       "      <td>Holkar Cricket Stadium</td>\n",
       "      <td>AK Chaudhary</td>\n",
       "      <td>C Shamshuddin</td>\n",
       "      <td>NaN</td>\n",
       "      <td>8</td>\n",
       "      <td>148</td>\n",
       "    </tr>\n",
       "    <tr>\n",
       "      <th>9</th>\n",
       "      <td>10</td>\n",
       "      <td>IPL-2017</td>\n",
       "      <td>Mumbai</td>\n",
       "      <td>12-04-2017</td>\n",
       "      <td>Sunrisers Hyderabad</td>\n",
       "      <td>Mumbai Indians</td>\n",
       "      <td>Mumbai Indians</td>\n",
       "      <td>field</td>\n",
       "      <td>normal</td>\n",
       "      <td>0</td>\n",
       "      <td>Mumbai Indians</td>\n",
       "      <td>0</td>\n",
       "      <td>4</td>\n",
       "      <td>JJ Bumrah</td>\n",
       "      <td>Wankhede Stadium</td>\n",
       "      <td>Nitin Menon</td>\n",
       "      <td>CK Nandan</td>\n",
       "      <td>NaN</td>\n",
       "      <td>10</td>\n",
       "      <td>158</td>\n",
       "    </tr>\n",
       "  </tbody>\n",
       "</table>\n",
       "</div>"
      ],
      "text/plain": [
       "   id    Season       city        date                        team1  \\\n",
       "0   1  IPL-2017  Hyderabad  05-04-2017          Sunrisers Hyderabad   \n",
       "4   5  IPL-2017  Bangalore  08-04-2017  Royal Challengers Bangalore   \n",
       "6   7  IPL-2017     Mumbai  09-04-2017        Kolkata Knight Riders   \n",
       "7   8  IPL-2017     Indore  10-04-2017  Royal Challengers Bangalore   \n",
       "9  10  IPL-2017     Mumbai  12-04-2017          Sunrisers Hyderabad   \n",
       "\n",
       "                         team2                  toss_winner toss_decision  \\\n",
       "0  Royal Challengers Bangalore  Royal Challengers Bangalore         field   \n",
       "4               Delhi Capitals  Royal Challengers Bangalore           bat   \n",
       "6               Mumbai Indians               Mumbai Indians         field   \n",
       "7              Kings XI Punjab  Royal Challengers Bangalore           bat   \n",
       "9               Mumbai Indians               Mumbai Indians         field   \n",
       "\n",
       "   result  dl_applied                       winner  win_by_runs  \\\n",
       "0  normal           0          Sunrisers Hyderabad           35   \n",
       "4  normal           0  Royal Challengers Bangalore           15   \n",
       "6  normal           0               Mumbai Indians            0   \n",
       "7  normal           0              Kings XI Punjab            0   \n",
       "9  normal           0               Mumbai Indians            0   \n",
       "\n",
       "   win_by_wickets player_of_match                                      venue  \\\n",
       "0               0    Yuvraj Singh  Rajiv Gandhi International Stadium, Uppal   \n",
       "4               0       KM Jadhav                      M Chinnaswamy Stadium   \n",
       "6               4          N Rana                           Wankhede Stadium   \n",
       "7               8        AR Patel                     Holkar Cricket Stadium   \n",
       "9               4       JJ Bumrah                           Wankhede Stadium   \n",
       "\n",
       "        umpire1        umpire2 umpire3  match_id  total_runs  \n",
       "0   AY Dandekar       NJ Llong     NaN         1         207  \n",
       "4           NaN            NaN     NaN         5         157  \n",
       "6   Nitin Menon      CK Nandan     NaN         7         178  \n",
       "7  AK Chaudhary  C Shamshuddin     NaN         8         148  \n",
       "9   Nitin Menon      CK Nandan     NaN        10         158  "
      ]
     },
     "execution_count": 15,
     "metadata": {},
     "output_type": "execute_result"
    }
   ],
   "source": [
    "match_df.head()"
   ]
  },
  {
   "cell_type": "code",
   "execution_count": 16,
   "id": "c6e576ac",
   "metadata": {
    "execution": {
     "iopub.execute_input": "2023-03-10T16:48:08.654299Z",
     "iopub.status.busy": "2023-03-10T16:48:08.653880Z",
     "iopub.status.idle": "2023-03-10T16:48:08.660197Z",
     "shell.execute_reply": "2023-03-10T16:48:08.659109Z"
    },
    "papermill": {
     "duration": 0.023196,
     "end_time": "2023-03-10T16:48:08.662756",
     "exception": false,
     "start_time": "2023-03-10T16:48:08.639560",
     "status": "completed"
    },
    "tags": []
   },
   "outputs": [],
   "source": [
    "match_df = match_df[match_df['dl_applied']==0]"
   ]
  },
  {
   "cell_type": "code",
   "execution_count": 17,
   "id": "b9a70edf",
   "metadata": {
    "execution": {
     "iopub.execute_input": "2023-03-10T16:48:08.690811Z",
     "iopub.status.busy": "2023-03-10T16:48:08.690314Z",
     "iopub.status.idle": "2023-03-10T16:48:08.698224Z",
     "shell.execute_reply": "2023-03-10T16:48:08.696897Z"
    },
    "papermill": {
     "duration": 0.025136,
     "end_time": "2023-03-10T16:48:08.700985",
     "exception": false,
     "start_time": "2023-03-10T16:48:08.675849",
     "status": "completed"
    },
    "tags": []
   },
   "outputs": [
    {
     "data": {
      "text/plain": [
       "(626, 20)"
      ]
     },
     "execution_count": 17,
     "metadata": {},
     "output_type": "execute_result"
    }
   ],
   "source": [
    "match_df.shape"
   ]
  },
  {
   "cell_type": "code",
   "execution_count": 18,
   "id": "f5281a01",
   "metadata": {
    "execution": {
     "iopub.execute_input": "2023-03-10T16:48:08.728487Z",
     "iopub.status.busy": "2023-03-10T16:48:08.728102Z",
     "iopub.status.idle": "2023-03-10T16:48:08.734307Z",
     "shell.execute_reply": "2023-03-10T16:48:08.733140Z"
    },
    "papermill": {
     "duration": 0.023299,
     "end_time": "2023-03-10T16:48:08.737055",
     "exception": false,
     "start_time": "2023-03-10T16:48:08.713756",
     "status": "completed"
    },
    "tags": []
   },
   "outputs": [],
   "source": [
    "match_df = match_df[['match_id','city','winner','total_runs']]"
   ]
  },
  {
   "cell_type": "code",
   "execution_count": 19,
   "id": "cbe4ce2e",
   "metadata": {
    "execution": {
     "iopub.execute_input": "2023-03-10T16:48:08.765028Z",
     "iopub.status.busy": "2023-03-10T16:48:08.764564Z",
     "iopub.status.idle": "2023-03-10T16:48:08.929369Z",
     "shell.execute_reply": "2023-03-10T16:48:08.928157Z"
    },
    "papermill": {
     "duration": 0.182401,
     "end_time": "2023-03-10T16:48:08.932508",
     "exception": false,
     "start_time": "2023-03-10T16:48:08.750107",
     "status": "completed"
    },
    "tags": []
   },
   "outputs": [],
   "source": [
    "deliveries = match_df.merge(deliveries,on='match_id')"
   ]
  },
  {
   "cell_type": "code",
   "execution_count": 20,
   "id": "8b47aee3",
   "metadata": {
    "execution": {
     "iopub.execute_input": "2023-03-10T16:48:08.959839Z",
     "iopub.status.busy": "2023-03-10T16:48:08.959385Z",
     "iopub.status.idle": "2023-03-10T16:48:09.034069Z",
     "shell.execute_reply": "2023-03-10T16:48:09.033035Z"
    },
    "papermill": {
     "duration": 0.091521,
     "end_time": "2023-03-10T16:48:09.036724",
     "exception": false,
     "start_time": "2023-03-10T16:48:08.945203",
     "status": "completed"
    },
    "tags": []
   },
   "outputs": [],
   "source": [
    "deliveries = deliveries[deliveries['inning'] == 2]"
   ]
  },
  {
   "cell_type": "code",
   "execution_count": 21,
   "id": "ab52dc1a",
   "metadata": {
    "execution": {
     "iopub.execute_input": "2023-03-10T16:48:09.064904Z",
     "iopub.status.busy": "2023-03-10T16:48:09.064216Z",
     "iopub.status.idle": "2023-03-10T16:48:09.095768Z",
     "shell.execute_reply": "2023-03-10T16:48:09.094258Z"
    },
    "papermill": {
     "duration": 0.049455,
     "end_time": "2023-03-10T16:48:09.098816",
     "exception": false,
     "start_time": "2023-03-10T16:48:09.049361",
     "status": "completed"
    },
    "tags": []
   },
   "outputs": [],
   "source": [
    "deliveries['current_score'] = deliveries.groupby('match_id').cumsum()['total_runs_y']"
   ]
  },
  {
   "cell_type": "code",
   "execution_count": 22,
   "id": "296b787c",
   "metadata": {
    "execution": {
     "iopub.execute_input": "2023-03-10T16:48:09.126645Z",
     "iopub.status.busy": "2023-03-10T16:48:09.126161Z",
     "iopub.status.idle": "2023-03-10T16:48:09.134261Z",
     "shell.execute_reply": "2023-03-10T16:48:09.132883Z"
    },
    "papermill": {
     "duration": 0.025588,
     "end_time": "2023-03-10T16:48:09.137249",
     "exception": false,
     "start_time": "2023-03-10T16:48:09.111661",
     "status": "completed"
    },
    "tags": []
   },
   "outputs": [],
   "source": [
    "deliveries['runs_left'] = deliveries['total_runs_x'] - deliveries['current_score']"
   ]
  },
  {
   "cell_type": "code",
   "execution_count": 23,
   "id": "1d44a51b",
   "metadata": {
    "execution": {
     "iopub.execute_input": "2023-03-10T16:48:09.165446Z",
     "iopub.status.busy": "2023-03-10T16:48:09.165017Z",
     "iopub.status.idle": "2023-03-10T16:48:09.172835Z",
     "shell.execute_reply": "2023-03-10T16:48:09.171640Z"
    },
    "papermill": {
     "duration": 0.025224,
     "end_time": "2023-03-10T16:48:09.175667",
     "exception": false,
     "start_time": "2023-03-10T16:48:09.150443",
     "status": "completed"
    },
    "tags": []
   },
   "outputs": [],
   "source": [
    "deliveries['balls_left'] = 126 - (deliveries['over']*6 + deliveries['ball'])"
   ]
  },
  {
   "cell_type": "code",
   "execution_count": 24,
   "id": "1cf7857d",
   "metadata": {
    "execution": {
     "iopub.execute_input": "2023-03-10T16:48:09.203083Z",
     "iopub.status.busy": "2023-03-10T16:48:09.202668Z",
     "iopub.status.idle": "2023-03-10T16:48:09.207639Z",
     "shell.execute_reply": "2023-03-10T16:48:09.206390Z"
    },
    "papermill": {
     "duration": 0.021862,
     "end_time": "2023-03-10T16:48:09.210374",
     "exception": false,
     "start_time": "2023-03-10T16:48:09.188512",
     "status": "completed"
    },
    "tags": []
   },
   "outputs": [],
   "source": [
    "delivery_df = deliveries"
   ]
  },
  {
   "cell_type": "code",
   "execution_count": 25,
   "id": "1b310534",
   "metadata": {
    "execution": {
     "iopub.execute_input": "2023-03-10T16:48:09.237898Z",
     "iopub.status.busy": "2023-03-10T16:48:09.237461Z",
     "iopub.status.idle": "2023-03-10T16:48:09.324155Z",
     "shell.execute_reply": "2023-03-10T16:48:09.322565Z"
    },
    "papermill": {
     "duration": 0.10421,
     "end_time": "2023-03-10T16:48:09.327302",
     "exception": false,
     "start_time": "2023-03-10T16:48:09.223092",
     "status": "completed"
    },
    "tags": []
   },
   "outputs": [
    {
     "data": {
      "text/html": [
       "<div>\n",
       "<style scoped>\n",
       "    .dataframe tbody tr th:only-of-type {\n",
       "        vertical-align: middle;\n",
       "    }\n",
       "\n",
       "    .dataframe tbody tr th {\n",
       "        vertical-align: top;\n",
       "    }\n",
       "\n",
       "    .dataframe thead th {\n",
       "        text-align: right;\n",
       "    }\n",
       "</style>\n",
       "<table border=\"1\" class=\"dataframe\">\n",
       "  <thead>\n",
       "    <tr style=\"text-align: right;\">\n",
       "      <th></th>\n",
       "      <th>match_id</th>\n",
       "      <th>city</th>\n",
       "      <th>winner</th>\n",
       "      <th>total_runs_x</th>\n",
       "      <th>inning</th>\n",
       "      <th>batting_team</th>\n",
       "      <th>bowling_team</th>\n",
       "      <th>over</th>\n",
       "      <th>ball</th>\n",
       "      <th>batsman</th>\n",
       "      <th>...</th>\n",
       "      <th>batsman_runs</th>\n",
       "      <th>extra_runs</th>\n",
       "      <th>total_runs_y</th>\n",
       "      <th>player_dismissed</th>\n",
       "      <th>dismissal_kind</th>\n",
       "      <th>fielder</th>\n",
       "      <th>current_score</th>\n",
       "      <th>runs_left</th>\n",
       "      <th>balls_left</th>\n",
       "      <th>wickets</th>\n",
       "    </tr>\n",
       "  </thead>\n",
       "  <tbody>\n",
       "    <tr>\n",
       "      <th>125</th>\n",
       "      <td>1</td>\n",
       "      <td>Hyderabad</td>\n",
       "      <td>Sunrisers Hyderabad</td>\n",
       "      <td>207</td>\n",
       "      <td>2</td>\n",
       "      <td>Royal Challengers Bangalore</td>\n",
       "      <td>Sunrisers Hyderabad</td>\n",
       "      <td>1</td>\n",
       "      <td>1</td>\n",
       "      <td>CH Gayle</td>\n",
       "      <td>...</td>\n",
       "      <td>1</td>\n",
       "      <td>0</td>\n",
       "      <td>1</td>\n",
       "      <td>0</td>\n",
       "      <td>NaN</td>\n",
       "      <td>NaN</td>\n",
       "      <td>1</td>\n",
       "      <td>206</td>\n",
       "      <td>119</td>\n",
       "      <td>10</td>\n",
       "    </tr>\n",
       "    <tr>\n",
       "      <th>126</th>\n",
       "      <td>1</td>\n",
       "      <td>Hyderabad</td>\n",
       "      <td>Sunrisers Hyderabad</td>\n",
       "      <td>207</td>\n",
       "      <td>2</td>\n",
       "      <td>Royal Challengers Bangalore</td>\n",
       "      <td>Sunrisers Hyderabad</td>\n",
       "      <td>1</td>\n",
       "      <td>2</td>\n",
       "      <td>Mandeep Singh</td>\n",
       "      <td>...</td>\n",
       "      <td>0</td>\n",
       "      <td>0</td>\n",
       "      <td>0</td>\n",
       "      <td>0</td>\n",
       "      <td>NaN</td>\n",
       "      <td>NaN</td>\n",
       "      <td>1</td>\n",
       "      <td>206</td>\n",
       "      <td>118</td>\n",
       "      <td>10</td>\n",
       "    </tr>\n",
       "    <tr>\n",
       "      <th>127</th>\n",
       "      <td>1</td>\n",
       "      <td>Hyderabad</td>\n",
       "      <td>Sunrisers Hyderabad</td>\n",
       "      <td>207</td>\n",
       "      <td>2</td>\n",
       "      <td>Royal Challengers Bangalore</td>\n",
       "      <td>Sunrisers Hyderabad</td>\n",
       "      <td>1</td>\n",
       "      <td>3</td>\n",
       "      <td>Mandeep Singh</td>\n",
       "      <td>...</td>\n",
       "      <td>0</td>\n",
       "      <td>0</td>\n",
       "      <td>0</td>\n",
       "      <td>0</td>\n",
       "      <td>NaN</td>\n",
       "      <td>NaN</td>\n",
       "      <td>1</td>\n",
       "      <td>206</td>\n",
       "      <td>117</td>\n",
       "      <td>10</td>\n",
       "    </tr>\n",
       "    <tr>\n",
       "      <th>128</th>\n",
       "      <td>1</td>\n",
       "      <td>Hyderabad</td>\n",
       "      <td>Sunrisers Hyderabad</td>\n",
       "      <td>207</td>\n",
       "      <td>2</td>\n",
       "      <td>Royal Challengers Bangalore</td>\n",
       "      <td>Sunrisers Hyderabad</td>\n",
       "      <td>1</td>\n",
       "      <td>4</td>\n",
       "      <td>Mandeep Singh</td>\n",
       "      <td>...</td>\n",
       "      <td>2</td>\n",
       "      <td>0</td>\n",
       "      <td>2</td>\n",
       "      <td>0</td>\n",
       "      <td>NaN</td>\n",
       "      <td>NaN</td>\n",
       "      <td>3</td>\n",
       "      <td>204</td>\n",
       "      <td>116</td>\n",
       "      <td>10</td>\n",
       "    </tr>\n",
       "    <tr>\n",
       "      <th>129</th>\n",
       "      <td>1</td>\n",
       "      <td>Hyderabad</td>\n",
       "      <td>Sunrisers Hyderabad</td>\n",
       "      <td>207</td>\n",
       "      <td>2</td>\n",
       "      <td>Royal Challengers Bangalore</td>\n",
       "      <td>Sunrisers Hyderabad</td>\n",
       "      <td>1</td>\n",
       "      <td>5</td>\n",
       "      <td>Mandeep Singh</td>\n",
       "      <td>...</td>\n",
       "      <td>4</td>\n",
       "      <td>0</td>\n",
       "      <td>4</td>\n",
       "      <td>0</td>\n",
       "      <td>NaN</td>\n",
       "      <td>NaN</td>\n",
       "      <td>7</td>\n",
       "      <td>200</td>\n",
       "      <td>115</td>\n",
       "      <td>10</td>\n",
       "    </tr>\n",
       "  </tbody>\n",
       "</table>\n",
       "<p>5 rows × 28 columns</p>\n",
       "</div>"
      ],
      "text/plain": [
       "     match_id       city               winner  total_runs_x  inning  \\\n",
       "125         1  Hyderabad  Sunrisers Hyderabad           207       2   \n",
       "126         1  Hyderabad  Sunrisers Hyderabad           207       2   \n",
       "127         1  Hyderabad  Sunrisers Hyderabad           207       2   \n",
       "128         1  Hyderabad  Sunrisers Hyderabad           207       2   \n",
       "129         1  Hyderabad  Sunrisers Hyderabad           207       2   \n",
       "\n",
       "                    batting_team         bowling_team  over  ball  \\\n",
       "125  Royal Challengers Bangalore  Sunrisers Hyderabad     1     1   \n",
       "126  Royal Challengers Bangalore  Sunrisers Hyderabad     1     2   \n",
       "127  Royal Challengers Bangalore  Sunrisers Hyderabad     1     3   \n",
       "128  Royal Challengers Bangalore  Sunrisers Hyderabad     1     4   \n",
       "129  Royal Challengers Bangalore  Sunrisers Hyderabad     1     5   \n",
       "\n",
       "           batsman  ... batsman_runs extra_runs  total_runs_y  \\\n",
       "125       CH Gayle  ...            1          0             1   \n",
       "126  Mandeep Singh  ...            0          0             0   \n",
       "127  Mandeep Singh  ...            0          0             0   \n",
       "128  Mandeep Singh  ...            2          0             2   \n",
       "129  Mandeep Singh  ...            4          0             4   \n",
       "\n",
       "     player_dismissed  dismissal_kind  fielder  current_score  runs_left  \\\n",
       "125                 0             NaN      NaN              1        206   \n",
       "126                 0             NaN      NaN              1        206   \n",
       "127                 0             NaN      NaN              1        206   \n",
       "128                 0             NaN      NaN              3        204   \n",
       "129                 0             NaN      NaN              7        200   \n",
       "\n",
       "     balls_left  wickets  \n",
       "125         119       10  \n",
       "126         118       10  \n",
       "127         117       10  \n",
       "128         116       10  \n",
       "129         115       10  \n",
       "\n",
       "[5 rows x 28 columns]"
      ]
     },
     "execution_count": 25,
     "metadata": {},
     "output_type": "execute_result"
    }
   ],
   "source": [
    "delivery_df['player_dismissed'] = delivery_df['player_dismissed'].fillna(\"0\")\n",
    "delivery_df['player_dismissed'] = delivery_df['player_dismissed'].apply(lambda x:x if x == \"0\" else \"1\")\n",
    "delivery_df['player_dismissed'] = delivery_df['player_dismissed'].astype('int')\n",
    "wickets = delivery_df.groupby('match_id').cumsum()['player_dismissed'].values\n",
    "delivery_df['wickets'] = 10 - wickets\n",
    "delivery_df.head()"
   ]
  },
  {
   "cell_type": "code",
   "execution_count": 26,
   "id": "cc1954ff",
   "metadata": {
    "execution": {
     "iopub.execute_input": "2023-03-10T16:48:09.358692Z",
     "iopub.status.busy": "2023-03-10T16:48:09.358166Z",
     "iopub.status.idle": "2023-03-10T16:48:09.367291Z",
     "shell.execute_reply": "2023-03-10T16:48:09.365897Z"
    },
    "papermill": {
     "duration": 0.0279,
     "end_time": "2023-03-10T16:48:09.370233",
     "exception": false,
     "start_time": "2023-03-10T16:48:09.342333",
     "status": "completed"
    },
    "tags": []
   },
   "outputs": [],
   "source": [
    "# crr = runs/overs\n",
    "delivery_df['crr'] = (delivery_df['current_score']*6)/(120 - delivery_df['balls_left'])"
   ]
  },
  {
   "cell_type": "code",
   "execution_count": 27,
   "id": "82bcca30",
   "metadata": {
    "execution": {
     "iopub.execute_input": "2023-03-10T16:48:09.400291Z",
     "iopub.status.busy": "2023-03-10T16:48:09.399415Z",
     "iopub.status.idle": "2023-03-10T16:48:09.407261Z",
     "shell.execute_reply": "2023-03-10T16:48:09.406249Z"
    },
    "papermill": {
     "duration": 0.025599,
     "end_time": "2023-03-10T16:48:09.410122",
     "exception": false,
     "start_time": "2023-03-10T16:48:09.384523",
     "status": "completed"
    },
    "tags": []
   },
   "outputs": [],
   "source": [
    "#required run rate\n",
    "delivery_df['rrr'] = (delivery_df['runs_left']*6)/delivery_df['balls_left']"
   ]
  },
  {
   "cell_type": "code",
   "execution_count": 28,
   "id": "d0cf4198",
   "metadata": {
    "execution": {
     "iopub.execute_input": "2023-03-10T16:48:09.438422Z",
     "iopub.status.busy": "2023-03-10T16:48:09.437637Z",
     "iopub.status.idle": "2023-03-10T16:48:09.444160Z",
     "shell.execute_reply": "2023-03-10T16:48:09.442720Z"
    },
    "papermill": {
     "duration": 0.023781,
     "end_time": "2023-03-10T16:48:09.446955",
     "exception": false,
     "start_time": "2023-03-10T16:48:09.423174",
     "status": "completed"
    },
    "tags": []
   },
   "outputs": [],
   "source": [
    "def result(row):\n",
    "    return 1 if row['batting_team'] == row['winner'] else 0"
   ]
  },
  {
   "cell_type": "code",
   "execution_count": 29,
   "id": "453d1b60",
   "metadata": {
    "execution": {
     "iopub.execute_input": "2023-03-10T16:48:09.476545Z",
     "iopub.status.busy": "2023-03-10T16:48:09.476037Z",
     "iopub.status.idle": "2023-03-10T16:48:10.655141Z",
     "shell.execute_reply": "2023-03-10T16:48:10.653688Z"
    },
    "papermill": {
     "duration": 1.198398,
     "end_time": "2023-03-10T16:48:10.658307",
     "exception": false,
     "start_time": "2023-03-10T16:48:09.459909",
     "status": "completed"
    },
    "tags": []
   },
   "outputs": [],
   "source": [
    "delivery_df['result'] = delivery_df.apply(result,axis=1)"
   ]
  },
  {
   "cell_type": "code",
   "execution_count": 30,
   "id": "c7a86d8d",
   "metadata": {
    "execution": {
     "iopub.execute_input": "2023-03-10T16:48:10.687813Z",
     "iopub.status.busy": "2023-03-10T16:48:10.687306Z",
     "iopub.status.idle": "2023-03-10T16:48:10.702624Z",
     "shell.execute_reply": "2023-03-10T16:48:10.701315Z"
    },
    "papermill": {
     "duration": 0.033689,
     "end_time": "2023-03-10T16:48:10.705291",
     "exception": false,
     "start_time": "2023-03-10T16:48:10.671602",
     "status": "completed"
    },
    "tags": []
   },
   "outputs": [],
   "source": [
    "final_df = delivery_df[['batting_team','bowling_team','city','runs_left','balls_left','wickets','total_runs_x','crr','rrr','result']]"
   ]
  },
  {
   "cell_type": "code",
   "execution_count": 31,
   "id": "4f01042e",
   "metadata": {
    "execution": {
     "iopub.execute_input": "2023-03-10T16:48:10.732676Z",
     "iopub.status.busy": "2023-03-10T16:48:10.732228Z",
     "iopub.status.idle": "2023-03-10T16:48:10.748581Z",
     "shell.execute_reply": "2023-03-10T16:48:10.747410Z"
    },
    "papermill": {
     "duration": 0.032991,
     "end_time": "2023-03-10T16:48:10.751070",
     "exception": false,
     "start_time": "2023-03-10T16:48:10.718079",
     "status": "completed"
    },
    "tags": []
   },
   "outputs": [
    {
     "data": {
      "text/html": [
       "<div>\n",
       "<style scoped>\n",
       "    .dataframe tbody tr th:only-of-type {\n",
       "        vertical-align: middle;\n",
       "    }\n",
       "\n",
       "    .dataframe tbody tr th {\n",
       "        vertical-align: top;\n",
       "    }\n",
       "\n",
       "    .dataframe thead th {\n",
       "        text-align: right;\n",
       "    }\n",
       "</style>\n",
       "<table border=\"1\" class=\"dataframe\">\n",
       "  <thead>\n",
       "    <tr style=\"text-align: right;\">\n",
       "      <th></th>\n",
       "      <th>batting_team</th>\n",
       "      <th>bowling_team</th>\n",
       "      <th>city</th>\n",
       "      <th>runs_left</th>\n",
       "      <th>balls_left</th>\n",
       "      <th>wickets</th>\n",
       "      <th>total_runs_x</th>\n",
       "      <th>crr</th>\n",
       "      <th>rrr</th>\n",
       "      <th>result</th>\n",
       "    </tr>\n",
       "  </thead>\n",
       "  <tbody>\n",
       "    <tr>\n",
       "      <th>125</th>\n",
       "      <td>Royal Challengers Bangalore</td>\n",
       "      <td>Sunrisers Hyderabad</td>\n",
       "      <td>Hyderabad</td>\n",
       "      <td>206</td>\n",
       "      <td>119</td>\n",
       "      <td>10</td>\n",
       "      <td>207</td>\n",
       "      <td>6.0</td>\n",
       "      <td>10.386555</td>\n",
       "      <td>0</td>\n",
       "    </tr>\n",
       "    <tr>\n",
       "      <th>126</th>\n",
       "      <td>Royal Challengers Bangalore</td>\n",
       "      <td>Sunrisers Hyderabad</td>\n",
       "      <td>Hyderabad</td>\n",
       "      <td>206</td>\n",
       "      <td>118</td>\n",
       "      <td>10</td>\n",
       "      <td>207</td>\n",
       "      <td>3.0</td>\n",
       "      <td>10.474576</td>\n",
       "      <td>0</td>\n",
       "    </tr>\n",
       "    <tr>\n",
       "      <th>127</th>\n",
       "      <td>Royal Challengers Bangalore</td>\n",
       "      <td>Sunrisers Hyderabad</td>\n",
       "      <td>Hyderabad</td>\n",
       "      <td>206</td>\n",
       "      <td>117</td>\n",
       "      <td>10</td>\n",
       "      <td>207</td>\n",
       "      <td>2.0</td>\n",
       "      <td>10.564103</td>\n",
       "      <td>0</td>\n",
       "    </tr>\n",
       "    <tr>\n",
       "      <th>128</th>\n",
       "      <td>Royal Challengers Bangalore</td>\n",
       "      <td>Sunrisers Hyderabad</td>\n",
       "      <td>Hyderabad</td>\n",
       "      <td>204</td>\n",
       "      <td>116</td>\n",
       "      <td>10</td>\n",
       "      <td>207</td>\n",
       "      <td>4.5</td>\n",
       "      <td>10.551724</td>\n",
       "      <td>0</td>\n",
       "    </tr>\n",
       "    <tr>\n",
       "      <th>129</th>\n",
       "      <td>Royal Challengers Bangalore</td>\n",
       "      <td>Sunrisers Hyderabad</td>\n",
       "      <td>Hyderabad</td>\n",
       "      <td>200</td>\n",
       "      <td>115</td>\n",
       "      <td>10</td>\n",
       "      <td>207</td>\n",
       "      <td>8.4</td>\n",
       "      <td>10.434783</td>\n",
       "      <td>0</td>\n",
       "    </tr>\n",
       "  </tbody>\n",
       "</table>\n",
       "</div>"
      ],
      "text/plain": [
       "                    batting_team         bowling_team       city  runs_left  \\\n",
       "125  Royal Challengers Bangalore  Sunrisers Hyderabad  Hyderabad        206   \n",
       "126  Royal Challengers Bangalore  Sunrisers Hyderabad  Hyderabad        206   \n",
       "127  Royal Challengers Bangalore  Sunrisers Hyderabad  Hyderabad        206   \n",
       "128  Royal Challengers Bangalore  Sunrisers Hyderabad  Hyderabad        204   \n",
       "129  Royal Challengers Bangalore  Sunrisers Hyderabad  Hyderabad        200   \n",
       "\n",
       "     balls_left  wickets  total_runs_x  crr        rrr  result  \n",
       "125         119       10           207  6.0  10.386555       0  \n",
       "126         118       10           207  3.0  10.474576       0  \n",
       "127         117       10           207  2.0  10.564103       0  \n",
       "128         116       10           207  4.5  10.551724       0  \n",
       "129         115       10           207  8.4  10.434783       0  "
      ]
     },
     "execution_count": 31,
     "metadata": {},
     "output_type": "execute_result"
    }
   ],
   "source": [
    "final_df.head()"
   ]
  },
  {
   "cell_type": "code",
   "execution_count": 32,
   "id": "0124602e",
   "metadata": {
    "execution": {
     "iopub.execute_input": "2023-03-10T16:48:10.779429Z",
     "iopub.status.busy": "2023-03-10T16:48:10.778997Z",
     "iopub.status.idle": "2023-03-10T16:48:10.796434Z",
     "shell.execute_reply": "2023-03-10T16:48:10.795189Z"
    },
    "papermill": {
     "duration": 0.034952,
     "end_time": "2023-03-10T16:48:10.799212",
     "exception": false,
     "start_time": "2023-03-10T16:48:10.764260",
     "status": "completed"
    },
    "tags": []
   },
   "outputs": [],
   "source": [
    "final_df = final_df.sample(final_df.shape[0])"
   ]
  },
  {
   "cell_type": "code",
   "execution_count": 33,
   "id": "ffed5da9",
   "metadata": {
    "execution": {
     "iopub.execute_input": "2023-03-10T16:48:10.827692Z",
     "iopub.status.busy": "2023-03-10T16:48:10.827233Z",
     "iopub.status.idle": "2023-03-10T16:48:10.843875Z",
     "shell.execute_reply": "2023-03-10T16:48:10.842720Z"
    },
    "papermill": {
     "duration": 0.034314,
     "end_time": "2023-03-10T16:48:10.846602",
     "exception": false,
     "start_time": "2023-03-10T16:48:10.812288",
     "status": "completed"
    },
    "tags": []
   },
   "outputs": [
    {
     "data": {
      "text/html": [
       "<div>\n",
       "<style scoped>\n",
       "    .dataframe tbody tr th:only-of-type {\n",
       "        vertical-align: middle;\n",
       "    }\n",
       "\n",
       "    .dataframe tbody tr th {\n",
       "        vertical-align: top;\n",
       "    }\n",
       "\n",
       "    .dataframe thead th {\n",
       "        text-align: right;\n",
       "    }\n",
       "</style>\n",
       "<table border=\"1\" class=\"dataframe\">\n",
       "  <thead>\n",
       "    <tr style=\"text-align: right;\">\n",
       "      <th></th>\n",
       "      <th>batting_team</th>\n",
       "      <th>bowling_team</th>\n",
       "      <th>city</th>\n",
       "      <th>runs_left</th>\n",
       "      <th>balls_left</th>\n",
       "      <th>wickets</th>\n",
       "      <th>total_runs_x</th>\n",
       "      <th>crr</th>\n",
       "      <th>rrr</th>\n",
       "      <th>result</th>\n",
       "    </tr>\n",
       "  </thead>\n",
       "  <tbody>\n",
       "    <tr>\n",
       "      <th>35488</th>\n",
       "      <td>Delhi Daredevils</td>\n",
       "      <td>Mumbai Indians</td>\n",
       "      <td>Delhi</td>\n",
       "      <td>117</td>\n",
       "      <td>55</td>\n",
       "      <td>5</td>\n",
       "      <td>218</td>\n",
       "      <td>9.323077</td>\n",
       "      <td>12.763636</td>\n",
       "      <td>0</td>\n",
       "    </tr>\n",
       "    <tr>\n",
       "      <th>111802</th>\n",
       "      <td>Delhi Daredevils</td>\n",
       "      <td>Chennai Super Kings</td>\n",
       "      <td>Raipur</td>\n",
       "      <td>103</td>\n",
       "      <td>105</td>\n",
       "      <td>9</td>\n",
       "      <td>119</td>\n",
       "      <td>6.400000</td>\n",
       "      <td>5.885714</td>\n",
       "      <td>1</td>\n",
       "    </tr>\n",
       "  </tbody>\n",
       "</table>\n",
       "</div>"
      ],
      "text/plain": [
       "            batting_team         bowling_team    city  runs_left  balls_left  \\\n",
       "35488   Delhi Daredevils       Mumbai Indians   Delhi        117          55   \n",
       "111802  Delhi Daredevils  Chennai Super Kings  Raipur        103         105   \n",
       "\n",
       "        wickets  total_runs_x       crr        rrr  result  \n",
       "35488         5           218  9.323077  12.763636       0  \n",
       "111802        9           119  6.400000   5.885714       1  "
      ]
     },
     "execution_count": 33,
     "metadata": {},
     "output_type": "execute_result"
    }
   ],
   "source": [
    "final_df.sample(2)"
   ]
  },
  {
   "cell_type": "code",
   "execution_count": 34,
   "id": "bfc87369",
   "metadata": {
    "execution": {
     "iopub.execute_input": "2023-03-10T16:48:10.875260Z",
     "iopub.status.busy": "2023-03-10T16:48:10.874852Z",
     "iopub.status.idle": "2023-03-10T16:48:10.898909Z",
     "shell.execute_reply": "2023-03-10T16:48:10.897774Z"
    },
    "papermill": {
     "duration": 0.041758,
     "end_time": "2023-03-10T16:48:10.901764",
     "exception": false,
     "start_time": "2023-03-10T16:48:10.860006",
     "status": "completed"
    },
    "tags": []
   },
   "outputs": [],
   "source": [
    "final_df.dropna(inplace=True)"
   ]
  },
  {
   "cell_type": "code",
   "execution_count": 35,
   "id": "59d030f9",
   "metadata": {
    "execution": {
     "iopub.execute_input": "2023-03-10T16:48:10.930459Z",
     "iopub.status.busy": "2023-03-10T16:48:10.930057Z",
     "iopub.status.idle": "2023-03-10T16:48:10.940207Z",
     "shell.execute_reply": "2023-03-10T16:48:10.939124Z"
    },
    "papermill": {
     "duration": 0.027942,
     "end_time": "2023-03-10T16:48:10.943110",
     "exception": false,
     "start_time": "2023-03-10T16:48:10.915168",
     "status": "completed"
    },
    "tags": []
   },
   "outputs": [],
   "source": [
    "final_df = final_df[final_df['balls_left'] != 0]"
   ]
  },
  {
   "cell_type": "code",
   "execution_count": 36,
   "id": "4bd8b68e",
   "metadata": {
    "execution": {
     "iopub.execute_input": "2023-03-10T16:48:10.972197Z",
     "iopub.status.busy": "2023-03-10T16:48:10.971789Z",
     "iopub.status.idle": "2023-03-10T16:48:10.995577Z",
     "shell.execute_reply": "2023-03-10T16:48:10.994359Z"
    },
    "papermill": {
     "duration": 0.041913,
     "end_time": "2023-03-10T16:48:10.998703",
     "exception": false,
     "start_time": "2023-03-10T16:48:10.956790",
     "status": "completed"
    },
    "tags": []
   },
   "outputs": [],
   "source": [
    "X = final_df.iloc[:,:-1]\n",
    "y = final_df.iloc[:,-1]\n",
    "from sklearn.model_selection import train_test_split\n",
    "X_train,X_test,y_train,y_test = train_test_split(X,y,test_size=0.2,random_state=1)"
   ]
  },
  {
   "cell_type": "code",
   "execution_count": 37,
   "id": "5b86c23e",
   "metadata": {
    "execution": {
     "iopub.execute_input": "2023-03-10T16:48:11.027780Z",
     "iopub.status.busy": "2023-03-10T16:48:11.027373Z",
     "iopub.status.idle": "2023-03-10T16:48:11.052936Z",
     "shell.execute_reply": "2023-03-10T16:48:11.051735Z"
    },
    "papermill": {
     "duration": 0.043535,
     "end_time": "2023-03-10T16:48:11.055696",
     "exception": false,
     "start_time": "2023-03-10T16:48:11.012161",
     "status": "completed"
    },
    "tags": []
   },
   "outputs": [],
   "source": [
    "from sklearn.compose import ColumnTransformer\n",
    "from sklearn.preprocessing import OneHotEncoder\n",
    "\n",
    "trf = ColumnTransformer([\n",
    "    ('trf',OneHotEncoder(sparse=False,drop='first'),['batting_team','bowling_team','city'])\n",
    "]\n",
    ",remainder='passthrough')"
   ]
  },
  {
   "cell_type": "code",
   "execution_count": 38,
   "id": "3577b226",
   "metadata": {
    "execution": {
     "iopub.execute_input": "2023-03-10T16:48:11.085066Z",
     "iopub.status.busy": "2023-03-10T16:48:11.084632Z",
     "iopub.status.idle": "2023-03-10T16:48:11.386357Z",
     "shell.execute_reply": "2023-03-10T16:48:11.385143Z"
    },
    "papermill": {
     "duration": 0.32013,
     "end_time": "2023-03-10T16:48:11.389592",
     "exception": false,
     "start_time": "2023-03-10T16:48:11.069462",
     "status": "completed"
    },
    "tags": []
   },
   "outputs": [],
   "source": [
    "from sklearn.linear_model import LogisticRegression\n",
    "from sklearn.ensemble import RandomForestClassifier\n",
    "from sklearn.pipeline import Pipeline"
   ]
  },
  {
   "cell_type": "code",
   "execution_count": 39,
   "id": "7af0ff49",
   "metadata": {
    "execution": {
     "iopub.execute_input": "2023-03-10T16:48:11.419451Z",
     "iopub.status.busy": "2023-03-10T16:48:11.419017Z",
     "iopub.status.idle": "2023-03-10T16:48:11.424739Z",
     "shell.execute_reply": "2023-03-10T16:48:11.423534Z"
    },
    "papermill": {
     "duration": 0.023277,
     "end_time": "2023-03-10T16:48:11.427270",
     "exception": false,
     "start_time": "2023-03-10T16:48:11.403993",
     "status": "completed"
    },
    "tags": []
   },
   "outputs": [],
   "source": [
    "pipe = Pipeline(steps=[\n",
    "    ('step1',trf),\n",
    "    ('step2',LogisticRegression(solver='liblinear'))\n",
    "])"
   ]
  },
  {
   "cell_type": "code",
   "execution_count": 40,
   "id": "975db7e0",
   "metadata": {
    "execution": {
     "iopub.execute_input": "2023-03-10T16:48:11.456344Z",
     "iopub.status.busy": "2023-03-10T16:48:11.455895Z",
     "iopub.status.idle": "2023-03-10T16:48:12.591331Z",
     "shell.execute_reply": "2023-03-10T16:48:12.590111Z"
    },
    "papermill": {
     "duration": 1.152988,
     "end_time": "2023-03-10T16:48:12.593924",
     "exception": false,
     "start_time": "2023-03-10T16:48:11.440936",
     "status": "completed"
    },
    "tags": []
   },
   "outputs": [
    {
     "data": {
      "text/plain": [
       "Pipeline(steps=[('step1',\n",
       "                 ColumnTransformer(remainder='passthrough',\n",
       "                                   transformers=[('trf',\n",
       "                                                  OneHotEncoder(drop='first',\n",
       "                                                                sparse=False),\n",
       "                                                  ['batting_team',\n",
       "                                                   'bowling_team', 'city'])])),\n",
       "                ('step2', LogisticRegression(solver='liblinear'))])"
      ]
     },
     "execution_count": 40,
     "metadata": {},
     "output_type": "execute_result"
    }
   ],
   "source": [
    "pipe.fit(X_train,y_train)"
   ]
  },
  {
   "cell_type": "code",
   "execution_count": 41,
   "id": "399e2b97",
   "metadata": {
    "execution": {
     "iopub.execute_input": "2023-03-10T16:48:12.622955Z",
     "iopub.status.busy": "2023-03-10T16:48:12.622541Z",
     "iopub.status.idle": "2023-03-10T16:48:12.657518Z",
     "shell.execute_reply": "2023-03-10T16:48:12.655733Z"
    },
    "papermill": {
     "duration": 0.054494,
     "end_time": "2023-03-10T16:48:12.662100",
     "exception": false,
     "start_time": "2023-03-10T16:48:12.607606",
     "status": "completed"
    },
    "tags": []
   },
   "outputs": [],
   "source": [
    "y_pred = pipe.predict(X_test)"
   ]
  },
  {
   "cell_type": "code",
   "execution_count": 42,
   "id": "7e98ee75",
   "metadata": {
    "execution": {
     "iopub.execute_input": "2023-03-10T16:48:12.778637Z",
     "iopub.status.busy": "2023-03-10T16:48:12.778174Z",
     "iopub.status.idle": "2023-03-10T16:48:12.788113Z",
     "shell.execute_reply": "2023-03-10T16:48:12.786932Z"
    },
    "papermill": {
     "duration": 0.058301,
     "end_time": "2023-03-10T16:48:12.790488",
     "exception": false,
     "start_time": "2023-03-10T16:48:12.732187",
     "status": "completed"
    },
    "tags": []
   },
   "outputs": [
    {
     "data": {
      "text/plain": [
       "0.8048216413203448"
      ]
     },
     "execution_count": 42,
     "metadata": {},
     "output_type": "execute_result"
    }
   ],
   "source": [
    "from sklearn.metrics import accuracy_score\n",
    "accuracy_score(y_test,y_pred)\n",
    "\n"
   ]
  },
  {
   "cell_type": "code",
   "execution_count": 43,
   "id": "e611a42a",
   "metadata": {
    "execution": {
     "iopub.execute_input": "2023-03-10T16:48:12.819705Z",
     "iopub.status.busy": "2023-03-10T16:48:12.819013Z",
     "iopub.status.idle": "2023-03-10T16:48:12.860012Z",
     "shell.execute_reply": "2023-03-10T16:48:12.858750Z"
    },
    "papermill": {
     "duration": 0.061749,
     "end_time": "2023-03-10T16:48:12.865755",
     "exception": false,
     "start_time": "2023-03-10T16:48:12.804006",
     "status": "completed"
    },
    "tags": []
   },
   "outputs": [
    {
     "data": {
      "text/plain": [
       "array([0.67691657, 0.32308343])"
      ]
     },
     "execution_count": 43,
     "metadata": {},
     "output_type": "execute_result"
    }
   ],
   "source": [
    "pipe.predict_proba(X_test)[10]"
   ]
  },
  {
   "cell_type": "code",
   "execution_count": 44,
   "id": "a5f9ee9d",
   "metadata": {
    "execution": {
     "iopub.execute_input": "2023-03-10T16:48:12.979390Z",
     "iopub.status.busy": "2023-03-10T16:48:12.978975Z",
     "iopub.status.idle": "2023-03-10T16:48:12.984015Z",
     "shell.execute_reply": "2023-03-10T16:48:12.983112Z"
    },
    "papermill": {
     "duration": 0.053325,
     "end_time": "2023-03-10T16:48:12.987996",
     "exception": false,
     "start_time": "2023-03-10T16:48:12.934671",
     "status": "completed"
    },
    "tags": []
   },
   "outputs": [],
   "source": [
    "def match_summary(row):\n",
    "    print(\"Batting Team-\" + row['batting_team'] + \" | Bowling Team-\" + row['bowling_team'] + \" | Target- \" + str(row['total_runs_x']))\n",
    "    "
   ]
  },
  {
   "cell_type": "code",
   "execution_count": 45,
   "id": "b873cc75",
   "metadata": {
    "execution": {
     "iopub.execute_input": "2023-03-10T16:48:13.016993Z",
     "iopub.status.busy": "2023-03-10T16:48:13.016628Z",
     "iopub.status.idle": "2023-03-10T16:48:13.037774Z",
     "shell.execute_reply": "2023-03-10T16:48:13.036520Z"
    },
    "papermill": {
     "duration": 0.039437,
     "end_time": "2023-03-10T16:48:13.040989",
     "exception": false,
     "start_time": "2023-03-10T16:48:13.001552",
     "status": "completed"
    },
    "tags": []
   },
   "outputs": [],
   "source": [
    "def match_progression(x_df,match_id,pipe):\n",
    "    match = x_df[x_df['match_id'] == match_id]\n",
    "    match = match[(match['ball'] == 6)]\n",
    "    temp_df = match[['batting_team','bowling_team','city','runs_left','balls_left','wickets','total_runs_x','crr','rrr']].dropna()\n",
    "    temp_df = temp_df[temp_df['balls_left'] != 0]\n",
    "    result = pipe.predict_proba(temp_df)\n",
    "    temp_df['lose'] = np.round(result.T[0]*100,1)\n",
    "    temp_df['win'] = np.round(result.T[1]*100,1)\n",
    "    temp_df['end_of_over'] = range(1,temp_df.shape[0]+1)\n",
    "    \n",
    "    target = temp_df['total_runs_x'].values[0]\n",
    "    runs = list(temp_df['runs_left'].values)\n",
    "    new_runs = runs[:]\n",
    "    runs.insert(0,target)\n",
    "    temp_df['runs_after_over'] = np.array(runs)[:-1] - np.array(new_runs)\n",
    "    wickets = list(temp_df['wickets'].values)\n",
    "    new_wickets = wickets[:]\n",
    "    new_wickets.insert(0,10)\n",
    "    wickets.append(0)\n",
    "    w = np.array(wickets)\n",
    "    nw = np.array(new_wickets)\n",
    "    temp_df['wickets_in_over'] = (nw - w)[0:temp_df.shape[0]]\n",
    "    \n",
    "    print(\"Target-\",target)\n",
    "    temp_df = temp_df[['end_of_over','runs_after_over','wickets_in_over','lose','win']]\n",
    "    return temp_df,target\n",
    "    \n",
    "    "
   ]
  },
  {
   "cell_type": "code",
   "execution_count": 46,
   "id": "65874019",
   "metadata": {
    "execution": {
     "iopub.execute_input": "2023-03-10T16:48:13.077880Z",
     "iopub.status.busy": "2023-03-10T16:48:13.077360Z",
     "iopub.status.idle": "2023-03-10T16:48:13.107041Z",
     "shell.execute_reply": "2023-03-10T16:48:13.105681Z"
    },
    "papermill": {
     "duration": 0.048409,
     "end_time": "2023-03-10T16:48:13.109744",
     "exception": false,
     "start_time": "2023-03-10T16:48:13.061335",
     "status": "completed"
    },
    "tags": []
   },
   "outputs": [
    {
     "name": "stdout",
     "output_type": "stream",
     "text": [
      "Target- 166\n"
     ]
    },
    {
     "data": {
      "text/html": [
       "<div>\n",
       "<style scoped>\n",
       "    .dataframe tbody tr th:only-of-type {\n",
       "        vertical-align: middle;\n",
       "    }\n",
       "\n",
       "    .dataframe tbody tr th {\n",
       "        vertical-align: top;\n",
       "    }\n",
       "\n",
       "    .dataframe thead th {\n",
       "        text-align: right;\n",
       "    }\n",
       "</style>\n",
       "<table border=\"1\" class=\"dataframe\">\n",
       "  <thead>\n",
       "    <tr style=\"text-align: right;\">\n",
       "      <th></th>\n",
       "      <th>end_of_over</th>\n",
       "      <th>runs_after_over</th>\n",
       "      <th>wickets_in_over</th>\n",
       "      <th>lose</th>\n",
       "      <th>win</th>\n",
       "    </tr>\n",
       "  </thead>\n",
       "  <tbody>\n",
       "    <tr>\n",
       "      <th>8347</th>\n",
       "      <td>1</td>\n",
       "      <td>5</td>\n",
       "      <td>0</td>\n",
       "      <td>28.0</td>\n",
       "      <td>72.0</td>\n",
       "    </tr>\n",
       "    <tr>\n",
       "      <th>8354</th>\n",
       "      <td>2</td>\n",
       "      <td>3</td>\n",
       "      <td>1</td>\n",
       "      <td>45.7</td>\n",
       "      <td>54.3</td>\n",
       "    </tr>\n",
       "    <tr>\n",
       "      <th>8362</th>\n",
       "      <td>3</td>\n",
       "      <td>14</td>\n",
       "      <td>1</td>\n",
       "      <td>46.3</td>\n",
       "      <td>53.7</td>\n",
       "    </tr>\n",
       "    <tr>\n",
       "      <th>8369</th>\n",
       "      <td>4</td>\n",
       "      <td>16</td>\n",
       "      <td>0</td>\n",
       "      <td>29.9</td>\n",
       "      <td>70.1</td>\n",
       "    </tr>\n",
       "    <tr>\n",
       "      <th>8377</th>\n",
       "      <td>5</td>\n",
       "      <td>10</td>\n",
       "      <td>1</td>\n",
       "      <td>37.4</td>\n",
       "      <td>62.6</td>\n",
       "    </tr>\n",
       "    <tr>\n",
       "      <th>8383</th>\n",
       "      <td>6</td>\n",
       "      <td>5</td>\n",
       "      <td>0</td>\n",
       "      <td>37.7</td>\n",
       "      <td>62.3</td>\n",
       "    </tr>\n",
       "    <tr>\n",
       "      <th>8389</th>\n",
       "      <td>7</td>\n",
       "      <td>7</td>\n",
       "      <td>0</td>\n",
       "      <td>35.0</td>\n",
       "      <td>65.0</td>\n",
       "    </tr>\n",
       "    <tr>\n",
       "      <th>8395</th>\n",
       "      <td>8</td>\n",
       "      <td>4</td>\n",
       "      <td>0</td>\n",
       "      <td>36.7</td>\n",
       "      <td>63.3</td>\n",
       "    </tr>\n",
       "    <tr>\n",
       "      <th>8402</th>\n",
       "      <td>9</td>\n",
       "      <td>12</td>\n",
       "      <td>0</td>\n",
       "      <td>27.4</td>\n",
       "      <td>72.6</td>\n",
       "    </tr>\n",
       "    <tr>\n",
       "      <th>8408</th>\n",
       "      <td>10</td>\n",
       "      <td>11</td>\n",
       "      <td>0</td>\n",
       "      <td>20.7</td>\n",
       "      <td>79.3</td>\n",
       "    </tr>\n",
       "    <tr>\n",
       "      <th>8414</th>\n",
       "      <td>11</td>\n",
       "      <td>12</td>\n",
       "      <td>0</td>\n",
       "      <td>14.5</td>\n",
       "      <td>85.5</td>\n",
       "    </tr>\n",
       "    <tr>\n",
       "      <th>8420</th>\n",
       "      <td>12</td>\n",
       "      <td>2</td>\n",
       "      <td>1</td>\n",
       "      <td>28.1</td>\n",
       "      <td>71.9</td>\n",
       "    </tr>\n",
       "    <tr>\n",
       "      <th>8427</th>\n",
       "      <td>13</td>\n",
       "      <td>13</td>\n",
       "      <td>0</td>\n",
       "      <td>19.1</td>\n",
       "      <td>80.9</td>\n",
       "    </tr>\n",
       "    <tr>\n",
       "      <th>8433</th>\n",
       "      <td>14</td>\n",
       "      <td>11</td>\n",
       "      <td>0</td>\n",
       "      <td>13.9</td>\n",
       "      <td>86.1</td>\n",
       "    </tr>\n",
       "    <tr>\n",
       "      <th>8440</th>\n",
       "      <td>15</td>\n",
       "      <td>17</td>\n",
       "      <td>0</td>\n",
       "      <td>6.8</td>\n",
       "      <td>93.2</td>\n",
       "    </tr>\n",
       "    <tr>\n",
       "      <th>8446</th>\n",
       "      <td>16</td>\n",
       "      <td>10</td>\n",
       "      <td>0</td>\n",
       "      <td>4.9</td>\n",
       "      <td>95.1</td>\n",
       "    </tr>\n",
       "    <tr>\n",
       "      <th>8452</th>\n",
       "      <td>17</td>\n",
       "      <td>2</td>\n",
       "      <td>0</td>\n",
       "      <td>5.9</td>\n",
       "      <td>94.1</td>\n",
       "    </tr>\n",
       "    <tr>\n",
       "      <th>8458</th>\n",
       "      <td>18</td>\n",
       "      <td>9</td>\n",
       "      <td>0</td>\n",
       "      <td>4.2</td>\n",
       "      <td>95.8</td>\n",
       "    </tr>\n",
       "  </tbody>\n",
       "</table>\n",
       "</div>"
      ],
      "text/plain": [
       "      end_of_over  runs_after_over  wickets_in_over  lose   win\n",
       "8347            1                5                0  28.0  72.0\n",
       "8354            2                3                1  45.7  54.3\n",
       "8362            3               14                1  46.3  53.7\n",
       "8369            4               16                0  29.9  70.1\n",
       "8377            5               10                1  37.4  62.6\n",
       "8383            6                5                0  37.7  62.3\n",
       "8389            7                7                0  35.0  65.0\n",
       "8395            8                4                0  36.7  63.3\n",
       "8402            9               12                0  27.4  72.6\n",
       "8408           10               11                0  20.7  79.3\n",
       "8414           11               12                0  14.5  85.5\n",
       "8420           12                2                1  28.1  71.9\n",
       "8427           13               13                0  19.1  80.9\n",
       "8433           14               11                0  13.9  86.1\n",
       "8440           15               17                0   6.8  93.2\n",
       "8446           16               10                0   4.9  95.1\n",
       "8452           17                2                0   5.9  94.1\n",
       "8458           18                9                0   4.2  95.8"
      ]
     },
     "execution_count": 46,
     "metadata": {},
     "output_type": "execute_result"
    }
   ],
   "source": [
    "temp_df,target = match_progression(delivery_df,65,pipe)\n",
    "temp_df"
   ]
  },
  {
   "cell_type": "code",
   "execution_count": 47,
   "id": "6bc48504",
   "metadata": {
    "execution": {
     "iopub.execute_input": "2023-03-10T16:48:13.142517Z",
     "iopub.status.busy": "2023-03-10T16:48:13.141821Z",
     "iopub.status.idle": "2023-03-10T16:48:13.537859Z",
     "shell.execute_reply": "2023-03-10T16:48:13.536561Z"
    },
    "papermill": {
     "duration": 0.414887,
     "end_time": "2023-03-10T16:48:13.541292",
     "exception": false,
     "start_time": "2023-03-10T16:48:13.126405",
     "status": "completed"
    },
    "tags": []
   },
   "outputs": [
    {
     "data": {
      "text/plain": [
       "Text(0.5, 1.0, 'Target-166')"
      ]
     },
     "execution_count": 47,
     "metadata": {},
     "output_type": "execute_result"
    },
    {
     "data": {
      "image/png": "[encoded data removed]",
      "text/plain": [
       "<Figure size 1800x800 with 1 Axes>"
      ]
     },
     "metadata": {},
     "output_type": "display_data"
    }
   ],
   "source": [
    "plt.figure(figsize=(18,8))\n",
    "plt.plot(temp_df['end_of_over'],temp_df['wickets_in_over'],color='yellow',linewidth=3)\n",
    "plt.plot(temp_df['end_of_over'],temp_df['win'],color='#00a65a',linewidth=4)\n",
    "plt.plot(temp_df['end_of_over'],temp_df['lose'],color='red',linewidth=4)\n",
    "plt.bar(temp_df['end_of_over'],temp_df['runs_after_over'])\n",
    "plt.title('Target-' + str(target))"
   ]
  },
  {
   "cell_type": "code",
   "execution_count": null,
   "id": "470ef142",
   "metadata": {
    "papermill": {
     "duration": 0.014797,
     "end_time": "2023-03-10T16:48:13.572034",
     "exception": false,
     "start_time": "2023-03-10T16:48:13.557237",
     "status": "completed"
    },
    "tags": []
   },
   "outputs": [],
   "source": []
  }
 ],
 "metadata": {
  "kernelspec": {
   "display_name": "Python 3",
   "language": "python",
   "name": "python3"
  },
  "language_info": {
   "codemirror_mode": {
    "name": "ipython",
    "version": 3
   },
   "file_extension": ".py",
   "mimetype": "text/x-python",
   "name": "python",
   "nbconvert_exporter": "python",
   "pygments_lexer": "ipython3",
   "version": "3.7.12"
  },
  "papermill": {
   "default_parameters": {},
   "duration": 20.572052,
   "end_time": "2023-03-10T16:48:14.411439",
   "environment_variables": {},
   "exception": null,
   "input_path": "__notebook__.ipynb",
   "output_path": "__notebook__.ipynb",
   "parameters": {},
   "start_time": "2023-03-10T16:47:53.839387",
   "version": "2.4.0"
  }
 },
 "nbformat": 4,
 "nbformat_minor": 5
}
