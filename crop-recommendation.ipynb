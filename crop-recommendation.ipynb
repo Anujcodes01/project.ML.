{
 "cells": [
  {
   "cell_type": "code",
   "execution_count": 19,
   "id": "c3ca1aff",
   "metadata": {
    "_cell_guid": "b1076dfc-b9ad-4769-8c92-a6c4dae69d19",
    "_uuid": "8f2839f25d086af736a60e9eeb907d3b93b6e0e5",
    "execution": {
     "iopub.execute_input": "2022-07-29T05:43:49.907664Z",
     "iopub.status.busy": "2022-07-29T05:43:49.907226Z",
     "iopub.status.idle": "2022-07-29T05:43:50.952034Z",
     "shell.execute_reply": "2022-07-29T05:43:50.950932Z"
    },
    "papermill": {
     "duration": 1.062171,
     "end_time": "2022-07-29T05:43:50.954863",
     "exception": false,
     "start_time": "2022-07-29T05:43:49.892692",
     "status": "completed"
    },
    "tags": []
   },
   "outputs": [
    {
     "ename": "SyntaxError",
     "evalue": "invalid syntax (2318158392.py, line 7)",
     "output_type": "error",
     "traceback": [
      "\u001b[1;36m  File \u001b[1;32m\"C:\\Users\\ASUS\\AppData\\Local\\Temp\\ipykernel_20792\\2318158392.py\"\u001b[1;36m, line \u001b[1;32m7\u001b[0m\n\u001b[1;33m    pip install nbconvert pip install pyppeteer\u001b[0m\n\u001b[1;37m        ^\u001b[0m\n\u001b[1;31mSyntaxError\u001b[0m\u001b[1;31m:\u001b[0m invalid syntax\n"
     ]
    }
   ],
   "source": [
    "import numpy as np\n",
    "import pandas as pd\n",
    "import matplotlib.pyplot as plt\n",
    "import seaborn as sns\n",
    "import warnings\n",
    "warnings.filterwarnings('ignore')\n"
   ]
  },
  {
   "cell_type": "markdown",
   "id": "6a8bd0c8",
   "metadata": {
    "papermill": {
     "duration": 0.007809,
     "end_time": "2022-07-29T05:43:50.970869",
     "exception": false,
     "start_time": "2022-07-29T05:43:50.963060",
     "status": "completed"
    },
    "tags": []
   },
   "source": [
    "* N - ratio of Nitrogen content in soil\n",
    "* P - ratio of Phosphorous content in soil\n",
    "* K - ratio of Potassium content in soil\n",
    "* temperature - temperature in degree Celsius\n",
    "* humidity - relative humidity in %\n",
    "* ph - ph value of the soil\n",
    "* rainfall - rainfall in mm"
   ]
  },
  {
   "cell_type": "code",
   "execution_count": 2,
   "id": "f8d62028",
   "metadata": {
    "execution": {
     "iopub.execute_input": "2022-07-29T05:43:50.988714Z",
     "iopub.status.busy": "2022-07-29T05:43:50.988158Z",
     "iopub.status.idle": "2022-07-29T05:43:51.034358Z",
     "shell.execute_reply": "2022-07-29T05:43:51.033265Z"
    },
    "papermill": {
     "duration": 0.057978,
     "end_time": "2022-07-29T05:43:51.036842",
     "exception": false,
     "start_time": "2022-07-29T05:43:50.978864",
     "status": "completed"
    },
    "tags": []
   },
   "outputs": [
    {
     "data": {
      "text/html": [
       "<div>\n",
       "<style scoped>\n",
       "    .dataframe tbody tr th:only-of-type {\n",
       "        vertical-align: middle;\n",
       "    }\n",
       "\n",
       "    .dataframe tbody tr th {\n",
       "        vertical-align: top;\n",
       "    }\n",
       "\n",
       "    .dataframe thead th {\n",
       "        text-align: right;\n",
       "    }\n",
       "</style>\n",
       "<table border=\"1\" class=\"dataframe\">\n",
       "  <thead>\n",
       "    <tr style=\"text-align: right;\">\n",
       "      <th></th>\n",
       "      <th>N</th>\n",
       "      <th>P</th>\n",
       "      <th>K</th>\n",
       "      <th>temperature</th>\n",
       "      <th>humidity</th>\n",
       "      <th>ph</th>\n",
       "      <th>rainfall</th>\n",
       "      <th>label</th>\n",
       "    </tr>\n",
       "  </thead>\n",
       "  <tbody>\n",
       "    <tr>\n",
       "      <th>0</th>\n",
       "      <td>90</td>\n",
       "      <td>42</td>\n",
       "      <td>43</td>\n",
       "      <td>20.879744</td>\n",
       "      <td>82.002744</td>\n",
       "      <td>6.502985</td>\n",
       "      <td>202.935536</td>\n",
       "      <td>rice</td>\n",
       "    </tr>\n",
       "    <tr>\n",
       "      <th>1</th>\n",
       "      <td>85</td>\n",
       "      <td>58</td>\n",
       "      <td>41</td>\n",
       "      <td>21.770462</td>\n",
       "      <td>80.319644</td>\n",
       "      <td>7.038096</td>\n",
       "      <td>226.655537</td>\n",
       "      <td>rice</td>\n",
       "    </tr>\n",
       "    <tr>\n",
       "      <th>2</th>\n",
       "      <td>60</td>\n",
       "      <td>55</td>\n",
       "      <td>44</td>\n",
       "      <td>23.004459</td>\n",
       "      <td>82.320763</td>\n",
       "      <td>7.840207</td>\n",
       "      <td>263.964248</td>\n",
       "      <td>rice</td>\n",
       "    </tr>\n",
       "    <tr>\n",
       "      <th>3</th>\n",
       "      <td>74</td>\n",
       "      <td>35</td>\n",
       "      <td>40</td>\n",
       "      <td>26.491096</td>\n",
       "      <td>80.158363</td>\n",
       "      <td>6.980401</td>\n",
       "      <td>242.864034</td>\n",
       "      <td>rice</td>\n",
       "    </tr>\n",
       "    <tr>\n",
       "      <th>4</th>\n",
       "      <td>78</td>\n",
       "      <td>42</td>\n",
       "      <td>42</td>\n",
       "      <td>20.130175</td>\n",
       "      <td>81.604873</td>\n",
       "      <td>7.628473</td>\n",
       "      <td>262.717340</td>\n",
       "      <td>rice</td>\n",
       "    </tr>\n",
       "  </tbody>\n",
       "</table>\n",
       "</div>"
      ],
      "text/plain": [
       "    N   P   K  temperature   humidity        ph    rainfall label\n",
       "0  90  42  43    20.879744  82.002744  6.502985  202.935536  rice\n",
       "1  85  58  41    21.770462  80.319644  7.038096  226.655537  rice\n",
       "2  60  55  44    23.004459  82.320763  7.840207  263.964248  rice\n",
       "3  74  35  40    26.491096  80.158363  6.980401  242.864034  rice\n",
       "4  78  42  42    20.130175  81.604873  7.628473  262.717340  rice"
      ]
     },
     "execution_count": 2,
     "metadata": {},
     "output_type": "execute_result"
    }
   ],
   "source": [
    "df = pd.read_csv('Crop_recommendation.csv')\n",
    "df.head()"
   ]
  },
  {
   "cell_type": "code",
   "execution_count": 3,
   "id": "b5db482e",
   "metadata": {
    "execution": {
     "iopub.execute_input": "2022-07-29T05:43:51.055384Z",
     "iopub.status.busy": "2022-07-29T05:43:51.054961Z",
     "iopub.status.idle": "2022-07-29T05:43:51.079717Z",
     "shell.execute_reply": "2022-07-29T05:43:51.078342Z"
    },
    "papermill": {
     "duration": 0.036466,
     "end_time": "2022-07-29T05:43:51.081808",
     "exception": false,
     "start_time": "2022-07-29T05:43:51.045342",
     "status": "completed"
    },
    "tags": []
   },
   "outputs": [
    {
     "name": "stdout",
     "output_type": "stream",
     "text": [
      "<class 'pandas.core.frame.DataFrame'>\n",
      "RangeIndex: 2200 entries, 0 to 2199\n",
      "Data columns (total 8 columns):\n",
      " #   Column       Non-Null Count  Dtype  \n",
      "---  ------       --------------  -----  \n",
      " 0   N            2200 non-null   int64  \n",
      " 1   P            2200 non-null   int64  \n",
      " 2   K            2200 non-null   int64  \n",
      " 3   temperature  2200 non-null   float64\n",
      " 4   humidity     2200 non-null   float64\n",
      " 5   ph           2200 non-null   float64\n",
      " 6   rainfall     2200 non-null   float64\n",
      " 7   label        2200 non-null   object \n",
      "dtypes: float64(4), int64(3), object(1)\n",
      "memory usage: 137.6+ KB\n"
     ]
    }
   ],
   "source": [
    "df.info()"
   ]
  },
  {
   "cell_type": "code",
   "execution_count": 4,
   "id": "74a1b798",
   "metadata": {
    "execution": {
     "iopub.execute_input": "2022-07-29T05:43:51.100758Z",
     "iopub.status.busy": "2022-07-29T05:43:51.099690Z",
     "iopub.status.idle": "2022-07-29T05:43:51.108382Z",
     "shell.execute_reply": "2022-07-29T05:43:51.107582Z"
    },
    "papermill": {
     "duration": 0.020395,
     "end_time": "2022-07-29T05:43:51.110533",
     "exception": false,
     "start_time": "2022-07-29T05:43:51.090138",
     "status": "completed"
    },
    "tags": []
   },
   "outputs": [
    {
     "data": {
      "text/plain": [
       "N              0\n",
       "P              0\n",
       "K              0\n",
       "temperature    0\n",
       "humidity       0\n",
       "ph             0\n",
       "rainfall       0\n",
       "label          0\n",
       "dtype: int64"
      ]
     },
     "execution_count": 4,
     "metadata": {},
     "output_type": "execute_result"
    }
   ],
   "source": [
    "df.isna().sum()"
   ]
  },
  {
   "cell_type": "code",
   "execution_count": 5,
   "id": "bff5491f",
   "metadata": {
    "execution": {
     "iopub.execute_input": "2022-07-29T05:43:51.130036Z",
     "iopub.status.busy": "2022-07-29T05:43:51.128908Z",
     "iopub.status.idle": "2022-07-29T05:43:51.165151Z",
     "shell.execute_reply": "2022-07-29T05:43:51.163962Z"
    },
    "papermill": {
     "duration": 0.048357,
     "end_time": "2022-07-29T05:43:51.167511",
     "exception": false,
     "start_time": "2022-07-29T05:43:51.119154",
     "status": "completed"
    },
    "tags": []
   },
   "outputs": [
    {
     "data": {
      "text/html": [
       "<div>\n",
       "<style scoped>\n",
       "    .dataframe tbody tr th:only-of-type {\n",
       "        vertical-align: middle;\n",
       "    }\n",
       "\n",
       "    .dataframe tbody tr th {\n",
       "        vertical-align: top;\n",
       "    }\n",
       "\n",
       "    .dataframe thead th {\n",
       "        text-align: right;\n",
       "    }\n",
       "</style>\n",
       "<table border=\"1\" class=\"dataframe\">\n",
       "  <thead>\n",
       "    <tr style=\"text-align: right;\">\n",
       "      <th></th>\n",
       "      <th>N</th>\n",
       "      <th>P</th>\n",
       "      <th>K</th>\n",
       "      <th>temperature</th>\n",
       "      <th>humidity</th>\n",
       "      <th>ph</th>\n",
       "      <th>rainfall</th>\n",
       "    </tr>\n",
       "  </thead>\n",
       "  <tbody>\n",
       "    <tr>\n",
       "      <th>count</th>\n",
       "      <td>2200.000000</td>\n",
       "      <td>2200.000000</td>\n",
       "      <td>2200.000000</td>\n",
       "      <td>2200.000000</td>\n",
       "      <td>2200.000000</td>\n",
       "      <td>2200.000000</td>\n",
       "      <td>2200.000000</td>\n",
       "    </tr>\n",
       "    <tr>\n",
       "      <th>mean</th>\n",
       "      <td>50.551818</td>\n",
       "      <td>53.362727</td>\n",
       "      <td>48.149091</td>\n",
       "      <td>25.616244</td>\n",
       "      <td>71.481779</td>\n",
       "      <td>6.469480</td>\n",
       "      <td>103.463655</td>\n",
       "    </tr>\n",
       "    <tr>\n",
       "      <th>std</th>\n",
       "      <td>36.917334</td>\n",
       "      <td>32.985883</td>\n",
       "      <td>50.647931</td>\n",
       "      <td>5.063749</td>\n",
       "      <td>22.263812</td>\n",
       "      <td>0.773938</td>\n",
       "      <td>54.958389</td>\n",
       "    </tr>\n",
       "    <tr>\n",
       "      <th>min</th>\n",
       "      <td>0.000000</td>\n",
       "      <td>5.000000</td>\n",
       "      <td>5.000000</td>\n",
       "      <td>8.825675</td>\n",
       "      <td>14.258040</td>\n",
       "      <td>3.504752</td>\n",
       "      <td>20.211267</td>\n",
       "    </tr>\n",
       "    <tr>\n",
       "      <th>25%</th>\n",
       "      <td>21.000000</td>\n",
       "      <td>28.000000</td>\n",
       "      <td>20.000000</td>\n",
       "      <td>22.769375</td>\n",
       "      <td>60.261953</td>\n",
       "      <td>5.971693</td>\n",
       "      <td>64.551686</td>\n",
       "    </tr>\n",
       "    <tr>\n",
       "      <th>50%</th>\n",
       "      <td>37.000000</td>\n",
       "      <td>51.000000</td>\n",
       "      <td>32.000000</td>\n",
       "      <td>25.598693</td>\n",
       "      <td>80.473146</td>\n",
       "      <td>6.425045</td>\n",
       "      <td>94.867624</td>\n",
       "    </tr>\n",
       "    <tr>\n",
       "      <th>75%</th>\n",
       "      <td>84.250000</td>\n",
       "      <td>68.000000</td>\n",
       "      <td>49.000000</td>\n",
       "      <td>28.561654</td>\n",
       "      <td>89.948771</td>\n",
       "      <td>6.923643</td>\n",
       "      <td>124.267508</td>\n",
       "    </tr>\n",
       "    <tr>\n",
       "      <th>max</th>\n",
       "      <td>140.000000</td>\n",
       "      <td>145.000000</td>\n",
       "      <td>205.000000</td>\n",
       "      <td>43.675493</td>\n",
       "      <td>99.981876</td>\n",
       "      <td>9.935091</td>\n",
       "      <td>298.560117</td>\n",
       "    </tr>\n",
       "  </tbody>\n",
       "</table>\n",
       "</div>"
      ],
      "text/plain": [
       "                 N            P            K  temperature     humidity  \\\n",
       "count  2200.000000  2200.000000  2200.000000  2200.000000  2200.000000   \n",
       "mean     50.551818    53.362727    48.149091    25.616244    71.481779   \n",
       "std      36.917334    32.985883    50.647931     5.063749    22.263812   \n",
       "min       0.000000     5.000000     5.000000     8.825675    14.258040   \n",
       "25%      21.000000    28.000000    20.000000    22.769375    60.261953   \n",
       "50%      37.000000    51.000000    32.000000    25.598693    80.473146   \n",
       "75%      84.250000    68.000000    49.000000    28.561654    89.948771   \n",
       "max     140.000000   145.000000   205.000000    43.675493    99.981876   \n",
       "\n",
       "                ph     rainfall  \n",
       "count  2200.000000  2200.000000  \n",
       "mean      6.469480   103.463655  \n",
       "std       0.773938    54.958389  \n",
       "min       3.504752    20.211267  \n",
       "25%       5.971693    64.551686  \n",
       "50%       6.425045    94.867624  \n",
       "75%       6.923643   124.267508  \n",
       "max       9.935091   298.560117  "
      ]
     },
     "execution_count": 5,
     "metadata": {},
     "output_type": "execute_result"
    }
   ],
   "source": [
    "df.describe()"
   ]
  },
  {
   "cell_type": "code",
   "execution_count": 6,
   "id": "10a61bd5",
   "metadata": {
    "execution": {
     "iopub.execute_input": "2022-07-29T05:43:51.186549Z",
     "iopub.status.busy": "2022-07-29T05:43:51.186151Z",
     "iopub.status.idle": "2022-07-29T05:43:51.193228Z",
     "shell.execute_reply": "2022-07-29T05:43:51.192068Z"
    },
    "papermill": {
     "duration": 0.019299,
     "end_time": "2022-07-29T05:43:51.195507",
     "exception": false,
     "start_time": "2022-07-29T05:43:51.176208",
     "status": "completed"
    },
    "tags": []
   },
   "outputs": [
    {
     "data": {
      "text/plain": [
       "(2200, 8)"
      ]
     },
     "execution_count": 6,
     "metadata": {},
     "output_type": "execute_result"
    }
   ],
   "source": [
    "df.shape"
   ]
  },
  {
   "cell_type": "code",
   "execution_count": 7,
   "id": "e3e5c986",
   "metadata": {
    "execution": {
     "iopub.execute_input": "2022-07-29T05:43:51.214769Z",
     "iopub.status.busy": "2022-07-29T05:43:51.214384Z",
     "iopub.status.idle": "2022-07-29T05:43:51.225939Z",
     "shell.execute_reply": "2022-07-29T05:43:51.224828Z"
    },
    "papermill": {
     "duration": 0.024049,
     "end_time": "2022-07-29T05:43:51.228321",
     "exception": false,
     "start_time": "2022-07-29T05:43:51.204272",
     "status": "completed"
    },
    "tags": []
   },
   "outputs": [
    {
     "data": {
      "text/plain": [
       "0"
      ]
     },
     "execution_count": 7,
     "metadata": {},
     "output_type": "execute_result"
    }
   ],
   "source": [
    "df.duplicated().sum()"
   ]
  },
  {
   "cell_type": "code",
   "execution_count": 8,
   "id": "e1f357f7",
   "metadata": {
    "execution": {
     "iopub.execute_input": "2022-07-29T05:43:51.248847Z",
     "iopub.status.busy": "2022-07-29T05:43:51.248472Z",
     "iopub.status.idle": "2022-07-29T05:43:51.728513Z",
     "shell.execute_reply": "2022-07-29T05:43:51.727334Z"
    },
    "papermill": {
     "duration": 0.494073,
     "end_time": "2022-07-29T05:43:51.731335",
     "exception": false,
     "start_time": "2022-07-29T05:43:51.237262",
     "status": "completed"
    },
    "tags": []
   },
   "outputs": [
    {
     "data": {
      "text/plain": [
       "<AxesSubplot:>"
      ]
     },
     "execution_count": 8,
     "metadata": {},
     "output_type": "execute_result"
    },
    {
     "data": {
      "image/png": "[encoded data removed]",
      "text/plain": [
       "<Figure size 1200x600 with 2 Axes>"
      ]
     },
     "metadata": {},
     "output_type": "display_data"
    }
   ],
   "source": [
    "figure = plt.figure(figsize=(12, 6))\n",
    "sns.heatmap(df.corr(), annot=True,cmap=plt.cm.cool)"
   ]
  },
  {
   "cell_type": "code",
   "execution_count": 9,
   "id": "8daee473",
   "metadata": {
    "execution": {
     "iopub.execute_input": "2022-07-29T05:43:51.754143Z",
     "iopub.status.busy": "2022-07-29T05:43:51.753105Z",
     "iopub.status.idle": "2022-07-29T05:43:51.762185Z",
     "shell.execute_reply": "2022-07-29T05:43:51.761178Z"
    },
    "papermill": {
     "duration": 0.022356,
     "end_time": "2022-07-29T05:43:51.764514",
     "exception": false,
     "start_time": "2022-07-29T05:43:51.742158",
     "status": "completed"
    },
    "tags": []
   },
   "outputs": [
    {
     "data": {
      "text/plain": [
       "rice           100\n",
       "maize          100\n",
       "jute           100\n",
       "cotton         100\n",
       "coconut        100\n",
       "papaya         100\n",
       "orange         100\n",
       "apple          100\n",
       "muskmelon      100\n",
       "watermelon     100\n",
       "grapes         100\n",
       "mango          100\n",
       "banana         100\n",
       "pomegranate    100\n",
       "lentil         100\n",
       "blackgram      100\n",
       "mungbean       100\n",
       "mothbeans      100\n",
       "pigeonpeas     100\n",
       "kidneybeans    100\n",
       "chickpea       100\n",
       "coffee         100\n",
       "Name: label, dtype: int64"
      ]
     },
     "execution_count": 9,
     "metadata": {},
     "output_type": "execute_result"
    }
   ],
   "source": [
    "df.label.value_counts()"
   ]
  },
  {
   "cell_type": "code",
   "execution_count": 10,
   "id": "2528c5d4",
   "metadata": {
    "execution": {
     "iopub.execute_input": "2022-07-29T05:43:51.786228Z",
     "iopub.status.busy": "2022-07-29T05:43:51.785234Z",
     "iopub.status.idle": "2022-07-29T05:43:52.134854Z",
     "shell.execute_reply": "2022-07-29T05:43:52.134028Z"
    },
    "papermill": {
     "duration": 0.362966,
     "end_time": "2022-07-29T05:43:52.137294",
     "exception": false,
     "start_time": "2022-07-29T05:43:51.774328",
     "status": "completed"
    },
    "tags": []
   },
   "outputs": [
    {
     "data": {
      "image/png": "[encoded data removed]",
      "text/plain": [
       "<Figure size 500x500 with 1 Axes>"
      ]
     },
     "metadata": {},
     "output_type": "display_data"
    }
   ],
   "source": [
    "sns.displot(df['K'], kde='kde', color='blue',bins=30)\n",
    "plt.title('Distribution of K')\n",
    "plt.show()"
   ]
  },
  {
   "cell_type": "code",
   "execution_count": 11,
   "id": "d6876016",
   "metadata": {
    "execution": {
     "iopub.execute_input": "2022-07-29T05:43:52.159772Z",
     "iopub.status.busy": "2022-07-29T05:43:52.159099Z",
     "iopub.status.idle": "2022-07-29T05:43:52.490252Z",
     "shell.execute_reply": "2022-07-29T05:43:52.489147Z"
    },
    "papermill": {
     "duration": 0.345304,
     "end_time": "2022-07-29T05:43:52.492706",
     "exception": false,
     "start_time": "2022-07-29T05:43:52.147402",
     "status": "completed"
    },
    "tags": []
   },
   "outputs": [
    {
     "data": {
      "image/png": "[encoded data removed]",
      "text/plain": [
       "<Figure size 500x500 with 1 Axes>"
      ]
     },
     "metadata": {},
     "output_type": "display_data"
    }
   ],
   "source": [
    "sns.displot(df[df.label=='rice']['P'], kde='kde', color='blue',bins=30)\n",
    "plt.title('Distribution of P in rice')\n",
    "plt.show()"
   ]
  },
  {
   "cell_type": "code",
   "execution_count": 12,
   "id": "854f39c1",
   "metadata": {
    "execution": {
     "iopub.execute_input": "2022-07-29T05:43:52.517137Z",
     "iopub.status.busy": "2022-07-29T05:43:52.516090Z",
     "iopub.status.idle": "2022-07-29T05:43:52.647326Z",
     "shell.execute_reply": "2022-07-29T05:43:52.646186Z"
    },
    "papermill": {
     "duration": 0.145967,
     "end_time": "2022-07-29T05:43:52.650295",
     "exception": false,
     "start_time": "2022-07-29T05:43:52.504328",
     "status": "completed"
    },
    "tags": []
   },
   "outputs": [],
   "source": [
    "from sklearn.preprocessing import LabelEncoder\n",
    "\n",
    "label_enc = LabelEncoder()\n",
    "\n",
    "df['label'] = label_enc.fit_transform(df.label)"
   ]
  },
  {
   "cell_type": "code",
   "execution_count": 13,
   "id": "d1786d6f",
   "metadata": {
    "execution": {
     "iopub.execute_input": "2022-07-29T05:43:52.673782Z",
     "iopub.status.busy": "2022-07-29T05:43:52.673135Z",
     "iopub.status.idle": "2022-07-29T05:43:52.680737Z",
     "shell.execute_reply": "2022-07-29T05:43:52.679678Z"
    },
    "papermill": {
     "duration": 0.022332,
     "end_time": "2022-07-29T05:43:52.683466",
     "exception": false,
     "start_time": "2022-07-29T05:43:52.661134",
     "status": "completed"
    },
    "tags": []
   },
   "outputs": [],
   "source": [
    "X = df.drop('label',axis=1)\n",
    "y = df.label"
   ]
  },
  {
   "cell_type": "code",
   "execution_count": 14,
   "id": "11d93959",
   "metadata": {
    "execution": {
     "iopub.execute_input": "2022-07-29T05:43:52.706028Z",
     "iopub.status.busy": "2022-07-29T05:43:52.705418Z",
     "iopub.status.idle": "2022-07-29T05:43:52.767203Z",
     "shell.execute_reply": "2022-07-29T05:43:52.766193Z"
    },
    "papermill": {
     "duration": 0.076311,
     "end_time": "2022-07-29T05:43:52.770007",
     "exception": false,
     "start_time": "2022-07-29T05:43:52.693696",
     "status": "completed"
    },
    "tags": []
   },
   "outputs": [],
   "source": [
    "from sklearn.model_selection import train_test_split\n",
    "X_train,X_test,y_train,y_test = train_test_split(X,y,test_size=0.2,random_state=42)"
   ]
  },
  {
   "cell_type": "code",
   "execution_count": 15,
   "id": "3d886b20",
   "metadata": {
    "execution": {
     "iopub.execute_input": "2022-07-29T05:43:52.792878Z",
     "iopub.status.busy": "2022-07-29T05:43:52.792180Z",
     "iopub.status.idle": "2022-07-29T05:43:53.132034Z",
     "shell.execute_reply": "2022-07-29T05:43:53.130848Z"
    },
    "papermill": {
     "duration": 0.354813,
     "end_time": "2022-07-29T05:43:53.135307",
     "exception": false,
     "start_time": "2022-07-29T05:43:52.780494",
     "status": "completed"
    },
    "tags": []
   },
   "outputs": [
    {
     "ename": "ModuleNotFoundError",
     "evalue": "No module named 'xgboost'",
     "output_type": "error",
     "traceback": [
      "\u001b[1;31m---------------------------------------------------------------------------\u001b[0m",
      "\u001b[1;31mModuleNotFoundError\u001b[0m                       Traceback (most recent call last)",
      "\u001b[1;32m~\\AppData\\Local\\Temp\\ipykernel_20792\\1621019010.py\u001b[0m in \u001b[0;36m<module>\u001b[1;34m\u001b[0m\n\u001b[0;32m      4\u001b[0m \u001b[1;32mfrom\u001b[0m \u001b[0msklearn\u001b[0m\u001b[1;33m.\u001b[0m\u001b[0mtree\u001b[0m \u001b[1;32mimport\u001b[0m \u001b[0mDecisionTreeClassifier\u001b[0m\u001b[1;33m\u001b[0m\u001b[1;33m\u001b[0m\u001b[0m\n\u001b[0;32m      5\u001b[0m \u001b[1;32mfrom\u001b[0m \u001b[0msklearn\u001b[0m\u001b[1;33m.\u001b[0m\u001b[0msvm\u001b[0m \u001b[1;32mimport\u001b[0m \u001b[0mSVC\u001b[0m\u001b[1;33m\u001b[0m\u001b[1;33m\u001b[0m\u001b[0m\n\u001b[1;32m----> 6\u001b[1;33m \u001b[1;32mfrom\u001b[0m \u001b[0mxgboost\u001b[0m \u001b[1;32mimport\u001b[0m \u001b[0mXGBClassifier\u001b[0m\u001b[1;33m\u001b[0m\u001b[1;33m\u001b[0m\u001b[0m\n\u001b[0m",
      "\u001b[1;31mModuleNotFoundError\u001b[0m: No module named 'xgboost'"
     ]
    }
   ],
   "source": [
    "from sklearn.linear_model import LogisticRegression\n",
    "from sklearn.neighbors import KNeighborsClassifier\n",
    "from sklearn.ensemble import RandomForestClassifier\n",
    "from sklearn.tree import DecisionTreeClassifier\n",
    "from sklearn.svm import SVC\n",
    "from xgboost import XGBClassifier"
   ]
  },
  {
   "cell_type": "code",
   "execution_count": null,
   "id": "fff96774",
   "metadata": {
    "execution": {
     "iopub.execute_input": "2022-07-29T05:43:53.162346Z",
     "iopub.status.busy": "2022-07-29T05:43:53.161323Z",
     "iopub.status.idle": "2022-07-29T05:43:53.168812Z",
     "shell.execute_reply": "2022-07-29T05:43:53.168055Z"
    },
    "papermill": {
     "duration": 0.021979,
     "end_time": "2022-07-29T05:43:53.170828",
     "exception": false,
     "start_time": "2022-07-29T05:43:53.148849",
     "status": "completed"
    },
    "tags": []
   },
   "outputs": [],
   "source": [
    "models = {'Logistic Regression': LogisticRegression(),\n",
    "         \"KNN\":KNeighborsClassifier(),\n",
    "         'Random Forest': RandomForestClassifier(),\n",
    "         'Tree': DecisionTreeClassifier(),\n",
    "         \"SVC\": SVC(),\n",
    "         \"XGBoost\": XGBClassifier()}\n",
    "\n",
    "def fit_and_score(models,X_train,X_test,y_train,y_test):\n",
    "    np.random.seed(42)\n",
    "    model_scores = {}\n",
    "    for name,model in models.items():\n",
    "        model.fit(X_train,y_train)\n",
    "        model_scores[name] = model.score(X_test,y_test)\n",
    "    \n",
    "    return model_scores"
   ]
  },
  {
   "cell_type": "code",
   "execution_count": null,
   "id": "f13b8ebc",
   "metadata": {
    "execution": {
     "iopub.execute_input": "2022-07-29T05:43:53.194204Z",
     "iopub.status.busy": "2022-07-29T05:43:53.193417Z",
     "iopub.status.idle": "2022-07-29T05:43:55.095623Z",
     "shell.execute_reply": "2022-07-29T05:43:55.094379Z"
    },
    "papermill": {
     "duration": 1.916841,
     "end_time": "2022-07-29T05:43:55.098150",
     "exception": false,
     "start_time": "2022-07-29T05:43:53.181309",
     "status": "completed"
    },
    "tags": []
   },
   "outputs": [],
   "source": [
    "model_scores = fit_and_score(models,X_train,X_test,y_train,y_test)\n",
    "model_scores"
   ]
  },
  {
   "cell_type": "markdown",
   "id": "7bf0443a",
   "metadata": {
    "papermill": {
     "duration": 0.010667,
     "end_time": "2022-07-29T05:43:55.121845",
     "exception": false,
     "start_time": "2022-07-29T05:43:55.111178",
     "status": "completed"
    },
    "tags": []
   },
   "source": [
    "The scores are very high so i want to make sure best results weather or not fitted well."
   ]
  },
  {
   "cell_type": "code",
   "execution_count": null,
   "id": "942df94d",
   "metadata": {
    "execution": {
     "iopub.execute_input": "2022-07-29T05:43:55.144828Z",
     "iopub.status.busy": "2022-07-29T05:43:55.144454Z",
     "iopub.status.idle": "2022-07-29T05:43:56.019724Z",
     "shell.execute_reply": "2022-07-29T05:43:56.018781Z"
    },
    "papermill": {
     "duration": 0.889411,
     "end_time": "2022-07-29T05:43:56.022282",
     "exception": false,
     "start_time": "2022-07-29T05:43:55.132871",
     "status": "completed"
    },
    "tags": []
   },
   "outputs": [],
   "source": [
    "model1 = XGBClassifier(random_state=42)\n",
    "model1.fit(X_train,y_train)\n",
    "model1.score(X_train,y_train),model1.score(X_test,y_test)"
   ]
  },
  {
   "cell_type": "code",
   "execution_count": null,
   "id": "edef9b05",
   "metadata": {
    "execution": {
     "iopub.execute_input": "2022-07-29T05:43:56.046460Z",
     "iopub.status.busy": "2022-07-29T05:43:56.046111Z",
     "iopub.status.idle": "2022-07-29T05:43:56.515143Z",
     "shell.execute_reply": "2022-07-29T05:43:56.513770Z"
    },
    "papermill": {
     "duration": 0.483808,
     "end_time": "2022-07-29T05:43:56.518208",
     "exception": false,
     "start_time": "2022-07-29T05:43:56.034400",
     "status": "completed"
    },
    "tags": []
   },
   "outputs": [],
   "source": [
    "model2 = RandomForestClassifier(random_state=42)\n",
    "model2.fit(X_train,y_train)\n",
    "model2.score(X_train,y_train),model2.score(X_test,y_test)"
   ]
  },
  {
   "cell_type": "code",
   "execution_count": null,
   "id": "889abdb2",
   "metadata": {
    "execution": {
     "iopub.execute_input": "2022-07-29T05:43:56.542800Z",
     "iopub.status.busy": "2022-07-29T05:43:56.542425Z",
     "iopub.status.idle": "2022-07-29T05:43:56.548667Z",
     "shell.execute_reply": "2022-07-29T05:43:56.547426Z"
    },
    "papermill": {
     "duration": 0.021477,
     "end_time": "2022-07-29T05:43:56.550912",
     "exception": false,
     "start_time": "2022-07-29T05:43:56.529435",
     "status": "completed"
    },
    "tags": []
   },
   "outputs": [],
   "source": [
    "# hyperparameter grid for RandomForestClassifier\n",
    "rf_grid = {'n_estimators':np.arange(10,1000,50),\n",
    "           'max_depth': [None,3,5,10],\n",
    "           'min_samples_split': np.arange(2,20,2),\n",
    "           'min_samples_leaf': np.arange(1,20,2)}"
   ]
  },
  {
   "cell_type": "code",
   "execution_count": null,
   "id": "ee1e4709",
   "metadata": {
    "execution": {
     "iopub.execute_input": "2022-07-29T05:43:56.576405Z",
     "iopub.status.busy": "2022-07-29T05:43:56.574909Z",
     "iopub.status.idle": "2022-07-29T05:45:09.970646Z",
     "shell.execute_reply": "2022-07-29T05:45:09.969136Z"
    },
    "papermill": {
     "duration": 73.422282,
     "end_time": "2022-07-29T05:45:09.984255",
     "exception": false,
     "start_time": "2022-07-29T05:43:56.561973",
     "status": "completed"
    },
    "tags": []
   },
   "outputs": [],
   "source": [
    "from sklearn.model_selection import RandomizedSearchCV\n",
    "np.random.seed(42)\n",
    "\n",
    "rf_model = RandomizedSearchCV(RandomForestClassifier(),param_distributions=rf_grid,cv=5,n_iter=10,verbose=True)\n",
    "\n",
    "# fitting\n",
    "rf_model.fit(X_train,y_train)"
   ]
  },
  {
   "cell_type": "code",
   "execution_count": null,
   "id": "24771192",
   "metadata": {
    "execution": {
     "iopub.execute_input": "2022-07-29T05:45:10.009488Z",
     "iopub.status.busy": "2022-07-29T05:45:10.008683Z",
     "iopub.status.idle": "2022-07-29T05:45:10.190198Z",
     "shell.execute_reply": "2022-07-29T05:45:10.189021Z"
    },
    "papermill": {
     "duration": 0.197315,
     "end_time": "2022-07-29T05:45:10.193072",
     "exception": false,
     "start_time": "2022-07-29T05:45:09.995757",
     "status": "completed"
    },
    "tags": []
   },
   "outputs": [],
   "source": [
    "rf_model.score(X_test,y_test)"
   ]
  },
  {
   "cell_type": "code",
   "execution_count": null,
   "id": "56f10842",
   "metadata": {
    "execution": {
     "iopub.execute_input": "2022-07-29T05:45:10.220030Z",
     "iopub.status.busy": "2022-07-29T05:45:10.219539Z",
     "iopub.status.idle": "2022-07-29T05:51:34.871772Z",
     "shell.execute_reply": "2022-07-29T05:51:34.870516Z"
    },
    "papermill": {
     "duration": 384.679716,
     "end_time": "2022-07-29T05:51:34.885403",
     "exception": false,
     "start_time": "2022-07-29T05:45:10.205687",
     "status": "completed"
    },
    "tags": []
   },
   "outputs": [],
   "source": [
    "from sklearn.model_selection import cross_val_score\n",
    "\n",
    "cross_val_score(rf_model,X,y,cv=5).mean()"
   ]
  },
  {
   "cell_type": "code",
   "execution_count": null,
   "id": "e70d3a2e",
   "metadata": {
    "execution": {
     "iopub.execute_input": "2022-07-29T05:51:34.910915Z",
     "iopub.status.busy": "2022-07-29T05:51:34.910128Z",
     "iopub.status.idle": "2022-07-29T05:51:35.107882Z",
     "shell.execute_reply": "2022-07-29T05:51:35.106746Z"
    },
    "papermill": {
     "duration": 0.213519,
     "end_time": "2022-07-29T05:51:35.110913",
     "exception": false,
     "start_time": "2022-07-29T05:51:34.897394",
     "status": "completed"
    },
    "tags": []
   },
   "outputs": [],
   "source": [
    "importance = model2.feature_importances_\n",
    "# summarize feature importance\n",
    "for i,v in enumerate(importance):\n",
    "    print('Feature: %0d, Score: %.5f' % (i,v))\n",
    "# plot feature importance\n",
    "plt.bar([x for x in range(len(importance))], importance)\n",
    "plt.show()"
   ]
  },
  {
   "cell_type": "code",
   "execution_count": null,
   "id": "5a56a89b",
   "metadata": {
    "execution": {
     "iopub.execute_input": "2022-07-29T05:51:35.139542Z",
     "iopub.status.busy": "2022-07-29T05:51:35.139096Z",
     "iopub.status.idle": "2022-07-29T05:51:35.164026Z",
     "shell.execute_reply": "2022-07-29T05:51:35.163061Z"
    },
    "papermill": {
     "duration": 0.043103,
     "end_time": "2022-07-29T05:51:35.166652",
     "exception": false,
     "start_time": "2022-07-29T05:51:35.123549",
     "status": "completed"
    },
    "tags": []
   },
   "outputs": [],
   "source": [
    "from sklearn.metrics import classification_report\n",
    "\n",
    "y_preds = model1.predict(X_test)\n",
    "\n",
    "print(classification_report(y_test,y_preds))"
   ]
  },
  {
   "cell_type": "code",
   "execution_count": null,
   "id": "8efe2613",
   "metadata": {
    "execution": {
     "iopub.execute_input": "2022-07-29T05:51:35.193720Z",
     "iopub.status.busy": "2022-07-29T05:51:35.192648Z",
     "iopub.status.idle": "2022-07-29T05:51:36.962331Z",
     "shell.execute_reply": "2022-07-29T05:51:36.961184Z"
    },
    "papermill": {
     "duration": 1.785396,
     "end_time": "2022-07-29T05:51:36.964789",
     "exception": false,
     "start_time": "2022-07-29T05:51:35.179393",
     "status": "completed"
    },
    "tags": []
   },
   "outputs": [],
   "source": [
    "from sklearn.metrics import confusion_matrix as cm\n",
    "conf_mat = cm(y_test, y_preds)\n",
    "sns.heatmap(conf_mat, annot=True);"
   ]
  },
  {
   "cell_type": "code",
   "execution_count": 20,
   "id": "512af195",
   "metadata": {
    "papermill": {
     "duration": 0.012329,
     "end_time": "2022-07-29T05:51:36.989702",
     "exception": false,
     "start_time": "2022-07-29T05:51:36.977373",
     "status": "completed"
    },
    "tags": []
   },
   "outputs": [
    {
     "ename": "NameError",
     "evalue": "name 'c' is not defined",
     "output_type": "error",
     "traceback": [
      "\u001b[1;31m---------------------------------------------------------------------------\u001b[0m",
      "\u001b[1;31mNameError\u001b[0m                                 Traceback (most recent call last)",
      "\u001b[1;32m~\\AppData\\Local\\Temp\\ipykernel_20792\\719265951.py\u001b[0m in \u001b[0;36m<module>\u001b[1;34m\u001b[0m\n\u001b[1;32m----> 1\u001b[1;33m \u001b[0mc\u001b[0m\u001b[1;33m.\u001b[0m\u001b[0mNotebookApp\u001b[0m\u001b[1;33m.\u001b[0m\u001b[0mtoken\u001b[0m \u001b[1;33m=\u001b[0m \u001b[1;34m''\u001b[0m\u001b[1;33m\u001b[0m\u001b[1;33m\u001b[0m\u001b[0m\n\u001b[0m\u001b[0;32m      2\u001b[0m \u001b[0mc\u001b[0m\u001b[1;33m.\u001b[0m\u001b[0mNotebookApp\u001b[0m\u001b[1;33m.\u001b[0m\u001b[0mpassword\u001b[0m \u001b[1;33m=\u001b[0m \u001b[1;34m''\u001b[0m\u001b[1;33m\u001b[0m\u001b[1;33m\u001b[0m\u001b[0m\n",
      "\u001b[1;31mNameError\u001b[0m: name 'c' is not defined"
     ]
    }
   ],
   "source": [
    "c.NotebookApp.token = ''\n",
    "c.NotebookApp.password = ''"
   ]
  },
  {
   "cell_type": "code",
   "execution_count": null,
   "id": "f03b068b",
   "metadata": {},
   "outputs": [],
   "source": []
  }
 ],
 "metadata": {
  "kernelspec": {
   "display_name": "Python 3 (ipykernel)",
   "language": "python",
   "name": "python3"
  },
  "language_info": {
   "codemirror_mode": {
    "name": "ipython",
    "version": 3
   },
   "file_extension": ".py",
   "mimetype": "text/x-python",
   "name": "python",
   "nbconvert_exporter": "python",
   "pygments_lexer": "ipython3",
   "version": "3.9.13"
  },
  "papermill": {
   "default_parameters": {},
   "duration": 477.485221,
   "end_time": "2022-07-29T05:51:37.825401",
   "environment_variables": {},
   "exception": null,
   "input_path": "__notebook__.ipynb",
   "output_path": "__notebook__.ipynb",
   "parameters": {},
   "start_time": "2022-07-29T05:43:40.340180",
   "version": "2.3.4"
  }
 },
 "nbformat": 4,
 "nbformat_minor": 5
}
