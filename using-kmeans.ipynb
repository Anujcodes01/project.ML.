{
 "cells": [
  {
   "cell_type": "code",
   "execution_count": 1,
   "id": "4548180c",
   "metadata": {
    "_cell_guid": "b1076dfc-b9ad-4769-8c92-a6c4dae69d19",
    "_uuid": "8f2839f25d086af736a60e9eeb907d3b93b6e0e5",
    "execution": {
     "iopub.execute_input": "2023-03-05T18:28:03.436924Z",
     "iopub.status.busy": "2023-03-05T18:28:03.436355Z",
     "iopub.status.idle": "2023-03-05T18:28:03.455930Z",
     "shell.execute_reply": "2023-03-05T18:28:03.454622Z"
    },
    "papermill": {
     "duration": 0.030372,
     "end_time": "2023-03-05T18:28:03.458919",
     "exception": false,
     "start_time": "2023-03-05T18:28:03.428547",
     "status": "completed"
    },
    "tags": []
   },
   "outputs": [
    {
     "name": "stdout",
     "output_type": "stream",
     "text": [
      "/kaggle/input/customer-segmentation-tutorial-in-python/Mall_Customers.csv\n"
     ]
    }
   ],
   "source": [
    "# This Python 3 environment comes with many helpful analytics libraries installed\n",
    "# It is defined by the kaggle/python Docker image: https://github.com/kaggle/docker-python\n",
    "# For example, here's several helpful packages to load\n",
    "\n",
    "import numpy as np # linear algebra\n",
    "import pandas as pd # data processing, CSV file I/O (e.g. pd.read_csv)\n",
    "\n",
    "# Input data files are available in the read-only \"../input/\" directory\n",
    "# For example, running this (by clicking run or pressing Shift+Enter) will list all files under the input directory\n",
    "\n",
    "import os\n",
    "for dirname, _, filenames in os.walk('/kaggle/input'):\n",
    "    for filename in filenames:\n",
    "        print(os.path.join(dirname, filename))\n",
    "\n",
    "# You can write up to 20GB to the current directory (/kaggle/working/) that gets preserved as output when you create a version using \"Save & Run All\" \n",
    "# You can also write temporary files to /kaggle/temp/, but they won't be saved outside of the current session"
   ]
  },
  {
   "cell_type": "code",
   "execution_count": 2,
   "id": "f8715a9d",
   "metadata": {
    "execution": {
     "iopub.execute_input": "2023-03-05T18:28:03.470764Z",
     "iopub.status.busy": "2023-03-05T18:28:03.470321Z",
     "iopub.status.idle": "2023-03-05T18:28:03.487375Z",
     "shell.execute_reply": "2023-03-05T18:28:03.486364Z"
    },
    "papermill": {
     "duration": 0.0262,
     "end_time": "2023-03-05T18:28:03.490197",
     "exception": false,
     "start_time": "2023-03-05T18:28:03.463997",
     "status": "completed"
    },
    "tags": []
   },
   "outputs": [],
   "source": [
    "Dataset = pd.read_csv('/kaggle/input/customer-segmentation-tutorial-in-python/Mall_Customers.csv')"
   ]
  },
  {
   "cell_type": "markdown",
   "id": "57449383",
   "metadata": {
    "papermill": {
     "duration": 0.0045,
     "end_time": "2023-03-05T18:28:03.499693",
     "exception": false,
     "start_time": "2023-03-05T18:28:03.495193",
     "status": "completed"
    },
    "tags": []
   },
   "source": [
    "# Importing Dependencies "
   ]
  },
  {
   "cell_type": "code",
   "execution_count": 3,
   "id": "b2108e0c",
   "metadata": {
    "execution": {
     "iopub.execute_input": "2023-03-05T18:28:03.511732Z",
     "iopub.status.busy": "2023-03-05T18:28:03.511050Z",
     "iopub.status.idle": "2023-03-05T18:28:07.196406Z",
     "shell.execute_reply": "2023-03-05T18:28:07.194977Z"
    },
    "papermill": {
     "duration": 3.694971,
     "end_time": "2023-03-05T18:28:07.199490",
     "exception": false,
     "start_time": "2023-03-05T18:28:03.504519",
     "status": "completed"
    },
    "tags": []
   },
   "outputs": [],
   "source": [
    "import seaborn as sns \n",
    "import matplotlib.pyplot as plt\n",
    "from sklearn.cluster import KMeans\n",
    "\n",
    "import plotly.express as px\n",
    "import plotly.graph_objs as go\n",
    "import missingno as msno\n",
    "\n",
    "from sklearn.cluster import KMeans\n",
    "from scipy.cluster.hierarchy import dendrogram, linkage\n",
    "from sklearn.cluster import AgglomerativeClustering\n",
    "from sklearn.cluster import DBSCAN\n",
    "from sklearn import metrics\n",
    "\n",
    "from sklearn.preprocessing import StandardScaler\n",
    "\n",
    "import warnings \n",
    "warnings.filterwarnings('ignore')\n",
    "\n",
    "plt.style.use('fivethirtyeight')\n",
    "%matplotlib inline"
   ]
  },
  {
   "cell_type": "code",
   "execution_count": 4,
   "id": "c5eff7de",
   "metadata": {
    "execution": {
     "iopub.execute_input": "2023-03-05T18:28:07.211425Z",
     "iopub.status.busy": "2023-03-05T18:28:07.210966Z",
     "iopub.status.idle": "2023-03-05T18:28:07.241333Z",
     "shell.execute_reply": "2023-03-05T18:28:07.240197Z"
    },
    "papermill": {
     "duration": 0.039421,
     "end_time": "2023-03-05T18:28:07.243996",
     "exception": false,
     "start_time": "2023-03-05T18:28:07.204575",
     "status": "completed"
    },
    "tags": []
   },
   "outputs": [
    {
     "data": {
      "text/html": [
       "<div>\n",
       "<style scoped>\n",
       "    .dataframe tbody tr th:only-of-type {\n",
       "        vertical-align: middle;\n",
       "    }\n",
       "\n",
       "    .dataframe tbody tr th {\n",
       "        vertical-align: top;\n",
       "    }\n",
       "\n",
       "    .dataframe thead th {\n",
       "        text-align: right;\n",
       "    }\n",
       "</style>\n",
       "<table border=\"1\" class=\"dataframe\">\n",
       "  <thead>\n",
       "    <tr style=\"text-align: right;\">\n",
       "      <th></th>\n",
       "      <th>CustomerID</th>\n",
       "      <th>Gender</th>\n",
       "      <th>Age</th>\n",
       "      <th>Annual Income (k$)</th>\n",
       "      <th>Spending Score (1-100)</th>\n",
       "    </tr>\n",
       "  </thead>\n",
       "  <tbody>\n",
       "    <tr>\n",
       "      <th>0</th>\n",
       "      <td>1</td>\n",
       "      <td>Male</td>\n",
       "      <td>19</td>\n",
       "      <td>15</td>\n",
       "      <td>39</td>\n",
       "    </tr>\n",
       "    <tr>\n",
       "      <th>1</th>\n",
       "      <td>2</td>\n",
       "      <td>Male</td>\n",
       "      <td>21</td>\n",
       "      <td>15</td>\n",
       "      <td>81</td>\n",
       "    </tr>\n",
       "    <tr>\n",
       "      <th>2</th>\n",
       "      <td>3</td>\n",
       "      <td>Female</td>\n",
       "      <td>20</td>\n",
       "      <td>16</td>\n",
       "      <td>6</td>\n",
       "    </tr>\n",
       "    <tr>\n",
       "      <th>3</th>\n",
       "      <td>4</td>\n",
       "      <td>Female</td>\n",
       "      <td>23</td>\n",
       "      <td>16</td>\n",
       "      <td>77</td>\n",
       "    </tr>\n",
       "    <tr>\n",
       "      <th>4</th>\n",
       "      <td>5</td>\n",
       "      <td>Female</td>\n",
       "      <td>31</td>\n",
       "      <td>17</td>\n",
       "      <td>40</td>\n",
       "    </tr>\n",
       "  </tbody>\n",
       "</table>\n",
       "</div>"
      ],
      "text/plain": [
       "   CustomerID  Gender  Age  Annual Income (k$)  Spending Score (1-100)\n",
       "0           1    Male   19                  15                      39\n",
       "1           2    Male   21                  15                      81\n",
       "2           3  Female   20                  16                       6\n",
       "3           4  Female   23                  16                      77\n",
       "4           5  Female   31                  17                      40"
      ]
     },
     "execution_count": 4,
     "metadata": {},
     "output_type": "execute_result"
    }
   ],
   "source": [
    "# Data engineering and data analysis\n",
    "Dataset.head()"
   ]
  },
  {
   "cell_type": "code",
   "execution_count": 5,
   "id": "7e92f697",
   "metadata": {
    "execution": {
     "iopub.execute_input": "2023-03-05T18:28:07.255899Z",
     "iopub.status.busy": "2023-03-05T18:28:07.255506Z",
     "iopub.status.idle": "2023-03-05T18:28:07.263809Z",
     "shell.execute_reply": "2023-03-05T18:28:07.262548Z"
    },
    "papermill": {
     "duration": 0.017504,
     "end_time": "2023-03-05T18:28:07.266606",
     "exception": false,
     "start_time": "2023-03-05T18:28:07.249102",
     "status": "completed"
    },
    "tags": []
   },
   "outputs": [
    {
     "data": {
      "text/plain": [
       "(200, 5)"
      ]
     },
     "execution_count": 5,
     "metadata": {},
     "output_type": "execute_result"
    }
   ],
   "source": [
    "#finding the columns and rows\n",
    "\n",
    "Dataset.shape"
   ]
  },
  {
   "cell_type": "code",
   "execution_count": 6,
   "id": "78465e36",
   "metadata": {
    "execution": {
     "iopub.execute_input": "2023-03-05T18:28:07.278859Z",
     "iopub.status.busy": "2023-03-05T18:28:07.278402Z",
     "iopub.status.idle": "2023-03-05T18:28:07.303015Z",
     "shell.execute_reply": "2023-03-05T18:28:07.301446Z"
    },
    "papermill": {
     "duration": 0.034566,
     "end_time": "2023-03-05T18:28:07.306375",
     "exception": false,
     "start_time": "2023-03-05T18:28:07.271809",
     "status": "completed"
    },
    "tags": []
   },
   "outputs": [
    {
     "name": "stdout",
     "output_type": "stream",
     "text": [
      "<class 'pandas.core.frame.DataFrame'>\n",
      "RangeIndex: 200 entries, 0 to 199\n",
      "Data columns (total 5 columns):\n",
      " #   Column                  Non-Null Count  Dtype \n",
      "---  ------                  --------------  ----- \n",
      " 0   CustomerID              200 non-null    int64 \n",
      " 1   Gender                  200 non-null    object\n",
      " 2   Age                     200 non-null    int64 \n",
      " 3   Annual Income (k$)      200 non-null    int64 \n",
      " 4   Spending Score (1-100)  200 non-null    int64 \n",
      "dtypes: int64(4), object(1)\n",
      "memory usage: 7.9+ KB\n"
     ]
    }
   ],
   "source": [
    "# Getting some inforamtion about dataset \n",
    "Dataset.info()"
   ]
  },
  {
   "cell_type": "code",
   "execution_count": 7,
   "id": "09ab7862",
   "metadata": {
    "execution": {
     "iopub.execute_input": "2023-03-05T18:28:07.320952Z",
     "iopub.status.busy": "2023-03-05T18:28:07.319895Z",
     "iopub.status.idle": "2023-03-05T18:28:07.327761Z",
     "shell.execute_reply": "2023-03-05T18:28:07.326433Z"
    },
    "papermill": {
     "duration": 0.016959,
     "end_time": "2023-03-05T18:28:07.330131",
     "exception": false,
     "start_time": "2023-03-05T18:28:07.313172",
     "status": "completed"
    },
    "tags": []
   },
   "outputs": [],
   "source": [
    "# choosing the Annual Income and Spending Score columns\n",
    "data = Dataset.iloc[:,[3,4]].values"
   ]
  },
  {
   "cell_type": "code",
   "execution_count": 8,
   "id": "7fc3e22a",
   "metadata": {
    "execution": {
     "iopub.execute_input": "2023-03-05T18:28:07.342577Z",
     "iopub.status.busy": "2023-03-05T18:28:07.342144Z",
     "iopub.status.idle": "2023-03-05T18:28:07.349924Z",
     "shell.execute_reply": "2023-03-05T18:28:07.348669Z"
    },
    "papermill": {
     "duration": 0.016921,
     "end_time": "2023-03-05T18:28:07.352241",
     "exception": false,
     "start_time": "2023-03-05T18:28:07.335320",
     "status": "completed"
    },
    "tags": []
   },
   "outputs": [
    {
     "data": {
      "text/plain": [
       "(200, 2)"
      ]
     },
     "execution_count": 8,
     "metadata": {},
     "output_type": "execute_result"
    }
   ],
   "source": [
    "data.shape"
   ]
  },
  {
   "cell_type": "code",
   "execution_count": 9,
   "id": "b49be85d",
   "metadata": {
    "execution": {
     "iopub.execute_input": "2023-03-05T18:28:07.364675Z",
     "iopub.status.busy": "2023-03-05T18:28:07.364238Z",
     "iopub.status.idle": "2023-03-05T18:28:07.806052Z",
     "shell.execute_reply": "2023-03-05T18:28:07.804646Z"
    },
    "papermill": {
     "duration": 0.451683,
     "end_time": "2023-03-05T18:28:07.809141",
     "exception": false,
     "start_time": "2023-03-05T18:28:07.357458",
     "status": "completed"
    },
    "tags": []
   },
   "outputs": [],
   "source": [
    "# Choosing the number of clsters\n",
    "# WCSS --> Within cluster sum of squares\n",
    "# finding WCSS value for different number of custers\n",
    "WCSS = []\n",
    "\n",
    "for i in range(1,11):\n",
    "    kmeans = KMeans(n_clusters=i,init=\"k-means++\",random_state=34)\n",
    "    kmeans.fit(data)\n",
    "    WCSS.append(kmeans.inertia_)"
   ]
  },
  {
   "cell_type": "code",
   "execution_count": 10,
   "id": "406ed52f",
   "metadata": {
    "execution": {
     "iopub.execute_input": "2023-03-05T18:28:07.824499Z",
     "iopub.status.busy": "2023-03-05T18:28:07.823366Z",
     "iopub.status.idle": "2023-03-05T18:28:08.054823Z",
     "shell.execute_reply": "2023-03-05T18:28:08.053548Z"
    },
    "papermill": {
     "duration": 0.242306,
     "end_time": "2023-03-05T18:28:08.057872",
     "exception": false,
     "start_time": "2023-03-05T18:28:07.815566",
     "status": "completed"
    },
    "tags": []
   },
   "outputs": [
    {
     "data": {
      "image/png": "[encoded data removed]",
      "text/plain": [
       "<Figure size 640x480 with 1 Axes>"
      ]
     },
     "metadata": {},
     "output_type": "display_data"
    }
   ],
   "source": [
    "# Creating the elbow Graph\n",
    "sns.set()\n",
    "plt.plot(range(1,11),WCSS)\n",
    "plt.title('the Elbow Graph')\n",
    "plt.ylabel('inertia')\n",
    "plt.xlabel('Wcss')\n",
    "plt.show()"
   ]
  },
  {
   "cell_type": "markdown",
   "id": "de808d64",
   "metadata": {
    "papermill": {
     "duration": 0.005573,
     "end_time": "2023-03-05T18:28:08.069289",
     "exception": false,
     "start_time": "2023-03-05T18:28:08.063716",
     "status": "completed"
    },
    "tags": []
   },
   "source": [
    "# Optimum number fo custer is 5\n",
    "**Training the k-means model**"
   ]
  },
  {
   "cell_type": "code",
   "execution_count": 11,
   "id": "731661a6",
   "metadata": {
    "execution": {
     "iopub.execute_input": "2023-03-05T18:28:08.084029Z",
     "iopub.status.busy": "2023-03-05T18:28:08.082867Z",
     "iopub.status.idle": "2023-03-05T18:28:08.111439Z",
     "shell.execute_reply": "2023-03-05T18:28:08.110377Z"
    },
    "papermill": {
     "duration": 0.038907,
     "end_time": "2023-03-05T18:28:08.114319",
     "exception": false,
     "start_time": "2023-03-05T18:28:08.075412",
     "status": "completed"
    },
    "tags": []
   },
   "outputs": [],
   "source": [
    "kmeans = KMeans(n_clusters=5,random_state=55)\n",
    "\n",
    "# Return the labels for each clusters\n",
    "\n",
    "y = kmeans.fit_predict(data)\n"
   ]
  },
  {
   "cell_type": "code",
   "execution_count": 12,
   "id": "60dbc444",
   "metadata": {
    "execution": {
     "iopub.execute_input": "2023-03-05T18:28:08.130103Z",
     "iopub.status.busy": "2023-03-05T18:28:08.128993Z",
     "iopub.status.idle": "2023-03-05T18:28:08.136400Z",
     "shell.execute_reply": "2023-03-05T18:28:08.135537Z"
    },
    "papermill": {
     "duration": 0.017407,
     "end_time": "2023-03-05T18:28:08.138621",
     "exception": false,
     "start_time": "2023-03-05T18:28:08.121214",
     "status": "completed"
    },
    "tags": []
   },
   "outputs": [
    {
     "data": {
      "text/plain": [
       "array([3, 4, 3, 4, 3, 4, 3, 4, 3, 4, 3, 4, 3, 4, 3, 4, 3, 4, 3, 4, 3, 4,\n",
       "       3, 4, 3, 4, 3, 4, 3, 4, 3, 4, 3, 4, 3, 4, 3, 4, 3, 4, 3, 4, 3, 0,\n",
       "       3, 4, 0, 0, 0, 0, 0, 0, 0, 0, 0, 0, 0, 0, 0, 0, 0, 0, 0, 0, 0, 0,\n",
       "       0, 0, 0, 0, 0, 0, 0, 0, 0, 0, 0, 0, 0, 0, 0, 0, 0, 0, 0, 0, 0, 0,\n",
       "       0, 0, 0, 0, 0, 0, 0, 0, 0, 0, 0, 0, 0, 0, 0, 0, 0, 0, 0, 0, 0, 0,\n",
       "       0, 0, 0, 0, 0, 0, 0, 0, 0, 0, 0, 0, 0, 1, 2, 1, 0, 1, 2, 1, 2, 1,\n",
       "       0, 1, 2, 1, 2, 1, 2, 1, 2, 1, 0, 1, 2, 1, 2, 1, 2, 1, 2, 1, 2, 1,\n",
       "       2, 1, 2, 1, 2, 1, 2, 1, 2, 1, 2, 1, 2, 1, 2, 1, 2, 1, 2, 1, 2, 1,\n",
       "       2, 1, 2, 1, 2, 1, 2, 1, 2, 1, 2, 1, 2, 1, 2, 1, 2, 1, 2, 1, 2, 1,\n",
       "       2, 1], dtype=int32)"
      ]
     },
     "execution_count": 12,
     "metadata": {},
     "output_type": "execute_result"
    }
   ],
   "source": [
    "y"
   ]
  },
  {
   "cell_type": "markdown",
   "id": "7c1f66a7",
   "metadata": {
    "papermill": {
     "duration": 0.006664,
     "end_time": "2023-03-05T18:28:08.151118",
     "exception": false,
     "start_time": "2023-03-05T18:28:08.144454",
     "status": "completed"
    },
    "tags": []
   },
   "source": [
    "#  Visualizing the clusters\n"
   ]
  },
  {
   "cell_type": "code",
   "execution_count": 13,
   "id": "76f7ac92",
   "metadata": {
    "execution": {
     "iopub.execute_input": "2023-03-05T18:28:08.164874Z",
     "iopub.status.busy": "2023-03-05T18:28:08.164174Z",
     "iopub.status.idle": "2023-03-05T18:28:08.715457Z",
     "shell.execute_reply": "2023-03-05T18:28:08.714178Z"
    },
    "papermill": {
     "duration": 0.561916,
     "end_time": "2023-03-05T18:28:08.718808",
     "exception": false,
     "start_time": "2023-03-05T18:28:08.156892",
     "status": "completed"
    },
    "tags": []
   },
   "outputs": [
    {
     "data": {
      "text/plain": [
       "Text(0, 0.5, 'Spending Score')"
      ]
     },
     "execution_count": 13,
     "metadata": {},
     "output_type": "execute_result"
    },
    {
     "data": {
      "image/png": "[encoded data removed]",
      "text/plain": [
       "<Figure size 1000x800 with 1 Axes>"
      ]
     },
     "metadata": {},
     "output_type": "display_data"
    }
   ],
   "source": [
    "# ploting the clusters the their centroids\n",
    "\n",
    "plt.figure(figsize=(10,8))\n",
    "plt.scatter(data[y==0,0],data[y==0,1],s =50,c=\"green\",label = 'custer 1')\n",
    "plt.scatter(data[y==1,0],data[y==1,1],s =50,c=\"red\",label = 'custer 2')\n",
    "plt.scatter(data[y==2,0],data[y==2,1],s =50,c=\"yellow\",label = 'custer 3')\n",
    "plt.scatter(data[y==3,0],data[y==3,1],s =50,c=\"blue\",label = 'custer 4')\n",
    "plt.scatter(data[y==4,0],data[y==4,1],s =50,c=\"pink\",label = 'custer 5')\n",
    "\n",
    "# ploting the centroids in these clusters\n",
    "plt.scatter(kmeans.cluster_centers_[:,0],kmeans.cluster_centers_[:,1],s = 50,c = \"cyan\",label = 'centriods')\n",
    "plt.title('Customers Groups')\n",
    "plt.xlabel('Annual income')\n",
    "plt.ylabel('Spending Score')\n",
    "\n"
   ]
  },
  {
   "cell_type": "code",
   "execution_count": null,
   "id": "8adc2dc1",
   "metadata": {
    "papermill": {
     "duration": 0.007272,
     "end_time": "2023-03-05T18:28:08.733500",
     "exception": false,
     "start_time": "2023-03-05T18:28:08.726228",
     "status": "completed"
    },
    "tags": []
   },
   "outputs": [],
   "source": []
  }
 ],
 "metadata": {
  "kernelspec": {
   "display_name": "Python 3",
   "language": "python",
   "name": "python3"
  },
  "language_info": {
   "codemirror_mode": {
    "name": "ipython",
    "version": 3
   },
   "file_extension": ".py",
   "mimetype": "text/x-python",
   "name": "python",
   "nbconvert_exporter": "python",
   "pygments_lexer": "ipython3",
   "version": "3.7.12"
  },
  "papermill": {
   "default_parameters": {},
   "duration": 16.886439,
   "end_time": "2023-03-05T18:28:09.665398",
   "environment_variables": {},
   "exception": null,
   "input_path": "__notebook__.ipynb",
   "output_path": "__notebook__.ipynb",
   "parameters": {},
   "start_time": "2023-03-05T18:27:52.778959",
   "version": "2.4.0"
  }
 },
 "nbformat": 4,
 "nbformat_minor": 5
}
