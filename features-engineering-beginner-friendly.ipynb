{
 "cells": [
  {
   "cell_type": "code",
   "execution_count": 1,
   "id": "f1b9264d",
   "metadata": {
    "_cell_guid": "b1076dfc-b9ad-4769-8c92-a6c4dae69d19",
    "_uuid": "8f2839f25d086af736a60e9eeb907d3b93b6e0e5",
    "execution": {
     "iopub.execute_input": "2023-03-09T16:54:24.113656Z",
     "iopub.status.busy": "2023-03-09T16:54:24.112989Z",
     "iopub.status.idle": "2023-03-09T16:54:24.133860Z",
     "shell.execute_reply": "2023-03-09T16:54:24.132545Z"
    },
    "papermill": {
     "duration": 0.037187,
     "end_time": "2023-03-09T16:54:24.136893",
     "exception": false,
     "start_time": "2023-03-09T16:54:24.099706",
     "status": "completed"
    },
    "tags": []
   },
   "outputs": [
    {
     "name": "stdout",
     "output_type": "stream",
     "text": [
      "/kaggle/input/flight-fare-prediction-mh/Data_Train.xlsx\n",
      "/kaggle/input/flight-fare-prediction-mh/Sample_submission.xlsx\n",
      "/kaggle/input/flight-fare-prediction-mh/Test_set.xlsx\n"
     ]
    }
   ],
   "source": [
    "# This Python 3 environment comes with many helpful analytics libraries installed\n",
    "# It is defined by the kaggle/python Docker image: https://github.com/kaggle/docker-python\n",
    "# For example, here's several helpful packages to load\n",
    "\n",
    "import numpy as np # linear algebra\n",
    "import pandas as pd # data processing, CSV file I/O (e.g. pd.read_csv)\n",
    "\n",
    "# Input data files are available in the read-only \"../input/\" directory\n",
    "# For example, running this (by clicking run or pressing Shift+Enter) will list all files under the input directory\n",
    "\n",
    "import os\n",
    "for dirname, _, filenames in os.walk('/kaggle/input'):\n",
    "    for filename in filenames:\n",
    "        print(os.path.join(dirname, filename))\n",
    "\n",
    "# You can write up to 20GB to the current directory (/kaggle/working/) that gets preserved as output when you create a version using \"Save & Run All\" \n",
    "# You can also write temporary files to /kaggle/temp/, but they won't be saved outside of the current session"
   ]
  },
  {
   "cell_type": "code",
   "execution_count": 2,
   "id": "b3749c8c",
   "metadata": {
    "execution": {
     "iopub.execute_input": "2023-03-09T16:54:24.157752Z",
     "iopub.status.busy": "2023-03-09T16:54:24.157164Z",
     "iopub.status.idle": "2023-03-09T16:54:25.469532Z",
     "shell.execute_reply": "2023-03-09T16:54:25.467953Z"
    },
    "papermill": {
     "duration": 1.326333,
     "end_time": "2023-03-09T16:54:25.472850",
     "exception": false,
     "start_time": "2023-03-09T16:54:24.146517",
     "status": "completed"
    },
    "tags": []
   },
   "outputs": [],
   "source": [
    "#importing dependencies \n",
    "import pandas as pd \n",
    "import numpy as np \n",
    "import seaborn as sns\n",
    "import matplotlib.pyplot as plt\n",
    "%matplotlib inline\n",
    "import warnings\n",
    "warnings.filterwarnings(\"ignore\")"
   ]
  },
  {
   "cell_type": "code",
   "execution_count": 3,
   "id": "23b7cea3",
   "metadata": {
    "execution": {
     "iopub.execute_input": "2023-03-09T16:54:25.494177Z",
     "iopub.status.busy": "2023-03-09T16:54:25.493744Z",
     "iopub.status.idle": "2023-03-09T16:54:27.846830Z",
     "shell.execute_reply": "2023-03-09T16:54:27.845273Z"
    },
    "papermill": {
     "duration": 2.367722,
     "end_time": "2023-03-09T16:54:27.850081",
     "exception": false,
     "start_time": "2023-03-09T16:54:25.482359",
     "status": "completed"
    },
    "tags": []
   },
   "outputs": [
    {
     "data": {
      "text/html": [
       "<div>\n",
       "<style scoped>\n",
       "    .dataframe tbody tr th:only-of-type {\n",
       "        vertical-align: middle;\n",
       "    }\n",
       "\n",
       "    .dataframe tbody tr th {\n",
       "        vertical-align: top;\n",
       "    }\n",
       "\n",
       "    .dataframe thead th {\n",
       "        text-align: right;\n",
       "    }\n",
       "</style>\n",
       "<table border=\"1\" class=\"dataframe\">\n",
       "  <thead>\n",
       "    <tr style=\"text-align: right;\">\n",
       "      <th></th>\n",
       "      <th>Airline</th>\n",
       "      <th>Date_of_Journey</th>\n",
       "      <th>Source</th>\n",
       "      <th>Destination</th>\n",
       "      <th>Route</th>\n",
       "      <th>Dep_Time</th>\n",
       "      <th>Arrival_Time</th>\n",
       "      <th>Duration</th>\n",
       "      <th>Total_Stops</th>\n",
       "      <th>Additional_Info</th>\n",
       "      <th>Price</th>\n",
       "    </tr>\n",
       "  </thead>\n",
       "  <tbody>\n",
       "    <tr>\n",
       "      <th>0</th>\n",
       "      <td>IndiGo</td>\n",
       "      <td>24/03/2019</td>\n",
       "      <td>Banglore</td>\n",
       "      <td>New Delhi</td>\n",
       "      <td>BLR → DEL</td>\n",
       "      <td>22:20</td>\n",
       "      <td>01:10 22 Mar</td>\n",
       "      <td>2h 50m</td>\n",
       "      <td>non-stop</td>\n",
       "      <td>No info</td>\n",
       "      <td>3897</td>\n",
       "    </tr>\n",
       "    <tr>\n",
       "      <th>1</th>\n",
       "      <td>Air India</td>\n",
       "      <td>1/05/2019</td>\n",
       "      <td>Kolkata</td>\n",
       "      <td>Banglore</td>\n",
       "      <td>CCU → IXR → BBI → BLR</td>\n",
       "      <td>05:50</td>\n",
       "      <td>13:15</td>\n",
       "      <td>7h 25m</td>\n",
       "      <td>2 stops</td>\n",
       "      <td>No info</td>\n",
       "      <td>7662</td>\n",
       "    </tr>\n",
       "    <tr>\n",
       "      <th>2</th>\n",
       "      <td>Jet Airways</td>\n",
       "      <td>9/06/2019</td>\n",
       "      <td>Delhi</td>\n",
       "      <td>Cochin</td>\n",
       "      <td>DEL → LKO → BOM → COK</td>\n",
       "      <td>09:25</td>\n",
       "      <td>04:25 10 Jun</td>\n",
       "      <td>19h</td>\n",
       "      <td>2 stops</td>\n",
       "      <td>No info</td>\n",
       "      <td>13882</td>\n",
       "    </tr>\n",
       "    <tr>\n",
       "      <th>3</th>\n",
       "      <td>IndiGo</td>\n",
       "      <td>12/05/2019</td>\n",
       "      <td>Kolkata</td>\n",
       "      <td>Banglore</td>\n",
       "      <td>CCU → NAG → BLR</td>\n",
       "      <td>18:05</td>\n",
       "      <td>23:30</td>\n",
       "      <td>5h 25m</td>\n",
       "      <td>1 stop</td>\n",
       "      <td>No info</td>\n",
       "      <td>6218</td>\n",
       "    </tr>\n",
       "    <tr>\n",
       "      <th>4</th>\n",
       "      <td>IndiGo</td>\n",
       "      <td>01/03/2019</td>\n",
       "      <td>Banglore</td>\n",
       "      <td>New Delhi</td>\n",
       "      <td>BLR → NAG → DEL</td>\n",
       "      <td>16:50</td>\n",
       "      <td>21:35</td>\n",
       "      <td>4h 45m</td>\n",
       "      <td>1 stop</td>\n",
       "      <td>No info</td>\n",
       "      <td>13302</td>\n",
       "    </tr>\n",
       "  </tbody>\n",
       "</table>\n",
       "</div>"
      ],
      "text/plain": [
       "       Airline Date_of_Journey    Source Destination                  Route  \\\n",
       "0       IndiGo      24/03/2019  Banglore   New Delhi              BLR → DEL   \n",
       "1    Air India       1/05/2019   Kolkata    Banglore  CCU → IXR → BBI → BLR   \n",
       "2  Jet Airways       9/06/2019     Delhi      Cochin  DEL → LKO → BOM → COK   \n",
       "3       IndiGo      12/05/2019   Kolkata    Banglore        CCU → NAG → BLR   \n",
       "4       IndiGo      01/03/2019  Banglore   New Delhi        BLR → NAG → DEL   \n",
       "\n",
       "  Dep_Time  Arrival_Time Duration Total_Stops Additional_Info  Price  \n",
       "0    22:20  01:10 22 Mar   2h 50m    non-stop         No info   3897  \n",
       "1    05:50         13:15   7h 25m     2 stops         No info   7662  \n",
       "2    09:25  04:25 10 Jun      19h     2 stops         No info  13882  \n",
       "3    18:05         23:30   5h 25m      1 stop         No info   6218  \n",
       "4    16:50         21:35   4h 45m      1 stop         No info  13302  "
      ]
     },
     "execution_count": 3,
     "metadata": {},
     "output_type": "execute_result"
    }
   ],
   "source": [
    "train = pd.read_excel('/kaggle/input/flight-fare-prediction-mh/Data_Train.xlsx') #loading data\n",
    "train.head()"
   ]
  },
  {
   "cell_type": "code",
   "execution_count": 4,
   "id": "393a32fc",
   "metadata": {
    "execution": {
     "iopub.execute_input": "2023-03-09T16:54:27.874188Z",
     "iopub.status.busy": "2023-03-09T16:54:27.873418Z",
     "iopub.status.idle": "2023-03-09T16:54:28.320673Z",
     "shell.execute_reply": "2023-03-09T16:54:28.319362Z"
    },
    "papermill": {
     "duration": 0.462474,
     "end_time": "2023-03-09T16:54:28.323532",
     "exception": false,
     "start_time": "2023-03-09T16:54:27.861058",
     "status": "completed"
    },
    "tags": []
   },
   "outputs": [
    {
     "data": {
      "text/html": [
       "<div>\n",
       "<style scoped>\n",
       "    .dataframe tbody tr th:only-of-type {\n",
       "        vertical-align: middle;\n",
       "    }\n",
       "\n",
       "    .dataframe tbody tr th {\n",
       "        vertical-align: top;\n",
       "    }\n",
       "\n",
       "    .dataframe thead th {\n",
       "        text-align: right;\n",
       "    }\n",
       "</style>\n",
       "<table border=\"1\" class=\"dataframe\">\n",
       "  <thead>\n",
       "    <tr style=\"text-align: right;\">\n",
       "      <th></th>\n",
       "      <th>Airline</th>\n",
       "      <th>Date_of_Journey</th>\n",
       "      <th>Source</th>\n",
       "      <th>Destination</th>\n",
       "      <th>Route</th>\n",
       "      <th>Dep_Time</th>\n",
       "      <th>Arrival_Time</th>\n",
       "      <th>Duration</th>\n",
       "      <th>Total_Stops</th>\n",
       "      <th>Additional_Info</th>\n",
       "    </tr>\n",
       "  </thead>\n",
       "  <tbody>\n",
       "    <tr>\n",
       "      <th>0</th>\n",
       "      <td>Jet Airways</td>\n",
       "      <td>6/06/2019</td>\n",
       "      <td>Delhi</td>\n",
       "      <td>Cochin</td>\n",
       "      <td>DEL → BOM → COK</td>\n",
       "      <td>17:30</td>\n",
       "      <td>04:25 07 Jun</td>\n",
       "      <td>10h 55m</td>\n",
       "      <td>1 stop</td>\n",
       "      <td>No info</td>\n",
       "    </tr>\n",
       "    <tr>\n",
       "      <th>1</th>\n",
       "      <td>IndiGo</td>\n",
       "      <td>12/05/2019</td>\n",
       "      <td>Kolkata</td>\n",
       "      <td>Banglore</td>\n",
       "      <td>CCU → MAA → BLR</td>\n",
       "      <td>06:20</td>\n",
       "      <td>10:20</td>\n",
       "      <td>4h</td>\n",
       "      <td>1 stop</td>\n",
       "      <td>No info</td>\n",
       "    </tr>\n",
       "    <tr>\n",
       "      <th>2</th>\n",
       "      <td>Jet Airways</td>\n",
       "      <td>21/05/2019</td>\n",
       "      <td>Delhi</td>\n",
       "      <td>Cochin</td>\n",
       "      <td>DEL → BOM → COK</td>\n",
       "      <td>19:15</td>\n",
       "      <td>19:00 22 May</td>\n",
       "      <td>23h 45m</td>\n",
       "      <td>1 stop</td>\n",
       "      <td>In-flight meal not included</td>\n",
       "    </tr>\n",
       "    <tr>\n",
       "      <th>3</th>\n",
       "      <td>Multiple carriers</td>\n",
       "      <td>21/05/2019</td>\n",
       "      <td>Delhi</td>\n",
       "      <td>Cochin</td>\n",
       "      <td>DEL → BOM → COK</td>\n",
       "      <td>08:00</td>\n",
       "      <td>21:00</td>\n",
       "      <td>13h</td>\n",
       "      <td>1 stop</td>\n",
       "      <td>No info</td>\n",
       "    </tr>\n",
       "    <tr>\n",
       "      <th>4</th>\n",
       "      <td>Air Asia</td>\n",
       "      <td>24/06/2019</td>\n",
       "      <td>Banglore</td>\n",
       "      <td>Delhi</td>\n",
       "      <td>BLR → DEL</td>\n",
       "      <td>23:55</td>\n",
       "      <td>02:45 25 Jun</td>\n",
       "      <td>2h 50m</td>\n",
       "      <td>non-stop</td>\n",
       "      <td>No info</td>\n",
       "    </tr>\n",
       "  </tbody>\n",
       "</table>\n",
       "</div>"
      ],
      "text/plain": [
       "             Airline Date_of_Journey    Source Destination            Route  \\\n",
       "0        Jet Airways       6/06/2019     Delhi      Cochin  DEL → BOM → COK   \n",
       "1             IndiGo      12/05/2019   Kolkata    Banglore  CCU → MAA → BLR   \n",
       "2        Jet Airways      21/05/2019     Delhi      Cochin  DEL → BOM → COK   \n",
       "3  Multiple carriers      21/05/2019     Delhi      Cochin  DEL → BOM → COK   \n",
       "4           Air Asia      24/06/2019  Banglore       Delhi        BLR → DEL   \n",
       "\n",
       "  Dep_Time  Arrival_Time Duration Total_Stops              Additional_Info  \n",
       "0    17:30  04:25 07 Jun  10h 55m      1 stop                      No info  \n",
       "1    06:20         10:20       4h      1 stop                      No info  \n",
       "2    19:15  19:00 22 May  23h 45m      1 stop  In-flight meal not included  \n",
       "3    08:00         21:00      13h      1 stop                      No info  \n",
       "4    23:55  02:45 25 Jun   2h 50m    non-stop                      No info  "
      ]
     },
     "execution_count": 4,
     "metadata": {},
     "output_type": "execute_result"
    }
   ],
   "source": [
    "test = pd.read_excel('/kaggle/input/flight-fare-prediction-mh/Test_set.xlsx')\n",
    "test.head()"
   ]
  },
  {
   "cell_type": "code",
   "execution_count": 5,
   "id": "a0de28a8",
   "metadata": {
    "execution": {
     "iopub.execute_input": "2023-03-09T16:54:28.348289Z",
     "iopub.status.busy": "2023-03-09T16:54:28.347815Z",
     "iopub.status.idle": "2023-03-09T16:54:28.383898Z",
     "shell.execute_reply": "2023-03-09T16:54:28.382919Z"
    },
    "papermill": {
     "duration": 0.053625,
     "end_time": "2023-03-09T16:54:28.387793",
     "exception": false,
     "start_time": "2023-03-09T16:54:28.334168",
     "status": "completed"
    },
    "tags": []
   },
   "outputs": [
    {
     "name": "stdout",
     "output_type": "stream",
     "text": [
      "<class 'pandas.core.frame.DataFrame'>\n",
      "RangeIndex: 10683 entries, 0 to 10682\n",
      "Data columns (total 11 columns):\n",
      " #   Column           Non-Null Count  Dtype \n",
      "---  ------           --------------  ----- \n",
      " 0   Airline          10683 non-null  object\n",
      " 1   Date_of_Journey  10683 non-null  object\n",
      " 2   Source           10683 non-null  object\n",
      " 3   Destination      10683 non-null  object\n",
      " 4   Route            10682 non-null  object\n",
      " 5   Dep_Time         10683 non-null  object\n",
      " 6   Arrival_Time     10683 non-null  object\n",
      " 7   Duration         10683 non-null  object\n",
      " 8   Total_Stops      10682 non-null  object\n",
      " 9   Additional_Info  10683 non-null  object\n",
      " 10  Price            10683 non-null  int64 \n",
      "dtypes: int64(1), object(10)\n",
      "memory usage: 918.2+ KB\n"
     ]
    }
   ],
   "source": [
    "train.info()"
   ]
  },
  {
   "cell_type": "code",
   "execution_count": 6,
   "id": "9bfcce49",
   "metadata": {
    "execution": {
     "iopub.execute_input": "2023-03-09T16:54:28.411110Z",
     "iopub.status.busy": "2023-03-09T16:54:28.410634Z",
     "iopub.status.idle": "2023-03-09T16:54:28.425717Z",
     "shell.execute_reply": "2023-03-09T16:54:28.424247Z"
    },
    "papermill": {
     "duration": 0.031078,
     "end_time": "2023-03-09T16:54:28.429378",
     "exception": false,
     "start_time": "2023-03-09T16:54:28.398300",
     "status": "completed"
    },
    "tags": []
   },
   "outputs": [
    {
     "name": "stdout",
     "output_type": "stream",
     "text": [
      "<class 'pandas.core.frame.DataFrame'>\n",
      "RangeIndex: 2671 entries, 0 to 2670\n",
      "Data columns (total 10 columns):\n",
      " #   Column           Non-Null Count  Dtype \n",
      "---  ------           --------------  ----- \n",
      " 0   Airline          2671 non-null   object\n",
      " 1   Date_of_Journey  2671 non-null   object\n",
      " 2   Source           2671 non-null   object\n",
      " 3   Destination      2671 non-null   object\n",
      " 4   Route            2671 non-null   object\n",
      " 5   Dep_Time         2671 non-null   object\n",
      " 6   Arrival_Time     2671 non-null   object\n",
      " 7   Duration         2671 non-null   object\n",
      " 8   Total_Stops      2671 non-null   object\n",
      " 9   Additional_Info  2671 non-null   object\n",
      "dtypes: object(10)\n",
      "memory usage: 208.8+ KB\n"
     ]
    }
   ],
   "source": [
    "test.info()"
   ]
  },
  {
   "cell_type": "code",
   "execution_count": 7,
   "id": "3a13f8eb",
   "metadata": {
    "execution": {
     "iopub.execute_input": "2023-03-09T16:54:28.454842Z",
     "iopub.status.busy": "2023-03-09T16:54:28.454308Z",
     "iopub.status.idle": "2023-03-09T16:54:28.470878Z",
     "shell.execute_reply": "2023-03-09T16:54:28.469540Z"
    },
    "papermill": {
     "duration": 0.032544,
     "end_time": "2023-03-09T16:54:28.473640",
     "exception": false,
     "start_time": "2023-03-09T16:54:28.441096",
     "status": "completed"
    },
    "tags": []
   },
   "outputs": [
    {
     "data": {
      "text/plain": [
       "Airline            0\n",
       "Date_of_Journey    0\n",
       "Source             0\n",
       "Destination        0\n",
       "Route              1\n",
       "Dep_Time           0\n",
       "Arrival_Time       0\n",
       "Duration           0\n",
       "Total_Stops        1\n",
       "Additional_Info    0\n",
       "Price              0\n",
       "dtype: int64"
      ]
     },
     "execution_count": 7,
     "metadata": {},
     "output_type": "execute_result"
    }
   ],
   "source": [
    "# checking null values\n",
    "train.isnull().sum()"
   ]
  },
  {
   "cell_type": "code",
   "execution_count": 8,
   "id": "bf918909",
   "metadata": {
    "execution": {
     "iopub.execute_input": "2023-03-09T16:54:28.497365Z",
     "iopub.status.busy": "2023-03-09T16:54:28.496851Z",
     "iopub.status.idle": "2023-03-09T16:54:28.507468Z",
     "shell.execute_reply": "2023-03-09T16:54:28.506196Z"
    },
    "papermill": {
     "duration": 0.025711,
     "end_time": "2023-03-09T16:54:28.510276",
     "exception": false,
     "start_time": "2023-03-09T16:54:28.484565",
     "status": "completed"
    },
    "tags": []
   },
   "outputs": [],
   "source": [
    "#combining the data together\n",
    "final_data = train.append(test)"
   ]
  },
  {
   "cell_type": "code",
   "execution_count": 9,
   "id": "340ac017",
   "metadata": {
    "execution": {
     "iopub.execute_input": "2023-03-09T16:54:28.534962Z",
     "iopub.status.busy": "2023-03-09T16:54:28.533440Z",
     "iopub.status.idle": "2023-03-09T16:54:28.556546Z",
     "shell.execute_reply": "2023-03-09T16:54:28.555141Z"
    },
    "papermill": {
     "duration": 0.038159,
     "end_time": "2023-03-09T16:54:28.559139",
     "exception": false,
     "start_time": "2023-03-09T16:54:28.520980",
     "status": "completed"
    },
    "tags": []
   },
   "outputs": [
    {
     "data": {
      "text/html": [
       "<div>\n",
       "<style scoped>\n",
       "    .dataframe tbody tr th:only-of-type {\n",
       "        vertical-align: middle;\n",
       "    }\n",
       "\n",
       "    .dataframe tbody tr th {\n",
       "        vertical-align: top;\n",
       "    }\n",
       "\n",
       "    .dataframe thead th {\n",
       "        text-align: right;\n",
       "    }\n",
       "</style>\n",
       "<table border=\"1\" class=\"dataframe\">\n",
       "  <thead>\n",
       "    <tr style=\"text-align: right;\">\n",
       "      <th></th>\n",
       "      <th>Airline</th>\n",
       "      <th>Date_of_Journey</th>\n",
       "      <th>Source</th>\n",
       "      <th>Destination</th>\n",
       "      <th>Route</th>\n",
       "      <th>Dep_Time</th>\n",
       "      <th>Arrival_Time</th>\n",
       "      <th>Duration</th>\n",
       "      <th>Total_Stops</th>\n",
       "      <th>Additional_Info</th>\n",
       "      <th>Price</th>\n",
       "    </tr>\n",
       "  </thead>\n",
       "  <tbody>\n",
       "    <tr>\n",
       "      <th>7744</th>\n",
       "      <td>IndiGo</td>\n",
       "      <td>21/06/2019</td>\n",
       "      <td>Banglore</td>\n",
       "      <td>Delhi</td>\n",
       "      <td>BLR → DEL</td>\n",
       "      <td>23:30</td>\n",
       "      <td>02:20 22 Jun</td>\n",
       "      <td>2h 50m</td>\n",
       "      <td>non-stop</td>\n",
       "      <td>No info</td>\n",
       "      <td>4077.0</td>\n",
       "    </tr>\n",
       "    <tr>\n",
       "      <th>1110</th>\n",
       "      <td>IndiGo</td>\n",
       "      <td>01/03/2019</td>\n",
       "      <td>Banglore</td>\n",
       "      <td>New Delhi</td>\n",
       "      <td>BLR → STV → DEL</td>\n",
       "      <td>11:20</td>\n",
       "      <td>15:25</td>\n",
       "      <td>4h 5m</td>\n",
       "      <td>1 stop</td>\n",
       "      <td>No info</td>\n",
       "      <td>NaN</td>\n",
       "    </tr>\n",
       "    <tr>\n",
       "      <th>3302</th>\n",
       "      <td>SpiceJet</td>\n",
       "      <td>21/06/2019</td>\n",
       "      <td>Kolkata</td>\n",
       "      <td>Banglore</td>\n",
       "      <td>CCU → BLR</td>\n",
       "      <td>22:20</td>\n",
       "      <td>00:40 22 Jun</td>\n",
       "      <td>2h 20m</td>\n",
       "      <td>non-stop</td>\n",
       "      <td>No info</td>\n",
       "      <td>3873.0</td>\n",
       "    </tr>\n",
       "  </tbody>\n",
       "</table>\n",
       "</div>"
      ],
      "text/plain": [
       "       Airline Date_of_Journey    Source Destination            Route  \\\n",
       "7744    IndiGo      21/06/2019  Banglore       Delhi        BLR → DEL   \n",
       "1110    IndiGo      01/03/2019  Banglore   New Delhi  BLR → STV → DEL   \n",
       "3302  SpiceJet      21/06/2019   Kolkata    Banglore        CCU → BLR   \n",
       "\n",
       "     Dep_Time  Arrival_Time Duration Total_Stops Additional_Info   Price  \n",
       "7744    23:30  02:20 22 Jun   2h 50m    non-stop         No info  4077.0  \n",
       "1110    11:20         15:25    4h 5m      1 stop         No info     NaN  \n",
       "3302    22:20  00:40 22 Jun   2h 20m    non-stop         No info  3873.0  "
      ]
     },
     "execution_count": 9,
     "metadata": {},
     "output_type": "execute_result"
    }
   ],
   "source": [
    "final_data.sample(3)"
   ]
  },
  {
   "cell_type": "code",
   "execution_count": 10,
   "id": "81f8d3db",
   "metadata": {
    "execution": {
     "iopub.execute_input": "2023-03-09T16:54:28.583663Z",
     "iopub.status.busy": "2023-03-09T16:54:28.583095Z",
     "iopub.status.idle": "2023-03-09T16:54:28.591976Z",
     "shell.execute_reply": "2023-03-09T16:54:28.590569Z"
    },
    "papermill": {
     "duration": 0.024869,
     "end_time": "2023-03-09T16:54:28.594807",
     "exception": false,
     "start_time": "2023-03-09T16:54:28.569938",
     "status": "completed"
    },
    "tags": []
   },
   "outputs": [
    {
     "data": {
      "text/plain": [
       "(13354, 11)"
      ]
     },
     "execution_count": 10,
     "metadata": {},
     "output_type": "execute_result"
    }
   ],
   "source": [
    "final_data.shape"
   ]
  },
  {
   "cell_type": "code",
   "execution_count": 11,
   "id": "2cfd1dc7",
   "metadata": {
    "execution": {
     "iopub.execute_input": "2023-03-09T16:54:28.620409Z",
     "iopub.status.busy": "2023-03-09T16:54:28.619433Z",
     "iopub.status.idle": "2023-03-09T16:54:28.649481Z",
     "shell.execute_reply": "2023-03-09T16:54:28.648061Z"
    },
    "papermill": {
     "duration": 0.046912,
     "end_time": "2023-03-09T16:54:28.652961",
     "exception": false,
     "start_time": "2023-03-09T16:54:28.606049",
     "status": "completed"
    },
    "tags": []
   },
   "outputs": [],
   "source": [
    "#feature engineering process on Date_of_Journey\n",
    "\n",
    "final_data['date']=final_data['Date_of_Journey'].apply(lambda x:x.split('/')[0])\n",
    "final_data['month']=final_data['Date_of_Journey'].apply(lambda x:x.split('/')[1])\n",
    "final_data['year']=final_data['Date_of_Journey'].apply(lambda x:x.split('/')[2])\n"
   ]
  },
  {
   "cell_type": "code",
   "execution_count": 12,
   "id": "100d8af7",
   "metadata": {
    "execution": {
     "iopub.execute_input": "2023-03-09T16:54:28.677124Z",
     "iopub.status.busy": "2023-03-09T16:54:28.676657Z",
     "iopub.status.idle": "2023-03-09T16:54:28.691647Z",
     "shell.execute_reply": "2023-03-09T16:54:28.689973Z"
    },
    "papermill": {
     "duration": 0.030527,
     "end_time": "2023-03-09T16:54:28.694447",
     "exception": false,
     "start_time": "2023-03-09T16:54:28.663920",
     "status": "completed"
    },
    "tags": []
   },
   "outputs": [],
   "source": [
    "final_data['date']=final_data['date'].astype(int)\n",
    "final_data['month']=final_data['month'].astype(int)\n",
    "final_data['year']=final_data['year'].astype(int)"
   ]
  },
  {
   "cell_type": "code",
   "execution_count": 13,
   "id": "30b2aa3c",
   "metadata": {
    "execution": {
     "iopub.execute_input": "2023-03-09T16:54:28.718623Z",
     "iopub.status.busy": "2023-03-09T16:54:28.718067Z",
     "iopub.status.idle": "2023-03-09T16:54:28.730038Z",
     "shell.execute_reply": "2023-03-09T16:54:28.728973Z"
    },
    "papermill": {
     "duration": 0.027601,
     "end_time": "2023-03-09T16:54:28.732993",
     "exception": false,
     "start_time": "2023-03-09T16:54:28.705392",
     "status": "completed"
    },
    "tags": []
   },
   "outputs": [],
   "source": [
    "final_data.drop('Date_of_Journey',axis=1,inplace = True)\n"
   ]
  },
  {
   "cell_type": "code",
   "execution_count": 14,
   "id": "cc0f42c3",
   "metadata": {
    "execution": {
     "iopub.execute_input": "2023-03-09T16:54:28.757494Z",
     "iopub.status.busy": "2023-03-09T16:54:28.756985Z",
     "iopub.status.idle": "2023-03-09T16:54:28.776496Z",
     "shell.execute_reply": "2023-03-09T16:54:28.775166Z"
    },
    "papermill": {
     "duration": 0.035325,
     "end_time": "2023-03-09T16:54:28.779297",
     "exception": false,
     "start_time": "2023-03-09T16:54:28.743972",
     "status": "completed"
    },
    "tags": []
   },
   "outputs": [
    {
     "data": {
      "text/html": [
       "<div>\n",
       "<style scoped>\n",
       "    .dataframe tbody tr th:only-of-type {\n",
       "        vertical-align: middle;\n",
       "    }\n",
       "\n",
       "    .dataframe tbody tr th {\n",
       "        vertical-align: top;\n",
       "    }\n",
       "\n",
       "    .dataframe thead th {\n",
       "        text-align: right;\n",
       "    }\n",
       "</style>\n",
       "<table border=\"1\" class=\"dataframe\">\n",
       "  <thead>\n",
       "    <tr style=\"text-align: right;\">\n",
       "      <th></th>\n",
       "      <th>Airline</th>\n",
       "      <th>Source</th>\n",
       "      <th>Destination</th>\n",
       "      <th>Route</th>\n",
       "      <th>Dep_Time</th>\n",
       "      <th>Arrival_Time</th>\n",
       "      <th>Duration</th>\n",
       "      <th>Total_Stops</th>\n",
       "      <th>Additional_Info</th>\n",
       "      <th>Price</th>\n",
       "      <th>date</th>\n",
       "      <th>month</th>\n",
       "      <th>year</th>\n",
       "    </tr>\n",
       "  </thead>\n",
       "  <tbody>\n",
       "    <tr>\n",
       "      <th>0</th>\n",
       "      <td>IndiGo</td>\n",
       "      <td>Banglore</td>\n",
       "      <td>New Delhi</td>\n",
       "      <td>BLR → DEL</td>\n",
       "      <td>22:20</td>\n",
       "      <td>01:10 22 Mar</td>\n",
       "      <td>2h 50m</td>\n",
       "      <td>non-stop</td>\n",
       "      <td>No info</td>\n",
       "      <td>3897.0</td>\n",
       "      <td>24</td>\n",
       "      <td>3</td>\n",
       "      <td>2019</td>\n",
       "    </tr>\n",
       "    <tr>\n",
       "      <th>1</th>\n",
       "      <td>Air India</td>\n",
       "      <td>Kolkata</td>\n",
       "      <td>Banglore</td>\n",
       "      <td>CCU → IXR → BBI → BLR</td>\n",
       "      <td>05:50</td>\n",
       "      <td>13:15</td>\n",
       "      <td>7h 25m</td>\n",
       "      <td>2 stops</td>\n",
       "      <td>No info</td>\n",
       "      <td>7662.0</td>\n",
       "      <td>1</td>\n",
       "      <td>5</td>\n",
       "      <td>2019</td>\n",
       "    </tr>\n",
       "    <tr>\n",
       "      <th>2</th>\n",
       "      <td>Jet Airways</td>\n",
       "      <td>Delhi</td>\n",
       "      <td>Cochin</td>\n",
       "      <td>DEL → LKO → BOM → COK</td>\n",
       "      <td>09:25</td>\n",
       "      <td>04:25 10 Jun</td>\n",
       "      <td>19h</td>\n",
       "      <td>2 stops</td>\n",
       "      <td>No info</td>\n",
       "      <td>13882.0</td>\n",
       "      <td>9</td>\n",
       "      <td>6</td>\n",
       "      <td>2019</td>\n",
       "    </tr>\n",
       "    <tr>\n",
       "      <th>3</th>\n",
       "      <td>IndiGo</td>\n",
       "      <td>Kolkata</td>\n",
       "      <td>Banglore</td>\n",
       "      <td>CCU → NAG → BLR</td>\n",
       "      <td>18:05</td>\n",
       "      <td>23:30</td>\n",
       "      <td>5h 25m</td>\n",
       "      <td>1 stop</td>\n",
       "      <td>No info</td>\n",
       "      <td>6218.0</td>\n",
       "      <td>12</td>\n",
       "      <td>5</td>\n",
       "      <td>2019</td>\n",
       "    </tr>\n",
       "    <tr>\n",
       "      <th>4</th>\n",
       "      <td>IndiGo</td>\n",
       "      <td>Banglore</td>\n",
       "      <td>New Delhi</td>\n",
       "      <td>BLR → NAG → DEL</td>\n",
       "      <td>16:50</td>\n",
       "      <td>21:35</td>\n",
       "      <td>4h 45m</td>\n",
       "      <td>1 stop</td>\n",
       "      <td>No info</td>\n",
       "      <td>13302.0</td>\n",
       "      <td>1</td>\n",
       "      <td>3</td>\n",
       "      <td>2019</td>\n",
       "    </tr>\n",
       "  </tbody>\n",
       "</table>\n",
       "</div>"
      ],
      "text/plain": [
       "       Airline    Source Destination                  Route Dep_Time  \\\n",
       "0       IndiGo  Banglore   New Delhi              BLR → DEL    22:20   \n",
       "1    Air India   Kolkata    Banglore  CCU → IXR → BBI → BLR    05:50   \n",
       "2  Jet Airways     Delhi      Cochin  DEL → LKO → BOM → COK    09:25   \n",
       "3       IndiGo   Kolkata    Banglore        CCU → NAG → BLR    18:05   \n",
       "4       IndiGo  Banglore   New Delhi        BLR → NAG → DEL    16:50   \n",
       "\n",
       "   Arrival_Time Duration Total_Stops Additional_Info    Price  date  month  \\\n",
       "0  01:10 22 Mar   2h 50m    non-stop         No info   3897.0    24      3   \n",
       "1         13:15   7h 25m     2 stops         No info   7662.0     1      5   \n",
       "2  04:25 10 Jun      19h     2 stops         No info  13882.0     9      6   \n",
       "3         23:30   5h 25m      1 stop         No info   6218.0    12      5   \n",
       "4         21:35   4h 45m      1 stop         No info  13302.0     1      3   \n",
       "\n",
       "   year  \n",
       "0  2019  \n",
       "1  2019  \n",
       "2  2019  \n",
       "3  2019  \n",
       "4  2019  "
      ]
     },
     "execution_count": 14,
     "metadata": {},
     "output_type": "execute_result"
    }
   ],
   "source": [
    "final_data.head()"
   ]
  },
  {
   "cell_type": "code",
   "execution_count": 15,
   "id": "cff081d1",
   "metadata": {
    "execution": {
     "iopub.execute_input": "2023-03-09T16:54:28.804646Z",
     "iopub.status.busy": "2023-03-09T16:54:28.803261Z",
     "iopub.status.idle": "2023-03-09T16:54:28.817108Z",
     "shell.execute_reply": "2023-03-09T16:54:28.815883Z"
    },
    "papermill": {
     "duration": 0.029422,
     "end_time": "2023-03-09T16:54:28.819914",
     "exception": false,
     "start_time": "2023-03-09T16:54:28.790492",
     "status": "completed"
    },
    "tags": []
   },
   "outputs": [],
   "source": [
    "final_data['Arrival_Time']=final_data['Arrival_Time'].apply(lambda x:x.split(' ')[0])"
   ]
  },
  {
   "cell_type": "code",
   "execution_count": 16,
   "id": "c45ec3af",
   "metadata": {
    "execution": {
     "iopub.execute_input": "2023-03-09T16:54:28.845158Z",
     "iopub.status.busy": "2023-03-09T16:54:28.844671Z",
     "iopub.status.idle": "2023-03-09T16:54:28.871118Z",
     "shell.execute_reply": "2023-03-09T16:54:28.869569Z"
    },
    "papermill": {
     "duration": 0.043226,
     "end_time": "2023-03-09T16:54:28.874417",
     "exception": false,
     "start_time": "2023-03-09T16:54:28.831191",
     "status": "completed"
    },
    "tags": []
   },
   "outputs": [],
   "source": [
    "final_data['Arrival_hour']=final_data['Arrival_Time'].apply(lambda x:x.split(':')[0])\n",
    "final_data['Arrival_min']=final_data['Arrival_Time'].apply(lambda x:x.split(':')[1])\n",
    "final_data['Arrival_hour']=final_data['Arrival_hour'].astype(int)\n",
    "final_data['Arrival_min']=final_data['Arrival_min'].astype(int)"
   ]
  },
  {
   "cell_type": "code",
   "execution_count": 17,
   "id": "adddd612",
   "metadata": {
    "execution": {
     "iopub.execute_input": "2023-03-09T16:54:28.900306Z",
     "iopub.status.busy": "2023-03-09T16:54:28.899825Z",
     "iopub.status.idle": "2023-03-09T16:54:28.909569Z",
     "shell.execute_reply": "2023-03-09T16:54:28.908507Z"
    },
    "papermill": {
     "duration": 0.026262,
     "end_time": "2023-03-09T16:54:28.912413",
     "exception": false,
     "start_time": "2023-03-09T16:54:28.886151",
     "status": "completed"
    },
    "tags": []
   },
   "outputs": [],
   "source": [
    "#droping Arrival_time \n",
    "final_data.drop('Arrival_Time',axis=1,inplace = True)"
   ]
  },
  {
   "cell_type": "code",
   "execution_count": 18,
   "id": "c320b512",
   "metadata": {
    "execution": {
     "iopub.execute_input": "2023-03-09T16:54:28.936978Z",
     "iopub.status.busy": "2023-03-09T16:54:28.936483Z",
     "iopub.status.idle": "2023-03-09T16:54:28.959683Z",
     "shell.execute_reply": "2023-03-09T16:54:28.958143Z"
    },
    "papermill": {
     "duration": 0.039379,
     "end_time": "2023-03-09T16:54:28.963002",
     "exception": false,
     "start_time": "2023-03-09T16:54:28.923623",
     "status": "completed"
    },
    "tags": []
   },
   "outputs": [
    {
     "name": "stdout",
     "output_type": "stream",
     "text": [
      "<class 'pandas.core.frame.DataFrame'>\n",
      "Int64Index: 13354 entries, 0 to 2670\n",
      "Data columns (total 14 columns):\n",
      " #   Column           Non-Null Count  Dtype  \n",
      "---  ------           --------------  -----  \n",
      " 0   Airline          13354 non-null  object \n",
      " 1   Source           13354 non-null  object \n",
      " 2   Destination      13354 non-null  object \n",
      " 3   Route            13353 non-null  object \n",
      " 4   Dep_Time         13354 non-null  object \n",
      " 5   Duration         13354 non-null  object \n",
      " 6   Total_Stops      13353 non-null  object \n",
      " 7   Additional_Info  13354 non-null  object \n",
      " 8   Price            10683 non-null  float64\n",
      " 9   date             13354 non-null  int64  \n",
      " 10  month            13354 non-null  int64  \n",
      " 11  year             13354 non-null  int64  \n",
      " 12  Arrival_hour     13354 non-null  int64  \n",
      " 13  Arrival_min      13354 non-null  int64  \n",
      "dtypes: float64(1), int64(5), object(8)\n",
      "memory usage: 1.5+ MB\n"
     ]
    }
   ],
   "source": [
    "final_data.info()"
   ]
  },
  {
   "cell_type": "code",
   "execution_count": 19,
   "id": "fbe70d9c",
   "metadata": {
    "execution": {
     "iopub.execute_input": "2023-03-09T16:54:28.987881Z",
     "iopub.status.busy": "2023-03-09T16:54:28.987344Z",
     "iopub.status.idle": "2023-03-09T16:54:29.013973Z",
     "shell.execute_reply": "2023-03-09T16:54:29.012763Z"
    },
    "papermill": {
     "duration": 0.042522,
     "end_time": "2023-03-09T16:54:29.016893",
     "exception": false,
     "start_time": "2023-03-09T16:54:28.974371",
     "status": "completed"
    },
    "tags": []
   },
   "outputs": [],
   "source": [
    "final_data['Dep_hour']=final_data['Dep_Time'].apply(lambda x:x.split(':')[0])\n",
    "final_data['Dep_min']=final_data['Dep_Time'].apply(lambda x:x.split(':')[1])\n",
    "final_data['Dep_hour']=final_data['Dep_hour'].astype(int)\n",
    "final_data['Dep_min']=final_data['Dep_min'].astype(int)"
   ]
  },
  {
   "cell_type": "code",
   "execution_count": 20,
   "id": "49d57b4d",
   "metadata": {
    "execution": {
     "iopub.execute_input": "2023-03-09T16:54:29.042597Z",
     "iopub.status.busy": "2023-03-09T16:54:29.042053Z",
     "iopub.status.idle": "2023-03-09T16:54:29.054220Z",
     "shell.execute_reply": "2023-03-09T16:54:29.052534Z"
    },
    "papermill": {
     "duration": 0.028812,
     "end_time": "2023-03-09T16:54:29.057390",
     "exception": false,
     "start_time": "2023-03-09T16:54:29.028578",
     "status": "completed"
    },
    "tags": []
   },
   "outputs": [],
   "source": [
    "#droping Dep_time \n",
    "final_data.drop('Dep_Time',axis=1,inplace = True)"
   ]
  },
  {
   "cell_type": "code",
   "execution_count": 21,
   "id": "ae80e629",
   "metadata": {
    "execution": {
     "iopub.execute_input": "2023-03-09T16:54:29.082420Z",
     "iopub.status.busy": "2023-03-09T16:54:29.081859Z",
     "iopub.status.idle": "2023-03-09T16:54:29.101749Z",
     "shell.execute_reply": "2023-03-09T16:54:29.100443Z"
    },
    "papermill": {
     "duration": 0.035542,
     "end_time": "2023-03-09T16:54:29.104393",
     "exception": false,
     "start_time": "2023-03-09T16:54:29.068851",
     "status": "completed"
    },
    "tags": []
   },
   "outputs": [
    {
     "data": {
      "text/html": [
       "<div>\n",
       "<style scoped>\n",
       "    .dataframe tbody tr th:only-of-type {\n",
       "        vertical-align: middle;\n",
       "    }\n",
       "\n",
       "    .dataframe tbody tr th {\n",
       "        vertical-align: top;\n",
       "    }\n",
       "\n",
       "    .dataframe thead th {\n",
       "        text-align: right;\n",
       "    }\n",
       "</style>\n",
       "<table border=\"1\" class=\"dataframe\">\n",
       "  <thead>\n",
       "    <tr style=\"text-align: right;\">\n",
       "      <th></th>\n",
       "      <th>Airline</th>\n",
       "      <th>Source</th>\n",
       "      <th>Destination</th>\n",
       "      <th>Route</th>\n",
       "      <th>Duration</th>\n",
       "      <th>Total_Stops</th>\n",
       "      <th>Additional_Info</th>\n",
       "      <th>Price</th>\n",
       "      <th>date</th>\n",
       "      <th>month</th>\n",
       "      <th>year</th>\n",
       "      <th>Arrival_hour</th>\n",
       "      <th>Arrival_min</th>\n",
       "      <th>Dep_hour</th>\n",
       "      <th>Dep_min</th>\n",
       "    </tr>\n",
       "  </thead>\n",
       "  <tbody>\n",
       "    <tr>\n",
       "      <th>0</th>\n",
       "      <td>IndiGo</td>\n",
       "      <td>Banglore</td>\n",
       "      <td>New Delhi</td>\n",
       "      <td>BLR → DEL</td>\n",
       "      <td>2h 50m</td>\n",
       "      <td>non-stop</td>\n",
       "      <td>No info</td>\n",
       "      <td>3897.0</td>\n",
       "      <td>24</td>\n",
       "      <td>3</td>\n",
       "      <td>2019</td>\n",
       "      <td>1</td>\n",
       "      <td>10</td>\n",
       "      <td>22</td>\n",
       "      <td>20</td>\n",
       "    </tr>\n",
       "    <tr>\n",
       "      <th>1</th>\n",
       "      <td>Air India</td>\n",
       "      <td>Kolkata</td>\n",
       "      <td>Banglore</td>\n",
       "      <td>CCU → IXR → BBI → BLR</td>\n",
       "      <td>7h 25m</td>\n",
       "      <td>2 stops</td>\n",
       "      <td>No info</td>\n",
       "      <td>7662.0</td>\n",
       "      <td>1</td>\n",
       "      <td>5</td>\n",
       "      <td>2019</td>\n",
       "      <td>13</td>\n",
       "      <td>15</td>\n",
       "      <td>5</td>\n",
       "      <td>50</td>\n",
       "    </tr>\n",
       "  </tbody>\n",
       "</table>\n",
       "</div>"
      ],
      "text/plain": [
       "     Airline    Source Destination                  Route Duration  \\\n",
       "0     IndiGo  Banglore   New Delhi              BLR → DEL   2h 50m   \n",
       "1  Air India   Kolkata    Banglore  CCU → IXR → BBI → BLR   7h 25m   \n",
       "\n",
       "  Total_Stops Additional_Info   Price  date  month  year  Arrival_hour  \\\n",
       "0    non-stop         No info  3897.0    24      3  2019             1   \n",
       "1     2 stops         No info  7662.0     1      5  2019            13   \n",
       "\n",
       "   Arrival_min  Dep_hour  Dep_min  \n",
       "0           10        22       20  \n",
       "1           15         5       50  "
      ]
     },
     "execution_count": 21,
     "metadata": {},
     "output_type": "execute_result"
    }
   ],
   "source": [
    "final_data.head(2)"
   ]
  },
  {
   "cell_type": "code",
   "execution_count": 22,
   "id": "01968882",
   "metadata": {
    "execution": {
     "iopub.execute_input": "2023-03-09T16:54:29.131468Z",
     "iopub.status.busy": "2023-03-09T16:54:29.130915Z",
     "iopub.status.idle": "2023-03-09T16:54:29.141327Z",
     "shell.execute_reply": "2023-03-09T16:54:29.140019Z"
    },
    "papermill": {
     "duration": 0.02794,
     "end_time": "2023-03-09T16:54:29.144170",
     "exception": false,
     "start_time": "2023-03-09T16:54:29.116230",
     "status": "completed"
    },
    "tags": []
   },
   "outputs": [
    {
     "data": {
      "text/plain": [
       "array(['non-stop', '2 stops', '1 stop', '3 stops', nan, '4 stops'],\n",
       "      dtype=object)"
      ]
     },
     "execution_count": 22,
     "metadata": {},
     "output_type": "execute_result"
    }
   ],
   "source": [
    "final_data['Total_Stops'].unique()"
   ]
  },
  {
   "cell_type": "code",
   "execution_count": 23,
   "id": "2db7d8af",
   "metadata": {
    "execution": {
     "iopub.execute_input": "2023-03-09T16:54:29.170080Z",
     "iopub.status.busy": "2023-03-09T16:54:29.169607Z",
     "iopub.status.idle": "2023-03-09T16:54:29.179251Z",
     "shell.execute_reply": "2023-03-09T16:54:29.177771Z"
    },
    "papermill": {
     "duration": 0.025893,
     "end_time": "2023-03-09T16:54:29.181836",
     "exception": false,
     "start_time": "2023-03-09T16:54:29.155943",
     "status": "completed"
    },
    "tags": []
   },
   "outputs": [],
   "source": [
    "final_data['Total_Stops']=final_data['Total_Stops'].map({'non-stop':0,'2 stops':2,'1 stop':1,'3 stops':3,'4 stops':4,'nan':1})"
   ]
  },
  {
   "cell_type": "code",
   "execution_count": 24,
   "id": "3e37ca20",
   "metadata": {
    "execution": {
     "iopub.execute_input": "2023-03-09T16:54:29.208145Z",
     "iopub.status.busy": "2023-03-09T16:54:29.207253Z",
     "iopub.status.idle": "2023-03-09T16:54:29.225938Z",
     "shell.execute_reply": "2023-03-09T16:54:29.224896Z"
    },
    "papermill": {
     "duration": 0.034784,
     "end_time": "2023-03-09T16:54:29.228403",
     "exception": false,
     "start_time": "2023-03-09T16:54:29.193619",
     "status": "completed"
    },
    "tags": []
   },
   "outputs": [
    {
     "data": {
      "text/html": [
       "<div>\n",
       "<style scoped>\n",
       "    .dataframe tbody tr th:only-of-type {\n",
       "        vertical-align: middle;\n",
       "    }\n",
       "\n",
       "    .dataframe tbody tr th {\n",
       "        vertical-align: top;\n",
       "    }\n",
       "\n",
       "    .dataframe thead th {\n",
       "        text-align: right;\n",
       "    }\n",
       "</style>\n",
       "<table border=\"1\" class=\"dataframe\">\n",
       "  <thead>\n",
       "    <tr style=\"text-align: right;\">\n",
       "      <th></th>\n",
       "      <th>Airline</th>\n",
       "      <th>Source</th>\n",
       "      <th>Destination</th>\n",
       "      <th>Route</th>\n",
       "      <th>Duration</th>\n",
       "      <th>Total_Stops</th>\n",
       "      <th>Additional_Info</th>\n",
       "      <th>Price</th>\n",
       "      <th>date</th>\n",
       "      <th>month</th>\n",
       "      <th>year</th>\n",
       "      <th>Arrival_hour</th>\n",
       "      <th>Arrival_min</th>\n",
       "      <th>Dep_hour</th>\n",
       "      <th>Dep_min</th>\n",
       "    </tr>\n",
       "  </thead>\n",
       "  <tbody>\n",
       "    <tr>\n",
       "      <th>0</th>\n",
       "      <td>IndiGo</td>\n",
       "      <td>Banglore</td>\n",
       "      <td>New Delhi</td>\n",
       "      <td>BLR → DEL</td>\n",
       "      <td>2h 50m</td>\n",
       "      <td>0.0</td>\n",
       "      <td>No info</td>\n",
       "      <td>3897.0</td>\n",
       "      <td>24</td>\n",
       "      <td>3</td>\n",
       "      <td>2019</td>\n",
       "      <td>1</td>\n",
       "      <td>10</td>\n",
       "      <td>22</td>\n",
       "      <td>20</td>\n",
       "    </tr>\n",
       "    <tr>\n",
       "      <th>1</th>\n",
       "      <td>Air India</td>\n",
       "      <td>Kolkata</td>\n",
       "      <td>Banglore</td>\n",
       "      <td>CCU → IXR → BBI → BLR</td>\n",
       "      <td>7h 25m</td>\n",
       "      <td>2.0</td>\n",
       "      <td>No info</td>\n",
       "      <td>7662.0</td>\n",
       "      <td>1</td>\n",
       "      <td>5</td>\n",
       "      <td>2019</td>\n",
       "      <td>13</td>\n",
       "      <td>15</td>\n",
       "      <td>5</td>\n",
       "      <td>50</td>\n",
       "    </tr>\n",
       "    <tr>\n",
       "      <th>2</th>\n",
       "      <td>Jet Airways</td>\n",
       "      <td>Delhi</td>\n",
       "      <td>Cochin</td>\n",
       "      <td>DEL → LKO → BOM → COK</td>\n",
       "      <td>19h</td>\n",
       "      <td>2.0</td>\n",
       "      <td>No info</td>\n",
       "      <td>13882.0</td>\n",
       "      <td>9</td>\n",
       "      <td>6</td>\n",
       "      <td>2019</td>\n",
       "      <td>4</td>\n",
       "      <td>25</td>\n",
       "      <td>9</td>\n",
       "      <td>25</td>\n",
       "    </tr>\n",
       "  </tbody>\n",
       "</table>\n",
       "</div>"
      ],
      "text/plain": [
       "       Airline    Source Destination                  Route Duration  \\\n",
       "0       IndiGo  Banglore   New Delhi              BLR → DEL   2h 50m   \n",
       "1    Air India   Kolkata    Banglore  CCU → IXR → BBI → BLR   7h 25m   \n",
       "2  Jet Airways     Delhi      Cochin  DEL → LKO → BOM → COK      19h   \n",
       "\n",
       "   Total_Stops Additional_Info    Price  date  month  year  Arrival_hour  \\\n",
       "0          0.0         No info   3897.0    24      3  2019             1   \n",
       "1          2.0         No info   7662.0     1      5  2019            13   \n",
       "2          2.0         No info  13882.0     9      6  2019             4   \n",
       "\n",
       "   Arrival_min  Dep_hour  Dep_min  \n",
       "0           10        22       20  \n",
       "1           15         5       50  \n",
       "2           25         9       25  "
      ]
     },
     "execution_count": 24,
     "metadata": {},
     "output_type": "execute_result"
    }
   ],
   "source": [
    "final_data.head(3)"
   ]
  },
  {
   "cell_type": "code",
   "execution_count": 25,
   "id": "41146956",
   "metadata": {
    "execution": {
     "iopub.execute_input": "2023-03-09T16:54:29.255298Z",
     "iopub.status.busy": "2023-03-09T16:54:29.254068Z",
     "iopub.status.idle": "2023-03-09T16:54:29.262826Z",
     "shell.execute_reply": "2023-03-09T16:54:29.261851Z"
    },
    "papermill": {
     "duration": 0.025033,
     "end_time": "2023-03-09T16:54:29.265471",
     "exception": false,
     "start_time": "2023-03-09T16:54:29.240438",
     "status": "completed"
    },
    "tags": []
   },
   "outputs": [],
   "source": [
    "#droping the route column because not required\n",
    "final_data.drop('Route',axis=1,inplace =True)"
   ]
  },
  {
   "cell_type": "code",
   "execution_count": 26,
   "id": "29b4fbfb",
   "metadata": {
    "execution": {
     "iopub.execute_input": "2023-03-09T16:54:29.292434Z",
     "iopub.status.busy": "2023-03-09T16:54:29.291190Z",
     "iopub.status.idle": "2023-03-09T16:54:29.356906Z",
     "shell.execute_reply": "2023-03-09T16:54:29.355509Z"
    },
    "papermill": {
     "duration": 0.081931,
     "end_time": "2023-03-09T16:54:29.359678",
     "exception": false,
     "start_time": "2023-03-09T16:54:29.277747",
     "status": "completed"
    },
    "tags": []
   },
   "outputs": [
    {
     "data": {
      "text/html": [
       "<div>\n",
       "<style scoped>\n",
       "    .dataframe tbody tr th:only-of-type {\n",
       "        vertical-align: middle;\n",
       "    }\n",
       "\n",
       "    .dataframe tbody tr th {\n",
       "        vertical-align: top;\n",
       "    }\n",
       "\n",
       "    .dataframe thead th {\n",
       "        text-align: right;\n",
       "    }\n",
       "</style>\n",
       "<table border=\"1\" class=\"dataframe\">\n",
       "  <thead>\n",
       "    <tr style=\"text-align: right;\">\n",
       "      <th></th>\n",
       "      <th>Airline</th>\n",
       "      <th>Source</th>\n",
       "      <th>Destination</th>\n",
       "      <th>Duration</th>\n",
       "      <th>Total_Stops</th>\n",
       "      <th>Additional_Info</th>\n",
       "      <th>Price</th>\n",
       "      <th>date</th>\n",
       "      <th>month</th>\n",
       "      <th>year</th>\n",
       "      <th>Arrival_hour</th>\n",
       "      <th>Arrival_min</th>\n",
       "      <th>Dep_hour</th>\n",
       "      <th>Dep_min</th>\n",
       "      <th>duration_hour</th>\n",
       "    </tr>\n",
       "  </thead>\n",
       "  <tbody>\n",
       "    <tr>\n",
       "      <th>6474</th>\n",
       "      <td>Air India</td>\n",
       "      <td>Mumbai</td>\n",
       "      <td>Hyderabad</td>\n",
       "      <td>5m</td>\n",
       "      <td>2.0</td>\n",
       "      <td>No info</td>\n",
       "      <td>17327.0</td>\n",
       "      <td>6</td>\n",
       "      <td>3</td>\n",
       "      <td>2019</td>\n",
       "      <td>16</td>\n",
       "      <td>55</td>\n",
       "      <td>16</td>\n",
       "      <td>50</td>\n",
       "      <td>5m</td>\n",
       "    </tr>\n",
       "    <tr>\n",
       "      <th>2660</th>\n",
       "      <td>Air India</td>\n",
       "      <td>Mumbai</td>\n",
       "      <td>Hyderabad</td>\n",
       "      <td>5m</td>\n",
       "      <td>2.0</td>\n",
       "      <td>No info</td>\n",
       "      <td>NaN</td>\n",
       "      <td>12</td>\n",
       "      <td>3</td>\n",
       "      <td>2019</td>\n",
       "      <td>16</td>\n",
       "      <td>55</td>\n",
       "      <td>16</td>\n",
       "      <td>50</td>\n",
       "      <td>5m</td>\n",
       "    </tr>\n",
       "  </tbody>\n",
       "</table>\n",
       "</div>"
      ],
      "text/plain": [
       "        Airline  Source Destination Duration  Total_Stops Additional_Info  \\\n",
       "6474  Air India  Mumbai   Hyderabad       5m          2.0         No info   \n",
       "2660  Air India  Mumbai   Hyderabad       5m          2.0         No info   \n",
       "\n",
       "        Price  date  month  year  Arrival_hour  Arrival_min  Dep_hour  \\\n",
       "6474  17327.0     6      3  2019            16           55        16   \n",
       "2660      NaN    12      3  2019            16           55        16   \n",
       "\n",
       "      Dep_min duration_hour  \n",
       "6474       50            5m  \n",
       "2660       50            5m  "
      ]
     },
     "execution_count": 26,
     "metadata": {},
     "output_type": "execute_result"
    }
   ],
   "source": [
    "final_data['duration_hour']=final_data['Duration'].str.split(' ').str[0].str.split('h').str[0]\n",
    "\n",
    "\n",
    "final_data[final_data['duration_hour']=='5m']"
   ]
  },
  {
   "cell_type": "code",
   "execution_count": 27,
   "id": "a5c2a945",
   "metadata": {
    "execution": {
     "iopub.execute_input": "2023-03-09T16:54:29.386213Z",
     "iopub.status.busy": "2023-03-09T16:54:29.385733Z",
     "iopub.status.idle": "2023-03-09T16:54:29.411248Z",
     "shell.execute_reply": "2023-03-09T16:54:29.410221Z"
    },
    "papermill": {
     "duration": 0.042629,
     "end_time": "2023-03-09T16:54:29.414364",
     "exception": false,
     "start_time": "2023-03-09T16:54:29.371735",
     "status": "completed"
    },
    "tags": []
   },
   "outputs": [],
   "source": [
    "final_data.drop(6474,axis=0,inplace= True)\n",
    "final_data.drop(2660,axis=0,inplace= True)"
   ]
  },
  {
   "cell_type": "code",
   "execution_count": 28,
   "id": "48aef28f",
   "metadata": {
    "execution": {
     "iopub.execute_input": "2023-03-09T16:54:29.441950Z",
     "iopub.status.busy": "2023-03-09T16:54:29.440446Z",
     "iopub.status.idle": "2023-03-09T16:54:29.460972Z",
     "shell.execute_reply": "2023-03-09T16:54:29.459575Z"
    },
    "papermill": {
     "duration": 0.037602,
     "end_time": "2023-03-09T16:54:29.463991",
     "exception": false,
     "start_time": "2023-03-09T16:54:29.426389",
     "status": "completed"
    },
    "tags": []
   },
   "outputs": [
    {
     "data": {
      "text/html": [
       "<div>\n",
       "<style scoped>\n",
       "    .dataframe tbody tr th:only-of-type {\n",
       "        vertical-align: middle;\n",
       "    }\n",
       "\n",
       "    .dataframe tbody tr th {\n",
       "        vertical-align: top;\n",
       "    }\n",
       "\n",
       "    .dataframe thead th {\n",
       "        text-align: right;\n",
       "    }\n",
       "</style>\n",
       "<table border=\"1\" class=\"dataframe\">\n",
       "  <thead>\n",
       "    <tr style=\"text-align: right;\">\n",
       "      <th></th>\n",
       "      <th>Airline</th>\n",
       "      <th>Source</th>\n",
       "      <th>Destination</th>\n",
       "      <th>Duration</th>\n",
       "      <th>Total_Stops</th>\n",
       "      <th>Additional_Info</th>\n",
       "      <th>Price</th>\n",
       "      <th>date</th>\n",
       "      <th>month</th>\n",
       "      <th>year</th>\n",
       "      <th>Arrival_hour</th>\n",
       "      <th>Arrival_min</th>\n",
       "      <th>Dep_hour</th>\n",
       "      <th>Dep_min</th>\n",
       "      <th>duration_hour</th>\n",
       "    </tr>\n",
       "  </thead>\n",
       "  <tbody>\n",
       "    <tr>\n",
       "      <th>999</th>\n",
       "      <td>Jet Airways</td>\n",
       "      <td>Kolkata</td>\n",
       "      <td>Banglore</td>\n",
       "      <td>7h 30m</td>\n",
       "      <td>1.0</td>\n",
       "      <td>In-flight meal not included</td>\n",
       "      <td>9663.0</td>\n",
       "      <td>24</td>\n",
       "      <td>5</td>\n",
       "      <td>2019</td>\n",
       "      <td>4</td>\n",
       "      <td>40</td>\n",
       "      <td>21</td>\n",
       "      <td>10</td>\n",
       "      <td>7</td>\n",
       "    </tr>\n",
       "    <tr>\n",
       "      <th>4042</th>\n",
       "      <td>Air India</td>\n",
       "      <td>Banglore</td>\n",
       "      <td>Delhi</td>\n",
       "      <td>2h 50m</td>\n",
       "      <td>0.0</td>\n",
       "      <td>No info</td>\n",
       "      <td>5176.0</td>\n",
       "      <td>6</td>\n",
       "      <td>4</td>\n",
       "      <td>2019</td>\n",
       "      <td>16</td>\n",
       "      <td>10</td>\n",
       "      <td>13</td>\n",
       "      <td>20</td>\n",
       "      <td>2</td>\n",
       "    </tr>\n",
       "  </tbody>\n",
       "</table>\n",
       "</div>"
      ],
      "text/plain": [
       "          Airline    Source Destination Duration  Total_Stops  \\\n",
       "999   Jet Airways   Kolkata    Banglore   7h 30m          1.0   \n",
       "4042    Air India  Banglore       Delhi   2h 50m          0.0   \n",
       "\n",
       "                  Additional_Info   Price  date  month  year  Arrival_hour  \\\n",
       "999   In-flight meal not included  9663.0    24      5  2019             4   \n",
       "4042                      No info  5176.0     6      4  2019            16   \n",
       "\n",
       "      Arrival_min  Dep_hour  Dep_min duration_hour  \n",
       "999            40        21       10             7  \n",
       "4042           10        13       20             2  "
      ]
     },
     "execution_count": 28,
     "metadata": {},
     "output_type": "execute_result"
    }
   ],
   "source": [
    "final_data.sample(2)"
   ]
  },
  {
   "cell_type": "code",
   "execution_count": 29,
   "id": "bfd794cf",
   "metadata": {
    "execution": {
     "iopub.execute_input": "2023-03-09T16:54:29.491428Z",
     "iopub.status.busy": "2023-03-09T16:54:29.490885Z",
     "iopub.status.idle": "2023-03-09T16:54:29.514969Z",
     "shell.execute_reply": "2023-03-09T16:54:29.513523Z"
    },
    "papermill": {
     "duration": 0.041208,
     "end_time": "2023-03-09T16:54:29.517968",
     "exception": false,
     "start_time": "2023-03-09T16:54:29.476760",
     "status": "completed"
    },
    "tags": []
   },
   "outputs": [
    {
     "name": "stdout",
     "output_type": "stream",
     "text": [
      "<class 'pandas.core.frame.DataFrame'>\n",
      "Int64Index: 13351 entries, 0 to 2670\n",
      "Data columns (total 15 columns):\n",
      " #   Column           Non-Null Count  Dtype  \n",
      "---  ------           --------------  -----  \n",
      " 0   Airline          13351 non-null  object \n",
      " 1   Source           13351 non-null  object \n",
      " 2   Destination      13351 non-null  object \n",
      " 3   Duration         13351 non-null  object \n",
      " 4   Total_Stops      13350 non-null  float64\n",
      " 5   Additional_Info  13351 non-null  object \n",
      " 6   Price            10681 non-null  float64\n",
      " 7   date             13351 non-null  int64  \n",
      " 8   month            13351 non-null  int64  \n",
      " 9   year             13351 non-null  int64  \n",
      " 10  Arrival_hour     13351 non-null  int64  \n",
      " 11  Arrival_min      13351 non-null  int64  \n",
      " 12  Dep_hour         13351 non-null  int64  \n",
      " 13  Dep_min          13351 non-null  int64  \n",
      " 14  duration_hour    13351 non-null  int64  \n",
      "dtypes: float64(2), int64(8), object(5)\n",
      "memory usage: 1.6+ MB\n"
     ]
    }
   ],
   "source": [
    "final_data['duration_hour']=final_data['duration_hour'].astype(int)\n",
    "final_data.info()"
   ]
  },
  {
   "cell_type": "code",
   "execution_count": null,
   "id": "785346b1",
   "metadata": {
    "papermill": {
     "duration": 0.012251,
     "end_time": "2023-03-09T16:54:29.542813",
     "exception": false,
     "start_time": "2023-03-09T16:54:29.530562",
     "status": "completed"
    },
    "tags": []
   },
   "outputs": [],
   "source": []
  },
  {
   "cell_type": "code",
   "execution_count": 30,
   "id": "085d33e5",
   "metadata": {
    "execution": {
     "iopub.execute_input": "2023-03-09T16:54:29.570560Z",
     "iopub.status.busy": "2023-03-09T16:54:29.569766Z",
     "iopub.status.idle": "2023-03-09T16:54:29.576114Z",
     "shell.execute_reply": "2023-03-09T16:54:29.575109Z"
    },
    "papermill": {
     "duration": 0.02374,
     "end_time": "2023-03-09T16:54:29.578935",
     "exception": false,
     "start_time": "2023-03-09T16:54:29.555195",
     "status": "completed"
    },
    "tags": []
   },
   "outputs": [],
   "source": [
    "final_data['duration_time_in_min'] = final_data['duration_hour']*60 "
   ]
  },
  {
   "cell_type": "code",
   "execution_count": 31,
   "id": "a0a2fbcc",
   "metadata": {
    "execution": {
     "iopub.execute_input": "2023-03-09T16:54:29.607732Z",
     "iopub.status.busy": "2023-03-09T16:54:29.607230Z",
     "iopub.status.idle": "2023-03-09T16:54:29.627771Z",
     "shell.execute_reply": "2023-03-09T16:54:29.626261Z"
    },
    "papermill": {
     "duration": 0.038603,
     "end_time": "2023-03-09T16:54:29.630829",
     "exception": false,
     "start_time": "2023-03-09T16:54:29.592226",
     "status": "completed"
    },
    "tags": []
   },
   "outputs": [
    {
     "data": {
      "text/html": [
       "<div>\n",
       "<style scoped>\n",
       "    .dataframe tbody tr th:only-of-type {\n",
       "        vertical-align: middle;\n",
       "    }\n",
       "\n",
       "    .dataframe tbody tr th {\n",
       "        vertical-align: top;\n",
       "    }\n",
       "\n",
       "    .dataframe thead th {\n",
       "        text-align: right;\n",
       "    }\n",
       "</style>\n",
       "<table border=\"1\" class=\"dataframe\">\n",
       "  <thead>\n",
       "    <tr style=\"text-align: right;\">\n",
       "      <th></th>\n",
       "      <th>Airline</th>\n",
       "      <th>Source</th>\n",
       "      <th>Destination</th>\n",
       "      <th>Duration</th>\n",
       "      <th>Total_Stops</th>\n",
       "      <th>Additional_Info</th>\n",
       "      <th>Price</th>\n",
       "      <th>date</th>\n",
       "      <th>month</th>\n",
       "      <th>year</th>\n",
       "      <th>Arrival_hour</th>\n",
       "      <th>Arrival_min</th>\n",
       "      <th>Dep_hour</th>\n",
       "      <th>Dep_min</th>\n",
       "      <th>duration_hour</th>\n",
       "      <th>duration_time_in_min</th>\n",
       "    </tr>\n",
       "  </thead>\n",
       "  <tbody>\n",
       "    <tr>\n",
       "      <th>0</th>\n",
       "      <td>IndiGo</td>\n",
       "      <td>Banglore</td>\n",
       "      <td>New Delhi</td>\n",
       "      <td>2h 50m</td>\n",
       "      <td>0.0</td>\n",
       "      <td>No info</td>\n",
       "      <td>3897.0</td>\n",
       "      <td>24</td>\n",
       "      <td>3</td>\n",
       "      <td>2019</td>\n",
       "      <td>1</td>\n",
       "      <td>10</td>\n",
       "      <td>22</td>\n",
       "      <td>20</td>\n",
       "      <td>2</td>\n",
       "      <td>120</td>\n",
       "    </tr>\n",
       "    <tr>\n",
       "      <th>1</th>\n",
       "      <td>Air India</td>\n",
       "      <td>Kolkata</td>\n",
       "      <td>Banglore</td>\n",
       "      <td>7h 25m</td>\n",
       "      <td>2.0</td>\n",
       "      <td>No info</td>\n",
       "      <td>7662.0</td>\n",
       "      <td>1</td>\n",
       "      <td>5</td>\n",
       "      <td>2019</td>\n",
       "      <td>13</td>\n",
       "      <td>15</td>\n",
       "      <td>5</td>\n",
       "      <td>50</td>\n",
       "      <td>7</td>\n",
       "      <td>420</td>\n",
       "    </tr>\n",
       "    <tr>\n",
       "      <th>2</th>\n",
       "      <td>Jet Airways</td>\n",
       "      <td>Delhi</td>\n",
       "      <td>Cochin</td>\n",
       "      <td>19h</td>\n",
       "      <td>2.0</td>\n",
       "      <td>No info</td>\n",
       "      <td>13882.0</td>\n",
       "      <td>9</td>\n",
       "      <td>6</td>\n",
       "      <td>2019</td>\n",
       "      <td>4</td>\n",
       "      <td>25</td>\n",
       "      <td>9</td>\n",
       "      <td>25</td>\n",
       "      <td>19</td>\n",
       "      <td>1140</td>\n",
       "    </tr>\n",
       "    <tr>\n",
       "      <th>3</th>\n",
       "      <td>IndiGo</td>\n",
       "      <td>Kolkata</td>\n",
       "      <td>Banglore</td>\n",
       "      <td>5h 25m</td>\n",
       "      <td>1.0</td>\n",
       "      <td>No info</td>\n",
       "      <td>6218.0</td>\n",
       "      <td>12</td>\n",
       "      <td>5</td>\n",
       "      <td>2019</td>\n",
       "      <td>23</td>\n",
       "      <td>30</td>\n",
       "      <td>18</td>\n",
       "      <td>5</td>\n",
       "      <td>5</td>\n",
       "      <td>300</td>\n",
       "    </tr>\n",
       "    <tr>\n",
       "      <th>4</th>\n",
       "      <td>IndiGo</td>\n",
       "      <td>Banglore</td>\n",
       "      <td>New Delhi</td>\n",
       "      <td>4h 45m</td>\n",
       "      <td>1.0</td>\n",
       "      <td>No info</td>\n",
       "      <td>13302.0</td>\n",
       "      <td>1</td>\n",
       "      <td>3</td>\n",
       "      <td>2019</td>\n",
       "      <td>21</td>\n",
       "      <td>35</td>\n",
       "      <td>16</td>\n",
       "      <td>50</td>\n",
       "      <td>4</td>\n",
       "      <td>240</td>\n",
       "    </tr>\n",
       "  </tbody>\n",
       "</table>\n",
       "</div>"
      ],
      "text/plain": [
       "       Airline    Source Destination Duration  Total_Stops Additional_Info  \\\n",
       "0       IndiGo  Banglore   New Delhi   2h 50m          0.0         No info   \n",
       "1    Air India   Kolkata    Banglore   7h 25m          2.0         No info   \n",
       "2  Jet Airways     Delhi      Cochin      19h          2.0         No info   \n",
       "3       IndiGo   Kolkata    Banglore   5h 25m          1.0         No info   \n",
       "4       IndiGo  Banglore   New Delhi   4h 45m          1.0         No info   \n",
       "\n",
       "     Price  date  month  year  Arrival_hour  Arrival_min  Dep_hour  Dep_min  \\\n",
       "0   3897.0    24      3  2019             1           10        22       20   \n",
       "1   7662.0     1      5  2019            13           15         5       50   \n",
       "2  13882.0     9      6  2019             4           25         9       25   \n",
       "3   6218.0    12      5  2019            23           30        18        5   \n",
       "4  13302.0     1      3  2019            21           35        16       50   \n",
       "\n",
       "   duration_hour  duration_time_in_min  \n",
       "0              2                   120  \n",
       "1              7                   420  \n",
       "2             19                  1140  \n",
       "3              5                   300  \n",
       "4              4                   240  "
      ]
     },
     "execution_count": 31,
     "metadata": {},
     "output_type": "execute_result"
    }
   ],
   "source": [
    "final_data.head()"
   ]
  },
  {
   "cell_type": "code",
   "execution_count": 32,
   "id": "53ce4124",
   "metadata": {
    "execution": {
     "iopub.execute_input": "2023-03-09T16:54:29.659191Z",
     "iopub.status.busy": "2023-03-09T16:54:29.658220Z",
     "iopub.status.idle": "2023-03-09T16:54:29.668442Z",
     "shell.execute_reply": "2023-03-09T16:54:29.666974Z"
    },
    "papermill": {
     "duration": 0.027848,
     "end_time": "2023-03-09T16:54:29.671481",
     "exception": false,
     "start_time": "2023-03-09T16:54:29.643633",
     "status": "completed"
    },
    "tags": []
   },
   "outputs": [],
   "source": [
    "final_data.drop(['Duration','duration_hour'],axis=1,inplace=True)"
   ]
  },
  {
   "cell_type": "code",
   "execution_count": 33,
   "id": "96a964cd",
   "metadata": {
    "execution": {
     "iopub.execute_input": "2023-03-09T16:54:29.699351Z",
     "iopub.status.busy": "2023-03-09T16:54:29.698840Z",
     "iopub.status.idle": "2023-03-09T16:54:29.720604Z",
     "shell.execute_reply": "2023-03-09T16:54:29.718976Z"
    },
    "papermill": {
     "duration": 0.039195,
     "end_time": "2023-03-09T16:54:29.723559",
     "exception": false,
     "start_time": "2023-03-09T16:54:29.684364",
     "status": "completed"
    },
    "tags": []
   },
   "outputs": [
    {
     "name": "stdout",
     "output_type": "stream",
     "text": [
      "<class 'pandas.core.frame.DataFrame'>\n",
      "Int64Index: 13351 entries, 0 to 2670\n",
      "Data columns (total 14 columns):\n",
      " #   Column                Non-Null Count  Dtype  \n",
      "---  ------                --------------  -----  \n",
      " 0   Airline               13351 non-null  object \n",
      " 1   Source                13351 non-null  object \n",
      " 2   Destination           13351 non-null  object \n",
      " 3   Total_Stops           13350 non-null  float64\n",
      " 4   Additional_Info       13351 non-null  object \n",
      " 5   Price                 10681 non-null  float64\n",
      " 6   date                  13351 non-null  int64  \n",
      " 7   month                 13351 non-null  int64  \n",
      " 8   year                  13351 non-null  int64  \n",
      " 9   Arrival_hour          13351 non-null  int64  \n",
      " 10  Arrival_min           13351 non-null  int64  \n",
      " 11  Dep_hour              13351 non-null  int64  \n",
      " 12  Dep_min               13351 non-null  int64  \n",
      " 13  duration_time_in_min  13351 non-null  int64  \n",
      "dtypes: float64(2), int64(8), object(4)\n",
      "memory usage: 1.5+ MB\n"
     ]
    }
   ],
   "source": [
    "final_data.info()"
   ]
  },
  {
   "cell_type": "code",
   "execution_count": 34,
   "id": "e5d2effa",
   "metadata": {
    "execution": {
     "iopub.execute_input": "2023-03-09T16:54:29.751717Z",
     "iopub.status.busy": "2023-03-09T16:54:29.751218Z",
     "iopub.status.idle": "2023-03-09T16:54:29.760441Z",
     "shell.execute_reply": "2023-03-09T16:54:29.759343Z"
    },
    "papermill": {
     "duration": 0.02627,
     "end_time": "2023-03-09T16:54:29.762824",
     "exception": false,
     "start_time": "2023-03-09T16:54:29.736554",
     "status": "completed"
    },
    "tags": []
   },
   "outputs": [
    {
     "data": {
      "text/plain": [
       "array(['IndiGo', 'Air India', 'Jet Airways', 'SpiceJet',\n",
       "       'Multiple carriers', 'GoAir', 'Vistara', 'Air Asia',\n",
       "       'Vistara Premium economy', 'Jet Airways Business',\n",
       "       'Multiple carriers Premium economy', 'Trujet'], dtype=object)"
      ]
     },
     "execution_count": 34,
     "metadata": {},
     "output_type": "execute_result"
    }
   ],
   "source": [
    "final_data['Airline'].unique()"
   ]
  },
  {
   "cell_type": "code",
   "execution_count": 35,
   "id": "d0d9f5ca",
   "metadata": {
    "execution": {
     "iopub.execute_input": "2023-03-09T16:54:29.791238Z",
     "iopub.status.busy": "2023-03-09T16:54:29.790725Z",
     "iopub.status.idle": "2023-03-09T16:54:30.186158Z",
     "shell.execute_reply": "2023-03-09T16:54:30.184890Z"
    },
    "papermill": {
     "duration": 0.413679,
     "end_time": "2023-03-09T16:54:30.189674",
     "exception": false,
     "start_time": "2023-03-09T16:54:29.775995",
     "status": "completed"
    },
    "tags": []
   },
   "outputs": [],
   "source": [
    "from sklearn.preprocessing import LabelEncoder\n",
    "labelencoder = LabelEncoder()\n",
    "final_data['Airline']= labelencoder.fit_transform(final_data['Airline'])\n",
    "final_data['Source']= labelencoder.fit_transform(final_data['Source'])\n",
    "final_data['Destination']= labelencoder.fit_transform(final_data['Destination'])\n",
    "final_data['Additional_Info']= labelencoder.fit_transform(final_data['Additional_Info'])\n"
   ]
  },
  {
   "cell_type": "code",
   "execution_count": 36,
   "id": "6224c41d",
   "metadata": {
    "execution": {
     "iopub.execute_input": "2023-03-09T16:54:30.219337Z",
     "iopub.status.busy": "2023-03-09T16:54:30.218080Z",
     "iopub.status.idle": "2023-03-09T16:54:30.238168Z",
     "shell.execute_reply": "2023-03-09T16:54:30.236554Z"
    },
    "papermill": {
     "duration": 0.038803,
     "end_time": "2023-03-09T16:54:30.241856",
     "exception": false,
     "start_time": "2023-03-09T16:54:30.203053",
     "status": "completed"
    },
    "tags": []
   },
   "outputs": [],
   "source": [
    "final_data = pd.get_dummies(final_data,columns=[\"Airline\", \"Source\", \"Destination\",'Additional_Info'] ,drop_first = True)"
   ]
  },
  {
   "cell_type": "code",
   "execution_count": 37,
   "id": "1e7eb92f",
   "metadata": {
    "execution": {
     "iopub.execute_input": "2023-03-09T16:54:30.271896Z",
     "iopub.status.busy": "2023-03-09T16:54:30.271389Z",
     "iopub.status.idle": "2023-03-09T16:54:30.301247Z",
     "shell.execute_reply": "2023-03-09T16:54:30.299685Z"
    },
    "papermill": {
     "duration": 0.047866,
     "end_time": "2023-03-09T16:54:30.304239",
     "exception": false,
     "start_time": "2023-03-09T16:54:30.256373",
     "status": "completed"
    },
    "tags": []
   },
   "outputs": [
    {
     "data": {
      "text/html": [
       "<div>\n",
       "<style scoped>\n",
       "    .dataframe tbody tr th:only-of-type {\n",
       "        vertical-align: middle;\n",
       "    }\n",
       "\n",
       "    .dataframe tbody tr th {\n",
       "        vertical-align: top;\n",
       "    }\n",
       "\n",
       "    .dataframe thead th {\n",
       "        text-align: right;\n",
       "    }\n",
       "</style>\n",
       "<table border=\"1\" class=\"dataframe\">\n",
       "  <thead>\n",
       "    <tr style=\"text-align: right;\">\n",
       "      <th></th>\n",
       "      <th>Total_Stops</th>\n",
       "      <th>Price</th>\n",
       "      <th>date</th>\n",
       "      <th>month</th>\n",
       "      <th>year</th>\n",
       "      <th>Arrival_hour</th>\n",
       "      <th>Arrival_min</th>\n",
       "      <th>Dep_hour</th>\n",
       "      <th>Dep_min</th>\n",
       "      <th>duration_time_in_min</th>\n",
       "      <th>...</th>\n",
       "      <th>Destination_5</th>\n",
       "      <th>Additional_Info_1</th>\n",
       "      <th>Additional_Info_2</th>\n",
       "      <th>Additional_Info_3</th>\n",
       "      <th>Additional_Info_4</th>\n",
       "      <th>Additional_Info_5</th>\n",
       "      <th>Additional_Info_6</th>\n",
       "      <th>Additional_Info_7</th>\n",
       "      <th>Additional_Info_8</th>\n",
       "      <th>Additional_Info_9</th>\n",
       "    </tr>\n",
       "  </thead>\n",
       "  <tbody>\n",
       "    <tr>\n",
       "      <th>0</th>\n",
       "      <td>0.0</td>\n",
       "      <td>3897.0</td>\n",
       "      <td>24</td>\n",
       "      <td>3</td>\n",
       "      <td>2019</td>\n",
       "      <td>1</td>\n",
       "      <td>10</td>\n",
       "      <td>22</td>\n",
       "      <td>20</td>\n",
       "      <td>120</td>\n",
       "      <td>...</td>\n",
       "      <td>1</td>\n",
       "      <td>0</td>\n",
       "      <td>0</td>\n",
       "      <td>0</td>\n",
       "      <td>0</td>\n",
       "      <td>0</td>\n",
       "      <td>0</td>\n",
       "      <td>0</td>\n",
       "      <td>1</td>\n",
       "      <td>0</td>\n",
       "    </tr>\n",
       "    <tr>\n",
       "      <th>1</th>\n",
       "      <td>2.0</td>\n",
       "      <td>7662.0</td>\n",
       "      <td>1</td>\n",
       "      <td>5</td>\n",
       "      <td>2019</td>\n",
       "      <td>13</td>\n",
       "      <td>15</td>\n",
       "      <td>5</td>\n",
       "      <td>50</td>\n",
       "      <td>420</td>\n",
       "      <td>...</td>\n",
       "      <td>0</td>\n",
       "      <td>0</td>\n",
       "      <td>0</td>\n",
       "      <td>0</td>\n",
       "      <td>0</td>\n",
       "      <td>0</td>\n",
       "      <td>0</td>\n",
       "      <td>0</td>\n",
       "      <td>1</td>\n",
       "      <td>0</td>\n",
       "    </tr>\n",
       "    <tr>\n",
       "      <th>2</th>\n",
       "      <td>2.0</td>\n",
       "      <td>13882.0</td>\n",
       "      <td>9</td>\n",
       "      <td>6</td>\n",
       "      <td>2019</td>\n",
       "      <td>4</td>\n",
       "      <td>25</td>\n",
       "      <td>9</td>\n",
       "      <td>25</td>\n",
       "      <td>1140</td>\n",
       "      <td>...</td>\n",
       "      <td>0</td>\n",
       "      <td>0</td>\n",
       "      <td>0</td>\n",
       "      <td>0</td>\n",
       "      <td>0</td>\n",
       "      <td>0</td>\n",
       "      <td>0</td>\n",
       "      <td>0</td>\n",
       "      <td>1</td>\n",
       "      <td>0</td>\n",
       "    </tr>\n",
       "    <tr>\n",
       "      <th>3</th>\n",
       "      <td>1.0</td>\n",
       "      <td>6218.0</td>\n",
       "      <td>12</td>\n",
       "      <td>5</td>\n",
       "      <td>2019</td>\n",
       "      <td>23</td>\n",
       "      <td>30</td>\n",
       "      <td>18</td>\n",
       "      <td>5</td>\n",
       "      <td>300</td>\n",
       "      <td>...</td>\n",
       "      <td>0</td>\n",
       "      <td>0</td>\n",
       "      <td>0</td>\n",
       "      <td>0</td>\n",
       "      <td>0</td>\n",
       "      <td>0</td>\n",
       "      <td>0</td>\n",
       "      <td>0</td>\n",
       "      <td>1</td>\n",
       "      <td>0</td>\n",
       "    </tr>\n",
       "    <tr>\n",
       "      <th>4</th>\n",
       "      <td>1.0</td>\n",
       "      <td>13302.0</td>\n",
       "      <td>1</td>\n",
       "      <td>3</td>\n",
       "      <td>2019</td>\n",
       "      <td>21</td>\n",
       "      <td>35</td>\n",
       "      <td>16</td>\n",
       "      <td>50</td>\n",
       "      <td>240</td>\n",
       "      <td>...</td>\n",
       "      <td>1</td>\n",
       "      <td>0</td>\n",
       "      <td>0</td>\n",
       "      <td>0</td>\n",
       "      <td>0</td>\n",
       "      <td>0</td>\n",
       "      <td>0</td>\n",
       "      <td>0</td>\n",
       "      <td>1</td>\n",
       "      <td>0</td>\n",
       "    </tr>\n",
       "    <tr>\n",
       "      <th>...</th>\n",
       "      <td>...</td>\n",
       "      <td>...</td>\n",
       "      <td>...</td>\n",
       "      <td>...</td>\n",
       "      <td>...</td>\n",
       "      <td>...</td>\n",
       "      <td>...</td>\n",
       "      <td>...</td>\n",
       "      <td>...</td>\n",
       "      <td>...</td>\n",
       "      <td>...</td>\n",
       "      <td>...</td>\n",
       "      <td>...</td>\n",
       "      <td>...</td>\n",
       "      <td>...</td>\n",
       "      <td>...</td>\n",
       "      <td>...</td>\n",
       "      <td>...</td>\n",
       "      <td>...</td>\n",
       "      <td>...</td>\n",
       "      <td>...</td>\n",
       "    </tr>\n",
       "    <tr>\n",
       "      <th>2666</th>\n",
       "      <td>1.0</td>\n",
       "      <td>NaN</td>\n",
       "      <td>6</td>\n",
       "      <td>6</td>\n",
       "      <td>2019</td>\n",
       "      <td>20</td>\n",
       "      <td>25</td>\n",
       "      <td>20</td>\n",
       "      <td>30</td>\n",
       "      <td>1380</td>\n",
       "      <td>...</td>\n",
       "      <td>0</td>\n",
       "      <td>0</td>\n",
       "      <td>0</td>\n",
       "      <td>0</td>\n",
       "      <td>0</td>\n",
       "      <td>0</td>\n",
       "      <td>0</td>\n",
       "      <td>0</td>\n",
       "      <td>1</td>\n",
       "      <td>0</td>\n",
       "    </tr>\n",
       "    <tr>\n",
       "      <th>2667</th>\n",
       "      <td>0.0</td>\n",
       "      <td>NaN</td>\n",
       "      <td>27</td>\n",
       "      <td>3</td>\n",
       "      <td>2019</td>\n",
       "      <td>16</td>\n",
       "      <td>55</td>\n",
       "      <td>14</td>\n",
       "      <td>20</td>\n",
       "      <td>120</td>\n",
       "      <td>...</td>\n",
       "      <td>0</td>\n",
       "      <td>0</td>\n",
       "      <td>0</td>\n",
       "      <td>0</td>\n",
       "      <td>0</td>\n",
       "      <td>0</td>\n",
       "      <td>0</td>\n",
       "      <td>0</td>\n",
       "      <td>1</td>\n",
       "      <td>0</td>\n",
       "    </tr>\n",
       "    <tr>\n",
       "      <th>2668</th>\n",
       "      <td>1.0</td>\n",
       "      <td>NaN</td>\n",
       "      <td>6</td>\n",
       "      <td>3</td>\n",
       "      <td>2019</td>\n",
       "      <td>4</td>\n",
       "      <td>25</td>\n",
       "      <td>21</td>\n",
       "      <td>50</td>\n",
       "      <td>360</td>\n",
       "      <td>...</td>\n",
       "      <td>0</td>\n",
       "      <td>0</td>\n",
       "      <td>0</td>\n",
       "      <td>0</td>\n",
       "      <td>0</td>\n",
       "      <td>0</td>\n",
       "      <td>0</td>\n",
       "      <td>0</td>\n",
       "      <td>1</td>\n",
       "      <td>0</td>\n",
       "    </tr>\n",
       "    <tr>\n",
       "      <th>2669</th>\n",
       "      <td>1.0</td>\n",
       "      <td>NaN</td>\n",
       "      <td>6</td>\n",
       "      <td>3</td>\n",
       "      <td>2019</td>\n",
       "      <td>19</td>\n",
       "      <td>15</td>\n",
       "      <td>4</td>\n",
       "      <td>0</td>\n",
       "      <td>900</td>\n",
       "      <td>...</td>\n",
       "      <td>0</td>\n",
       "      <td>0</td>\n",
       "      <td>0</td>\n",
       "      <td>0</td>\n",
       "      <td>0</td>\n",
       "      <td>0</td>\n",
       "      <td>0</td>\n",
       "      <td>0</td>\n",
       "      <td>1</td>\n",
       "      <td>0</td>\n",
       "    </tr>\n",
       "    <tr>\n",
       "      <th>2670</th>\n",
       "      <td>1.0</td>\n",
       "      <td>NaN</td>\n",
       "      <td>15</td>\n",
       "      <td>6</td>\n",
       "      <td>2019</td>\n",
       "      <td>19</td>\n",
       "      <td>15</td>\n",
       "      <td>4</td>\n",
       "      <td>55</td>\n",
       "      <td>840</td>\n",
       "      <td>...</td>\n",
       "      <td>0</td>\n",
       "      <td>0</td>\n",
       "      <td>0</td>\n",
       "      <td>0</td>\n",
       "      <td>0</td>\n",
       "      <td>0</td>\n",
       "      <td>0</td>\n",
       "      <td>0</td>\n",
       "      <td>1</td>\n",
       "      <td>0</td>\n",
       "    </tr>\n",
       "  </tbody>\n",
       "</table>\n",
       "<p>13351 rows × 39 columns</p>\n",
       "</div>"
      ],
      "text/plain": [
       "      Total_Stops    Price  date  month  year  Arrival_hour  Arrival_min  \\\n",
       "0             0.0   3897.0    24      3  2019             1           10   \n",
       "1             2.0   7662.0     1      5  2019            13           15   \n",
       "2             2.0  13882.0     9      6  2019             4           25   \n",
       "3             1.0   6218.0    12      5  2019            23           30   \n",
       "4             1.0  13302.0     1      3  2019            21           35   \n",
       "...           ...      ...   ...    ...   ...           ...          ...   \n",
       "2666          1.0      NaN     6      6  2019            20           25   \n",
       "2667          0.0      NaN    27      3  2019            16           55   \n",
       "2668          1.0      NaN     6      3  2019             4           25   \n",
       "2669          1.0      NaN     6      3  2019            19           15   \n",
       "2670          1.0      NaN    15      6  2019            19           15   \n",
       "\n",
       "      Dep_hour  Dep_min  duration_time_in_min  ...  Destination_5  \\\n",
       "0           22       20                   120  ...              1   \n",
       "1            5       50                   420  ...              0   \n",
       "2            9       25                  1140  ...              0   \n",
       "3           18        5                   300  ...              0   \n",
       "4           16       50                   240  ...              1   \n",
       "...        ...      ...                   ...  ...            ...   \n",
       "2666        20       30                  1380  ...              0   \n",
       "2667        14       20                   120  ...              0   \n",
       "2668        21       50                   360  ...              0   \n",
       "2669         4        0                   900  ...              0   \n",
       "2670         4       55                   840  ...              0   \n",
       "\n",
       "      Additional_Info_1  Additional_Info_2  Additional_Info_3  \\\n",
       "0                     0                  0                  0   \n",
       "1                     0                  0                  0   \n",
       "2                     0                  0                  0   \n",
       "3                     0                  0                  0   \n",
       "4                     0                  0                  0   \n",
       "...                 ...                ...                ...   \n",
       "2666                  0                  0                  0   \n",
       "2667                  0                  0                  0   \n",
       "2668                  0                  0                  0   \n",
       "2669                  0                  0                  0   \n",
       "2670                  0                  0                  0   \n",
       "\n",
       "      Additional_Info_4  Additional_Info_5  Additional_Info_6  \\\n",
       "0                     0                  0                  0   \n",
       "1                     0                  0                  0   \n",
       "2                     0                  0                  0   \n",
       "3                     0                  0                  0   \n",
       "4                     0                  0                  0   \n",
       "...                 ...                ...                ...   \n",
       "2666                  0                  0                  0   \n",
       "2667                  0                  0                  0   \n",
       "2668                  0                  0                  0   \n",
       "2669                  0                  0                  0   \n",
       "2670                  0                  0                  0   \n",
       "\n",
       "      Additional_Info_7  Additional_Info_8  Additional_Info_9  \n",
       "0                     0                  1                  0  \n",
       "1                     0                  1                  0  \n",
       "2                     0                  1                  0  \n",
       "3                     0                  1                  0  \n",
       "4                     0                  1                  0  \n",
       "...                 ...                ...                ...  \n",
       "2666                  0                  1                  0  \n",
       "2667                  0                  1                  0  \n",
       "2668                  0                  1                  0  \n",
       "2669                  0                  1                  0  \n",
       "2670                  0                  1                  0  \n",
       "\n",
       "[13351 rows x 39 columns]"
      ]
     },
     "execution_count": 37,
     "metadata": {},
     "output_type": "execute_result"
    }
   ],
   "source": [
    "final_data"
   ]
  },
  {
   "cell_type": "code",
   "execution_count": null,
   "id": "c0874167",
   "metadata": {
    "papermill": {
     "duration": 0.013336,
     "end_time": "2023-03-09T16:54:30.331570",
     "exception": false,
     "start_time": "2023-03-09T16:54:30.318234",
     "status": "completed"
    },
    "tags": []
   },
   "outputs": [],
   "source": []
  },
  {
   "cell_type": "code",
   "execution_count": null,
   "id": "9202db88",
   "metadata": {
    "papermill": {
     "duration": 0.013118,
     "end_time": "2023-03-09T16:54:30.358256",
     "exception": false,
     "start_time": "2023-03-09T16:54:30.345138",
     "status": "completed"
    },
    "tags": []
   },
   "outputs": [],
   "source": []
  }
 ],
 "metadata": {
  "kernelspec": {
   "display_name": "Python 3",
   "language": "python",
   "name": "python3"
  },
  "language_info": {
   "codemirror_mode": {
    "name": "ipython",
    "version": 3
   },
   "file_extension": ".py",
   "mimetype": "text/x-python",
   "name": "python",
   "nbconvert_exporter": "python",
   "pygments_lexer": "ipython3",
   "version": "3.7.12"
  },
  "papermill": {
   "default_parameters": {},
   "duration": 18.5256,
   "end_time": "2023-03-09T16:54:31.498380",
   "environment_variables": {},
   "exception": null,
   "input_path": "__notebook__.ipynb",
   "output_path": "__notebook__.ipynb",
   "parameters": {},
   "start_time": "2023-03-09T16:54:12.972780",
   "version": "2.4.0"
  }
 },
 "nbformat": 4,
 "nbformat_minor": 5
}
