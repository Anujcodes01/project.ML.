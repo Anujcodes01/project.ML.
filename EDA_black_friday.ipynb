{
 "cells": [
  {
   "cell_type": "code",
   "execution_count": 1,
   "id": "5dca3f15",
   "metadata": {
    "_cell_guid": "b1076dfc-b9ad-4769-8c92-a6c4dae69d19",
    "_uuid": "8f2839f25d086af736a60e9eeb907d3b93b6e0e5",
    "execution": {
     "iopub.execute_input": "2023-03-08T18:06:17.121660Z",
     "iopub.status.busy": "2023-03-08T18:06:17.121183Z",
     "iopub.status.idle": "2023-03-08T18:06:17.143323Z",
     "shell.execute_reply": "2023-03-08T18:06:17.141856Z"
    },
    "papermill": {
     "duration": 0.039731,
     "end_time": "2023-03-08T18:06:17.146687",
     "exception": false,
     "start_time": "2023-03-08T18:06:17.106956",
     "status": "completed"
    },
    "tags": []
   },
   "outputs": [
    {
     "name": "stdout",
     "output_type": "stream",
     "text": [
      "/kaggle/input/black-friday/train.csv\n",
      "/kaggle/input/black-friday/test.csv\n"
     ]
    }
   ],
   "source": [
    "# This Python 3 environment comes with many helpful analytics libraries installed\n",
    "# It is defined by the kaggle/python Docker image: https://github.com/kaggle/docker-python\n",
    "# For example, here's several helpful packages to load\n",
    "\n",
    "import numpy as np # linear algebra\n",
    "import pandas as pd # data processing, CSV file I/O (e.g. pd.read_csv)\n",
    "\n",
    "# Input data files are available in the read-only \"../input/\" directory\n",
    "# For example, running this (by clicking run or pressing Shift+Enter) will list all files under the input directory\n",
    "\n",
    "import os\n",
    "for dirname, _, filenames in os.walk('/kaggle/input'):\n",
    "    for filename in filenames:\n",
    "        print(os.path.join(dirname, filename))\n",
    "\n",
    "# You can write up to 20GB to the current directory (/kaggle/working/) that gets preserved as output when you create a version using \"Save & Run All\" \n",
    "# You can also write temporary files to /kaggle/temp/, but they won't be saved outside of the current session"
   ]
  },
  {
   "cell_type": "markdown",
   "id": "bd6004f4",
   "metadata": {
    "papermill": {
     "duration": 0.011343,
     "end_time": "2023-03-08T18:06:17.170013",
     "exception": false,
     "start_time": "2023-03-08T18:06:17.158670",
     "status": "completed"
    },
    "tags": []
   },
   "source": [
    "Importing Dependencies\n"
   ]
  },
  {
   "cell_type": "code",
   "execution_count": 2,
   "id": "89fb446c",
   "metadata": {
    "execution": {
     "iopub.execute_input": "2023-03-08T18:06:17.195556Z",
     "iopub.status.busy": "2023-03-08T18:06:17.194123Z",
     "iopub.status.idle": "2023-03-08T18:06:18.424958Z",
     "shell.execute_reply": "2023-03-08T18:06:18.423485Z"
    },
    "papermill": {
     "duration": 1.247171,
     "end_time": "2023-03-08T18:06:18.428446",
     "exception": false,
     "start_time": "2023-03-08T18:06:17.181275",
     "status": "completed"
    },
    "tags": []
   },
   "outputs": [],
   "source": [
    "import pandas as pd\n",
    "import numpy as  np \n",
    "import seaborn as sns\n",
    "import matplotlib.pyplot as mlt\n",
    "%matplotlib inline"
   ]
  },
  {
   "cell_type": "markdown",
   "id": "c0a29c54",
   "metadata": {
    "execution": {
     "iopub.execute_input": "2023-03-07T12:10:44.613435Z",
     "iopub.status.busy": "2023-03-07T12:10:44.612917Z",
     "iopub.status.idle": "2023-03-07T12:10:44.622691Z",
     "shell.execute_reply": "2023-03-07T12:10:44.620376Z",
     "shell.execute_reply.started": "2023-03-07T12:10:44.613393Z"
    },
    "papermill": {
     "duration": 0.010838,
     "end_time": "2023-03-08T18:06:18.453157",
     "exception": false,
     "start_time": "2023-03-08T18:06:18.442319",
     "status": "completed"
    },
    "tags": []
   },
   "source": [
    "Loading  dataset"
   ]
  },
  {
   "cell_type": "code",
   "execution_count": 3,
   "id": "2152b035",
   "metadata": {
    "execution": {
     "iopub.execute_input": "2023-03-08T18:06:18.477562Z",
     "iopub.status.busy": "2023-03-08T18:06:18.477155Z",
     "iopub.status.idle": "2023-03-08T18:06:19.490661Z",
     "shell.execute_reply": "2023-03-08T18:06:19.489485Z"
    },
    "papermill": {
     "duration": 1.029304,
     "end_time": "2023-03-08T18:06:19.493561",
     "exception": false,
     "start_time": "2023-03-08T18:06:18.464257",
     "status": "completed"
    },
    "tags": []
   },
   "outputs": [],
   "source": [
    "train = pd.read_csv('/kaggle/input/black-friday/train.csv')"
   ]
  },
  {
   "cell_type": "code",
   "execution_count": 4,
   "id": "e0823e04",
   "metadata": {
    "execution": {
     "iopub.execute_input": "2023-03-08T18:06:19.517783Z",
     "iopub.status.busy": "2023-03-08T18:06:19.517395Z",
     "iopub.status.idle": "2023-03-08T18:06:19.901778Z",
     "shell.execute_reply": "2023-03-08T18:06:19.900729Z"
    },
    "papermill": {
     "duration": 0.399956,
     "end_time": "2023-03-08T18:06:19.904673",
     "exception": false,
     "start_time": "2023-03-08T18:06:19.504717",
     "status": "completed"
    },
    "tags": []
   },
   "outputs": [],
   "source": [
    "test = pd.read_csv('/kaggle/input/black-friday/test.csv')"
   ]
  },
  {
   "cell_type": "code",
   "execution_count": 5,
   "id": "2db969db",
   "metadata": {
    "execution": {
     "iopub.execute_input": "2023-03-08T18:06:19.929451Z",
     "iopub.status.busy": "2023-03-08T18:06:19.928635Z",
     "iopub.status.idle": "2023-03-08T18:06:19.960485Z",
     "shell.execute_reply": "2023-03-08T18:06:19.959219Z"
    },
    "papermill": {
     "duration": 0.047524,
     "end_time": "2023-03-08T18:06:19.963387",
     "exception": false,
     "start_time": "2023-03-08T18:06:19.915863",
     "status": "completed"
    },
    "tags": []
   },
   "outputs": [
    {
     "data": {
      "text/html": [
       "<div>\n",
       "<style scoped>\n",
       "    .dataframe tbody tr th:only-of-type {\n",
       "        vertical-align: middle;\n",
       "    }\n",
       "\n",
       "    .dataframe tbody tr th {\n",
       "        vertical-align: top;\n",
       "    }\n",
       "\n",
       "    .dataframe thead th {\n",
       "        text-align: right;\n",
       "    }\n",
       "</style>\n",
       "<table border=\"1\" class=\"dataframe\">\n",
       "  <thead>\n",
       "    <tr style=\"text-align: right;\">\n",
       "      <th></th>\n",
       "      <th>User_ID</th>\n",
       "      <th>Product_ID</th>\n",
       "      <th>Gender</th>\n",
       "      <th>Age</th>\n",
       "      <th>Occupation</th>\n",
       "      <th>City_Category</th>\n",
       "      <th>Stay_In_Current_City_Years</th>\n",
       "      <th>Marital_Status</th>\n",
       "      <th>Product_Category_1</th>\n",
       "      <th>Product_Category_2</th>\n",
       "      <th>Product_Category_3</th>\n",
       "      <th>Purchase</th>\n",
       "    </tr>\n",
       "  </thead>\n",
       "  <tbody>\n",
       "    <tr>\n",
       "      <th>0</th>\n",
       "      <td>1000001</td>\n",
       "      <td>P00069042</td>\n",
       "      <td>F</td>\n",
       "      <td>0-17</td>\n",
       "      <td>10</td>\n",
       "      <td>A</td>\n",
       "      <td>2</td>\n",
       "      <td>0</td>\n",
       "      <td>3</td>\n",
       "      <td>NaN</td>\n",
       "      <td>NaN</td>\n",
       "      <td>8370</td>\n",
       "    </tr>\n",
       "    <tr>\n",
       "      <th>1</th>\n",
       "      <td>1000001</td>\n",
       "      <td>P00248942</td>\n",
       "      <td>F</td>\n",
       "      <td>0-17</td>\n",
       "      <td>10</td>\n",
       "      <td>A</td>\n",
       "      <td>2</td>\n",
       "      <td>0</td>\n",
       "      <td>1</td>\n",
       "      <td>6.0</td>\n",
       "      <td>14.0</td>\n",
       "      <td>15200</td>\n",
       "    </tr>\n",
       "    <tr>\n",
       "      <th>2</th>\n",
       "      <td>1000001</td>\n",
       "      <td>P00087842</td>\n",
       "      <td>F</td>\n",
       "      <td>0-17</td>\n",
       "      <td>10</td>\n",
       "      <td>A</td>\n",
       "      <td>2</td>\n",
       "      <td>0</td>\n",
       "      <td>12</td>\n",
       "      <td>NaN</td>\n",
       "      <td>NaN</td>\n",
       "      <td>1422</td>\n",
       "    </tr>\n",
       "    <tr>\n",
       "      <th>3</th>\n",
       "      <td>1000001</td>\n",
       "      <td>P00085442</td>\n",
       "      <td>F</td>\n",
       "      <td>0-17</td>\n",
       "      <td>10</td>\n",
       "      <td>A</td>\n",
       "      <td>2</td>\n",
       "      <td>0</td>\n",
       "      <td>12</td>\n",
       "      <td>14.0</td>\n",
       "      <td>NaN</td>\n",
       "      <td>1057</td>\n",
       "    </tr>\n",
       "    <tr>\n",
       "      <th>4</th>\n",
       "      <td>1000002</td>\n",
       "      <td>P00285442</td>\n",
       "      <td>M</td>\n",
       "      <td>55+</td>\n",
       "      <td>16</td>\n",
       "      <td>C</td>\n",
       "      <td>4+</td>\n",
       "      <td>0</td>\n",
       "      <td>8</td>\n",
       "      <td>NaN</td>\n",
       "      <td>NaN</td>\n",
       "      <td>7969</td>\n",
       "    </tr>\n",
       "  </tbody>\n",
       "</table>\n",
       "</div>"
      ],
      "text/plain": [
       "   User_ID Product_ID Gender   Age  Occupation City_Category  \\\n",
       "0  1000001  P00069042      F  0-17          10             A   \n",
       "1  1000001  P00248942      F  0-17          10             A   \n",
       "2  1000001  P00087842      F  0-17          10             A   \n",
       "3  1000001  P00085442      F  0-17          10             A   \n",
       "4  1000002  P00285442      M   55+          16             C   \n",
       "\n",
       "  Stay_In_Current_City_Years  Marital_Status  Product_Category_1  \\\n",
       "0                          2               0                   3   \n",
       "1                          2               0                   1   \n",
       "2                          2               0                  12   \n",
       "3                          2               0                  12   \n",
       "4                         4+               0                   8   \n",
       "\n",
       "   Product_Category_2  Product_Category_3  Purchase  \n",
       "0                 NaN                 NaN      8370  \n",
       "1                 6.0                14.0     15200  \n",
       "2                 NaN                 NaN      1422  \n",
       "3                14.0                 NaN      1057  \n",
       "4                 NaN                 NaN      7969  "
      ]
     },
     "execution_count": 5,
     "metadata": {},
     "output_type": "execute_result"
    }
   ],
   "source": [
    "train.head()"
   ]
  },
  {
   "cell_type": "code",
   "execution_count": 6,
   "id": "0c71dced",
   "metadata": {
    "execution": {
     "iopub.execute_input": "2023-03-08T18:06:19.987725Z",
     "iopub.status.busy": "2023-03-08T18:06:19.987309Z",
     "iopub.status.idle": "2023-03-08T18:06:20.005158Z",
     "shell.execute_reply": "2023-03-08T18:06:20.003849Z"
    },
    "papermill": {
     "duration": 0.033226,
     "end_time": "2023-03-08T18:06:20.007973",
     "exception": false,
     "start_time": "2023-03-08T18:06:19.974747",
     "status": "completed"
    },
    "tags": []
   },
   "outputs": [
    {
     "data": {
      "text/html": [
       "<div>\n",
       "<style scoped>\n",
       "    .dataframe tbody tr th:only-of-type {\n",
       "        vertical-align: middle;\n",
       "    }\n",
       "\n",
       "    .dataframe tbody tr th {\n",
       "        vertical-align: top;\n",
       "    }\n",
       "\n",
       "    .dataframe thead th {\n",
       "        text-align: right;\n",
       "    }\n",
       "</style>\n",
       "<table border=\"1\" class=\"dataframe\">\n",
       "  <thead>\n",
       "    <tr style=\"text-align: right;\">\n",
       "      <th></th>\n",
       "      <th>User_ID</th>\n",
       "      <th>Product_ID</th>\n",
       "      <th>Gender</th>\n",
       "      <th>Age</th>\n",
       "      <th>Occupation</th>\n",
       "      <th>City_Category</th>\n",
       "      <th>Stay_In_Current_City_Years</th>\n",
       "      <th>Marital_Status</th>\n",
       "      <th>Product_Category_1</th>\n",
       "      <th>Product_Category_2</th>\n",
       "      <th>Product_Category_3</th>\n",
       "    </tr>\n",
       "  </thead>\n",
       "  <tbody>\n",
       "    <tr>\n",
       "      <th>0</th>\n",
       "      <td>1000004</td>\n",
       "      <td>P00128942</td>\n",
       "      <td>M</td>\n",
       "      <td>46-50</td>\n",
       "      <td>7</td>\n",
       "      <td>B</td>\n",
       "      <td>2</td>\n",
       "      <td>1</td>\n",
       "      <td>1</td>\n",
       "      <td>11.0</td>\n",
       "      <td>NaN</td>\n",
       "    </tr>\n",
       "    <tr>\n",
       "      <th>1</th>\n",
       "      <td>1000009</td>\n",
       "      <td>P00113442</td>\n",
       "      <td>M</td>\n",
       "      <td>26-35</td>\n",
       "      <td>17</td>\n",
       "      <td>C</td>\n",
       "      <td>0</td>\n",
       "      <td>0</td>\n",
       "      <td>3</td>\n",
       "      <td>5.0</td>\n",
       "      <td>NaN</td>\n",
       "    </tr>\n",
       "    <tr>\n",
       "      <th>2</th>\n",
       "      <td>1000010</td>\n",
       "      <td>P00288442</td>\n",
       "      <td>F</td>\n",
       "      <td>36-45</td>\n",
       "      <td>1</td>\n",
       "      <td>B</td>\n",
       "      <td>4+</td>\n",
       "      <td>1</td>\n",
       "      <td>5</td>\n",
       "      <td>14.0</td>\n",
       "      <td>NaN</td>\n",
       "    </tr>\n",
       "    <tr>\n",
       "      <th>3</th>\n",
       "      <td>1000010</td>\n",
       "      <td>P00145342</td>\n",
       "      <td>F</td>\n",
       "      <td>36-45</td>\n",
       "      <td>1</td>\n",
       "      <td>B</td>\n",
       "      <td>4+</td>\n",
       "      <td>1</td>\n",
       "      <td>4</td>\n",
       "      <td>9.0</td>\n",
       "      <td>NaN</td>\n",
       "    </tr>\n",
       "    <tr>\n",
       "      <th>4</th>\n",
       "      <td>1000011</td>\n",
       "      <td>P00053842</td>\n",
       "      <td>F</td>\n",
       "      <td>26-35</td>\n",
       "      <td>1</td>\n",
       "      <td>C</td>\n",
       "      <td>1</td>\n",
       "      <td>0</td>\n",
       "      <td>4</td>\n",
       "      <td>5.0</td>\n",
       "      <td>12.0</td>\n",
       "    </tr>\n",
       "  </tbody>\n",
       "</table>\n",
       "</div>"
      ],
      "text/plain": [
       "   User_ID Product_ID Gender    Age  Occupation City_Category  \\\n",
       "0  1000004  P00128942      M  46-50           7             B   \n",
       "1  1000009  P00113442      M  26-35          17             C   \n",
       "2  1000010  P00288442      F  36-45           1             B   \n",
       "3  1000010  P00145342      F  36-45           1             B   \n",
       "4  1000011  P00053842      F  26-35           1             C   \n",
       "\n",
       "  Stay_In_Current_City_Years  Marital_Status  Product_Category_1  \\\n",
       "0                          2               1                   1   \n",
       "1                          0               0                   3   \n",
       "2                         4+               1                   5   \n",
       "3                         4+               1                   4   \n",
       "4                          1               0                   4   \n",
       "\n",
       "   Product_Category_2  Product_Category_3  \n",
       "0                11.0                 NaN  \n",
       "1                 5.0                 NaN  \n",
       "2                14.0                 NaN  \n",
       "3                 9.0                 NaN  \n",
       "4                 5.0                12.0  "
      ]
     },
     "execution_count": 6,
     "metadata": {},
     "output_type": "execute_result"
    }
   ],
   "source": [
    "test.head()"
   ]
  },
  {
   "cell_type": "code",
   "execution_count": 7,
   "id": "f7ece43f",
   "metadata": {
    "execution": {
     "iopub.execute_input": "2023-03-08T18:06:20.033873Z",
     "iopub.status.busy": "2023-03-08T18:06:20.033411Z",
     "iopub.status.idle": "2023-03-08T18:06:20.197778Z",
     "shell.execute_reply": "2023-03-08T18:06:20.195826Z"
    },
    "papermill": {
     "duration": 0.180885,
     "end_time": "2023-03-08T18:06:20.200870",
     "exception": false,
     "start_time": "2023-03-08T18:06:20.019985",
     "status": "completed"
    },
    "tags": []
   },
   "outputs": [
    {
     "name": "stdout",
     "output_type": "stream",
     "text": [
      "<class 'pandas.core.frame.DataFrame'>\n",
      "RangeIndex: 550068 entries, 0 to 550067\n",
      "Data columns (total 12 columns):\n",
      " #   Column                      Non-Null Count   Dtype  \n",
      "---  ------                      --------------   -----  \n",
      " 0   User_ID                     550068 non-null  int64  \n",
      " 1   Product_ID                  550068 non-null  object \n",
      " 2   Gender                      550068 non-null  object \n",
      " 3   Age                         550068 non-null  object \n",
      " 4   Occupation                  550068 non-null  int64  \n",
      " 5   City_Category               550068 non-null  object \n",
      " 6   Stay_In_Current_City_Years  550068 non-null  object \n",
      " 7   Marital_Status              550068 non-null  int64  \n",
      " 8   Product_Category_1          550068 non-null  int64  \n",
      " 9   Product_Category_2          376430 non-null  float64\n",
      " 10  Product_Category_3          166821 non-null  float64\n",
      " 11  Purchase                    550068 non-null  int64  \n",
      "dtypes: float64(2), int64(5), object(5)\n",
      "memory usage: 50.4+ MB\n"
     ]
    }
   ],
   "source": [
    "train.info()"
   ]
  },
  {
   "cell_type": "code",
   "execution_count": 8,
   "id": "5ec93c60",
   "metadata": {
    "execution": {
     "iopub.execute_input": "2023-03-08T18:06:20.226656Z",
     "iopub.status.busy": "2023-03-08T18:06:20.226236Z",
     "iopub.status.idle": "2023-03-08T18:06:20.299427Z",
     "shell.execute_reply": "2023-03-08T18:06:20.298092Z"
    },
    "papermill": {
     "duration": 0.090621,
     "end_time": "2023-03-08T18:06:20.303534",
     "exception": false,
     "start_time": "2023-03-08T18:06:20.212913",
     "status": "completed"
    },
    "tags": []
   },
   "outputs": [
    {
     "name": "stdout",
     "output_type": "stream",
     "text": [
      "<class 'pandas.core.frame.DataFrame'>\n",
      "RangeIndex: 233599 entries, 0 to 233598\n",
      "Data columns (total 11 columns):\n",
      " #   Column                      Non-Null Count   Dtype  \n",
      "---  ------                      --------------   -----  \n",
      " 0   User_ID                     233599 non-null  int64  \n",
      " 1   Product_ID                  233599 non-null  object \n",
      " 2   Gender                      233599 non-null  object \n",
      " 3   Age                         233599 non-null  object \n",
      " 4   Occupation                  233599 non-null  int64  \n",
      " 5   City_Category               233599 non-null  object \n",
      " 6   Stay_In_Current_City_Years  233599 non-null  object \n",
      " 7   Marital_Status              233599 non-null  int64  \n",
      " 8   Product_Category_1          233599 non-null  int64  \n",
      " 9   Product_Category_2          161255 non-null  float64\n",
      " 10  Product_Category_3          71037 non-null   float64\n",
      "dtypes: float64(2), int64(4), object(5)\n",
      "memory usage: 19.6+ MB\n"
     ]
    }
   ],
   "source": [
    "test.info()"
   ]
  },
  {
   "cell_type": "code",
   "execution_count": 9,
   "id": "426dc7e1",
   "metadata": {
    "execution": {
     "iopub.execute_input": "2023-03-08T18:06:20.329155Z",
     "iopub.status.busy": "2023-03-08T18:06:20.328708Z",
     "iopub.status.idle": "2023-03-08T18:06:20.476615Z",
     "shell.execute_reply": "2023-03-08T18:06:20.475127Z"
    },
    "papermill": {
     "duration": 0.164288,
     "end_time": "2023-03-08T18:06:20.479638",
     "exception": false,
     "start_time": "2023-03-08T18:06:20.315350",
     "status": "completed"
    },
    "tags": []
   },
   "outputs": [
    {
     "data": {
      "text/plain": [
       "User_ID                            0\n",
       "Product_ID                         0\n",
       "Gender                             0\n",
       "Age                                0\n",
       "Occupation                         0\n",
       "City_Category                      0\n",
       "Stay_In_Current_City_Years         0\n",
       "Marital_Status                     0\n",
       "Product_Category_1                 0\n",
       "Product_Category_2            173638\n",
       "Product_Category_3            383247\n",
       "Purchase                           0\n",
       "dtype: int64"
      ]
     },
     "execution_count": 9,
     "metadata": {},
     "output_type": "execute_result"
    }
   ],
   "source": [
    "train.isnull().sum()"
   ]
  },
  {
   "cell_type": "code",
   "execution_count": 10,
   "id": "1072bd58",
   "metadata": {
    "execution": {
     "iopub.execute_input": "2023-03-08T18:06:20.505714Z",
     "iopub.status.busy": "2023-03-08T18:06:20.505298Z",
     "iopub.status.idle": "2023-03-08T18:06:20.573952Z",
     "shell.execute_reply": "2023-03-08T18:06:20.572858Z"
    },
    "papermill": {
     "duration": 0.084862,
     "end_time": "2023-03-08T18:06:20.576466",
     "exception": false,
     "start_time": "2023-03-08T18:06:20.491604",
     "status": "completed"
    },
    "tags": []
   },
   "outputs": [
    {
     "data": {
      "text/plain": [
       "User_ID                            0\n",
       "Product_ID                         0\n",
       "Gender                             0\n",
       "Age                                0\n",
       "Occupation                         0\n",
       "City_Category                      0\n",
       "Stay_In_Current_City_Years         0\n",
       "Marital_Status                     0\n",
       "Product_Category_1                 0\n",
       "Product_Category_2             72344\n",
       "Product_Category_3            162562\n",
       "dtype: int64"
      ]
     },
     "execution_count": 10,
     "metadata": {},
     "output_type": "execute_result"
    }
   ],
   "source": [
    "test.isnull().sum()"
   ]
  },
  {
   "cell_type": "code",
   "execution_count": 11,
   "id": "78153d51",
   "metadata": {
    "execution": {
     "iopub.execute_input": "2023-03-08T18:06:20.602187Z",
     "iopub.status.busy": "2023-03-08T18:06:20.601724Z",
     "iopub.status.idle": "2023-03-08T18:06:20.756742Z",
     "shell.execute_reply": "2023-03-08T18:06:20.755256Z"
    },
    "papermill": {
     "duration": 0.171202,
     "end_time": "2023-03-08T18:06:20.759695",
     "exception": false,
     "start_time": "2023-03-08T18:06:20.588493",
     "status": "completed"
    },
    "tags": []
   },
   "outputs": [],
   "source": [
    "data = train.append(test)"
   ]
  },
  {
   "cell_type": "code",
   "execution_count": 12,
   "id": "57923a8d",
   "metadata": {
    "execution": {
     "iopub.execute_input": "2023-03-08T18:06:20.785217Z",
     "iopub.status.busy": "2023-03-08T18:06:20.784794Z",
     "iopub.status.idle": "2023-03-08T18:06:20.803532Z",
     "shell.execute_reply": "2023-03-08T18:06:20.802091Z"
    },
    "papermill": {
     "duration": 0.034505,
     "end_time": "2023-03-08T18:06:20.806153",
     "exception": false,
     "start_time": "2023-03-08T18:06:20.771648",
     "status": "completed"
    },
    "tags": []
   },
   "outputs": [
    {
     "data": {
      "text/html": [
       "<div>\n",
       "<style scoped>\n",
       "    .dataframe tbody tr th:only-of-type {\n",
       "        vertical-align: middle;\n",
       "    }\n",
       "\n",
       "    .dataframe tbody tr th {\n",
       "        vertical-align: top;\n",
       "    }\n",
       "\n",
       "    .dataframe thead th {\n",
       "        text-align: right;\n",
       "    }\n",
       "</style>\n",
       "<table border=\"1\" class=\"dataframe\">\n",
       "  <thead>\n",
       "    <tr style=\"text-align: right;\">\n",
       "      <th></th>\n",
       "      <th>User_ID</th>\n",
       "      <th>Product_ID</th>\n",
       "      <th>Gender</th>\n",
       "      <th>Age</th>\n",
       "      <th>Occupation</th>\n",
       "      <th>City_Category</th>\n",
       "      <th>Stay_In_Current_City_Years</th>\n",
       "      <th>Marital_Status</th>\n",
       "      <th>Product_Category_1</th>\n",
       "      <th>Product_Category_2</th>\n",
       "      <th>Product_Category_3</th>\n",
       "      <th>Purchase</th>\n",
       "    </tr>\n",
       "  </thead>\n",
       "  <tbody>\n",
       "    <tr>\n",
       "      <th>0</th>\n",
       "      <td>1000001</td>\n",
       "      <td>P00069042</td>\n",
       "      <td>F</td>\n",
       "      <td>0-17</td>\n",
       "      <td>10</td>\n",
       "      <td>A</td>\n",
       "      <td>2</td>\n",
       "      <td>0</td>\n",
       "      <td>3</td>\n",
       "      <td>NaN</td>\n",
       "      <td>NaN</td>\n",
       "      <td>8370.0</td>\n",
       "    </tr>\n",
       "    <tr>\n",
       "      <th>1</th>\n",
       "      <td>1000001</td>\n",
       "      <td>P00248942</td>\n",
       "      <td>F</td>\n",
       "      <td>0-17</td>\n",
       "      <td>10</td>\n",
       "      <td>A</td>\n",
       "      <td>2</td>\n",
       "      <td>0</td>\n",
       "      <td>1</td>\n",
       "      <td>6.0</td>\n",
       "      <td>14.0</td>\n",
       "      <td>15200.0</td>\n",
       "    </tr>\n",
       "    <tr>\n",
       "      <th>2</th>\n",
       "      <td>1000001</td>\n",
       "      <td>P00087842</td>\n",
       "      <td>F</td>\n",
       "      <td>0-17</td>\n",
       "      <td>10</td>\n",
       "      <td>A</td>\n",
       "      <td>2</td>\n",
       "      <td>0</td>\n",
       "      <td>12</td>\n",
       "      <td>NaN</td>\n",
       "      <td>NaN</td>\n",
       "      <td>1422.0</td>\n",
       "    </tr>\n",
       "    <tr>\n",
       "      <th>3</th>\n",
       "      <td>1000001</td>\n",
       "      <td>P00085442</td>\n",
       "      <td>F</td>\n",
       "      <td>0-17</td>\n",
       "      <td>10</td>\n",
       "      <td>A</td>\n",
       "      <td>2</td>\n",
       "      <td>0</td>\n",
       "      <td>12</td>\n",
       "      <td>14.0</td>\n",
       "      <td>NaN</td>\n",
       "      <td>1057.0</td>\n",
       "    </tr>\n",
       "    <tr>\n",
       "      <th>4</th>\n",
       "      <td>1000002</td>\n",
       "      <td>P00285442</td>\n",
       "      <td>M</td>\n",
       "      <td>55+</td>\n",
       "      <td>16</td>\n",
       "      <td>C</td>\n",
       "      <td>4+</td>\n",
       "      <td>0</td>\n",
       "      <td>8</td>\n",
       "      <td>NaN</td>\n",
       "      <td>NaN</td>\n",
       "      <td>7969.0</td>\n",
       "    </tr>\n",
       "  </tbody>\n",
       "</table>\n",
       "</div>"
      ],
      "text/plain": [
       "   User_ID Product_ID Gender   Age  Occupation City_Category  \\\n",
       "0  1000001  P00069042      F  0-17          10             A   \n",
       "1  1000001  P00248942      F  0-17          10             A   \n",
       "2  1000001  P00087842      F  0-17          10             A   \n",
       "3  1000001  P00085442      F  0-17          10             A   \n",
       "4  1000002  P00285442      M   55+          16             C   \n",
       "\n",
       "  Stay_In_Current_City_Years  Marital_Status  Product_Category_1  \\\n",
       "0                          2               0                   3   \n",
       "1                          2               0                   1   \n",
       "2                          2               0                  12   \n",
       "3                          2               0                  12   \n",
       "4                         4+               0                   8   \n",
       "\n",
       "   Product_Category_2  Product_Category_3  Purchase  \n",
       "0                 NaN                 NaN    8370.0  \n",
       "1                 6.0                14.0   15200.0  \n",
       "2                 NaN                 NaN    1422.0  \n",
       "3                14.0                 NaN    1057.0  \n",
       "4                 NaN                 NaN    7969.0  "
      ]
     },
     "execution_count": 12,
     "metadata": {},
     "output_type": "execute_result"
    }
   ],
   "source": [
    "data.head()"
   ]
  },
  {
   "cell_type": "code",
   "execution_count": 13,
   "id": "49c96ce1",
   "metadata": {
    "execution": {
     "iopub.execute_input": "2023-03-08T18:06:20.833315Z",
     "iopub.status.busy": "2023-03-08T18:06:20.832177Z",
     "iopub.status.idle": "2023-03-08T18:06:21.302666Z",
     "shell.execute_reply": "2023-03-08T18:06:21.301322Z"
    },
    "papermill": {
     "duration": 0.487163,
     "end_time": "2023-03-08T18:06:21.305715",
     "exception": false,
     "start_time": "2023-03-08T18:06:20.818552",
     "status": "completed"
    },
    "tags": []
   },
   "outputs": [
    {
     "data": {
      "text/html": [
       "<div>\n",
       "<style scoped>\n",
       "    .dataframe tbody tr th:only-of-type {\n",
       "        vertical-align: middle;\n",
       "    }\n",
       "\n",
       "    .dataframe tbody tr th {\n",
       "        vertical-align: top;\n",
       "    }\n",
       "\n",
       "    .dataframe thead th {\n",
       "        text-align: right;\n",
       "    }\n",
       "</style>\n",
       "<table border=\"1\" class=\"dataframe\">\n",
       "  <thead>\n",
       "    <tr style=\"text-align: right;\">\n",
       "      <th></th>\n",
       "      <th>User_ID</th>\n",
       "      <th>Occupation</th>\n",
       "      <th>Marital_Status</th>\n",
       "      <th>Product_Category_1</th>\n",
       "      <th>Product_Category_2</th>\n",
       "      <th>Product_Category_3</th>\n",
       "      <th>Purchase</th>\n",
       "    </tr>\n",
       "  </thead>\n",
       "  <tbody>\n",
       "    <tr>\n",
       "      <th>count</th>\n",
       "      <td>7.836670e+05</td>\n",
       "      <td>783667.000000</td>\n",
       "      <td>783667.000000</td>\n",
       "      <td>783667.000000</td>\n",
       "      <td>537685.000000</td>\n",
       "      <td>237858.000000</td>\n",
       "      <td>550068.000000</td>\n",
       "    </tr>\n",
       "    <tr>\n",
       "      <th>mean</th>\n",
       "      <td>1.003029e+06</td>\n",
       "      <td>8.079300</td>\n",
       "      <td>0.409777</td>\n",
       "      <td>5.366196</td>\n",
       "      <td>9.844506</td>\n",
       "      <td>12.668605</td>\n",
       "      <td>9263.968713</td>\n",
       "    </tr>\n",
       "    <tr>\n",
       "      <th>std</th>\n",
       "      <td>1.727267e+03</td>\n",
       "      <td>6.522206</td>\n",
       "      <td>0.491793</td>\n",
       "      <td>3.878160</td>\n",
       "      <td>5.089093</td>\n",
       "      <td>4.125510</td>\n",
       "      <td>5023.065394</td>\n",
       "    </tr>\n",
       "    <tr>\n",
       "      <th>min</th>\n",
       "      <td>1.000001e+06</td>\n",
       "      <td>0.000000</td>\n",
       "      <td>0.000000</td>\n",
       "      <td>1.000000</td>\n",
       "      <td>2.000000</td>\n",
       "      <td>3.000000</td>\n",
       "      <td>12.000000</td>\n",
       "    </tr>\n",
       "    <tr>\n",
       "      <th>25%</th>\n",
       "      <td>1.001519e+06</td>\n",
       "      <td>2.000000</td>\n",
       "      <td>0.000000</td>\n",
       "      <td>1.000000</td>\n",
       "      <td>5.000000</td>\n",
       "      <td>9.000000</td>\n",
       "      <td>5823.000000</td>\n",
       "    </tr>\n",
       "    <tr>\n",
       "      <th>50%</th>\n",
       "      <td>1.003075e+06</td>\n",
       "      <td>7.000000</td>\n",
       "      <td>0.000000</td>\n",
       "      <td>5.000000</td>\n",
       "      <td>9.000000</td>\n",
       "      <td>14.000000</td>\n",
       "      <td>8047.000000</td>\n",
       "    </tr>\n",
       "    <tr>\n",
       "      <th>75%</th>\n",
       "      <td>1.004478e+06</td>\n",
       "      <td>14.000000</td>\n",
       "      <td>1.000000</td>\n",
       "      <td>8.000000</td>\n",
       "      <td>15.000000</td>\n",
       "      <td>16.000000</td>\n",
       "      <td>12054.000000</td>\n",
       "    </tr>\n",
       "    <tr>\n",
       "      <th>max</th>\n",
       "      <td>1.006040e+06</td>\n",
       "      <td>20.000000</td>\n",
       "      <td>1.000000</td>\n",
       "      <td>20.000000</td>\n",
       "      <td>18.000000</td>\n",
       "      <td>18.000000</td>\n",
       "      <td>23961.000000</td>\n",
       "    </tr>\n",
       "  </tbody>\n",
       "</table>\n",
       "</div>"
      ],
      "text/plain": [
       "            User_ID     Occupation  Marital_Status  Product_Category_1  \\\n",
       "count  7.836670e+05  783667.000000   783667.000000       783667.000000   \n",
       "mean   1.003029e+06       8.079300        0.409777            5.366196   \n",
       "std    1.727267e+03       6.522206        0.491793            3.878160   \n",
       "min    1.000001e+06       0.000000        0.000000            1.000000   \n",
       "25%    1.001519e+06       2.000000        0.000000            1.000000   \n",
       "50%    1.003075e+06       7.000000        0.000000            5.000000   \n",
       "75%    1.004478e+06      14.000000        1.000000            8.000000   \n",
       "max    1.006040e+06      20.000000        1.000000           20.000000   \n",
       "\n",
       "       Product_Category_2  Product_Category_3       Purchase  \n",
       "count       537685.000000       237858.000000  550068.000000  \n",
       "mean             9.844506           12.668605    9263.968713  \n",
       "std              5.089093            4.125510    5023.065394  \n",
       "min              2.000000            3.000000      12.000000  \n",
       "25%              5.000000            9.000000    5823.000000  \n",
       "50%              9.000000           14.000000    8047.000000  \n",
       "75%             15.000000           16.000000   12054.000000  \n",
       "max             18.000000           18.000000   23961.000000  "
      ]
     },
     "execution_count": 13,
     "metadata": {},
     "output_type": "execute_result"
    }
   ],
   "source": [
    "data.describe()"
   ]
  },
  {
   "cell_type": "code",
   "execution_count": 14,
   "id": "7abfa236",
   "metadata": {
    "execution": {
     "iopub.execute_input": "2023-03-08T18:06:21.334193Z",
     "iopub.status.busy": "2023-03-08T18:06:21.332919Z",
     "iopub.status.idle": "2023-03-08T18:06:21.341375Z",
     "shell.execute_reply": "2023-03-08T18:06:21.340121Z"
    },
    "papermill": {
     "duration": 0.025188,
     "end_time": "2023-03-08T18:06:21.343892",
     "exception": false,
     "start_time": "2023-03-08T18:06:21.318704",
     "status": "completed"
    },
    "tags": []
   },
   "outputs": [
    {
     "data": {
      "text/plain": [
       "(783667, 12)"
      ]
     },
     "execution_count": 14,
     "metadata": {},
     "output_type": "execute_result"
    }
   ],
   "source": [
    "data.shape"
   ]
  },
  {
   "cell_type": "code",
   "execution_count": 15,
   "id": "a6e0f8d5",
   "metadata": {
    "execution": {
     "iopub.execute_input": "2023-03-08T18:06:21.371574Z",
     "iopub.status.busy": "2023-03-08T18:06:21.371083Z",
     "iopub.status.idle": "2023-03-08T18:06:21.582781Z",
     "shell.execute_reply": "2023-03-08T18:06:21.581097Z"
    },
    "papermill": {
     "duration": 0.228968,
     "end_time": "2023-03-08T18:06:21.585793",
     "exception": false,
     "start_time": "2023-03-08T18:06:21.356825",
     "status": "completed"
    },
    "tags": []
   },
   "outputs": [
    {
     "name": "stdout",
     "output_type": "stream",
     "text": [
      "<class 'pandas.core.frame.DataFrame'>\n",
      "Int64Index: 783667 entries, 0 to 233598\n",
      "Data columns (total 12 columns):\n",
      " #   Column                      Non-Null Count   Dtype  \n",
      "---  ------                      --------------   -----  \n",
      " 0   User_ID                     783667 non-null  int64  \n",
      " 1   Product_ID                  783667 non-null  object \n",
      " 2   Gender                      783667 non-null  object \n",
      " 3   Age                         783667 non-null  object \n",
      " 4   Occupation                  783667 non-null  int64  \n",
      " 5   City_Category               783667 non-null  object \n",
      " 6   Stay_In_Current_City_Years  783667 non-null  object \n",
      " 7   Marital_Status              783667 non-null  int64  \n",
      " 8   Product_Category_1          783667 non-null  int64  \n",
      " 9   Product_Category_2          537685 non-null  float64\n",
      " 10  Product_Category_3          237858 non-null  float64\n",
      " 11  Purchase                    550068 non-null  float64\n",
      "dtypes: float64(3), int64(4), object(5)\n",
      "memory usage: 77.7+ MB\n"
     ]
    }
   ],
   "source": [
    "data.info()"
   ]
  },
  {
   "cell_type": "code",
   "execution_count": 16,
   "id": "49f6c43e",
   "metadata": {
    "execution": {
     "iopub.execute_input": "2023-03-08T18:06:21.613762Z",
     "iopub.status.busy": "2023-03-08T18:06:21.612839Z",
     "iopub.status.idle": "2023-03-08T18:06:21.672726Z",
     "shell.execute_reply": "2023-03-08T18:06:21.671403Z"
    },
    "papermill": {
     "duration": 0.077113,
     "end_time": "2023-03-08T18:06:21.675766",
     "exception": false,
     "start_time": "2023-03-08T18:06:21.598653",
     "status": "completed"
    },
    "tags": []
   },
   "outputs": [],
   "source": [
    "data.drop(['User_ID'],axis=1,inplace= True)"
   ]
  },
  {
   "cell_type": "code",
   "execution_count": 17,
   "id": "b5ba7acd",
   "metadata": {
    "execution": {
     "iopub.execute_input": "2023-03-08T18:06:21.703691Z",
     "iopub.status.busy": "2023-03-08T18:06:21.703248Z",
     "iopub.status.idle": "2023-03-08T18:06:21.721235Z",
     "shell.execute_reply": "2023-03-08T18:06:21.719866Z"
    },
    "papermill": {
     "duration": 0.034933,
     "end_time": "2023-03-08T18:06:21.723794",
     "exception": false,
     "start_time": "2023-03-08T18:06:21.688861",
     "status": "completed"
    },
    "tags": []
   },
   "outputs": [
    {
     "data": {
      "text/html": [
       "<div>\n",
       "<style scoped>\n",
       "    .dataframe tbody tr th:only-of-type {\n",
       "        vertical-align: middle;\n",
       "    }\n",
       "\n",
       "    .dataframe tbody tr th {\n",
       "        vertical-align: top;\n",
       "    }\n",
       "\n",
       "    .dataframe thead th {\n",
       "        text-align: right;\n",
       "    }\n",
       "</style>\n",
       "<table border=\"1\" class=\"dataframe\">\n",
       "  <thead>\n",
       "    <tr style=\"text-align: right;\">\n",
       "      <th></th>\n",
       "      <th>Product_ID</th>\n",
       "      <th>Gender</th>\n",
       "      <th>Age</th>\n",
       "      <th>Occupation</th>\n",
       "      <th>City_Category</th>\n",
       "      <th>Stay_In_Current_City_Years</th>\n",
       "      <th>Marital_Status</th>\n",
       "      <th>Product_Category_1</th>\n",
       "      <th>Product_Category_2</th>\n",
       "      <th>Product_Category_3</th>\n",
       "      <th>Purchase</th>\n",
       "    </tr>\n",
       "  </thead>\n",
       "  <tbody>\n",
       "    <tr>\n",
       "      <th>0</th>\n",
       "      <td>P00069042</td>\n",
       "      <td>F</td>\n",
       "      <td>0-17</td>\n",
       "      <td>10</td>\n",
       "      <td>A</td>\n",
       "      <td>2</td>\n",
       "      <td>0</td>\n",
       "      <td>3</td>\n",
       "      <td>NaN</td>\n",
       "      <td>NaN</td>\n",
       "      <td>8370.0</td>\n",
       "    </tr>\n",
       "    <tr>\n",
       "      <th>1</th>\n",
       "      <td>P00248942</td>\n",
       "      <td>F</td>\n",
       "      <td>0-17</td>\n",
       "      <td>10</td>\n",
       "      <td>A</td>\n",
       "      <td>2</td>\n",
       "      <td>0</td>\n",
       "      <td>1</td>\n",
       "      <td>6.0</td>\n",
       "      <td>14.0</td>\n",
       "      <td>15200.0</td>\n",
       "    </tr>\n",
       "    <tr>\n",
       "      <th>2</th>\n",
       "      <td>P00087842</td>\n",
       "      <td>F</td>\n",
       "      <td>0-17</td>\n",
       "      <td>10</td>\n",
       "      <td>A</td>\n",
       "      <td>2</td>\n",
       "      <td>0</td>\n",
       "      <td>12</td>\n",
       "      <td>NaN</td>\n",
       "      <td>NaN</td>\n",
       "      <td>1422.0</td>\n",
       "    </tr>\n",
       "    <tr>\n",
       "      <th>3</th>\n",
       "      <td>P00085442</td>\n",
       "      <td>F</td>\n",
       "      <td>0-17</td>\n",
       "      <td>10</td>\n",
       "      <td>A</td>\n",
       "      <td>2</td>\n",
       "      <td>0</td>\n",
       "      <td>12</td>\n",
       "      <td>14.0</td>\n",
       "      <td>NaN</td>\n",
       "      <td>1057.0</td>\n",
       "    </tr>\n",
       "    <tr>\n",
       "      <th>4</th>\n",
       "      <td>P00285442</td>\n",
       "      <td>M</td>\n",
       "      <td>55+</td>\n",
       "      <td>16</td>\n",
       "      <td>C</td>\n",
       "      <td>4+</td>\n",
       "      <td>0</td>\n",
       "      <td>8</td>\n",
       "      <td>NaN</td>\n",
       "      <td>NaN</td>\n",
       "      <td>7969.0</td>\n",
       "    </tr>\n",
       "  </tbody>\n",
       "</table>\n",
       "</div>"
      ],
      "text/plain": [
       "  Product_ID Gender   Age  Occupation City_Category  \\\n",
       "0  P00069042      F  0-17          10             A   \n",
       "1  P00248942      F  0-17          10             A   \n",
       "2  P00087842      F  0-17          10             A   \n",
       "3  P00085442      F  0-17          10             A   \n",
       "4  P00285442      M   55+          16             C   \n",
       "\n",
       "  Stay_In_Current_City_Years  Marital_Status  Product_Category_1  \\\n",
       "0                          2               0                   3   \n",
       "1                          2               0                   1   \n",
       "2                          2               0                  12   \n",
       "3                          2               0                  12   \n",
       "4                         4+               0                   8   \n",
       "\n",
       "   Product_Category_2  Product_Category_3  Purchase  \n",
       "0                 NaN                 NaN    8370.0  \n",
       "1                 6.0                14.0   15200.0  \n",
       "2                 NaN                 NaN    1422.0  \n",
       "3                14.0                 NaN    1057.0  \n",
       "4                 NaN                 NaN    7969.0  "
      ]
     },
     "execution_count": 17,
     "metadata": {},
     "output_type": "execute_result"
    }
   ],
   "source": [
    "data.head()"
   ]
  },
  {
   "cell_type": "code",
   "execution_count": 18,
   "id": "01afa012",
   "metadata": {
    "execution": {
     "iopub.execute_input": "2023-03-08T18:06:21.752680Z",
     "iopub.status.busy": "2023-03-08T18:06:21.751919Z",
     "iopub.status.idle": "2023-03-08T18:06:21.823513Z",
     "shell.execute_reply": "2023-03-08T18:06:21.822158Z"
    },
    "papermill": {
     "duration": 0.08895,
     "end_time": "2023-03-08T18:06:21.826246",
     "exception": false,
     "start_time": "2023-03-08T18:06:21.737296",
     "status": "completed"
    },
    "tags": []
   },
   "outputs": [
    {
     "data": {
      "text/html": [
       "<div>\n",
       "<style scoped>\n",
       "    .dataframe tbody tr th:only-of-type {\n",
       "        vertical-align: middle;\n",
       "    }\n",
       "\n",
       "    .dataframe tbody tr th {\n",
       "        vertical-align: top;\n",
       "    }\n",
       "\n",
       "    .dataframe thead th {\n",
       "        text-align: right;\n",
       "    }\n",
       "</style>\n",
       "<table border=\"1\" class=\"dataframe\">\n",
       "  <thead>\n",
       "    <tr style=\"text-align: right;\">\n",
       "      <th></th>\n",
       "      <th>Product_ID</th>\n",
       "      <th>Gender</th>\n",
       "      <th>Age</th>\n",
       "      <th>Occupation</th>\n",
       "      <th>City_Category</th>\n",
       "      <th>Stay_In_Current_City_Years</th>\n",
       "      <th>Marital_Status</th>\n",
       "      <th>Product_Category_1</th>\n",
       "      <th>Product_Category_2</th>\n",
       "      <th>Product_Category_3</th>\n",
       "      <th>Purchase</th>\n",
       "    </tr>\n",
       "  </thead>\n",
       "  <tbody>\n",
       "    <tr>\n",
       "      <th>0</th>\n",
       "      <td>P00069042</td>\n",
       "      <td>0</td>\n",
       "      <td>0-17</td>\n",
       "      <td>10</td>\n",
       "      <td>A</td>\n",
       "      <td>2</td>\n",
       "      <td>0</td>\n",
       "      <td>3</td>\n",
       "      <td>NaN</td>\n",
       "      <td>NaN</td>\n",
       "      <td>8370.0</td>\n",
       "    </tr>\n",
       "    <tr>\n",
       "      <th>1</th>\n",
       "      <td>P00248942</td>\n",
       "      <td>0</td>\n",
       "      <td>0-17</td>\n",
       "      <td>10</td>\n",
       "      <td>A</td>\n",
       "      <td>2</td>\n",
       "      <td>0</td>\n",
       "      <td>1</td>\n",
       "      <td>6.0</td>\n",
       "      <td>14.0</td>\n",
       "      <td>15200.0</td>\n",
       "    </tr>\n",
       "    <tr>\n",
       "      <th>2</th>\n",
       "      <td>P00087842</td>\n",
       "      <td>0</td>\n",
       "      <td>0-17</td>\n",
       "      <td>10</td>\n",
       "      <td>A</td>\n",
       "      <td>2</td>\n",
       "      <td>0</td>\n",
       "      <td>12</td>\n",
       "      <td>NaN</td>\n",
       "      <td>NaN</td>\n",
       "      <td>1422.0</td>\n",
       "    </tr>\n",
       "    <tr>\n",
       "      <th>3</th>\n",
       "      <td>P00085442</td>\n",
       "      <td>0</td>\n",
       "      <td>0-17</td>\n",
       "      <td>10</td>\n",
       "      <td>A</td>\n",
       "      <td>2</td>\n",
       "      <td>0</td>\n",
       "      <td>12</td>\n",
       "      <td>14.0</td>\n",
       "      <td>NaN</td>\n",
       "      <td>1057.0</td>\n",
       "    </tr>\n",
       "    <tr>\n",
       "      <th>4</th>\n",
       "      <td>P00285442</td>\n",
       "      <td>1</td>\n",
       "      <td>55+</td>\n",
       "      <td>16</td>\n",
       "      <td>C</td>\n",
       "      <td>4+</td>\n",
       "      <td>0</td>\n",
       "      <td>8</td>\n",
       "      <td>NaN</td>\n",
       "      <td>NaN</td>\n",
       "      <td>7969.0</td>\n",
       "    </tr>\n",
       "  </tbody>\n",
       "</table>\n",
       "</div>"
      ],
      "text/plain": [
       "  Product_ID  Gender   Age  Occupation City_Category  \\\n",
       "0  P00069042       0  0-17          10             A   \n",
       "1  P00248942       0  0-17          10             A   \n",
       "2  P00087842       0  0-17          10             A   \n",
       "3  P00085442       0  0-17          10             A   \n",
       "4  P00285442       1   55+          16             C   \n",
       "\n",
       "  Stay_In_Current_City_Years  Marital_Status  Product_Category_1  \\\n",
       "0                          2               0                   3   \n",
       "1                          2               0                   1   \n",
       "2                          2               0                  12   \n",
       "3                          2               0                  12   \n",
       "4                         4+               0                   8   \n",
       "\n",
       "   Product_Category_2  Product_Category_3  Purchase  \n",
       "0                 NaN                 NaN    8370.0  \n",
       "1                 6.0                14.0   15200.0  \n",
       "2                 NaN                 NaN    1422.0  \n",
       "3                14.0                 NaN    1057.0  \n",
       "4                 NaN                 NaN    7969.0  "
      ]
     },
     "execution_count": 18,
     "metadata": {},
     "output_type": "execute_result"
    }
   ],
   "source": [
    "# fixing categorical variable Gender\n",
    "data['Gender'] = data['Gender'].map({'F':0,'M':1})\n",
    "data.head()"
   ]
  },
  {
   "cell_type": "code",
   "execution_count": 19,
   "id": "d0a61455",
   "metadata": {
    "execution": {
     "iopub.execute_input": "2023-03-08T18:06:21.854756Z",
     "iopub.status.busy": "2023-03-08T18:06:21.854311Z",
     "iopub.status.idle": "2023-03-08T18:06:21.998847Z",
     "shell.execute_reply": "2023-03-08T18:06:21.997346Z"
    },
    "papermill": {
     "duration": 0.162354,
     "end_time": "2023-03-08T18:06:22.001895",
     "exception": false,
     "start_time": "2023-03-08T18:06:21.839541",
     "status": "completed"
    },
    "tags": []
   },
   "outputs": [
    {
     "data": {
      "text/html": [
       "<div>\n",
       "<style scoped>\n",
       "    .dataframe tbody tr th:only-of-type {\n",
       "        vertical-align: middle;\n",
       "    }\n",
       "\n",
       "    .dataframe tbody tr th {\n",
       "        vertical-align: top;\n",
       "    }\n",
       "\n",
       "    .dataframe thead th {\n",
       "        text-align: right;\n",
       "    }\n",
       "</style>\n",
       "<table border=\"1\" class=\"dataframe\">\n",
       "  <thead>\n",
       "    <tr style=\"text-align: right;\">\n",
       "      <th></th>\n",
       "      <th>Product_ID</th>\n",
       "      <th>Gender</th>\n",
       "      <th>Age</th>\n",
       "      <th>Occupation</th>\n",
       "      <th>City_Category</th>\n",
       "      <th>Stay_In_Current_City_Years</th>\n",
       "      <th>Marital_Status</th>\n",
       "      <th>Product_Category_1</th>\n",
       "      <th>Product_Category_2</th>\n",
       "      <th>Product_Category_3</th>\n",
       "      <th>Purchase</th>\n",
       "    </tr>\n",
       "  </thead>\n",
       "  <tbody>\n",
       "    <tr>\n",
       "      <th>0</th>\n",
       "      <td>P00069042</td>\n",
       "      <td>0</td>\n",
       "      <td>0</td>\n",
       "      <td>10</td>\n",
       "      <td>A</td>\n",
       "      <td>2</td>\n",
       "      <td>0</td>\n",
       "      <td>3</td>\n",
       "      <td>NaN</td>\n",
       "      <td>NaN</td>\n",
       "      <td>8370.0</td>\n",
       "    </tr>\n",
       "    <tr>\n",
       "      <th>1</th>\n",
       "      <td>P00248942</td>\n",
       "      <td>0</td>\n",
       "      <td>0</td>\n",
       "      <td>10</td>\n",
       "      <td>A</td>\n",
       "      <td>2</td>\n",
       "      <td>0</td>\n",
       "      <td>1</td>\n",
       "      <td>6.0</td>\n",
       "      <td>14.0</td>\n",
       "      <td>15200.0</td>\n",
       "    </tr>\n",
       "    <tr>\n",
       "      <th>2</th>\n",
       "      <td>P00087842</td>\n",
       "      <td>0</td>\n",
       "      <td>0</td>\n",
       "      <td>10</td>\n",
       "      <td>A</td>\n",
       "      <td>2</td>\n",
       "      <td>0</td>\n",
       "      <td>12</td>\n",
       "      <td>NaN</td>\n",
       "      <td>NaN</td>\n",
       "      <td>1422.0</td>\n",
       "    </tr>\n",
       "    <tr>\n",
       "      <th>3</th>\n",
       "      <td>P00085442</td>\n",
       "      <td>0</td>\n",
       "      <td>0</td>\n",
       "      <td>10</td>\n",
       "      <td>A</td>\n",
       "      <td>2</td>\n",
       "      <td>0</td>\n",
       "      <td>12</td>\n",
       "      <td>14.0</td>\n",
       "      <td>NaN</td>\n",
       "      <td>1057.0</td>\n",
       "    </tr>\n",
       "    <tr>\n",
       "      <th>4</th>\n",
       "      <td>P00285442</td>\n",
       "      <td>1</td>\n",
       "      <td>6</td>\n",
       "      <td>16</td>\n",
       "      <td>C</td>\n",
       "      <td>4+</td>\n",
       "      <td>0</td>\n",
       "      <td>8</td>\n",
       "      <td>NaN</td>\n",
       "      <td>NaN</td>\n",
       "      <td>7969.0</td>\n",
       "    </tr>\n",
       "  </tbody>\n",
       "</table>\n",
       "</div>"
      ],
      "text/plain": [
       "  Product_ID  Gender  Age  Occupation City_Category  \\\n",
       "0  P00069042       0    0          10             A   \n",
       "1  P00248942       0    0          10             A   \n",
       "2  P00087842       0    0          10             A   \n",
       "3  P00085442       0    0          10             A   \n",
       "4  P00285442       1    6          16             C   \n",
       "\n",
       "  Stay_In_Current_City_Years  Marital_Status  Product_Category_1  \\\n",
       "0                          2               0                   3   \n",
       "1                          2               0                   1   \n",
       "2                          2               0                  12   \n",
       "3                          2               0                  12   \n",
       "4                         4+               0                   8   \n",
       "\n",
       "   Product_Category_2  Product_Category_3  Purchase  \n",
       "0                 NaN                 NaN    8370.0  \n",
       "1                 6.0                14.0   15200.0  \n",
       "2                 NaN                 NaN    1422.0  \n",
       "3                14.0                 NaN    1057.0  \n",
       "4                 NaN                 NaN    7969.0  "
      ]
     },
     "execution_count": 19,
     "metadata": {},
     "output_type": "execute_result"
    }
   ],
   "source": [
    "##### Handing  categorical variable Age\n",
    "\n",
    "data['Age'].unique()\n",
    "data['Age'] = data['Age'].map({'0-17':0,'18-25':1,'26-35':2,'36-45':3,'46-50':4,'51-55':5,'55+':6})\n",
    "data.head()\n"
   ]
  },
  {
   "cell_type": "code",
   "execution_count": 20,
   "id": "6d92ffe8",
   "metadata": {
    "execution": {
     "iopub.execute_input": "2023-03-08T18:06:22.032305Z",
     "iopub.status.busy": "2023-03-08T18:06:22.031859Z",
     "iopub.status.idle": "2023-03-08T18:06:22.158129Z",
     "shell.execute_reply": "2023-03-08T18:06:22.156660Z"
    },
    "papermill": {
     "duration": 0.145,
     "end_time": "2023-03-08T18:06:22.161151",
     "exception": false,
     "start_time": "2023-03-08T18:06:22.016151",
     "status": "completed"
    },
    "tags": []
   },
   "outputs": [],
   "source": [
    "# fixing categorical variable city_category\n",
    "data['City_Category'].unique()\n",
    "city = pd.get_dummies(data['City_Category'],drop_first=True)\n"
   ]
  },
  {
   "cell_type": "code",
   "execution_count": 21,
   "id": "a3b7e9d5",
   "metadata": {
    "execution": {
     "iopub.execute_input": "2023-03-08T18:06:22.190677Z",
     "iopub.status.busy": "2023-03-08T18:06:22.190262Z",
     "iopub.status.idle": "2023-03-08T18:06:22.263654Z",
     "shell.execute_reply": "2023-03-08T18:06:22.262489Z"
    },
    "papermill": {
     "duration": 0.091429,
     "end_time": "2023-03-08T18:06:22.266180",
     "exception": false,
     "start_time": "2023-03-08T18:06:22.174751",
     "status": "completed"
    },
    "tags": []
   },
   "outputs": [
    {
     "data": {
      "text/html": [
       "<div>\n",
       "<style scoped>\n",
       "    .dataframe tbody tr th:only-of-type {\n",
       "        vertical-align: middle;\n",
       "    }\n",
       "\n",
       "    .dataframe tbody tr th {\n",
       "        vertical-align: top;\n",
       "    }\n",
       "\n",
       "    .dataframe thead th {\n",
       "        text-align: right;\n",
       "    }\n",
       "</style>\n",
       "<table border=\"1\" class=\"dataframe\">\n",
       "  <thead>\n",
       "    <tr style=\"text-align: right;\">\n",
       "      <th></th>\n",
       "      <th>Product_ID</th>\n",
       "      <th>Gender</th>\n",
       "      <th>Age</th>\n",
       "      <th>Occupation</th>\n",
       "      <th>City_Category</th>\n",
       "      <th>Stay_In_Current_City_Years</th>\n",
       "      <th>Marital_Status</th>\n",
       "      <th>Product_Category_1</th>\n",
       "      <th>Product_Category_2</th>\n",
       "      <th>Product_Category_3</th>\n",
       "      <th>Purchase</th>\n",
       "      <th>B</th>\n",
       "      <th>C</th>\n",
       "    </tr>\n",
       "  </thead>\n",
       "  <tbody>\n",
       "    <tr>\n",
       "      <th>0</th>\n",
       "      <td>P00069042</td>\n",
       "      <td>0</td>\n",
       "      <td>0</td>\n",
       "      <td>10</td>\n",
       "      <td>A</td>\n",
       "      <td>2</td>\n",
       "      <td>0</td>\n",
       "      <td>3</td>\n",
       "      <td>NaN</td>\n",
       "      <td>NaN</td>\n",
       "      <td>8370.0</td>\n",
       "      <td>0</td>\n",
       "      <td>0</td>\n",
       "    </tr>\n",
       "    <tr>\n",
       "      <th>1</th>\n",
       "      <td>P00248942</td>\n",
       "      <td>0</td>\n",
       "      <td>0</td>\n",
       "      <td>10</td>\n",
       "      <td>A</td>\n",
       "      <td>2</td>\n",
       "      <td>0</td>\n",
       "      <td>1</td>\n",
       "      <td>6.0</td>\n",
       "      <td>14.0</td>\n",
       "      <td>15200.0</td>\n",
       "      <td>0</td>\n",
       "      <td>0</td>\n",
       "    </tr>\n",
       "    <tr>\n",
       "      <th>2</th>\n",
       "      <td>P00087842</td>\n",
       "      <td>0</td>\n",
       "      <td>0</td>\n",
       "      <td>10</td>\n",
       "      <td>A</td>\n",
       "      <td>2</td>\n",
       "      <td>0</td>\n",
       "      <td>12</td>\n",
       "      <td>NaN</td>\n",
       "      <td>NaN</td>\n",
       "      <td>1422.0</td>\n",
       "      <td>0</td>\n",
       "      <td>0</td>\n",
       "    </tr>\n",
       "    <tr>\n",
       "      <th>3</th>\n",
       "      <td>P00085442</td>\n",
       "      <td>0</td>\n",
       "      <td>0</td>\n",
       "      <td>10</td>\n",
       "      <td>A</td>\n",
       "      <td>2</td>\n",
       "      <td>0</td>\n",
       "      <td>12</td>\n",
       "      <td>14.0</td>\n",
       "      <td>NaN</td>\n",
       "      <td>1057.0</td>\n",
       "      <td>0</td>\n",
       "      <td>0</td>\n",
       "    </tr>\n",
       "    <tr>\n",
       "      <th>4</th>\n",
       "      <td>P00285442</td>\n",
       "      <td>1</td>\n",
       "      <td>6</td>\n",
       "      <td>16</td>\n",
       "      <td>C</td>\n",
       "      <td>4+</td>\n",
       "      <td>0</td>\n",
       "      <td>8</td>\n",
       "      <td>NaN</td>\n",
       "      <td>NaN</td>\n",
       "      <td>7969.0</td>\n",
       "      <td>0</td>\n",
       "      <td>1</td>\n",
       "    </tr>\n",
       "  </tbody>\n",
       "</table>\n",
       "</div>"
      ],
      "text/plain": [
       "  Product_ID  Gender  Age  Occupation City_Category  \\\n",
       "0  P00069042       0    0          10             A   \n",
       "1  P00248942       0    0          10             A   \n",
       "2  P00087842       0    0          10             A   \n",
       "3  P00085442       0    0          10             A   \n",
       "4  P00285442       1    6          16             C   \n",
       "\n",
       "  Stay_In_Current_City_Years  Marital_Status  Product_Category_1  \\\n",
       "0                          2               0                   3   \n",
       "1                          2               0                   1   \n",
       "2                          2               0                  12   \n",
       "3                          2               0                  12   \n",
       "4                         4+               0                   8   \n",
       "\n",
       "   Product_Category_2  Product_Category_3  Purchase  B  C  \n",
       "0                 NaN                 NaN    8370.0  0  0  \n",
       "1                 6.0                14.0   15200.0  0  0  \n",
       "2                 NaN                 NaN    1422.0  0  0  \n",
       "3                14.0                 NaN    1057.0  0  0  \n",
       "4                 NaN                 NaN    7969.0  0  1  "
      ]
     },
     "execution_count": 21,
     "metadata": {},
     "output_type": "execute_result"
    }
   ],
   "source": [
    "data= pd.concat([data,city],axis=1)\n",
    "data.head()"
   ]
  },
  {
   "cell_type": "code",
   "execution_count": 22,
   "id": "4e66819d",
   "metadata": {
    "execution": {
     "iopub.execute_input": "2023-03-08T18:06:22.295404Z",
     "iopub.status.busy": "2023-03-08T18:06:22.294927Z",
     "iopub.status.idle": "2023-03-08T18:06:22.462962Z",
     "shell.execute_reply": "2023-03-08T18:06:22.461396Z"
    },
    "papermill": {
     "duration": 0.186002,
     "end_time": "2023-03-08T18:06:22.465741",
     "exception": false,
     "start_time": "2023-03-08T18:06:22.279739",
     "status": "completed"
    },
    "tags": []
   },
   "outputs": [
    {
     "data": {
      "text/html": [
       "<div>\n",
       "<style scoped>\n",
       "    .dataframe tbody tr th:only-of-type {\n",
       "        vertical-align: middle;\n",
       "    }\n",
       "\n",
       "    .dataframe tbody tr th {\n",
       "        vertical-align: top;\n",
       "    }\n",
       "\n",
       "    .dataframe thead th {\n",
       "        text-align: right;\n",
       "    }\n",
       "</style>\n",
       "<table border=\"1\" class=\"dataframe\">\n",
       "  <thead>\n",
       "    <tr style=\"text-align: right;\">\n",
       "      <th></th>\n",
       "      <th>Product_ID</th>\n",
       "      <th>Gender</th>\n",
       "      <th>Age</th>\n",
       "      <th>Occupation</th>\n",
       "      <th>Stay_In_Current_City_Years</th>\n",
       "      <th>Marital_Status</th>\n",
       "      <th>Product_Category_1</th>\n",
       "      <th>Product_Category_2</th>\n",
       "      <th>Product_Category_3</th>\n",
       "      <th>Purchase</th>\n",
       "      <th>B</th>\n",
       "      <th>C</th>\n",
       "    </tr>\n",
       "  </thead>\n",
       "  <tbody>\n",
       "    <tr>\n",
       "      <th>0</th>\n",
       "      <td>P00069042</td>\n",
       "      <td>0</td>\n",
       "      <td>0</td>\n",
       "      <td>10</td>\n",
       "      <td>2</td>\n",
       "      <td>0</td>\n",
       "      <td>3</td>\n",
       "      <td>NaN</td>\n",
       "      <td>NaN</td>\n",
       "      <td>8370.0</td>\n",
       "      <td>0</td>\n",
       "      <td>0</td>\n",
       "    </tr>\n",
       "    <tr>\n",
       "      <th>1</th>\n",
       "      <td>P00248942</td>\n",
       "      <td>0</td>\n",
       "      <td>0</td>\n",
       "      <td>10</td>\n",
       "      <td>2</td>\n",
       "      <td>0</td>\n",
       "      <td>1</td>\n",
       "      <td>6.0</td>\n",
       "      <td>14.0</td>\n",
       "      <td>15200.0</td>\n",
       "      <td>0</td>\n",
       "      <td>0</td>\n",
       "    </tr>\n",
       "    <tr>\n",
       "      <th>2</th>\n",
       "      <td>P00087842</td>\n",
       "      <td>0</td>\n",
       "      <td>0</td>\n",
       "      <td>10</td>\n",
       "      <td>2</td>\n",
       "      <td>0</td>\n",
       "      <td>12</td>\n",
       "      <td>NaN</td>\n",
       "      <td>NaN</td>\n",
       "      <td>1422.0</td>\n",
       "      <td>0</td>\n",
       "      <td>0</td>\n",
       "    </tr>\n",
       "    <tr>\n",
       "      <th>3</th>\n",
       "      <td>P00085442</td>\n",
       "      <td>0</td>\n",
       "      <td>0</td>\n",
       "      <td>10</td>\n",
       "      <td>2</td>\n",
       "      <td>0</td>\n",
       "      <td>12</td>\n",
       "      <td>14.0</td>\n",
       "      <td>NaN</td>\n",
       "      <td>1057.0</td>\n",
       "      <td>0</td>\n",
       "      <td>0</td>\n",
       "    </tr>\n",
       "    <tr>\n",
       "      <th>4</th>\n",
       "      <td>P00285442</td>\n",
       "      <td>1</td>\n",
       "      <td>6</td>\n",
       "      <td>16</td>\n",
       "      <td>4+</td>\n",
       "      <td>0</td>\n",
       "      <td>8</td>\n",
       "      <td>NaN</td>\n",
       "      <td>NaN</td>\n",
       "      <td>7969.0</td>\n",
       "      <td>0</td>\n",
       "      <td>1</td>\n",
       "    </tr>\n",
       "  </tbody>\n",
       "</table>\n",
       "</div>"
      ],
      "text/plain": [
       "  Product_ID  Gender  Age  Occupation Stay_In_Current_City_Years  \\\n",
       "0  P00069042       0    0          10                          2   \n",
       "1  P00248942       0    0          10                          2   \n",
       "2  P00087842       0    0          10                          2   \n",
       "3  P00085442       0    0          10                          2   \n",
       "4  P00285442       1    6          16                         4+   \n",
       "\n",
       "   Marital_Status  Product_Category_1  Product_Category_2  Product_Category_3  \\\n",
       "0               0                   3                 NaN                 NaN   \n",
       "1               0                   1                 6.0                14.0   \n",
       "2               0                  12                 NaN                 NaN   \n",
       "3               0                  12                14.0                 NaN   \n",
       "4               0                   8                 NaN                 NaN   \n",
       "\n",
       "   Purchase  B  C  \n",
       "0    8370.0  0  0  \n",
       "1   15200.0  0  0  \n",
       "2    1422.0  0  0  \n",
       "3    1057.0  0  0  \n",
       "4    7969.0  0  1  "
      ]
     },
     "execution_count": 22,
     "metadata": {},
     "output_type": "execute_result"
    }
   ],
   "source": [
    "# droping city_category \n",
    "data.drop(['City_Category'],axis=1,inplace= True)\n",
    "data.head()"
   ]
  },
  {
   "cell_type": "code",
   "execution_count": 23,
   "id": "6a253e99",
   "metadata": {
    "execution": {
     "iopub.execute_input": "2023-03-08T18:06:22.496139Z",
     "iopub.status.busy": "2023-03-08T18:06:22.495316Z",
     "iopub.status.idle": "2023-03-08T18:06:22.595757Z",
     "shell.execute_reply": "2023-03-08T18:06:22.594507Z"
    },
    "papermill": {
     "duration": 0.118463,
     "end_time": "2023-03-08T18:06:22.598421",
     "exception": false,
     "start_time": "2023-03-08T18:06:22.479958",
     "status": "completed"
    },
    "tags": []
   },
   "outputs": [
    {
     "data": {
      "text/plain": [
       "Product_ID                         0\n",
       "Gender                             0\n",
       "Age                                0\n",
       "Occupation                         0\n",
       "Stay_In_Current_City_Years         0\n",
       "Marital_Status                     0\n",
       "Product_Category_1                 0\n",
       "Product_Category_2            245982\n",
       "Product_Category_3            545809\n",
       "Purchase                      233599\n",
       "B                                  0\n",
       "C                                  0\n",
       "dtype: int64"
      ]
     },
     "execution_count": 23,
     "metadata": {},
     "output_type": "execute_result"
    }
   ],
   "source": [
    "# Fixing null values\n",
    "data.isnull().sum()"
   ]
  },
  {
   "cell_type": "code",
   "execution_count": 24,
   "id": "edb9d75d",
   "metadata": {
    "execution": {
     "iopub.execute_input": "2023-03-08T18:06:22.629131Z",
     "iopub.status.busy": "2023-03-08T18:06:22.628690Z",
     "iopub.status.idle": "2023-03-08T18:06:22.649589Z",
     "shell.execute_reply": "2023-03-08T18:06:22.648308Z"
    },
    "papermill": {
     "duration": 0.039621,
     "end_time": "2023-03-08T18:06:22.652376",
     "exception": false,
     "start_time": "2023-03-08T18:06:22.612755",
     "status": "completed"
    },
    "tags": []
   },
   "outputs": [
    {
     "data": {
      "text/plain": [
       "array([nan,  6., 14.,  2.,  8., 15., 16., 11.,  5.,  3.,  4., 12.,  9.,\n",
       "       10., 17., 13.,  7., 18.])"
      ]
     },
     "execution_count": 24,
     "metadata": {},
     "output_type": "execute_result"
    }
   ],
   "source": [
    "data['Product_Category_2'].unique()"
   ]
  },
  {
   "cell_type": "code",
   "execution_count": 25,
   "id": "7ca39626",
   "metadata": {
    "execution": {
     "iopub.execute_input": "2023-03-08T18:06:22.682847Z",
     "iopub.status.busy": "2023-03-08T18:06:22.682077Z",
     "iopub.status.idle": "2023-03-08T18:06:22.705831Z",
     "shell.execute_reply": "2023-03-08T18:06:22.704581Z"
    },
    "papermill": {
     "duration": 0.041944,
     "end_time": "2023-03-08T18:06:22.708533",
     "exception": false,
     "start_time": "2023-03-08T18:06:22.666589",
     "status": "completed"
    },
    "tags": []
   },
   "outputs": [
    {
     "data": {
      "text/plain": [
       "8.0     91317\n",
       "14.0    78834\n",
       "2.0     70498\n",
       "16.0    61687\n",
       "15.0    54114\n",
       "5.0     37165\n",
       "4.0     36705\n",
       "6.0     23575\n",
       "11.0    20230\n",
       "17.0    19104\n",
       "13.0    15054\n",
       "9.0      8177\n",
       "12.0     7801\n",
       "10.0     4420\n",
       "3.0      4123\n",
       "18.0     4027\n",
       "7.0       854\n",
       "Name: Product_Category_2, dtype: int64"
      ]
     },
     "execution_count": 25,
     "metadata": {},
     "output_type": "execute_result"
    }
   ],
   "source": [
    "data['Product_Category_2'].value_counts()"
   ]
  },
  {
   "cell_type": "code",
   "execution_count": 26,
   "id": "9ef1ff18",
   "metadata": {
    "execution": {
     "iopub.execute_input": "2023-03-08T18:06:22.739302Z",
     "iopub.status.busy": "2023-03-08T18:06:22.738859Z",
     "iopub.status.idle": "2023-03-08T18:06:22.760449Z",
     "shell.execute_reply": "2023-03-08T18:06:22.759136Z"
    },
    "papermill": {
     "duration": 0.040017,
     "end_time": "2023-03-08T18:06:22.763139",
     "exception": false,
     "start_time": "2023-03-08T18:06:22.723122",
     "status": "completed"
    },
    "tags": []
   },
   "outputs": [
    {
     "data": {
      "text/plain": [
       "8.0"
      ]
     },
     "execution_count": 26,
     "metadata": {},
     "output_type": "execute_result"
    }
   ],
   "source": [
    "data['Product_Category_2'].mode()[0]"
   ]
  },
  {
   "cell_type": "code",
   "execution_count": 27,
   "id": "eec87c85",
   "metadata": {
    "execution": {
     "iopub.execute_input": "2023-03-08T18:06:22.794563Z",
     "iopub.status.busy": "2023-03-08T18:06:22.794057Z",
     "iopub.status.idle": "2023-03-08T18:06:22.839525Z",
     "shell.execute_reply": "2023-03-08T18:06:22.838351Z"
    },
    "papermill": {
     "duration": 0.064228,
     "end_time": "2023-03-08T18:06:22.842436",
     "exception": false,
     "start_time": "2023-03-08T18:06:22.778208",
     "status": "completed"
    },
    "tags": []
   },
   "outputs": [],
   "source": [
    "# replace the missing value with the mode\n",
    "data['Product_Category_2']=data['Product_Category_2'].fillna(data['Product_Category_2'].mode())"
   ]
  },
  {
   "cell_type": "code",
   "execution_count": 28,
   "id": "2af8e069",
   "metadata": {
    "execution": {
     "iopub.execute_input": "2023-03-08T18:06:22.873572Z",
     "iopub.status.busy": "2023-03-08T18:06:22.873123Z",
     "iopub.status.idle": "2023-03-08T18:06:22.883301Z",
     "shell.execute_reply": "2023-03-08T18:06:22.881879Z"
    },
    "papermill": {
     "duration": 0.029068,
     "end_time": "2023-03-08T18:06:22.886125",
     "exception": false,
     "start_time": "2023-03-08T18:06:22.857057",
     "status": "completed"
    },
    "tags": []
   },
   "outputs": [
    {
     "data": {
      "text/plain": [
       "245981"
      ]
     },
     "execution_count": 28,
     "metadata": {},
     "output_type": "execute_result"
    }
   ],
   "source": [
    "data['Product_Category_2'].isnull().sum()"
   ]
  },
  {
   "cell_type": "code",
   "execution_count": 29,
   "id": "12e2dfd3",
   "metadata": {
    "execution": {
     "iopub.execute_input": "2023-03-08T18:06:22.916962Z",
     "iopub.status.busy": "2023-03-08T18:06:22.916573Z",
     "iopub.status.idle": "2023-03-08T18:06:22.940432Z",
     "shell.execute_reply": "2023-03-08T18:06:22.939011Z"
    },
    "papermill": {
     "duration": 0.042852,
     "end_time": "2023-03-08T18:06:22.943403",
     "exception": false,
     "start_time": "2023-03-08T18:06:22.900551",
     "status": "completed"
    },
    "tags": []
   },
   "outputs": [],
   "source": [
    "# replace missing values from product category 3\n",
    "data['Product_Category_3']=data['Product_Category_3'].fillna(data['Product_Category_3'].mode()[0])"
   ]
  },
  {
   "cell_type": "code",
   "execution_count": 30,
   "id": "10c75af9",
   "metadata": {
    "execution": {
     "iopub.execute_input": "2023-03-08T18:06:22.974467Z",
     "iopub.status.busy": "2023-03-08T18:06:22.974018Z",
     "iopub.status.idle": "2023-03-08T18:06:22.983587Z",
     "shell.execute_reply": "2023-03-08T18:06:22.982297Z"
    },
    "papermill": {
     "duration": 0.028182,
     "end_time": "2023-03-08T18:06:22.986150",
     "exception": false,
     "start_time": "2023-03-08T18:06:22.957968",
     "status": "completed"
    },
    "tags": []
   },
   "outputs": [
    {
     "data": {
      "text/plain": [
       "0"
      ]
     },
     "execution_count": 30,
     "metadata": {},
     "output_type": "execute_result"
    }
   ],
   "source": [
    "data['Product_Category_3'].isnull().sum()"
   ]
  },
  {
   "cell_type": "code",
   "execution_count": 31,
   "id": "592cfad0",
   "metadata": {
    "execution": {
     "iopub.execute_input": "2023-03-08T18:06:23.019500Z",
     "iopub.status.busy": "2023-03-08T18:06:23.018623Z",
     "iopub.status.idle": "2023-03-08T18:06:23.367046Z",
     "shell.execute_reply": "2023-03-08T18:06:23.365935Z"
    },
    "papermill": {
     "duration": 0.367864,
     "end_time": "2023-03-08T18:06:23.369808",
     "exception": false,
     "start_time": "2023-03-08T18:06:23.001944",
     "status": "completed"
    },
    "tags": []
   },
   "outputs": [
    {
     "name": "stderr",
     "output_type": "stream",
     "text": [
      "/opt/conda/lib/python3.7/site-packages/ipykernel_launcher.py:1: FutureWarning: The default value of regex will change from True to False in a future version. In addition, single character regular expressions will *not* be treated as literal strings when regex=True.\n",
      "  \"\"\"Entry point for launching an IPython kernel.\n"
     ]
    }
   ],
   "source": [
    " data['Stay_In_Current_City_Years']=data['Stay_In_Current_City_Years'].str.replace('+','')"
   ]
  },
  {
   "cell_type": "code",
   "execution_count": 32,
   "id": "a2f0ee90",
   "metadata": {
    "execution": {
     "iopub.execute_input": "2023-03-08T18:06:23.402466Z",
     "iopub.status.busy": "2023-03-08T18:06:23.401060Z",
     "iopub.status.idle": "2023-03-08T18:06:23.460395Z",
     "shell.execute_reply": "2023-03-08T18:06:23.458926Z"
    },
    "papermill": {
     "duration": 0.078678,
     "end_time": "2023-03-08T18:06:23.463348",
     "exception": false,
     "start_time": "2023-03-08T18:06:23.384670",
     "status": "completed"
    },
    "tags": []
   },
   "outputs": [
    {
     "data": {
      "text/plain": [
       "array(['2', '4', '3', '1', '0'], dtype=object)"
      ]
     },
     "execution_count": 32,
     "metadata": {},
     "output_type": "execute_result"
    }
   ],
   "source": [
    " data['Stay_In_Current_City_Years'].unique()"
   ]
  },
  {
   "cell_type": "code",
   "execution_count": 33,
   "id": "125541e3",
   "metadata": {
    "execution": {
     "iopub.execute_input": "2023-03-08T18:06:23.495089Z",
     "iopub.status.busy": "2023-03-08T18:06:23.494406Z",
     "iopub.status.idle": "2023-03-08T18:06:23.581047Z",
     "shell.execute_reply": "2023-03-08T18:06:23.580023Z"
    },
    "papermill": {
     "duration": 0.105541,
     "end_time": "2023-03-08T18:06:23.583781",
     "exception": false,
     "start_time": "2023-03-08T18:06:23.478240",
     "status": "completed"
    },
    "tags": []
   },
   "outputs": [],
   "source": [
    "#converting object to int \n",
    "data['Stay_In_Current_City_Years'] =  data['Stay_In_Current_City_Years'].astype('int')\n"
   ]
  },
  {
   "cell_type": "code",
   "execution_count": 34,
   "id": "6779ce8c",
   "metadata": {
    "execution": {
     "iopub.execute_input": "2023-03-08T18:06:23.616545Z",
     "iopub.status.busy": "2023-03-08T18:06:23.615709Z",
     "iopub.status.idle": "2023-03-08T18:06:23.628193Z",
     "shell.execute_reply": "2023-03-08T18:06:23.626828Z"
    },
    "papermill": {
     "duration": 0.032486,
     "end_time": "2023-03-08T18:06:23.631095",
     "exception": false,
     "start_time": "2023-03-08T18:06:23.598609",
     "status": "completed"
    },
    "tags": []
   },
   "outputs": [],
   "source": [
    "data['B']=data['B'].astype(int)\n",
    "data['C']=data['C'].astype(int)\n",
    "\n"
   ]
  },
  {
   "cell_type": "code",
   "execution_count": 35,
   "id": "f1c2bca0",
   "metadata": {
    "execution": {
     "iopub.execute_input": "2023-03-08T18:06:23.662931Z",
     "iopub.status.busy": "2023-03-08T18:06:23.662459Z",
     "iopub.status.idle": "2023-03-08T18:06:23.730107Z",
     "shell.execute_reply": "2023-03-08T18:06:23.728276Z"
    },
    "papermill": {
     "duration": 0.086711,
     "end_time": "2023-03-08T18:06:23.733081",
     "exception": false,
     "start_time": "2023-03-08T18:06:23.646370",
     "status": "completed"
    },
    "tags": []
   },
   "outputs": [
    {
     "name": "stdout",
     "output_type": "stream",
     "text": [
      "<class 'pandas.core.frame.DataFrame'>\n",
      "Int64Index: 783667 entries, 0 to 233598\n",
      "Data columns (total 12 columns):\n",
      " #   Column                      Non-Null Count   Dtype  \n",
      "---  ------                      --------------   -----  \n",
      " 0   Product_ID                  783667 non-null  object \n",
      " 1   Gender                      783667 non-null  int64  \n",
      " 2   Age                         783667 non-null  int64  \n",
      " 3   Occupation                  783667 non-null  int64  \n",
      " 4   Stay_In_Current_City_Years  783667 non-null  int64  \n",
      " 5   Marital_Status              783667 non-null  int64  \n",
      " 6   Product_Category_1          783667 non-null  int64  \n",
      " 7   Product_Category_2          537686 non-null  float64\n",
      " 8   Product_Category_3          783667 non-null  float64\n",
      " 9   Purchase                    550068 non-null  float64\n",
      " 10  B                           783667 non-null  int64  \n",
      " 11  C                           783667 non-null  int64  \n",
      "dtypes: float64(3), int64(8), object(1)\n",
      "memory usage: 77.7+ MB\n"
     ]
    }
   ],
   "source": [
    "data.info()"
   ]
  },
  {
   "cell_type": "code",
   "execution_count": 36,
   "id": "c76b709d",
   "metadata": {
    "execution": {
     "iopub.execute_input": "2023-03-08T18:06:23.764579Z",
     "iopub.status.busy": "2023-03-08T18:06:23.764168Z",
     "iopub.status.idle": "2023-03-08T18:06:41.582961Z",
     "shell.execute_reply": "2023-03-08T18:06:41.581562Z"
    },
    "papermill": {
     "duration": 17.837746,
     "end_time": "2023-03-08T18:06:41.585638",
     "exception": false,
     "start_time": "2023-03-08T18:06:23.747892",
     "status": "completed"
    },
    "tags": []
   },
   "outputs": [
    {
     "data": {
      "text/plain": [
       "<AxesSubplot:xlabel='Age', ylabel='Purchase'>"
      ]
     },
     "execution_count": 36,
     "metadata": {},
     "output_type": "execute_result"
    },
    {
     "data": {
      "image/png": "[encoded data removed]",
      "text/plain": [
       "<Figure size 640x480 with 1 Axes>"
      ]
     },
     "metadata": {},
     "output_type": "display_data"
    }
   ],
   "source": [
    "sns.barplot(x='Age',y='Purchase',hue='Gender',data = data)"
   ]
  },
  {
   "cell_type": "code",
   "execution_count": 37,
   "id": "da1b93b8",
   "metadata": {
    "execution": {
     "iopub.execute_input": "2023-03-08T18:06:41.618909Z",
     "iopub.status.busy": "2023-03-08T18:06:41.618500Z",
     "iopub.status.idle": "2023-03-08T18:06:59.452579Z",
     "shell.execute_reply": "2023-03-08T18:06:59.451129Z"
    },
    "papermill": {
     "duration": 17.854405,
     "end_time": "2023-03-08T18:06:59.455769",
     "exception": false,
     "start_time": "2023-03-08T18:06:41.601364",
     "status": "completed"
    },
    "tags": []
   },
   "outputs": [
    {
     "data": {
      "text/plain": [
       "<AxesSubplot:xlabel='Occupation', ylabel='Purchase'>"
      ]
     },
     "execution_count": 37,
     "metadata": {},
     "output_type": "execute_result"
    },
    {
     "data": {
      "image/png": "[encoded data removed]",
      "text/plain": [
       "<Figure size 640x480 with 1 Axes>"
      ]
     },
     "metadata": {},
     "output_type": "display_data"
    }
   ],
   "source": [
    "## Visualization of Purchase with occupation\n",
    "sns.barplot(x='Occupation',y='Purchase',hue='Gender',data=data)"
   ]
  },
  {
   "cell_type": "code",
   "execution_count": 38,
   "id": "39ecc344",
   "metadata": {
    "execution": {
     "iopub.execute_input": "2023-03-08T18:06:59.489977Z",
     "iopub.status.busy": "2023-03-08T18:06:59.489552Z",
     "iopub.status.idle": "2023-03-08T18:07:18.293977Z",
     "shell.execute_reply": "2023-03-08T18:07:18.292579Z"
    },
    "papermill": {
     "duration": 18.824468,
     "end_time": "2023-03-08T18:07:18.296573",
     "exception": false,
     "start_time": "2023-03-08T18:06:59.472105",
     "status": "completed"
    },
    "tags": []
   },
   "outputs": [
    {
     "data": {
      "text/plain": [
       "<AxesSubplot:xlabel='Product_Category_1', ylabel='Purchase'>"
      ]
     },
     "execution_count": 38,
     "metadata": {},
     "output_type": "execute_result"
    },
    {
     "data": {
      "image/png": "[encoded data removed]",
      "text/plain": [
       "<Figure size 640x480 with 1 Axes>"
      ]
     },
     "metadata": {},
     "output_type": "display_data"
    }
   ],
   "source": [
    "## Visualization of Purchase with product_category1\n",
    "sns.barplot(x='Product_Category_1',y='Purchase',hue='Gender',data=data)\n",
    "\n"
   ]
  },
  {
   "cell_type": "code",
   "execution_count": 39,
   "id": "a37013b4",
   "metadata": {
    "execution": {
     "iopub.execute_input": "2023-03-08T18:07:18.331908Z",
     "iopub.status.busy": "2023-03-08T18:07:18.331497Z",
     "iopub.status.idle": "2023-03-08T18:07:30.862308Z",
     "shell.execute_reply": "2023-03-08T18:07:30.860889Z"
    },
    "papermill": {
     "duration": 12.551959,
     "end_time": "2023-03-08T18:07:30.865103",
     "exception": false,
     "start_time": "2023-03-08T18:07:18.313144",
     "status": "completed"
    },
    "tags": []
   },
   "outputs": [
    {
     "data": {
      "text/plain": [
       "<AxesSubplot:xlabel='Product_Category_2', ylabel='Purchase'>"
      ]
     },
     "execution_count": 39,
     "metadata": {},
     "output_type": "execute_result"
    },
    {
     "data": {
      "image/png": "[encoded data removed]",
      "text/plain": [
       "<Figure size 640x480 with 1 Axes>"
      ]
     },
     "metadata": {},
     "output_type": "display_data"
    }
   ],
   "source": [
    "sns.barplot(x='Product_Category_2',y='Purchase',hue='Gender',data=data)\n"
   ]
  },
  {
   "cell_type": "code",
   "execution_count": 40,
   "id": "1a3d65fa",
   "metadata": {
    "execution": {
     "iopub.execute_input": "2023-03-08T18:07:30.901124Z",
     "iopub.status.busy": "2023-03-08T18:07:30.900658Z",
     "iopub.status.idle": "2023-03-08T18:07:51.433268Z",
     "shell.execute_reply": "2023-03-08T18:07:51.432315Z"
    },
    "papermill": {
     "duration": 20.553669,
     "end_time": "2023-03-08T18:07:51.435593",
     "exception": false,
     "start_time": "2023-03-08T18:07:30.881924",
     "status": "completed"
    },
    "tags": []
   },
   "outputs": [
    {
     "data": {
      "text/plain": [
       "<AxesSubplot:xlabel='Product_Category_3', ylabel='Purchase'>"
      ]
     },
     "execution_count": 40,
     "metadata": {},
     "output_type": "execute_result"
    },
    {
     "data": {
      "image/png": "[encoded data removed]",
      "text/plain": [
       "<Figure size 640x480 with 1 Axes>"
      ]
     },
     "metadata": {},
     "output_type": "display_data"
    }
   ],
   "source": [
    "sns.barplot(x='Product_Category_3',y='Purchase',hue='Gender',data=data)\n"
   ]
  },
  {
   "cell_type": "code",
   "execution_count": 41,
   "id": "32bd13af",
   "metadata": {
    "execution": {
     "iopub.execute_input": "2023-03-08T18:07:51.473661Z",
     "iopub.status.busy": "2023-03-08T18:07:51.472587Z",
     "iopub.status.idle": "2023-03-08T18:07:51.571850Z",
     "shell.execute_reply": "2023-03-08T18:07:51.570572Z"
    },
    "papermill": {
     "duration": 0.12143,
     "end_time": "2023-03-08T18:07:51.574794",
     "exception": false,
     "start_time": "2023-03-08T18:07:51.453364",
     "status": "completed"
    },
    "tags": []
   },
   "outputs": [],
   "source": [
    "# features scaling\n",
    "df_test=data[data['Purchase'].isnull()]\n",
    "df_train=data[~data['Purchase'].isnull()]"
   ]
  },
  {
   "cell_type": "code",
   "execution_count": 42,
   "id": "ffe82ffe",
   "metadata": {
    "execution": {
     "iopub.execute_input": "2023-03-08T18:07:51.612514Z",
     "iopub.status.busy": "2023-03-08T18:07:51.611738Z",
     "iopub.status.idle": "2023-03-08T18:07:51.643926Z",
     "shell.execute_reply": "2023-03-08T18:07:51.642479Z"
    },
    "papermill": {
     "duration": 0.054344,
     "end_time": "2023-03-08T18:07:51.647002",
     "exception": false,
     "start_time": "2023-03-08T18:07:51.592658",
     "status": "completed"
    },
    "tags": []
   },
   "outputs": [],
   "source": [
    "X=df_train.drop('Purchase',axis=1)\n",
    "y =df_train['Purchase']"
   ]
  },
  {
   "cell_type": "code",
   "execution_count": 43,
   "id": "bcae1388",
   "metadata": {
    "execution": {
     "iopub.execute_input": "2023-03-08T18:07:51.684750Z",
     "iopub.status.busy": "2023-03-08T18:07:51.684344Z",
     "iopub.status.idle": "2023-03-08T18:07:52.261781Z",
     "shell.execute_reply": "2023-03-08T18:07:52.260477Z"
    },
    "papermill": {
     "duration": 0.600378,
     "end_time": "2023-03-08T18:07:52.264964",
     "exception": false,
     "start_time": "2023-03-08T18:07:51.664586",
     "status": "completed"
    },
    "tags": []
   },
   "outputs": [],
   "source": [
    "from sklearn.model_selection import train_test_split\n",
    "X_train, X_test, y_train, y_test = train_test_split(\n",
    "     X, y, test_size=0.33, random_state=42)\n",
    "X_train.drop('Product_ID',axis=1,inplace=True)\n",
    "X_test.drop('Product_ID',axis=1,inplace=True)"
   ]
  },
  {
   "cell_type": "code",
   "execution_count": 44,
   "id": "8084893c",
   "metadata": {
    "execution": {
     "iopub.execute_input": "2023-03-08T18:07:52.302635Z",
     "iopub.status.busy": "2023-03-08T18:07:52.302182Z",
     "iopub.status.idle": "2023-03-08T18:07:52.307527Z",
     "shell.execute_reply": "2023-03-08T18:07:52.306307Z"
    },
    "papermill": {
     "duration": 0.027388,
     "end_time": "2023-03-08T18:07:52.309963",
     "exception": false,
     "start_time": "2023-03-08T18:07:52.282575",
     "status": "completed"
    },
    "tags": []
   },
   "outputs": [],
   "source": [
    "from sklearn.preprocessing import StandardScaler\n",
    "sc= StandardScaler()"
   ]
  },
  {
   "cell_type": "code",
   "execution_count": 45,
   "id": "5a81a0f1",
   "metadata": {
    "execution": {
     "iopub.execute_input": "2023-03-08T18:07:52.347181Z",
     "iopub.status.busy": "2023-03-08T18:07:52.346694Z",
     "iopub.status.idle": "2023-03-08T18:07:52.530827Z",
     "shell.execute_reply": "2023-03-08T18:07:52.529449Z"
    },
    "papermill": {
     "duration": 0.206108,
     "end_time": "2023-03-08T18:07:52.533806",
     "exception": false,
     "start_time": "2023-03-08T18:07:52.327698",
     "status": "completed"
    },
    "tags": []
   },
   "outputs": [],
   "source": [
    "x_train = sc.fit_transform(X_train,y_train)\n",
    "x_test = sc.fit(X_test)"
   ]
  },
  {
   "cell_type": "code",
   "execution_count": null,
   "id": "f10c273b",
   "metadata": {
    "papermill": {
     "duration": 0.017148,
     "end_time": "2023-03-08T18:07:52.568567",
     "exception": false,
     "start_time": "2023-03-08T18:07:52.551419",
     "status": "completed"
    },
    "tags": []
   },
   "outputs": [],
   "source": []
  }
 ],
 "metadata": {
  "kernelspec": {
   "display_name": "Python 3",
   "language": "python",
   "name": "python3"
  },
  "language_info": {
   "codemirror_mode": {
    "name": "ipython",
    "version": 3
   },
   "file_extension": ".py",
   "mimetype": "text/x-python",
   "name": "python",
   "nbconvert_exporter": "python",
   "pygments_lexer": "ipython3",
   "version": "3.7.12"
  },
  "papermill": {
   "default_parameters": {},
   "duration": 107.499298,
   "end_time": "2023-03-08T18:07:53.511140",
   "environment_variables": {},
   "exception": null,
   "input_path": "__notebook__.ipynb",
   "output_path": "__notebook__.ipynb",
   "parameters": {},
   "start_time": "2023-03-08T18:06:06.011842",
   "version": "2.4.0"
  }
 },
 "nbformat": 4,
 "nbformat_minor": 5
}
