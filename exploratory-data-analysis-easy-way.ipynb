{
 "cells": [
  {
   "cell_type": "code",
   "execution_count": 1,
   "id": "68f144d8",
   "metadata": {
    "_cell_guid": "b1076dfc-b9ad-4769-8c92-a6c4dae69d19",
    "_uuid": "8f2839f25d086af736a60e9eeb907d3b93b6e0e5",
    "execution": {
     "iopub.execute_input": "2023-03-06T14:45:06.908039Z",
     "iopub.status.busy": "2023-03-06T14:45:06.907589Z",
     "iopub.status.idle": "2023-03-06T14:45:06.932565Z",
     "shell.execute_reply": "2023-03-06T14:45:06.930981Z"
    },
    "papermill": {
     "duration": 0.04038,
     "end_time": "2023-03-06T14:45:06.936923",
     "exception": false,
     "start_time": "2023-03-06T14:45:06.896543",
     "status": "completed"
    },
    "tags": []
   },
   "outputs": [
    {
     "name": "stdout",
     "output_type": "stream",
     "text": [
      "/kaggle/input/zomato-restaurants-data/zomato.csv\n",
      "/kaggle/input/zomato-restaurants-data/file5.json\n",
      "/kaggle/input/zomato-restaurants-data/file1.json\n",
      "/kaggle/input/zomato-restaurants-data/file2.json\n",
      "/kaggle/input/zomato-restaurants-data/file4.json\n",
      "/kaggle/input/zomato-restaurants-data/file3.json\n",
      "/kaggle/input/zomato-restaurants-data/Country-Code.xlsx\n"
     ]
    }
   ],
   "source": [
    "# This Python 3 environment comes with many helpful analytics libraries installed\n",
    "# It is defined by the kaggle/python Docker image: https://github.com/kaggle/docker-python\n",
    "# For example, here's several helpful packages to load\n",
    "\n",
    "import numpy as np # linear algebra\n",
    "import pandas as pd # data processing, CSV file I/O (e.g. pd.read_csv)\n",
    "\n",
    "# Input data files are available in the read-only \"../input/\" directory\n",
    "# For example, running this (by clicking run or pressing Shift+Enter) will list all files under the input directory\n",
    "\n",
    "import os\n",
    "for dirname, _, filenames in os.walk('/kaggle/input'):\n",
    "    for filename in filenames:\n",
    "        print(os.path.join(dirname, filename))\n",
    "\n",
    "# You can write up to 20GB to the current directory (/kaggle/working/) that gets preserved as output when you create a version using \"Save & Run All\" \n",
    "# You can also write temporary files to /kaggle/temp/, but they won't be saved outside of the current session"
   ]
  },
  {
   "cell_type": "markdown",
   "id": "560c35da",
   "metadata": {
    "papermill": {
     "duration": 0.008659,
     "end_time": "2023-03-06T14:45:06.954384",
     "exception": false,
     "start_time": "2023-03-06T14:45:06.945725",
     "status": "completed"
    },
    "tags": []
   },
   "source": [
    "# Importing Dependencies"
   ]
  },
  {
   "cell_type": "code",
   "execution_count": 2,
   "id": "fa29ba18",
   "metadata": {
    "execution": {
     "iopub.execute_input": "2023-03-06T14:45:06.972723Z",
     "iopub.status.busy": "2023-03-06T14:45:06.972298Z",
     "iopub.status.idle": "2023-03-06T14:45:08.303116Z",
     "shell.execute_reply": "2023-03-06T14:45:08.301524Z"
    },
    "papermill": {
     "duration": 1.34375,
     "end_time": "2023-03-06T14:45:08.306205",
     "exception": false,
     "start_time": "2023-03-06T14:45:06.962455",
     "status": "completed"
    },
    "tags": []
   },
   "outputs": [],
   "source": [
    "import pandas as pd\n",
    "import numpy as np \n",
    "import seaborn as sns\n",
    "import matplotlib.pyplot as plt\n",
    "%matplotlib inline\n"
   ]
  },
  {
   "cell_type": "code",
   "execution_count": 3,
   "id": "1d88e370",
   "metadata": {
    "execution": {
     "iopub.execute_input": "2023-03-06T14:45:08.324652Z",
     "iopub.status.busy": "2023-03-06T14:45:08.324187Z",
     "iopub.status.idle": "2023-03-06T14:45:08.438144Z",
     "shell.execute_reply": "2023-03-06T14:45:08.436782Z"
    },
    "papermill": {
     "duration": 0.126668,
     "end_time": "2023-03-06T14:45:08.441195",
     "exception": false,
     "start_time": "2023-03-06T14:45:08.314527",
     "status": "completed"
    },
    "tags": []
   },
   "outputs": [],
   "source": [
    "data = pd.read_csv('/kaggle/input/zomato-restaurants-data/zomato.csv',encoding = 'latin-1')"
   ]
  },
  {
   "cell_type": "code",
   "execution_count": 4,
   "id": "31406741",
   "metadata": {
    "execution": {
     "iopub.execute_input": "2023-03-06T14:45:08.461318Z",
     "iopub.status.busy": "2023-03-06T14:45:08.460849Z",
     "iopub.status.idle": "2023-03-06T14:45:08.469489Z",
     "shell.execute_reply": "2023-03-06T14:45:08.468267Z"
    },
    "papermill": {
     "duration": 0.02079,
     "end_time": "2023-03-06T14:45:08.472032",
     "exception": false,
     "start_time": "2023-03-06T14:45:08.451242",
     "status": "completed"
    },
    "tags": []
   },
   "outputs": [
    {
     "data": {
      "text/plain": [
       "Index(['Restaurant ID', 'Restaurant Name', 'Country Code', 'City', 'Address',\n",
       "       'Locality', 'Locality Verbose', 'Longitude', 'Latitude', 'Cuisines',\n",
       "       'Average Cost for two', 'Currency', 'Has Table booking',\n",
       "       'Has Online delivery', 'Is delivering now', 'Switch to order menu',\n",
       "       'Price range', 'Aggregate rating', 'Rating color', 'Rating text',\n",
       "       'Votes'],\n",
       "      dtype='object')"
      ]
     },
     "execution_count": 4,
     "metadata": {},
     "output_type": "execute_result"
    }
   ],
   "source": [
    "# loading columns \n",
    "data.columns\n"
   ]
  },
  {
   "cell_type": "code",
   "execution_count": 5,
   "id": "491c1816",
   "metadata": {
    "execution": {
     "iopub.execute_input": "2023-03-06T14:45:08.490192Z",
     "iopub.status.busy": "2023-03-06T14:45:08.489521Z",
     "iopub.status.idle": "2023-03-06T14:45:08.901774Z",
     "shell.execute_reply": "2023-03-06T14:45:08.900560Z"
    },
    "papermill": {
     "duration": 0.424539,
     "end_time": "2023-03-06T14:45:08.904615",
     "exception": false,
     "start_time": "2023-03-06T14:45:08.480076",
     "status": "completed"
    },
    "tags": []
   },
   "outputs": [],
   "source": [
    "data_ = pd.read_excel('/kaggle/input/zomato-restaurants-data/Country-Code.xlsx')"
   ]
  },
  {
   "cell_type": "code",
   "execution_count": 6,
   "id": "d4d7fe34",
   "metadata": {
    "execution": {
     "iopub.execute_input": "2023-03-06T14:45:08.923811Z",
     "iopub.status.busy": "2023-03-06T14:45:08.922458Z",
     "iopub.status.idle": "2023-03-06T14:45:08.965056Z",
     "shell.execute_reply": "2023-03-06T14:45:08.963676Z"
    },
    "papermill": {
     "duration": 0.055211,
     "end_time": "2023-03-06T14:45:08.968124",
     "exception": false,
     "start_time": "2023-03-06T14:45:08.912913",
     "status": "completed"
    },
    "tags": []
   },
   "outputs": [],
   "source": [
    "final_data = pd.merge(data,data_,on = 'Country Code',how = 'left')"
   ]
  },
  {
   "cell_type": "code",
   "execution_count": 7,
   "id": "1d031ff3",
   "metadata": {
    "execution": {
     "iopub.execute_input": "2023-03-06T14:45:08.988304Z",
     "iopub.status.busy": "2023-03-06T14:45:08.987437Z",
     "iopub.status.idle": "2023-03-06T14:45:09.029438Z",
     "shell.execute_reply": "2023-03-06T14:45:09.028231Z"
    },
    "papermill": {
     "duration": 0.054643,
     "end_time": "2023-03-06T14:45:09.032071",
     "exception": false,
     "start_time": "2023-03-06T14:45:08.977428",
     "status": "completed"
    },
    "tags": []
   },
   "outputs": [
    {
     "data": {
      "text/html": [
       "<div>\n",
       "<style scoped>\n",
       "    .dataframe tbody tr th:only-of-type {\n",
       "        vertical-align: middle;\n",
       "    }\n",
       "\n",
       "    .dataframe tbody tr th {\n",
       "        vertical-align: top;\n",
       "    }\n",
       "\n",
       "    .dataframe thead th {\n",
       "        text-align: right;\n",
       "    }\n",
       "</style>\n",
       "<table border=\"1\" class=\"dataframe\">\n",
       "  <thead>\n",
       "    <tr style=\"text-align: right;\">\n",
       "      <th></th>\n",
       "      <th>Restaurant ID</th>\n",
       "      <th>Restaurant Name</th>\n",
       "      <th>Country Code</th>\n",
       "      <th>City</th>\n",
       "      <th>Address</th>\n",
       "      <th>Locality</th>\n",
       "      <th>Locality Verbose</th>\n",
       "      <th>Longitude</th>\n",
       "      <th>Latitude</th>\n",
       "      <th>Cuisines</th>\n",
       "      <th>...</th>\n",
       "      <th>Currency</th>\n",
       "      <th>Has Table booking</th>\n",
       "      <th>Has Online delivery</th>\n",
       "      <th>Is delivering now</th>\n",
       "      <th>Switch to order menu</th>\n",
       "      <th>Price range</th>\n",
       "      <th>Aggregate rating</th>\n",
       "      <th>Rating color</th>\n",
       "      <th>Rating text</th>\n",
       "      <th>Votes</th>\n",
       "    </tr>\n",
       "  </thead>\n",
       "  <tbody>\n",
       "    <tr>\n",
       "      <th>0</th>\n",
       "      <td>6317637</td>\n",
       "      <td>Le Petit Souffle</td>\n",
       "      <td>162</td>\n",
       "      <td>Makati City</td>\n",
       "      <td>Third Floor, Century City Mall, Kalayaan Avenu...</td>\n",
       "      <td>Century City Mall, Poblacion, Makati City</td>\n",
       "      <td>Century City Mall, Poblacion, Makati City, Mak...</td>\n",
       "      <td>121.027535</td>\n",
       "      <td>14.565443</td>\n",
       "      <td>French, Japanese, Desserts</td>\n",
       "      <td>...</td>\n",
       "      <td>Botswana Pula(P)</td>\n",
       "      <td>Yes</td>\n",
       "      <td>No</td>\n",
       "      <td>No</td>\n",
       "      <td>No</td>\n",
       "      <td>3</td>\n",
       "      <td>4.8</td>\n",
       "      <td>Dark Green</td>\n",
       "      <td>Excellent</td>\n",
       "      <td>314</td>\n",
       "    </tr>\n",
       "    <tr>\n",
       "      <th>1</th>\n",
       "      <td>6304287</td>\n",
       "      <td>Izakaya Kikufuji</td>\n",
       "      <td>162</td>\n",
       "      <td>Makati City</td>\n",
       "      <td>Little Tokyo, 2277 Chino Roces Avenue, Legaspi...</td>\n",
       "      <td>Little Tokyo, Legaspi Village, Makati City</td>\n",
       "      <td>Little Tokyo, Legaspi Village, Makati City, Ma...</td>\n",
       "      <td>121.014101</td>\n",
       "      <td>14.553708</td>\n",
       "      <td>Japanese</td>\n",
       "      <td>...</td>\n",
       "      <td>Botswana Pula(P)</td>\n",
       "      <td>Yes</td>\n",
       "      <td>No</td>\n",
       "      <td>No</td>\n",
       "      <td>No</td>\n",
       "      <td>3</td>\n",
       "      <td>4.5</td>\n",
       "      <td>Dark Green</td>\n",
       "      <td>Excellent</td>\n",
       "      <td>591</td>\n",
       "    </tr>\n",
       "    <tr>\n",
       "      <th>2</th>\n",
       "      <td>6300002</td>\n",
       "      <td>Heat - Edsa Shangri-La</td>\n",
       "      <td>162</td>\n",
       "      <td>Mandaluyong City</td>\n",
       "      <td>Edsa Shangri-La, 1 Garden Way, Ortigas, Mandal...</td>\n",
       "      <td>Edsa Shangri-La, Ortigas, Mandaluyong City</td>\n",
       "      <td>Edsa Shangri-La, Ortigas, Mandaluyong City, Ma...</td>\n",
       "      <td>121.056831</td>\n",
       "      <td>14.581404</td>\n",
       "      <td>Seafood, Asian, Filipino, Indian</td>\n",
       "      <td>...</td>\n",
       "      <td>Botswana Pula(P)</td>\n",
       "      <td>Yes</td>\n",
       "      <td>No</td>\n",
       "      <td>No</td>\n",
       "      <td>No</td>\n",
       "      <td>4</td>\n",
       "      <td>4.4</td>\n",
       "      <td>Green</td>\n",
       "      <td>Very Good</td>\n",
       "      <td>270</td>\n",
       "    </tr>\n",
       "    <tr>\n",
       "      <th>3</th>\n",
       "      <td>6318506</td>\n",
       "      <td>Ooma</td>\n",
       "      <td>162</td>\n",
       "      <td>Mandaluyong City</td>\n",
       "      <td>Third Floor, Mega Fashion Hall, SM Megamall, O...</td>\n",
       "      <td>SM Megamall, Ortigas, Mandaluyong City</td>\n",
       "      <td>SM Megamall, Ortigas, Mandaluyong City, Mandal...</td>\n",
       "      <td>121.056475</td>\n",
       "      <td>14.585318</td>\n",
       "      <td>Japanese, Sushi</td>\n",
       "      <td>...</td>\n",
       "      <td>Botswana Pula(P)</td>\n",
       "      <td>No</td>\n",
       "      <td>No</td>\n",
       "      <td>No</td>\n",
       "      <td>No</td>\n",
       "      <td>4</td>\n",
       "      <td>4.9</td>\n",
       "      <td>Dark Green</td>\n",
       "      <td>Excellent</td>\n",
       "      <td>365</td>\n",
       "    </tr>\n",
       "    <tr>\n",
       "      <th>4</th>\n",
       "      <td>6314302</td>\n",
       "      <td>Sambo Kojin</td>\n",
       "      <td>162</td>\n",
       "      <td>Mandaluyong City</td>\n",
       "      <td>Third Floor, Mega Atrium, SM Megamall, Ortigas...</td>\n",
       "      <td>SM Megamall, Ortigas, Mandaluyong City</td>\n",
       "      <td>SM Megamall, Ortigas, Mandaluyong City, Mandal...</td>\n",
       "      <td>121.057508</td>\n",
       "      <td>14.584450</td>\n",
       "      <td>Japanese, Korean</td>\n",
       "      <td>...</td>\n",
       "      <td>Botswana Pula(P)</td>\n",
       "      <td>Yes</td>\n",
       "      <td>No</td>\n",
       "      <td>No</td>\n",
       "      <td>No</td>\n",
       "      <td>4</td>\n",
       "      <td>4.8</td>\n",
       "      <td>Dark Green</td>\n",
       "      <td>Excellent</td>\n",
       "      <td>229</td>\n",
       "    </tr>\n",
       "  </tbody>\n",
       "</table>\n",
       "<p>5 rows × 21 columns</p>\n",
       "</div>"
      ],
      "text/plain": [
       "   Restaurant ID         Restaurant Name  Country Code              City  \\\n",
       "0        6317637        Le Petit Souffle           162       Makati City   \n",
       "1        6304287        Izakaya Kikufuji           162       Makati City   \n",
       "2        6300002  Heat - Edsa Shangri-La           162  Mandaluyong City   \n",
       "3        6318506                    Ooma           162  Mandaluyong City   \n",
       "4        6314302             Sambo Kojin           162  Mandaluyong City   \n",
       "\n",
       "                                             Address  \\\n",
       "0  Third Floor, Century City Mall, Kalayaan Avenu...   \n",
       "1  Little Tokyo, 2277 Chino Roces Avenue, Legaspi...   \n",
       "2  Edsa Shangri-La, 1 Garden Way, Ortigas, Mandal...   \n",
       "3  Third Floor, Mega Fashion Hall, SM Megamall, O...   \n",
       "4  Third Floor, Mega Atrium, SM Megamall, Ortigas...   \n",
       "\n",
       "                                     Locality  \\\n",
       "0   Century City Mall, Poblacion, Makati City   \n",
       "1  Little Tokyo, Legaspi Village, Makati City   \n",
       "2  Edsa Shangri-La, Ortigas, Mandaluyong City   \n",
       "3      SM Megamall, Ortigas, Mandaluyong City   \n",
       "4      SM Megamall, Ortigas, Mandaluyong City   \n",
       "\n",
       "                                    Locality Verbose   Longitude   Latitude  \\\n",
       "0  Century City Mall, Poblacion, Makati City, Mak...  121.027535  14.565443   \n",
       "1  Little Tokyo, Legaspi Village, Makati City, Ma...  121.014101  14.553708   \n",
       "2  Edsa Shangri-La, Ortigas, Mandaluyong City, Ma...  121.056831  14.581404   \n",
       "3  SM Megamall, Ortigas, Mandaluyong City, Mandal...  121.056475  14.585318   \n",
       "4  SM Megamall, Ortigas, Mandaluyong City, Mandal...  121.057508  14.584450   \n",
       "\n",
       "                           Cuisines  ...          Currency Has Table booking  \\\n",
       "0        French, Japanese, Desserts  ...  Botswana Pula(P)               Yes   \n",
       "1                          Japanese  ...  Botswana Pula(P)               Yes   \n",
       "2  Seafood, Asian, Filipino, Indian  ...  Botswana Pula(P)               Yes   \n",
       "3                   Japanese, Sushi  ...  Botswana Pula(P)                No   \n",
       "4                  Japanese, Korean  ...  Botswana Pula(P)               Yes   \n",
       "\n",
       "  Has Online delivery Is delivering now Switch to order menu Price range  \\\n",
       "0                  No                No                   No           3   \n",
       "1                  No                No                   No           3   \n",
       "2                  No                No                   No           4   \n",
       "3                  No                No                   No           4   \n",
       "4                  No                No                   No           4   \n",
       "\n",
       "   Aggregate rating  Rating color Rating text Votes  \n",
       "0               4.8    Dark Green   Excellent   314  \n",
       "1               4.5    Dark Green   Excellent   591  \n",
       "2               4.4         Green   Very Good   270  \n",
       "3               4.9    Dark Green   Excellent   365  \n",
       "4               4.8    Dark Green   Excellent   229  \n",
       "\n",
       "[5 rows x 21 columns]"
      ]
     },
     "execution_count": 7,
     "metadata": {},
     "output_type": "execute_result"
    }
   ],
   "source": [
    "data.head()"
   ]
  },
  {
   "cell_type": "markdown",
   "id": "5b7bcb37",
   "metadata": {
    "papermill": {
     "duration": 0.008285,
     "end_time": "2023-03-06T14:45:09.049002",
     "exception": false,
     "start_time": "2023-03-06T14:45:09.040717",
     "status": "completed"
    },
    "tags": []
   },
   "source": [
    "# Data Analysis\n",
    "* Missing values\n",
    "* Exploring about Numerical variable\n",
    "* Exploring about categorical variable\n",
    "* finding Relationship between features\n"
   ]
  },
  {
   "cell_type": "code",
   "execution_count": 8,
   "id": "a0cc8622",
   "metadata": {
    "execution": {
     "iopub.execute_input": "2023-03-06T14:45:09.068274Z",
     "iopub.status.busy": "2023-03-06T14:45:09.067587Z",
     "iopub.status.idle": "2023-03-06T14:45:09.086582Z",
     "shell.execute_reply": "2023-03-06T14:45:09.085226Z"
    },
    "papermill": {
     "duration": 0.031692,
     "end_time": "2023-03-06T14:45:09.089149",
     "exception": false,
     "start_time": "2023-03-06T14:45:09.057457",
     "status": "completed"
    },
    "tags": []
   },
   "outputs": [
    {
     "data": {
      "text/plain": [
       "Restaurant ID           0\n",
       "Restaurant Name         0\n",
       "Country Code            0\n",
       "City                    0\n",
       "Address                 0\n",
       "Locality                0\n",
       "Locality Verbose        0\n",
       "Longitude               0\n",
       "Latitude                0\n",
       "Cuisines                9\n",
       "Average Cost for two    0\n",
       "Currency                0\n",
       "Has Table booking       0\n",
       "Has Online delivery     0\n",
       "Is delivering now       0\n",
       "Switch to order menu    0\n",
       "Price range             0\n",
       "Aggregate rating        0\n",
       "Rating color            0\n",
       "Rating text             0\n",
       "Votes                   0\n",
       "Country                 0\n",
       "dtype: int64"
      ]
     },
     "execution_count": 8,
     "metadata": {},
     "output_type": "execute_result"
    }
   ],
   "source": [
    "final_data.isnull().sum()"
   ]
  },
  {
   "cell_type": "markdown",
   "id": "761c0b86",
   "metadata": {
    "papermill": {
     "duration": 0.008779,
     "end_time": "2023-03-06T14:45:09.106771",
     "exception": false,
     "start_time": "2023-03-06T14:45:09.097992",
     "status": "completed"
    },
    "tags": []
   },
   "source": [
    "There are 9 missing values in Cuisines"
   ]
  },
  {
   "cell_type": "code",
   "execution_count": 9,
   "id": "e3845a3b",
   "metadata": {
    "execution": {
     "iopub.execute_input": "2023-03-06T14:45:09.127435Z",
     "iopub.status.busy": "2023-03-06T14:45:09.126240Z",
     "iopub.status.idle": "2023-03-06T14:45:09.149893Z",
     "shell.execute_reply": "2023-03-06T14:45:09.148420Z"
    },
    "papermill": {
     "duration": 0.037138,
     "end_time": "2023-03-06T14:45:09.152845",
     "exception": false,
     "start_time": "2023-03-06T14:45:09.115707",
     "status": "completed"
    },
    "tags": []
   },
   "outputs": [
    {
     "data": {
      "text/plain": [
       "['Cuisines']"
      ]
     },
     "execution_count": 9,
     "metadata": {},
     "output_type": "execute_result"
    }
   ],
   "source": [
    "[features for features in final_data.columns if final_data[features].isnull().sum()>0]"
   ]
  },
  {
   "cell_type": "code",
   "execution_count": 10,
   "id": "7ee27e4a",
   "metadata": {
    "execution": {
     "iopub.execute_input": "2023-03-06T14:45:09.172717Z",
     "iopub.status.busy": "2023-03-06T14:45:09.172271Z",
     "iopub.status.idle": "2023-03-06T14:45:09.203498Z",
     "shell.execute_reply": "2023-03-06T14:45:09.202270Z"
    },
    "papermill": {
     "duration": 0.044653,
     "end_time": "2023-03-06T14:45:09.206509",
     "exception": false,
     "start_time": "2023-03-06T14:45:09.161856",
     "status": "completed"
    },
    "tags": []
   },
   "outputs": [
    {
     "data": {
      "text/html": [
       "<div>\n",
       "<style scoped>\n",
       "    .dataframe tbody tr th:only-of-type {\n",
       "        vertical-align: middle;\n",
       "    }\n",
       "\n",
       "    .dataframe tbody tr th {\n",
       "        vertical-align: top;\n",
       "    }\n",
       "\n",
       "    .dataframe thead th {\n",
       "        text-align: right;\n",
       "    }\n",
       "</style>\n",
       "<table border=\"1\" class=\"dataframe\">\n",
       "  <thead>\n",
       "    <tr style=\"text-align: right;\">\n",
       "      <th></th>\n",
       "      <th>Restaurant ID</th>\n",
       "      <th>Restaurant Name</th>\n",
       "      <th>Country Code</th>\n",
       "      <th>City</th>\n",
       "      <th>Address</th>\n",
       "      <th>Locality</th>\n",
       "      <th>Locality Verbose</th>\n",
       "      <th>Longitude</th>\n",
       "      <th>Latitude</th>\n",
       "      <th>Cuisines</th>\n",
       "      <th>...</th>\n",
       "      <th>Has Table booking</th>\n",
       "      <th>Has Online delivery</th>\n",
       "      <th>Is delivering now</th>\n",
       "      <th>Switch to order menu</th>\n",
       "      <th>Price range</th>\n",
       "      <th>Aggregate rating</th>\n",
       "      <th>Rating color</th>\n",
       "      <th>Rating text</th>\n",
       "      <th>Votes</th>\n",
       "      <th>Country</th>\n",
       "    </tr>\n",
       "  </thead>\n",
       "  <tbody>\n",
       "    <tr>\n",
       "      <th>0</th>\n",
       "      <td>6317637</td>\n",
       "      <td>Le Petit Souffle</td>\n",
       "      <td>162</td>\n",
       "      <td>Makati City</td>\n",
       "      <td>Third Floor, Century City Mall, Kalayaan Avenu...</td>\n",
       "      <td>Century City Mall, Poblacion, Makati City</td>\n",
       "      <td>Century City Mall, Poblacion, Makati City, Mak...</td>\n",
       "      <td>121.027535</td>\n",
       "      <td>14.565443</td>\n",
       "      <td>French, Japanese, Desserts</td>\n",
       "      <td>...</td>\n",
       "      <td>Yes</td>\n",
       "      <td>No</td>\n",
       "      <td>No</td>\n",
       "      <td>No</td>\n",
       "      <td>3</td>\n",
       "      <td>4.8</td>\n",
       "      <td>Dark Green</td>\n",
       "      <td>Excellent</td>\n",
       "      <td>314</td>\n",
       "      <td>Phillipines</td>\n",
       "    </tr>\n",
       "    <tr>\n",
       "      <th>1</th>\n",
       "      <td>6304287</td>\n",
       "      <td>Izakaya Kikufuji</td>\n",
       "      <td>162</td>\n",
       "      <td>Makati City</td>\n",
       "      <td>Little Tokyo, 2277 Chino Roces Avenue, Legaspi...</td>\n",
       "      <td>Little Tokyo, Legaspi Village, Makati City</td>\n",
       "      <td>Little Tokyo, Legaspi Village, Makati City, Ma...</td>\n",
       "      <td>121.014101</td>\n",
       "      <td>14.553708</td>\n",
       "      <td>Japanese</td>\n",
       "      <td>...</td>\n",
       "      <td>Yes</td>\n",
       "      <td>No</td>\n",
       "      <td>No</td>\n",
       "      <td>No</td>\n",
       "      <td>3</td>\n",
       "      <td>4.5</td>\n",
       "      <td>Dark Green</td>\n",
       "      <td>Excellent</td>\n",
       "      <td>591</td>\n",
       "      <td>Phillipines</td>\n",
       "    </tr>\n",
       "    <tr>\n",
       "      <th>2</th>\n",
       "      <td>6300002</td>\n",
       "      <td>Heat - Edsa Shangri-La</td>\n",
       "      <td>162</td>\n",
       "      <td>Mandaluyong City</td>\n",
       "      <td>Edsa Shangri-La, 1 Garden Way, Ortigas, Mandal...</td>\n",
       "      <td>Edsa Shangri-La, Ortigas, Mandaluyong City</td>\n",
       "      <td>Edsa Shangri-La, Ortigas, Mandaluyong City, Ma...</td>\n",
       "      <td>121.056831</td>\n",
       "      <td>14.581404</td>\n",
       "      <td>Seafood, Asian, Filipino, Indian</td>\n",
       "      <td>...</td>\n",
       "      <td>Yes</td>\n",
       "      <td>No</td>\n",
       "      <td>No</td>\n",
       "      <td>No</td>\n",
       "      <td>4</td>\n",
       "      <td>4.4</td>\n",
       "      <td>Green</td>\n",
       "      <td>Very Good</td>\n",
       "      <td>270</td>\n",
       "      <td>Phillipines</td>\n",
       "    </tr>\n",
       "    <tr>\n",
       "      <th>3</th>\n",
       "      <td>6318506</td>\n",
       "      <td>Ooma</td>\n",
       "      <td>162</td>\n",
       "      <td>Mandaluyong City</td>\n",
       "      <td>Third Floor, Mega Fashion Hall, SM Megamall, O...</td>\n",
       "      <td>SM Megamall, Ortigas, Mandaluyong City</td>\n",
       "      <td>SM Megamall, Ortigas, Mandaluyong City, Mandal...</td>\n",
       "      <td>121.056475</td>\n",
       "      <td>14.585318</td>\n",
       "      <td>Japanese, Sushi</td>\n",
       "      <td>...</td>\n",
       "      <td>No</td>\n",
       "      <td>No</td>\n",
       "      <td>No</td>\n",
       "      <td>No</td>\n",
       "      <td>4</td>\n",
       "      <td>4.9</td>\n",
       "      <td>Dark Green</td>\n",
       "      <td>Excellent</td>\n",
       "      <td>365</td>\n",
       "      <td>Phillipines</td>\n",
       "    </tr>\n",
       "  </tbody>\n",
       "</table>\n",
       "<p>4 rows × 22 columns</p>\n",
       "</div>"
      ],
      "text/plain": [
       "   Restaurant ID         Restaurant Name  Country Code              City  \\\n",
       "0        6317637        Le Petit Souffle           162       Makati City   \n",
       "1        6304287        Izakaya Kikufuji           162       Makati City   \n",
       "2        6300002  Heat - Edsa Shangri-La           162  Mandaluyong City   \n",
       "3        6318506                    Ooma           162  Mandaluyong City   \n",
       "\n",
       "                                             Address  \\\n",
       "0  Third Floor, Century City Mall, Kalayaan Avenu...   \n",
       "1  Little Tokyo, 2277 Chino Roces Avenue, Legaspi...   \n",
       "2  Edsa Shangri-La, 1 Garden Way, Ortigas, Mandal...   \n",
       "3  Third Floor, Mega Fashion Hall, SM Megamall, O...   \n",
       "\n",
       "                                     Locality  \\\n",
       "0   Century City Mall, Poblacion, Makati City   \n",
       "1  Little Tokyo, Legaspi Village, Makati City   \n",
       "2  Edsa Shangri-La, Ortigas, Mandaluyong City   \n",
       "3      SM Megamall, Ortigas, Mandaluyong City   \n",
       "\n",
       "                                    Locality Verbose   Longitude   Latitude  \\\n",
       "0  Century City Mall, Poblacion, Makati City, Mak...  121.027535  14.565443   \n",
       "1  Little Tokyo, Legaspi Village, Makati City, Ma...  121.014101  14.553708   \n",
       "2  Edsa Shangri-La, Ortigas, Mandaluyong City, Ma...  121.056831  14.581404   \n",
       "3  SM Megamall, Ortigas, Mandaluyong City, Mandal...  121.056475  14.585318   \n",
       "\n",
       "                           Cuisines  ...  Has Table booking  \\\n",
       "0        French, Japanese, Desserts  ...                Yes   \n",
       "1                          Japanese  ...                Yes   \n",
       "2  Seafood, Asian, Filipino, Indian  ...                Yes   \n",
       "3                   Japanese, Sushi  ...                 No   \n",
       "\n",
       "  Has Online delivery Is delivering now Switch to order menu Price range  \\\n",
       "0                  No                No                   No           3   \n",
       "1                  No                No                   No           3   \n",
       "2                  No                No                   No           4   \n",
       "3                  No                No                   No           4   \n",
       "\n",
       "  Aggregate rating  Rating color  Rating text Votes      Country  \n",
       "0              4.8    Dark Green    Excellent   314  Phillipines  \n",
       "1              4.5    Dark Green    Excellent   591  Phillipines  \n",
       "2              4.4         Green    Very Good   270  Phillipines  \n",
       "3              4.9    Dark Green    Excellent   365  Phillipines  \n",
       "\n",
       "[4 rows x 22 columns]"
      ]
     },
     "execution_count": 10,
     "metadata": {},
     "output_type": "execute_result"
    }
   ],
   "source": [
    "final_data.head(4)"
   ]
  },
  {
   "cell_type": "code",
   "execution_count": 11,
   "id": "20d1d257",
   "metadata": {
    "execution": {
     "iopub.execute_input": "2023-03-06T14:45:09.227300Z",
     "iopub.status.busy": "2023-03-06T14:45:09.226369Z",
     "iopub.status.idle": "2023-03-06T14:45:09.256972Z",
     "shell.execute_reply": "2023-03-06T14:45:09.255678Z"
    },
    "papermill": {
     "duration": 0.044346,
     "end_time": "2023-03-06T14:45:09.260210",
     "exception": false,
     "start_time": "2023-03-06T14:45:09.215864",
     "status": "completed"
    },
    "tags": []
   },
   "outputs": [
    {
     "name": "stdout",
     "output_type": "stream",
     "text": [
      "<class 'pandas.core.frame.DataFrame'>\n",
      "Int64Index: 9551 entries, 0 to 9550\n",
      "Data columns (total 22 columns):\n",
      " #   Column                Non-Null Count  Dtype  \n",
      "---  ------                --------------  -----  \n",
      " 0   Restaurant ID         9551 non-null   int64  \n",
      " 1   Restaurant Name       9551 non-null   object \n",
      " 2   Country Code          9551 non-null   int64  \n",
      " 3   City                  9551 non-null   object \n",
      " 4   Address               9551 non-null   object \n",
      " 5   Locality              9551 non-null   object \n",
      " 6   Locality Verbose      9551 non-null   object \n",
      " 7   Longitude             9551 non-null   float64\n",
      " 8   Latitude              9551 non-null   float64\n",
      " 9   Cuisines              9542 non-null   object \n",
      " 10  Average Cost for two  9551 non-null   int64  \n",
      " 11  Currency              9551 non-null   object \n",
      " 12  Has Table booking     9551 non-null   object \n",
      " 13  Has Online delivery   9551 non-null   object \n",
      " 14  Is delivering now     9551 non-null   object \n",
      " 15  Switch to order menu  9551 non-null   object \n",
      " 16  Price range           9551 non-null   int64  \n",
      " 17  Aggregate rating      9551 non-null   float64\n",
      " 18  Rating color          9551 non-null   object \n",
      " 19  Rating text           9551 non-null   object \n",
      " 20  Votes                 9551 non-null   int64  \n",
      " 21  Country               9551 non-null   object \n",
      "dtypes: float64(3), int64(5), object(14)\n",
      "memory usage: 1.7+ MB\n"
     ]
    }
   ],
   "source": [
    "final_data.info()"
   ]
  },
  {
   "cell_type": "code",
   "execution_count": 12,
   "id": "0a4b7983",
   "metadata": {
    "execution": {
     "iopub.execute_input": "2023-03-06T14:45:09.280424Z",
     "iopub.status.busy": "2023-03-06T14:45:09.279992Z",
     "iopub.status.idle": "2023-03-06T14:45:09.288359Z",
     "shell.execute_reply": "2023-03-06T14:45:09.287189Z"
    },
    "papermill": {
     "duration": 0.021649,
     "end_time": "2023-03-06T14:45:09.291020",
     "exception": false,
     "start_time": "2023-03-06T14:45:09.269371",
     "status": "completed"
    },
    "tags": []
   },
   "outputs": [],
   "source": [
    "country_names = final_data.Country.value_counts().index\n",
    "country_values = final_data.Country.value_counts().values"
   ]
  },
  {
   "cell_type": "code",
   "execution_count": 13,
   "id": "335f2346",
   "metadata": {
    "execution": {
     "iopub.execute_input": "2023-03-06T14:45:09.311570Z",
     "iopub.status.busy": "2023-03-06T14:45:09.311119Z",
     "iopub.status.idle": "2023-03-06T14:45:09.537583Z",
     "shell.execute_reply": "2023-03-06T14:45:09.535818Z"
    },
    "papermill": {
     "duration": 0.24237,
     "end_time": "2023-03-06T14:45:09.542769",
     "exception": false,
     "start_time": "2023-03-06T14:45:09.300399",
     "status": "completed"
    },
    "tags": []
   },
   "outputs": [
    {
     "data": {
      "text/plain": [
       "([<matplotlib.patches.Wedge at 0x7f87e7ab49d0>,\n",
       "  <matplotlib.patches.Wedge at 0x7f87e7a5e5d0>,\n",
       "  <matplotlib.patches.Wedge at 0x7f87e7a5ee10>],\n",
       " [Text(-1.9690441274458368, 0.35052136050612226, 'India'),\n",
       "  Text(1.958694028797011, -0.4043732206204236, 'United States'),\n",
       "  Text(1.999248209786006, -0.05483243262385587, 'United Kingdom')],\n",
       " [Text(-0.590713238233751, 0.10515640815183668, '94.39%'),\n",
       "  Text(0.5876082086391032, -0.12131196618612707, '4.73%'),\n",
       "  Text(0.5997744629358018, -0.01644972978715676, '0.87%')])"
      ]
     },
     "execution_count": 13,
     "metadata": {},
     "output_type": "execute_result"
    },
    {
     "data": {
      "image/png": "[encoded data removed]",
      "text/plain": [
       "<Figure size 640x480 with 1 Axes>"
      ]
     },
     "metadata": {},
     "output_type": "display_data"
    }
   ],
   "source": [
    "#creating pie chart\n",
    "plt.pie(country_values[:3], labels =country_names[:3],labeldistance=2,autopct='%1.2f%%')"
   ]
  },
  {
   "cell_type": "markdown",
   "id": "bafd0e7b",
   "metadata": {
    "papermill": {
     "duration": 0.009542,
     "end_time": "2023-03-06T14:45:09.567663",
     "exception": false,
     "start_time": "2023-03-06T14:45:09.558121",
     "status": "completed"
    },
    "tags": []
   },
   "source": [
    "Observation : Zomato have big market in india because it a india based company\n",
    "and after india UK and US are the two major markets\n",
    " "
   ]
  },
  {
   "cell_type": "code",
   "execution_count": 14,
   "id": "00e34acb",
   "metadata": {
    "execution": {
     "iopub.execute_input": "2023-03-06T14:45:09.589161Z",
     "iopub.status.busy": "2023-03-06T14:45:09.588745Z",
     "iopub.status.idle": "2023-03-06T14:45:09.596345Z",
     "shell.execute_reply": "2023-03-06T14:45:09.595227Z"
    },
    "papermill": {
     "duration": 0.021747,
     "end_time": "2023-03-06T14:45:09.599190",
     "exception": false,
     "start_time": "2023-03-06T14:45:09.577443",
     "status": "completed"
    },
    "tags": []
   },
   "outputs": [
    {
     "data": {
      "text/plain": [
       "Index(['Restaurant ID', 'Restaurant Name', 'Country Code', 'City', 'Address',\n",
       "       'Locality', 'Locality Verbose', 'Longitude', 'Latitude', 'Cuisines',\n",
       "       'Average Cost for two', 'Currency', 'Has Table booking',\n",
       "       'Has Online delivery', 'Is delivering now', 'Switch to order menu',\n",
       "       'Price range', 'Aggregate rating', 'Rating color', 'Rating text',\n",
       "       'Votes', 'Country'],\n",
       "      dtype='object')"
      ]
     },
     "execution_count": 14,
     "metadata": {},
     "output_type": "execute_result"
    }
   ],
   "source": [
    "final_data.columns\n"
   ]
  },
  {
   "cell_type": "code",
   "execution_count": 15,
   "id": "8f5f015c",
   "metadata": {
    "execution": {
     "iopub.execute_input": "2023-03-06T14:45:09.620970Z",
     "iopub.status.busy": "2023-03-06T14:45:09.620520Z",
     "iopub.status.idle": "2023-03-06T14:45:09.640811Z",
     "shell.execute_reply": "2023-03-06T14:45:09.639737Z"
    },
    "papermill": {
     "duration": 0.034346,
     "end_time": "2023-03-06T14:45:09.643565",
     "exception": false,
     "start_time": "2023-03-06T14:45:09.609219",
     "status": "completed"
    },
    "tags": []
   },
   "outputs": [],
   "source": [
    " ratings = final_data.groupby(['Aggregate rating', 'Rating color', 'Rating text']).size().reset_index().rename(columns ={0:'Rating Count'})"
   ]
  },
  {
   "cell_type": "code",
   "execution_count": 16,
   "id": "6eed90a0",
   "metadata": {
    "execution": {
     "iopub.execute_input": "2023-03-06T14:45:09.667121Z",
     "iopub.status.busy": "2023-03-06T14:45:09.666388Z",
     "iopub.status.idle": "2023-03-06T14:45:09.672029Z",
     "shell.execute_reply": "2023-03-06T14:45:09.671098Z"
    },
    "papermill": {
     "duration": 0.020347,
     "end_time": "2023-03-06T14:45:09.674320",
     "exception": false,
     "start_time": "2023-03-06T14:45:09.653973",
     "status": "completed"
    },
    "tags": []
   },
   "outputs": [],
   "source": [
    "ratings['Rating color'] =(ratings['Rating color'].replace('White','Blue'))"
   ]
  },
  {
   "cell_type": "markdown",
   "id": "8898c548",
   "metadata": {
    "papermill": {
     "duration": 0.009718,
     "end_time": "2023-03-06T14:45:09.694010",
     "exception": false,
     "start_time": "2023-03-06T14:45:09.684292",
     "status": "completed"
    },
    "tags": []
   },
   "source": [
    "## Observation\n",
    "* when Rating is between 4.9 to 4.5 --> Excellent\n",
    "* when Rating is between 4.4 to 4.0 --> Very Good\n",
    "* when Rating is between 3.9 to 3.5 --> Good\n",
    "* when Rating is between 3.4 to 2.5 --> Average\n",
    "* when Rating is between 2.4 to 1.8 --> Poor\n",
    "* when Rating is Zero --> No Rating"
   ]
  },
  {
   "cell_type": "code",
   "execution_count": 17,
   "id": "98b87477",
   "metadata": {
    "execution": {
     "iopub.execute_input": "2023-03-06T14:45:09.716261Z",
     "iopub.status.busy": "2023-03-06T14:45:09.715523Z",
     "iopub.status.idle": "2023-03-06T14:45:11.872397Z",
     "shell.execute_reply": "2023-03-06T14:45:11.870689Z"
    },
    "papermill": {
     "duration": 2.171548,
     "end_time": "2023-03-06T14:45:11.875503",
     "exception": false,
     "start_time": "2023-03-06T14:45:09.703955",
     "status": "completed"
    },
    "tags": []
   },
   "outputs": [
    {
     "data": {
      "text/plain": [
       "<AxesSubplot:xlabel='Aggregate rating', ylabel='Rating Count'>"
      ]
     },
     "execution_count": 17,
     "metadata": {},
     "output_type": "execute_result"
    },
    {
     "data": {
      "image/png": "[encoded data removed]",
      "text/plain": [
       "<Figure size 1000x800 with 1 Axes>"
      ]
     },
     "metadata": {},
     "output_type": "display_data"
    }
   ],
   "source": [
    "# visualizing the rating\n",
    "plt.figure(figsize = (10,8))\n",
    "sns.barplot(x = \"Aggregate rating\",y = \"Rating Count\",data = ratings,hue = 'Rating color',palette=['blue','red','orange','yellow','green','green'])"
   ]
  },
  {
   "cell_type": "markdown",
   "id": "15d154b4",
   "metadata": {
    "execution": {
     "iopub.execute_input": "2023-03-06T13:07:54.989544Z",
     "iopub.status.busy": "2023-03-06T13:07:54.988786Z",
     "iopub.status.idle": "2023-03-06T13:07:55.003018Z",
     "shell.execute_reply": "2023-03-06T13:07:55.001671Z",
     "shell.execute_reply.started": "2023-03-06T13:07:54.989496Z"
    },
    "papermill": {
     "duration": 0.010238,
     "end_time": "2023-03-06T14:45:11.896581",
     "exception": false,
     "start_time": "2023-03-06T14:45:11.886343",
     "status": "completed"
    },
    "tags": []
   },
   "source": [
    "## Observation the maximun rating between 2.5 to 3.5"
   ]
  },
  {
   "cell_type": "code",
   "execution_count": 18,
   "id": "989fee55",
   "metadata": {
    "execution": {
     "iopub.execute_input": "2023-03-06T14:45:11.920300Z",
     "iopub.status.busy": "2023-03-06T14:45:11.919818Z",
     "iopub.status.idle": "2023-03-06T14:45:12.155818Z",
     "shell.execute_reply": "2023-03-06T14:45:12.154532Z"
    },
    "papermill": {
     "duration": 0.251133,
     "end_time": "2023-03-06T14:45:12.158659",
     "exception": false,
     "start_time": "2023-03-06T14:45:11.907526",
     "status": "completed"
    },
    "tags": []
   },
   "outputs": [
    {
     "data": {
      "text/plain": [
       "<AxesSubplot:xlabel='Rating color', ylabel='count'>"
      ]
     },
     "execution_count": 18,
     "metadata": {},
     "output_type": "execute_result"
    },
    {
     "data": {
      "image/png": "[encoded data removed]",
      "text/plain": [
       "<Figure size 640x480 with 1 Axes>"
      ]
     },
     "metadata": {},
     "output_type": "display_data"
    }
   ],
   "source": [
    "sns.countplot(x ='Rating color',data = ratings,palette=['blue','red','orange','yellow','green','green'])"
   ]
  },
  {
   "cell_type": "code",
   "execution_count": 19,
   "id": "d0ea42ae",
   "metadata": {
    "execution": {
     "iopub.execute_input": "2023-03-06T14:45:12.184186Z",
     "iopub.status.busy": "2023-03-06T14:45:12.183330Z",
     "iopub.status.idle": "2023-03-06T14:45:12.206033Z",
     "shell.execute_reply": "2023-03-06T14:45:12.205179Z"
    },
    "papermill": {
     "duration": 0.038371,
     "end_time": "2023-03-06T14:45:12.208462",
     "exception": false,
     "start_time": "2023-03-06T14:45:12.170091",
     "status": "completed"
    },
    "tags": []
   },
   "outputs": [
    {
     "data": {
      "text/html": [
       "<div>\n",
       "<style scoped>\n",
       "    .dataframe tbody tr th:only-of-type {\n",
       "        vertical-align: middle;\n",
       "    }\n",
       "\n",
       "    .dataframe tbody tr th {\n",
       "        vertical-align: top;\n",
       "    }\n",
       "\n",
       "    .dataframe thead th {\n",
       "        text-align: right;\n",
       "    }\n",
       "</style>\n",
       "<table border=\"1\" class=\"dataframe\">\n",
       "  <thead>\n",
       "    <tr style=\"text-align: right;\">\n",
       "      <th></th>\n",
       "      <th>Country</th>\n",
       "      <th>0</th>\n",
       "    </tr>\n",
       "  </thead>\n",
       "  <tbody>\n",
       "    <tr>\n",
       "      <th>0</th>\n",
       "      <td>Brazil</td>\n",
       "      <td>5</td>\n",
       "    </tr>\n",
       "    <tr>\n",
       "      <th>1</th>\n",
       "      <td>India</td>\n",
       "      <td>2139</td>\n",
       "    </tr>\n",
       "    <tr>\n",
       "      <th>2</th>\n",
       "      <td>United Kingdom</td>\n",
       "      <td>1</td>\n",
       "    </tr>\n",
       "    <tr>\n",
       "      <th>3</th>\n",
       "      <td>United States</td>\n",
       "      <td>3</td>\n",
       "    </tr>\n",
       "  </tbody>\n",
       "</table>\n",
       "</div>"
      ],
      "text/plain": [
       "          Country     0\n",
       "0          Brazil     5\n",
       "1           India  2139\n",
       "2  United Kingdom     1\n",
       "3   United States     3"
      ]
     },
     "execution_count": 19,
     "metadata": {},
     "output_type": "execute_result"
    }
   ],
   "source": [
    "## finding the countries name that has given 0 rating\n",
    "final_data[final_data['Aggregate rating'] ==0 ].groupby(final_data['Country']).size().reset_index()\n"
   ]
  },
  {
   "cell_type": "markdown",
   "id": "5ac46a74",
   "metadata": {
    "papermill": {
     "duration": 0.01087,
     "end_time": "2023-03-06T14:45:12.230753",
     "exception": false,
     "start_time": "2023-03-06T14:45:12.219883",
     "status": "completed"
    },
    "tags": []
   },
   "source": [
    "## Observation : maximum number of Zero rating from India \n"
   ]
  },
  {
   "cell_type": "code",
   "execution_count": 20,
   "id": "feadfda2",
   "metadata": {
    "execution": {
     "iopub.execute_input": "2023-03-06T14:45:12.255481Z",
     "iopub.status.busy": "2023-03-06T14:45:12.254684Z",
     "iopub.status.idle": "2023-03-06T14:45:12.273271Z",
     "shell.execute_reply": "2023-03-06T14:45:12.272040Z"
    },
    "papermill": {
     "duration": 0.03422,
     "end_time": "2023-03-06T14:45:12.276167",
     "exception": false,
     "start_time": "2023-03-06T14:45:12.241947",
     "status": "completed"
    },
    "tags": []
   },
   "outputs": [
    {
     "data": {
      "text/html": [
       "<div>\n",
       "<style scoped>\n",
       "    .dataframe tbody tr th:only-of-type {\n",
       "        vertical-align: middle;\n",
       "    }\n",
       "\n",
       "    .dataframe tbody tr th {\n",
       "        vertical-align: top;\n",
       "    }\n",
       "\n",
       "    .dataframe thead th {\n",
       "        text-align: right;\n",
       "    }\n",
       "</style>\n",
       "<table border=\"1\" class=\"dataframe\">\n",
       "  <thead>\n",
       "    <tr style=\"text-align: right;\">\n",
       "      <th></th>\n",
       "      <th>Country</th>\n",
       "      <th>Currency</th>\n",
       "      <th>0</th>\n",
       "    </tr>\n",
       "  </thead>\n",
       "  <tbody>\n",
       "    <tr>\n",
       "      <th>0</th>\n",
       "      <td>Australia</td>\n",
       "      <td>Dollar($)</td>\n",
       "      <td>24</td>\n",
       "    </tr>\n",
       "    <tr>\n",
       "      <th>1</th>\n",
       "      <td>Brazil</td>\n",
       "      <td>Brazilian Real(R$)</td>\n",
       "      <td>60</td>\n",
       "    </tr>\n",
       "    <tr>\n",
       "      <th>2</th>\n",
       "      <td>Canada</td>\n",
       "      <td>Dollar($)</td>\n",
       "      <td>4</td>\n",
       "    </tr>\n",
       "    <tr>\n",
       "      <th>3</th>\n",
       "      <td>India</td>\n",
       "      <td>Indian Rupees(Rs.)</td>\n",
       "      <td>8652</td>\n",
       "    </tr>\n",
       "    <tr>\n",
       "      <th>4</th>\n",
       "      <td>Indonesia</td>\n",
       "      <td>Indonesian Rupiah(IDR)</td>\n",
       "      <td>21</td>\n",
       "    </tr>\n",
       "    <tr>\n",
       "      <th>5</th>\n",
       "      <td>New Zealand</td>\n",
       "      <td>NewZealand($)</td>\n",
       "      <td>40</td>\n",
       "    </tr>\n",
       "    <tr>\n",
       "      <th>6</th>\n",
       "      <td>Phillipines</td>\n",
       "      <td>Botswana Pula(P)</td>\n",
       "      <td>22</td>\n",
       "    </tr>\n",
       "    <tr>\n",
       "      <th>7</th>\n",
       "      <td>Qatar</td>\n",
       "      <td>Qatari Rial(QR)</td>\n",
       "      <td>20</td>\n",
       "    </tr>\n",
       "    <tr>\n",
       "      <th>8</th>\n",
       "      <td>Singapore</td>\n",
       "      <td>Dollar($)</td>\n",
       "      <td>20</td>\n",
       "    </tr>\n",
       "    <tr>\n",
       "      <th>9</th>\n",
       "      <td>South Africa</td>\n",
       "      <td>Rand(R)</td>\n",
       "      <td>60</td>\n",
       "    </tr>\n",
       "    <tr>\n",
       "      <th>10</th>\n",
       "      <td>Sri Lanka</td>\n",
       "      <td>Sri Lankan Rupee(LKR)</td>\n",
       "      <td>20</td>\n",
       "    </tr>\n",
       "    <tr>\n",
       "      <th>11</th>\n",
       "      <td>Turkey</td>\n",
       "      <td>Turkish Lira(TL)</td>\n",
       "      <td>34</td>\n",
       "    </tr>\n",
       "    <tr>\n",
       "      <th>12</th>\n",
       "      <td>UAE</td>\n",
       "      <td>Emirati Diram(AED)</td>\n",
       "      <td>60</td>\n",
       "    </tr>\n",
       "    <tr>\n",
       "      <th>13</th>\n",
       "      <td>United Kingdom</td>\n",
       "      <td>Pounds(£)</td>\n",
       "      <td>80</td>\n",
       "    </tr>\n",
       "    <tr>\n",
       "      <th>14</th>\n",
       "      <td>United States</td>\n",
       "      <td>Dollar($)</td>\n",
       "      <td>434</td>\n",
       "    </tr>\n",
       "  </tbody>\n",
       "</table>\n",
       "</div>"
      ],
      "text/plain": [
       "           Country                Currency     0\n",
       "0        Australia               Dollar($)    24\n",
       "1           Brazil      Brazilian Real(R$)    60\n",
       "2           Canada               Dollar($)     4\n",
       "3            India      Indian Rupees(Rs.)  8652\n",
       "4        Indonesia  Indonesian Rupiah(IDR)    21\n",
       "5      New Zealand           NewZealand($)    40\n",
       "6      Phillipines        Botswana Pula(P)    22\n",
       "7            Qatar         Qatari Rial(QR)    20\n",
       "8        Singapore               Dollar($)    20\n",
       "9     South Africa                 Rand(R)    60\n",
       "10       Sri Lanka   Sri Lankan Rupee(LKR)    20\n",
       "11          Turkey        Turkish Lira(TL)    34\n",
       "12             UAE      Emirati Diram(AED)    60\n",
       "13  United Kingdom              Pounds(£)    80\n",
       "14   United States               Dollar($)   434"
      ]
     },
     "execution_count": 20,
     "metadata": {},
     "output_type": "execute_result"
    }
   ],
   "source": [
    "# finding which currency used by which country \n",
    "final_data[['Country','Currency']].groupby(['Country','Currency']).size().reset_index()"
   ]
  },
  {
   "cell_type": "code",
   "execution_count": 21,
   "id": "feac772e",
   "metadata": {
    "execution": {
     "iopub.execute_input": "2023-03-06T14:45:12.301769Z",
     "iopub.status.busy": "2023-03-06T14:45:12.301307Z",
     "iopub.status.idle": "2023-03-06T14:45:12.312681Z",
     "shell.execute_reply": "2023-03-06T14:45:12.311275Z"
    },
    "papermill": {
     "duration": 0.027332,
     "end_time": "2023-03-06T14:45:12.315162",
     "exception": false,
     "start_time": "2023-03-06T14:45:12.287830",
     "status": "completed"
    },
    "tags": []
   },
   "outputs": [
    {
     "data": {
      "text/plain": [
       "Series([], Name: Country, dtype: int64)"
      ]
     },
     "execution_count": 21,
     "metadata": {},
     "output_type": "execute_result"
    }
   ],
   "source": [
    "# Which countries have online delivery \n",
    "final_data[final_data['Has Online delivery'] == 'yes'].Country.value_counts()"
   ]
  },
  {
   "cell_type": "code",
   "execution_count": 22,
   "id": "d8c913f4",
   "metadata": {
    "execution": {
     "iopub.execute_input": "2023-03-06T14:45:12.340973Z",
     "iopub.status.busy": "2023-03-06T14:45:12.340527Z",
     "iopub.status.idle": "2023-03-06T14:45:12.359520Z",
     "shell.execute_reply": "2023-03-06T14:45:12.358218Z"
    },
    "papermill": {
     "duration": 0.035161,
     "end_time": "2023-03-06T14:45:12.362153",
     "exception": false,
     "start_time": "2023-03-06T14:45:12.326992",
     "status": "completed"
    },
    "tags": []
   },
   "outputs": [
    {
     "data": {
      "text/html": [
       "<div>\n",
       "<style scoped>\n",
       "    .dataframe tbody tr th:only-of-type {\n",
       "        vertical-align: middle;\n",
       "    }\n",
       "\n",
       "    .dataframe tbody tr th {\n",
       "        vertical-align: top;\n",
       "    }\n",
       "\n",
       "    .dataframe thead th {\n",
       "        text-align: right;\n",
       "    }\n",
       "</style>\n",
       "<table border=\"1\" class=\"dataframe\">\n",
       "  <thead>\n",
       "    <tr style=\"text-align: right;\">\n",
       "      <th></th>\n",
       "      <th>Country</th>\n",
       "      <th>Has Online delivery</th>\n",
       "      <th>0</th>\n",
       "    </tr>\n",
       "  </thead>\n",
       "  <tbody>\n",
       "    <tr>\n",
       "      <th>0</th>\n",
       "      <td>Australia</td>\n",
       "      <td>No</td>\n",
       "      <td>24</td>\n",
       "    </tr>\n",
       "    <tr>\n",
       "      <th>1</th>\n",
       "      <td>Brazil</td>\n",
       "      <td>No</td>\n",
       "      <td>60</td>\n",
       "    </tr>\n",
       "    <tr>\n",
       "      <th>2</th>\n",
       "      <td>Canada</td>\n",
       "      <td>No</td>\n",
       "      <td>4</td>\n",
       "    </tr>\n",
       "    <tr>\n",
       "      <th>3</th>\n",
       "      <td>India</td>\n",
       "      <td>No</td>\n",
       "      <td>6229</td>\n",
       "    </tr>\n",
       "    <tr>\n",
       "      <th>4</th>\n",
       "      <td>India</td>\n",
       "      <td>Yes</td>\n",
       "      <td>2423</td>\n",
       "    </tr>\n",
       "    <tr>\n",
       "      <th>5</th>\n",
       "      <td>Indonesia</td>\n",
       "      <td>No</td>\n",
       "      <td>21</td>\n",
       "    </tr>\n",
       "    <tr>\n",
       "      <th>6</th>\n",
       "      <td>New Zealand</td>\n",
       "      <td>No</td>\n",
       "      <td>40</td>\n",
       "    </tr>\n",
       "    <tr>\n",
       "      <th>7</th>\n",
       "      <td>Phillipines</td>\n",
       "      <td>No</td>\n",
       "      <td>22</td>\n",
       "    </tr>\n",
       "    <tr>\n",
       "      <th>8</th>\n",
       "      <td>Qatar</td>\n",
       "      <td>No</td>\n",
       "      <td>20</td>\n",
       "    </tr>\n",
       "    <tr>\n",
       "      <th>9</th>\n",
       "      <td>Singapore</td>\n",
       "      <td>No</td>\n",
       "      <td>20</td>\n",
       "    </tr>\n",
       "    <tr>\n",
       "      <th>10</th>\n",
       "      <td>South Africa</td>\n",
       "      <td>No</td>\n",
       "      <td>60</td>\n",
       "    </tr>\n",
       "    <tr>\n",
       "      <th>11</th>\n",
       "      <td>Sri Lanka</td>\n",
       "      <td>No</td>\n",
       "      <td>20</td>\n",
       "    </tr>\n",
       "    <tr>\n",
       "      <th>12</th>\n",
       "      <td>Turkey</td>\n",
       "      <td>No</td>\n",
       "      <td>34</td>\n",
       "    </tr>\n",
       "    <tr>\n",
       "      <th>13</th>\n",
       "      <td>UAE</td>\n",
       "      <td>No</td>\n",
       "      <td>32</td>\n",
       "    </tr>\n",
       "    <tr>\n",
       "      <th>14</th>\n",
       "      <td>UAE</td>\n",
       "      <td>Yes</td>\n",
       "      <td>28</td>\n",
       "    </tr>\n",
       "    <tr>\n",
       "      <th>15</th>\n",
       "      <td>United Kingdom</td>\n",
       "      <td>No</td>\n",
       "      <td>80</td>\n",
       "    </tr>\n",
       "    <tr>\n",
       "      <th>16</th>\n",
       "      <td>United States</td>\n",
       "      <td>No</td>\n",
       "      <td>434</td>\n",
       "    </tr>\n",
       "  </tbody>\n",
       "</table>\n",
       "</div>"
      ],
      "text/plain": [
       "           Country Has Online delivery     0\n",
       "0        Australia                  No    24\n",
       "1           Brazil                  No    60\n",
       "2           Canada                  No     4\n",
       "3            India                  No  6229\n",
       "4            India                 Yes  2423\n",
       "5        Indonesia                  No    21\n",
       "6      New Zealand                  No    40\n",
       "7      Phillipines                  No    22\n",
       "8            Qatar                  No    20\n",
       "9        Singapore                  No    20\n",
       "10    South Africa                  No    60\n",
       "11       Sri Lanka                  No    20\n",
       "12          Turkey                  No    34\n",
       "13             UAE                  No    32\n",
       "14             UAE                 Yes    28\n",
       "15  United Kingdom                  No    80\n",
       "16   United States                  No   434"
      ]
     },
     "execution_count": 22,
     "metadata": {},
     "output_type": "execute_result"
    }
   ],
   "source": [
    "final_data[['Country','Has Online delivery']].groupby(['Country','Has Online delivery']).size().reset_index()"
   ]
  },
  {
   "cell_type": "markdown",
   "id": "264e50ed",
   "metadata": {
    "papermill": {
     "duration": 0.011586,
     "end_time": "2023-03-06T14:45:12.385707",
     "exception": false,
     "start_time": "2023-03-06T14:45:12.374121",
     "status": "completed"
    },
    "tags": []
   },
   "source": [
    "## Observation :Online delivery only available in India and UAE"
   ]
  },
  {
   "cell_type": "code",
   "execution_count": 23,
   "id": "66059bf9",
   "metadata": {
    "execution": {
     "iopub.execute_input": "2023-03-06T14:45:12.411589Z",
     "iopub.status.busy": "2023-03-06T14:45:12.411140Z",
     "iopub.status.idle": "2023-03-06T14:45:12.419419Z",
     "shell.execute_reply": "2023-03-06T14:45:12.418395Z"
    },
    "papermill": {
     "duration": 0.024098,
     "end_time": "2023-03-06T14:45:12.421721",
     "exception": false,
     "start_time": "2023-03-06T14:45:12.397623",
     "status": "completed"
    },
    "tags": []
   },
   "outputs": [],
   "source": [
    "city_names = final_data.City.value_counts().index\n",
    "city_values = final_data.City.value_counts().values"
   ]
  },
  {
   "cell_type": "code",
   "execution_count": 24,
   "id": "e13bf90b",
   "metadata": {
    "execution": {
     "iopub.execute_input": "2023-03-06T14:45:12.447734Z",
     "iopub.status.busy": "2023-03-06T14:45:12.447303Z",
     "iopub.status.idle": "2023-03-06T14:45:12.615949Z",
     "shell.execute_reply": "2023-03-06T14:45:12.614140Z"
    },
    "papermill": {
     "duration": 0.187397,
     "end_time": "2023-03-06T14:45:12.621142",
     "exception": false,
     "start_time": "2023-03-06T14:45:12.433745",
     "status": "completed"
    },
    "tags": []
   },
   "outputs": [
    {
     "data": {
      "text/plain": [
       "([<matplotlib.patches.Wedge at 0x7f87ddc85410>,\n",
       "  <matplotlib.patches.Wedge at 0x7f87ddc85d10>,\n",
       "  <matplotlib.patches.Wedge at 0x7f87ddc12590>,\n",
       "  <matplotlib.patches.Wedge at 0x7f87ddc12290>,\n",
       "  <matplotlib.patches.Wedge at 0x7f87ddc204d0>],\n",
       " [Text(-0.8380026578435362, 1.2440866310057226, 'New Delhi'),\n",
       "  Text(0.085046625163371, -1.497587083126828, 'Gurgaon'),\n",
       "  Text(1.198506167130732, -0.9019883410275334, 'Noida'),\n",
       "  Text(1.4893934206668322, -0.17806526464853484, 'Faridabad'),\n",
       "  Text(1.4999267454621978, -0.014824245248222623, 'Ghaziabad')],\n",
       " [Text(-0.3352010631374145, 0.497634652402289, '68.87%'),\n",
       "  Text(0.0340186500653484, -0.5990348332507311, '14.07%'),\n",
       "  Text(0.47940246685229276, -0.36079533641101336, '13.59%'),\n",
       "  Text(0.5957573682667329, -0.07122610585941394, '3.16%'),\n",
       "  Text(0.5999706981848791, -0.005929698099289049, '0.31%')])"
      ]
     },
     "execution_count": 24,
     "metadata": {},
     "output_type": "execute_result"
    },
    {
     "data": {
      "image/png": "[encoded data removed]",
      "text/plain": [
       "<Figure size 640x480 with 1 Axes>"
      ]
     },
     "metadata": {},
     "output_type": "display_data"
    }
   ],
   "source": [
    "# which city have maximum order in india\n",
    "plt.pie(city_values[:5], labels =city_names[:5],labeldistance=1.5,autopct='%1.2f%%')"
   ]
  },
  {
   "cell_type": "code",
   "execution_count": 25,
   "id": "8ed7846c",
   "metadata": {
    "execution": {
     "iopub.execute_input": "2023-03-06T14:45:12.667383Z",
     "iopub.status.busy": "2023-03-06T14:45:12.666926Z",
     "iopub.status.idle": "2023-03-06T14:45:12.674145Z",
     "shell.execute_reply": "2023-03-06T14:45:12.673100Z"
    },
    "papermill": {
     "duration": 0.024138,
     "end_time": "2023-03-06T14:45:12.676480",
     "exception": false,
     "start_time": "2023-03-06T14:45:12.652342",
     "status": "completed"
    },
    "tags": []
   },
   "outputs": [
    {
     "data": {
      "text/plain": [
       "Index(['Restaurant ID', 'Restaurant Name', 'Country Code', 'City', 'Address',\n",
       "       'Locality', 'Locality Verbose', 'Longitude', 'Latitude', 'Cuisines',\n",
       "       'Average Cost for two', 'Currency', 'Has Table booking',\n",
       "       'Has Online delivery', 'Is delivering now', 'Switch to order menu',\n",
       "       'Price range', 'Aggregate rating', 'Rating color', 'Rating text',\n",
       "       'Votes', 'Country'],\n",
       "      dtype='object')"
      ]
     },
     "execution_count": 25,
     "metadata": {},
     "output_type": "execute_result"
    }
   ],
   "source": [
    "final_data.columns"
   ]
  },
  {
   "cell_type": "code",
   "execution_count": 26,
   "id": "a0ecb15e",
   "metadata": {
    "execution": {
     "iopub.execute_input": "2023-03-06T14:45:12.704917Z",
     "iopub.status.busy": "2023-03-06T14:45:12.704511Z",
     "iopub.status.idle": "2023-03-06T14:45:12.715455Z",
     "shell.execute_reply": "2023-03-06T14:45:12.714160Z"
    },
    "papermill": {
     "duration": 0.028234,
     "end_time": "2023-03-06T14:45:12.717964",
     "exception": false,
     "start_time": "2023-03-06T14:45:12.689730",
     "status": "completed"
    },
    "tags": []
   },
   "outputs": [
    {
     "data": {
      "text/plain": [
       "North Indian                      936\n",
       "North Indian, Chinese             511\n",
       "Chinese                           354\n",
       "Fast Food                         354\n",
       "North Indian, Mughlai             334\n",
       "Cafe                              299\n",
       "Bakery                            218\n",
       "North Indian, Mughlai, Chinese    197\n",
       "Bakery, Desserts                  170\n",
       "Street Food                       149\n",
       "Name: Cuisines, dtype: int64"
      ]
     },
     "execution_count": 26,
     "metadata": {},
     "output_type": "execute_result"
    }
   ],
   "source": [
    "# top ten Cuisines \n",
    "final_data['Cuisines'].value_counts()[:10]"
   ]
  },
  {
   "cell_type": "code",
   "execution_count": null,
   "id": "e694ce6f",
   "metadata": {
    "papermill": {
     "duration": 0.01216,
     "end_time": "2023-03-06T14:45:12.742811",
     "exception": false,
     "start_time": "2023-03-06T14:45:12.730651",
     "status": "completed"
    },
    "tags": []
   },
   "outputs": [],
   "source": []
  }
 ],
 "metadata": {
  "kernelspec": {
   "display_name": "Python 3",
   "language": "python",
   "name": "python3"
  },
  "language_info": {
   "codemirror_mode": {
    "name": "ipython",
    "version": 3
   },
   "file_extension": ".py",
   "mimetype": "text/x-python",
   "name": "python",
   "nbconvert_exporter": "python",
   "pygments_lexer": "ipython3",
   "version": "3.7.12"
  },
  "papermill": {
   "default_parameters": {},
   "duration": 17.641501,
   "end_time": "2023-03-06T14:45:13.579817",
   "environment_variables": {},
   "exception": null,
   "input_path": "__notebook__.ipynb",
   "output_path": "__notebook__.ipynb",
   "parameters": {},
   "start_time": "2023-03-06T14:44:55.938316",
   "version": "2.4.0"
  }
 },
 "nbformat": 4,
 "nbformat_minor": 5
}
